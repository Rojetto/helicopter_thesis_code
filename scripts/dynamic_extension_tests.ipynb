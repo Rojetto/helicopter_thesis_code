{
 "cells": [
  {
   "cell_type": "code",
   "execution_count": 1,
   "metadata": {},
   "outputs": [],
   "source": [
    "%load_ext ipydex.displaytools\n",
    "import sympy as sp\n",
    "from sympy import sin, cos\n",
    "import symbtools as sb\n",
    "sp.init_printing()"
   ]
  },
  {
   "cell_type": "code",
   "execution_count": 8,
   "metadata": {},
   "outputs": [],
   "source": [
    "x = sb.symb_vector(\"x1:5\")\n",
    "u = sp.Symbol(\"u\")"
   ]
  },
  {
   "cell_type": "code",
   "execution_count": 12,
   "metadata": {},
   "outputs": [],
   "source": [
    "f = sp.Matrix([x[1], -x[1]-sin(x[0])-cos(x[0])+x[2], x[3], 0])\n",
    "g = sp.Matrix([0, 0, 0, 1])\n",
    "h = x[0]"
   ]
  },
  {
   "cell_type": "code",
   "execution_count": 11,
   "metadata": {},
   "outputs": [
    {
     "data": {
      "image/png": "[encoded data removed]",
      "text/latex": [
       "$$\\left[\\begin{matrix}x_{2}\\\\- x_{2} + x_{3} - \\sin{\\left (x_{1} \\right )} - \\cos{\\left (x_{1} \\right )}\\\\x_{4}\\\\u\\end{matrix}\\right]$$"
      ],
      "text/plain": [
       "⎡             x₂             ⎤\n",
       "⎢                            ⎥\n",
       "⎢-x₂ + x₃ - sin(x₁) - cos(x₁)⎥\n",
       "⎢                            ⎥\n",
       "⎢             x₄             ⎥\n",
       "⎢                            ⎥\n",
       "⎣             u              ⎦"
      ]
     },
     "execution_count": 11,
     "metadata": {},
     "output_type": "execute_result"
    }
   ],
   "source": [
    "f + g*u"
   ]
  },
  {
   "cell_type": "code",
   "execution_count": 17,
   "metadata": {},
   "outputs": [
    {
     "data": {
      "image/png": "[encoded data removed]",
      "text/latex": [
       "$$\\verb|dy4| := u + x_{2} \\left(x_{2} \\left(\\sin{\\left (x_{1} \\right )} + \\cos{\\left (x_{1} \\right )}\\right) - \\sin{\\left (x_{1} \\right )} + \\cos{\\left (x_{1} \\right )}\\right) - x_{4} + \\left(\\sin{\\left (x_{1} \\right )} - \\cos{\\left (x_{1} \\right )} + 1\\right) \\left(- x_{2} + x_{3} - \\sin{\\left (x_{1} \\right )} - \\cos{\\left (x_{1} \\right )}\\right)$$"
      ],
      "text/plain": [
       "dy4 := u + x₂⋅(x₂⋅(sin(x₁) + cos(x₁)) - sin(x₁) + cos(x₁)) - x₄ + (sin(x₁) - cos(x₁) \n",
       "+ 1)⋅(-x₂ + x₃ - sin(x₁) - cos(x₁))"
      ]
     },
     "metadata": {},
     "output_type": "display_data"
    },
    {
     "name": "stdout",
     "output_type": "stream",
     "text": [
      "---\n"
     ]
    }
   ],
   "source": [
    "dy4 = sb.lie_deriv(h, f, x, order=4) + sb.lie_deriv(sb.lie_deriv(h, f, x, order=3), g, x)*u ##:"
   ]
  },
  {
   "cell_type": "code",
   "execution_count": 18,
   "metadata": {},
   "outputs": [
    {
     "data": {
      "image/png": "[encoded data removed]",
      "text/latex": [
       "$$u$$"
      ],
      "text/plain": [
       "u"
      ]
     },
     "execution_count": 18,
     "metadata": {},
     "output_type": "execute_result"
    }
   ],
   "source": [
    "dy4.subz(x, [0, 0, 0, 0])"
   ]
  },
  {
   "cell_type": "code",
   "execution_count": null,
   "metadata": {},
   "outputs": [],
   "source": []
  }
 ],
 "metadata": {
  "kernelspec": {
   "display_name": "Python 3",
   "language": "python",
   "name": "python3"
  },
  "language_info": {
   "codemirror_mode": {
    "name": "ipython",
    "version": 3
   },
   "file_extension": ".py",
   "mimetype": "text/x-python",
   "name": "python",
   "nbconvert_exporter": "python",
   "pygments_lexer": "ipython3",
   "version": "3.6.5"
  }
 },
 "nbformat": 4,
 "nbformat_minor": 2
}

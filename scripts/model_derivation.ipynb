{
 "cells": [
  {
   "cell_type": "code",
   "execution_count": 1,
   "metadata": {
    "pycharm": {
     "is_executing": false
    }
   },
   "outputs": [],
   "source": [
    "from sympy import *\n",
    "from IPython.display import display\n",
    "init_printing()"
   ]
  },
  {
   "cell_type": "markdown",
   "metadata": {},
   "source": [
    "Zuerst mal alle Symbole definieren"
   ]
  },
  {
   "cell_type": "code",
   "execution_count": 2,
   "metadata": {
    "pycharm": {
     "is_executing": false
    }
   },
   "outputs": [],
   "source": [
    "t = Symbol(\"t\")\n",
    "xct = Function(\"x_c\")(t)\n",
    "yct = Function(\"y_c\")(t)\n",
    "zct = Function(\"z_c\")(t)\n",
    "xft = Function(\"x_f\")(t)\n",
    "yft = Function(\"y_f\")(t)\n",
    "zft = Function(\"z_f\")(t)\n",
    "xbt = Function(\"x_b\")(t)\n",
    "ybt = Function(\"y_b\")(t)\n",
    "zbt = Function(\"z_b\")(t)\n",
    "\n",
    "xcdt = xft.diff(t)\n",
    "ycdt = yft.diff(t)\n",
    "zcdt = zft.diff(t)\n",
    "xfdt = xft.diff(t)\n",
    "yfdt = yft.diff(t)\n",
    "zfdt = zft.diff(t)\n",
    "xbdt = xbt.diff(t)\n",
    "ybdt = ybt.diff(t)\n",
    "zbdt = zbt.diff(t)\n",
    "\n",
    "\n",
    "xcs, ycs, zcs, xfs, yfs, zfs, xbs, ybs, zbs = symbols(\"x_c, y_c, z_c, x_f, y_f, z_f, x_b, y_b, z_b\")\n",
    "pc = Matrix([xct, yct, zct])\n",
    "pf = Matrix([xft, yft, zft])\n",
    "pb = Matrix([xbt, ybt, zbt])\n",
    "\n",
    "xcds, ycds, zcds, xfds, yfds, zfds, xbds, ybds, zbds = symbols(\"\\dot{x_c}, \\dot{y_c}, \\dot{z_c}, \\dot{x_f}, \\dot{y_f}, \\dot{z_f}, \\dot{x_b}, \\dot{y_b}, \\dot{z_b}\")\n",
    "pcdt = Matrix([xcdt, ycdt, zcdt])\n",
    "pfdt = Matrix([xfdt, yfdt, zfdt])\n",
    "pbdt = Matrix([xbdt, ybdt, zbdt])\n",
    "\n",
    "es, ps, ls = symbols(r\"\\varepsilon, \\varphi, \\lambda\")\n",
    "et = Function(r\"\\varepsilon\")(t)\n",
    "pt = Function(r\"\\varphi\")(t)\n",
    "lt = Function(r\"\\lambda\")(t) \n",
    "\n",
    "qs_to_qt_subs = [(ls, lt), (es, et), (ps, pt)]\n",
    "qt_to_qs_subs = [(tup[1], tup[0]) for tup in qs_to_qt_subs]\n",
    "\n",
    "eds, pds, lds = symbols(r\"\\dot{\\varepsilon}, \\dot{\\varphi}, \\dot{\\lambda}\")\n",
    "edt = et.diff(t)\n",
    "pdt = pt.diff(t)\n",
    "ldt = lt.diff(t)\n",
    "\n",
    "qds_to_qdt_subs = [(lds, ldt), (eds, edt), (pds, pdt)]\n",
    "qdt_to_qds_subs = [(tup[1], tup[0]) for tup in qds_to_qdt_subs]\n",
    "\n",
    "edds, pdds, ldds = symbols(r\"\\ddot{\\varepsilon}, \\ddot{\\varphi}, \\ddot{\\lambda}\")\n",
    "eddt = et.diff(t, 2)\n",
    "pddt = pt.diff(t, 2)\n",
    "lddt = lt.diff(t, 2)\n",
    "\n",
    "qdds_to_qddt_subs = [(ldds, lddt), (edds, eddt), (pdds, pddt)]\n",
    "qddt_to_qdds_subs = [(tup[1], tup[0]) for tup in qdds_to_qddt_subs]\n",
    "\n",
    "t_to_s_subs = qddt_to_qdds_subs + qdt_to_qds_subs + qt_to_qs_subs\n",
    "s_to_t_subs = qdds_to_qddt_subs + qds_to_qdt_subs + qs_to_qt_subs\n",
    "\n",
    "qt = Matrix([lt, et, pt])\n",
    "qs = Matrix([ls, es, ps])\n",
    "\n",
    "lc, lh, lp, dc, dh = symbols(\"l_c, l_h, l_p, d_c, d_h\")\n",
    "mc, mh = symbols(\"m_c, m_h\")\n",
    "Ffs, Fbs = symbols(\"F_f, F_b\")\n",
    "\n",
    "t = symbols(\"t\")\n",
    "g = symbols(\"g\")"
   ]
  },
  {
   "cell_type": "markdown",
   "metadata": {},
   "source": [
    "Aufstellen der Transformationsmatrizen"
   ]
  },
  {
   "cell_type": "code",
   "execution_count": 3,
   "metadata": {
    "pycharm": {
     "is_executing": false
    }
   },
   "outputs": [],
   "source": [
    "IA = Matrix([[cos(lt), -sin(lt), 0, 0],\n",
    "             [sin(lt), cos(lt), 0, 0],\n",
    "             [0, 0, 1, 0],\n",
    "             [0, 0, 0, 1]])\n",
    "AB = Matrix([[cos(et), 0, -sin(et), 0],\n",
    "             [0, 1, 0, 0],\n",
    "             [sin(et), 0, cos(et), 0],\n",
    "             [0, 0, 0, 1]])\n",
    "BC = Matrix([[1, 0, 0, lh],\n",
    "             [0, cos(pt), sin(pt), 0],\n",
    "             [0, -sin(pt), cos(pt), 0],\n",
    "             [0, 0, 0, 1]])\n",
    "CMF = Matrix([[1, 0, 0, 0],\n",
    "              [0, 1, 0, -lp],\n",
    "              [0, 0, 1, dh],\n",
    "              [0, 0, 0, 1]])\n",
    "CMB = Matrix([[1, 0, 0, 0],\n",
    "              [0, 1, 0, lp],\n",
    "              [0, 0, 1, dh],\n",
    "              [0, 0, 0, 1]])\n",
    "BMC = Matrix([[1, 0, 0, -lc],\n",
    "              [0, 1, 0, 0],\n",
    "              [0, 0, 1, -dc],\n",
    "              [0, 0, 0, 1]])\n",
    "IMC = IA*AB*BMC\n",
    "IMF = IA*AB*BC*CMF\n",
    "IMB = IA*AB*BC*CMB"
   ]
  },
  {
   "cell_type": "markdown",
   "metadata": {},
   "source": [
    "Zum Beispiel Trafo von Frontrotorsystem zu Inertialsystem:"
   ]
  },
  {
   "cell_type": "code",
   "execution_count": 4,
   "metadata": {
    "pycharm": {
     "is_executing": false
    }
   },
   "outputs": [
    {
     "data": {
      "image/png": "[encoded data removed]",
      "text/latex": [
       "$$\\left[\\begin{matrix}\\cos{\\left (\\lambda{\\left (t \\right )} \\right )} \\cos{\\left (\\varepsilon{\\left (t \\right )} \\right )} & - \\sin{\\left (\\lambda{\\left (t \\right )} \\right )} \\cos{\\left (\\varphi{\\left (t \\right )} \\right )} + \\sin{\\left (\\varepsilon{\\left (t \\right )} \\right )} \\sin{\\left (\\varphi{\\left (t \\right )} \\right )} \\cos{\\left (\\lambda{\\left (t \\right )} \\right )} & - \\sin{\\left (\\lambda{\\left (t \\right )} \\right )} \\sin{\\left (\\varphi{\\left (t \\right )} \\right )} - \\sin{\\left (\\varepsilon{\\left (t \\right )} \\right )} \\cos{\\left (\\lambda{\\left (t \\right )} \\right )} \\cos{\\left (\\varphi{\\left (t \\right )} \\right )} & d_{h} \\left(- \\sin{\\left (\\lambda{\\left (t \\right )} \\right )} \\sin{\\left (\\varphi{\\left (t \\right )} \\right )} - \\sin{\\left (\\varepsilon{\\left (t \\right )} \\right )} \\cos{\\left (\\lambda{\\left (t \\right )} \\right )} \\cos{\\left (\\varphi{\\left (t \\right )} \\right )}\\right) + l_{h} \\cos{\\left (\\lambda{\\left (t \\right )} \\right )} \\cos{\\left (\\varepsilon{\\left (t \\right )} \\right )} - l_{p} \\left(- \\sin{\\left (\\lambda{\\left (t \\right )} \\right )} \\cos{\\left (\\varphi{\\left (t \\right )} \\right )} + \\sin{\\left (\\varepsilon{\\left (t \\right )} \\right )} \\sin{\\left (\\varphi{\\left (t \\right )} \\right )} \\cos{\\left (\\lambda{\\left (t \\right )} \\right )}\\right)\\\\\\sin{\\left (\\lambda{\\left (t \\right )} \\right )} \\cos{\\left (\\varepsilon{\\left (t \\right )} \\right )} & \\sin{\\left (\\lambda{\\left (t \\right )} \\right )} \\sin{\\left (\\varepsilon{\\left (t \\right )} \\right )} \\sin{\\left (\\varphi{\\left (t \\right )} \\right )} + \\cos{\\left (\\lambda{\\left (t \\right )} \\right )} \\cos{\\left (\\varphi{\\left (t \\right )} \\right )} & - \\sin{\\left (\\lambda{\\left (t \\right )} \\right )} \\sin{\\left (\\varepsilon{\\left (t \\right )} \\right )} \\cos{\\left (\\varphi{\\left (t \\right )} \\right )} + \\sin{\\left (\\varphi{\\left (t \\right )} \\right )} \\cos{\\left (\\lambda{\\left (t \\right )} \\right )} & d_{h} \\left(- \\sin{\\left (\\lambda{\\left (t \\right )} \\right )} \\sin{\\left (\\varepsilon{\\left (t \\right )} \\right )} \\cos{\\left (\\varphi{\\left (t \\right )} \\right )} + \\sin{\\left (\\varphi{\\left (t \\right )} \\right )} \\cos{\\left (\\lambda{\\left (t \\right )} \\right )}\\right) + l_{h} \\sin{\\left (\\lambda{\\left (t \\right )} \\right )} \\cos{\\left (\\varepsilon{\\left (t \\right )} \\right )} - l_{p} \\left(\\sin{\\left (\\lambda{\\left (t \\right )} \\right )} \\sin{\\left (\\varepsilon{\\left (t \\right )} \\right )} \\sin{\\left (\\varphi{\\left (t \\right )} \\right )} + \\cos{\\left (\\lambda{\\left (t \\right )} \\right )} \\cos{\\left (\\varphi{\\left (t \\right )} \\right )}\\right)\\\\\\sin{\\left (\\varepsilon{\\left (t \\right )} \\right )} & - \\sin{\\left (\\varphi{\\left (t \\right )} \\right )} \\cos{\\left (\\varepsilon{\\left (t \\right )} \\right )} & \\cos{\\left (\\varepsilon{\\left (t \\right )} \\right )} \\cos{\\left (\\varphi{\\left (t \\right )} \\right )} & d_{h} \\cos{\\left (\\varepsilon{\\left (t \\right )} \\right )} \\cos{\\left (\\varphi{\\left (t \\right )} \\right )} + l_{h} \\sin{\\left (\\varepsilon{\\left (t \\right )} \\right )} + l_{p} \\sin{\\left (\\varphi{\\left (t \\right )} \\right )} \\cos{\\left (\\varepsilon{\\left (t \\right )} \\right )}\\\\0 & 0 & 0 & 1\\end{matrix}\\right]$$"
      ],
      "text/plain": [
       "⎡cos(\\lambda(t))⋅cos(\\varepsilon(t))  -sin(\\lambda(t))⋅cos(\\varphi(t)) + sin(\\\n",
       "⎢                                                                             \n",
       "⎢sin(\\lambda(t))⋅cos(\\varepsilon(t))  sin(\\lambda(t))⋅sin(\\varepsilon(t))⋅sin(\n",
       "⎢                                                                             \n",
       "⎢        sin(\\varepsilon(t))                                   -sin(\\varphi(t)\n",
       "⎢                                                                             \n",
       "⎣                 0                                                           \n",
       "\n",
       "varepsilon(t))⋅sin(\\varphi(t))⋅cos(\\lambda(t))  -sin(\\lambda(t))⋅sin(\\varphi(t\n",
       "                                                                              \n",
       "\\varphi(t)) + cos(\\lambda(t))⋅cos(\\varphi(t))   -sin(\\lambda(t))⋅sin(\\varepsil\n",
       "                                                                              \n",
       ")⋅cos(\\varepsilon(t))                                                    cos(\\\n",
       "                                                                              \n",
       "  0                                                                           \n",
       "\n",
       ")) - sin(\\varepsilon(t))⋅cos(\\lambda(t))⋅cos(\\varphi(t))  dₕ⋅(-sin(\\lambda(t))\n",
       "                                                                              \n",
       "on(t))⋅cos(\\varphi(t)) + sin(\\varphi(t))⋅cos(\\lambda(t))  dₕ⋅(-sin(\\lambda(t))\n",
       "                                                                              \n",
       "varepsilon(t))⋅cos(\\varphi(t))                                                \n",
       "                                                                              \n",
       "            0                                                                 \n",
       "\n",
       "⋅sin(\\varphi(t)) - sin(\\varepsilon(t))⋅cos(\\lambda(t))⋅cos(\\varphi(t))) + lₕ⋅c\n",
       "                                                                              \n",
       "⋅sin(\\varepsilon(t))⋅cos(\\varphi(t)) + sin(\\varphi(t))⋅cos(\\lambda(t))) + lₕ⋅s\n",
       "                                                                              \n",
       "                                         dₕ⋅cos(\\varepsilon(t))⋅cos(\\varphi(t)\n",
       "                                                                              \n",
       "                                                                              \n",
       "\n",
       "os(\\lambda(t))⋅cos(\\varepsilon(t)) - lₚ⋅(-sin(\\lambda(t))⋅cos(\\varphi(t)) + si\n",
       "                                                                              \n",
       "in(\\lambda(t))⋅cos(\\varepsilon(t)) - lₚ⋅(sin(\\lambda(t))⋅sin(\\varepsilon(t))⋅s\n",
       "                                                                              \n",
       ") + lₕ⋅sin(\\varepsilon(t)) + lₚ⋅sin(\\varphi(t))⋅cos(\\varepsilon(t))           \n",
       "                                                                              \n",
       "              1                                                               \n",
       "\n",
       "n(\\varepsilon(t))⋅sin(\\varphi(t))⋅cos(\\lambda(t)))⎤\n",
       "                                                  ⎥\n",
       "in(\\varphi(t)) + cos(\\lambda(t))⋅cos(\\varphi(t))) ⎥\n",
       "                                                  ⎥\n",
       "                                                  ⎥\n",
       "                                                  ⎥\n",
       "                                                  ⎦"
      ]
     },
     "execution_count": 4,
     "metadata": {},
     "output_type": "execute_result"
    }
   ],
   "source": [
    "IMF"
   ]
  },
  {
   "cell_type": "markdown",
   "metadata": {},
   "source": [
    "Definition der Transformationsgleichungen für Koordinaten und erste Zeitableitungen"
   ]
  },
  {
   "cell_type": "code",
   "execution_count": 5,
   "metadata": {
    "pycharm": {
     "is_executing": false
    }
   },
   "outputs": [],
   "source": [
    "pc_from_q = Matrix((IMC * Matrix([0, 0, 0, 1]))[0:3])\n",
    "pf_from_q = Matrix((IMF * Matrix([0, 0, 0, 1]))[0:3])\n",
    "pb_from_q = Matrix((IMB * Matrix([0, 0, 0, 1]))[0:3])\n",
    "\n",
    "p_from_q = Matrix([pc_from_q[0], pc_from_q[1], pc_from_q[2], pf_from_q[0], pf_from_q[1], pf_from_q[2], pb_from_q[0], pb_from_q[1], pb_from_q[2]])\n",
    "\n",
    "ps_to_qs_subs = list(zip([xcs, ycs, zcs, xfs, yfs, zfs, xbs, ybs, zbs], p_from_q.subs([(et, es), (pt, ps), (lt, ls)])))\n",
    "\n",
    "pds_to_qds_subs = list(zip([xcds, ycds, zcds, xfds, yfds, zfds, xbds, ybds, zbds], Matrix([xcs, ycs, zcs, xfs, yfs, zfs, xbs, ybs, zbs]).subs(ps_to_qs_subs).jacobian(Matrix([ls, es, ps])) * Matrix([lds, eds, pds])))"
   ]
  },
  {
   "cell_type": "markdown",
   "metadata": {},
   "source": [
    "Langrange-Funktion in redundanten Koordinaten"
   ]
  },
  {
   "cell_type": "code",
   "execution_count": 6,
   "metadata": {
    "pycharm": {
     "is_executing": false
    }
   },
   "outputs": [
    {
     "data": {
      "image/png": "[encoded data removed]",
      "text/latex": [
       "$$- g m_{c} z_{c} - \\frac{g m_{h} z_{b}}{2} - \\frac{g m_{h} z_{f}}{2} + \\frac{m_{c} \\left(\\dot{x_c}^{2} + \\dot{y_c}^{2} + \\dot{z_c}^{2}\\right)}{2} + \\frac{m_{h} \\left(\\dot{x_b}^{2} + \\dot{y_b}^{2} + \\dot{z_b}^{2}\\right)}{4} + \\frac{m_{h} \\left(\\dot{x_f}^{2} + \\dot{y_f}^{2} + \\dot{z_f}^{2}\\right)}{4}$$"
      ],
      "text/plain": [
       "                                       ⎛         2            2            2⎞ \n",
       "             g⋅mₕ⋅z_b   g⋅mₕ⋅z_f   m_c⋅⎝\\dot{x_c}  + \\dot{y_c}  + \\dot{z_c} ⎠ \n",
       "-g⋅m_c⋅z_c - ──────── - ──────── + ────────────────────────────────────────── \n",
       "                2          2                           2                      \n",
       "\n",
       "     ⎛         2            2            2⎞      ⎛         2            2     \n",
       "  mₕ⋅⎝\\dot{x_b}  + \\dot{y_b}  + \\dot{z_b} ⎠   mₕ⋅⎝\\dot{x_f}  + \\dot{y_f}  + \\d\n",
       "+ ───────────────────────────────────────── + ────────────────────────────────\n",
       "                      4                                           4           \n",
       "\n",
       "       2⎞\n",
       "ot{z_f} ⎠\n",
       "─────────\n",
       "         "
      ]
     },
     "execution_count": 6,
     "metadata": {},
     "output_type": "execute_result"
    }
   ],
   "source": [
    "T = S(1)/S(2)*(mc*(xcds**2+ycds**2+zcds**2)+\n",
    "               mh/2*(xfds**2+yfds**2+zfds**2)+\n",
    "               mh/2*(xbds**2+ybds**2+zbds**2))\n",
    "V = mc*g*zcs+mh/2*g*zfs+mh/2*g*zbs\n",
    "L_redundant = T - V\n",
    "L_redundant\n"
   ]
  },
  {
   "cell_type": "markdown",
   "metadata": {},
   "source": [
    "Substitution und Darstellung in Minimalkoordinaten"
   ]
  },
  {
   "cell_type": "code",
   "execution_count": 7,
   "metadata": {
    "pycharm": {
     "is_executing": false
    }
   },
   "outputs": [
    {
     "data": {
      "image/png": "[encoded data removed]",
      "text/latex": [
       "$$- \\frac{\\dot{\\lambda}^{2} d_{c}^{2} m_{c} \\cos^{2}{\\left (\\varepsilon \\right )}}{2} + \\frac{\\dot{\\lambda}^{2} d_{c}^{2} m_{c}}{2} - \\dot{\\lambda}^{2} d_{c} l_{c} m_{c} \\sin{\\left (\\varepsilon \\right )} \\cos{\\left (\\varepsilon \\right )} - \\frac{\\dot{\\lambda}^{2} d_{h}^{2} m_{h} \\cos^{2}{\\left (\\varepsilon \\right )} \\cos^{2}{\\left (\\varphi \\right )}}{2} + \\frac{\\dot{\\lambda}^{2} d_{h}^{2} m_{h}}{2} - \\dot{\\lambda}^{2} d_{h} l_{h} m_{h} \\sin{\\left (\\varepsilon \\right )} \\cos{\\left (\\varepsilon \\right )} \\cos{\\left (\\varphi \\right )} + \\frac{\\dot{\\lambda}^{2} l_{c}^{2} m_{c} \\cos^{2}{\\left (\\varepsilon \\right )}}{2} + \\frac{\\dot{\\lambda}^{2} l_{h}^{2} m_{h} \\cos^{2}{\\left (\\varepsilon \\right )}}{2} + \\frac{\\dot{\\lambda}^{2} l_{p}^{2} m_{h} \\cos^{2}{\\left (\\varepsilon \\right )} \\cos^{2}{\\left (\\varphi \\right )}}{2} - \\frac{\\dot{\\lambda}^{2} l_{p}^{2} m_{h} \\cos^{2}{\\left (\\varepsilon \\right )}}{2} + \\frac{\\dot{\\lambda}^{2} l_{p}^{2} m_{h}}{2} + \\dot{\\lambda} \\dot{\\varepsilon} d_{h}^{2} m_{h} \\sin{\\left (\\varphi \\right )} \\cos{\\left (\\varepsilon \\right )} \\cos{\\left (\\varphi \\right )} + \\dot{\\lambda} \\dot{\\varepsilon} d_{h} l_{h} m_{h} \\sin{\\left (\\varepsilon \\right )} \\sin{\\left (\\varphi \\right )} - \\dot{\\lambda} \\dot{\\varepsilon} l_{p}^{2} m_{h} \\sin{\\left (\\varphi \\right )} \\cos{\\left (\\varepsilon \\right )} \\cos{\\left (\\varphi \\right )} - \\dot{\\lambda} \\dot{\\varphi} d_{h}^{2} m_{h} \\sin{\\left (\\varepsilon \\right )} + \\dot{\\lambda} \\dot{\\varphi} d_{h} l_{h} m_{h} \\cos{\\left (\\varepsilon \\right )} \\cos{\\left (\\varphi \\right )} - \\dot{\\lambda} \\dot{\\varphi} l_{p}^{2} m_{h} \\sin{\\left (\\varepsilon \\right )} + \\frac{\\dot{\\varepsilon}^{2} d_{c}^{2} m_{c}}{2} + \\frac{\\dot{\\varepsilon}^{2} d_{h}^{2} m_{h} \\cos^{2}{\\left (\\varphi \\right )}}{2} + \\frac{\\dot{\\varepsilon}^{2} l_{c}^{2} m_{c}}{2} + \\frac{\\dot{\\varepsilon}^{2} l_{h}^{2} m_{h}}{2} - \\frac{\\dot{\\varepsilon}^{2} l_{p}^{2} m_{h} \\cos^{2}{\\left (\\varphi \\right )}}{2} + \\frac{\\dot{\\varepsilon}^{2} l_{p}^{2} m_{h}}{2} - \\dot{\\varepsilon} \\dot{\\varphi} d_{h} l_{h} m_{h} \\sin{\\left (\\varphi \\right )} + \\frac{\\dot{\\varphi}^{2} d_{h}^{2} m_{h}}{2} + \\frac{\\dot{\\varphi}^{2} l_{p}^{2} m_{h}}{2} + d_{c} g m_{c} \\cos{\\left (\\varepsilon \\right )} - d_{h} g m_{h} \\cos{\\left (\\varepsilon \\right )} \\cos{\\left (\\varphi \\right )} + g l_{c} m_{c} \\sin{\\left (\\varepsilon \\right )} - g l_{h} m_{h} \\sin{\\left (\\varepsilon \\right )}$$"
      ],
      "text/plain": [
       "               2    2        2                             2    2             \n",
       "  \\dot{\\lambda} ⋅d_c ⋅m_c⋅cos (\\varepsilon)   \\dot{\\lambda} ⋅d_c ⋅m_c         \n",
       "- ───────────────────────────────────────── + ─────────────────────── - \\dot{\\\n",
       "                      2                                  2                    \n",
       "\n",
       "                                                                      2   2   \n",
       "       2                                                 \\dot{\\lambda} ⋅dₕ ⋅mₕ\n",
       "lambda} ⋅d_c⋅l_c⋅m_c⋅sin(\\varepsilon)⋅cos(\\varepsilon) - ─────────────────────\n",
       "                                                                              \n",
       "\n",
       "    2                 2                         2   2                         \n",
       "⋅cos (\\varepsilon)⋅cos (\\varphi)   \\dot{\\lambda} ⋅dₕ ⋅mₕ                2     \n",
       "──────────────────────────────── + ───────────────────── - \\dot{\\lambda} ⋅dₕ⋅l\n",
       "     2                                       2                                \n",
       "\n",
       "                                                                   2    2     \n",
       "                                                      \\dot{\\lambda} ⋅l_c ⋅m_c⋅\n",
       "ₕ⋅mₕ⋅sin(\\varepsilon)⋅cos(\\varepsilon)⋅cos(\\varphi) + ────────────────────────\n",
       "                                                                          2   \n",
       "\n",
       "   2                             2   2       2                             2  \n",
       "cos (\\varepsilon)   \\dot{\\lambda} ⋅lₕ ⋅mₕ⋅cos (\\varepsilon)   \\dot{\\lambda} ⋅l\n",
       "───────────────── + ─────────────────────────────────────── + ────────────────\n",
       "                                       2                                      \n",
       "\n",
       " 2       2                 2                         2   2       2            \n",
       "ₚ ⋅mₕ⋅cos (\\varepsilon)⋅cos (\\varphi)   \\dot{\\lambda} ⋅lₚ ⋅mₕ⋅cos (\\varepsilon\n",
       "───────────────────────────────────── - ──────────────────────────────────────\n",
       "          2                                                2                  \n",
       "\n",
       "                 2   2                                                        \n",
       ")   \\dot{\\lambda} ⋅lₚ ⋅mₕ                                     2               \n",
       "─ + ───────────────────── + \\dot{\\lambda}⋅\\dot{\\varepsilon}⋅dₕ ⋅mₕ⋅sin(\\varphi\n",
       "              2                                                               \n",
       "\n",
       "                                                                              \n",
       "                                                                              \n",
       ")⋅cos(\\varepsilon)⋅cos(\\varphi) + \\dot{\\lambda}⋅\\dot{\\varepsilon}⋅dₕ⋅lₕ⋅mₕ⋅sin\n",
       "                                                                              \n",
       "\n",
       "                                                                              \n",
       "                                                               2              \n",
       "(\\varepsilon)⋅sin(\\varphi) - \\dot{\\lambda}⋅\\dot{\\varepsilon}⋅lₚ ⋅mₕ⋅sin(\\varph\n",
       "                                                                              \n",
       "\n",
       "                                                                              \n",
       "                                                                 2            \n",
       "i)⋅cos(\\varepsilon)⋅cos(\\varphi) - \\dot{\\lambda}⋅\\dot{\\varphi}⋅dₕ ⋅mₕ⋅sin(\\var\n",
       "                                                                              \n",
       "\n",
       "                                                                              \n",
       "                                                                              \n",
       "epsilon) + \\dot{\\lambda}⋅\\dot{\\varphi}⋅dₕ⋅lₕ⋅mₕ⋅cos(\\varepsilon)⋅cos(\\varphi) \n",
       "                                                                              \n",
       "\n",
       "                                                                         2    \n",
       "                                2                       \\dot{\\varepsilon} ⋅d_c\n",
       "- \\dot{\\lambda}⋅\\dot{\\varphi}⋅lₚ ⋅mₕ⋅sin(\\varepsilon) + ──────────────────────\n",
       "                                                                     2        \n",
       "\n",
       "2                        2   2       2                             2    2     \n",
       " ⋅m_c   \\dot{\\varepsilon} ⋅dₕ ⋅mₕ⋅cos (\\varphi)   \\dot{\\varepsilon} ⋅l_c ⋅m_c \n",
       "───── + ─────────────────────────────────────── + ─────────────────────────── \n",
       "                           2                                   2              \n",
       "\n",
       "                   2   2                       2   2       2                  \n",
       "  \\dot{\\varepsilon} ⋅lₕ ⋅mₕ   \\dot{\\varepsilon} ⋅lₚ ⋅mₕ⋅cos (\\varphi)   \\dot{\\\n",
       "+ ───────────────────────── - ─────────────────────────────────────── + ──────\n",
       "              2                                  2                            \n",
       "\n",
       "           2   2                                                              \n",
       "varepsilon} ⋅lₚ ⋅mₕ                                                           \n",
       "─────────────────── - \\dot{\\varepsilon}⋅\\dot{\\varphi}⋅dₕ⋅lₕ⋅mₕ⋅sin(\\varphi) + \n",
       "      2                                                                       \n",
       "\n",
       "             2   2                   2   2                                    \n",
       "\\dot{\\varphi} ⋅dₕ ⋅mₕ   \\dot{\\varphi} ⋅lₚ ⋅mₕ                                 \n",
       "───────────────────── + ───────────────────── + d_c⋅g⋅m_c⋅cos(\\varepsilon) - d\n",
       "          2                       2                                           \n",
       "\n",
       "                                                                              \n",
       "                                                                              \n",
       "ₕ⋅g⋅mₕ⋅cos(\\varepsilon)⋅cos(\\varphi) + g⋅l_c⋅m_c⋅sin(\\varepsilon) - g⋅lₕ⋅mₕ⋅si\n",
       "                                                                              \n",
       "\n",
       "              \n",
       "              \n",
       "n(\\varepsilon)\n",
       "              "
      ]
     },
     "execution_count": 7,
     "metadata": {},
     "output_type": "execute_result"
    }
   ],
   "source": [
    "L = L_redundant.subs(ps_to_qs_subs).subs(pds_to_qds_subs).simplify()\n",
    "L"
   ]
  },
  {
   "cell_type": "markdown",
   "metadata": {},
   "source": [
    "Definition der Rotorkräfte"
   ]
  },
  {
   "cell_type": "code",
   "execution_count": 8,
   "metadata": {
    "pycharm": {
     "is_executing": false
    }
   },
   "outputs": [],
   "source": [
    "Ff_direction_local = Matrix([0, 0, 1, 0])\n",
    "Ff = Ffs*(IMF * Ff_direction_local).row([0,1,2])\n",
    "\n",
    "Fb_direction_local = Matrix([0, 0, 1, 0])\n",
    "Fb = Fbs*(IMB * Fb_direction_local).row([0,1,2])"
   ]
  },
  {
   "cell_type": "markdown",
   "metadata": {},
   "source": [
    "Rotorkräfte in redundanten Koordinaten"
   ]
  },
  {
   "cell_type": "code",
   "execution_count": 9,
   "metadata": {
    "pycharm": {
     "is_executing": false
    }
   },
   "outputs": [
    {
     "data": {
      "image/png": "[encoded data removed]",
      "text/latex": [
       "$$\\left[\\begin{matrix}0\\\\0\\\\0\\\\F_{f} \\left(- \\sin{\\left (\\lambda \\right )} \\sin{\\left (\\varphi \\right )} - \\sin{\\left (\\varepsilon \\right )} \\cos{\\left (\\lambda \\right )} \\cos{\\left (\\varphi \\right )}\\right)\\\\F_{f} \\left(- \\sin{\\left (\\lambda \\right )} \\sin{\\left (\\varepsilon \\right )} \\cos{\\left (\\varphi \\right )} + \\sin{\\left (\\varphi \\right )} \\cos{\\left (\\lambda \\right )}\\right)\\\\F_{f} \\cos{\\left (\\varepsilon \\right )} \\cos{\\left (\\varphi \\right )}\\\\F_{b} \\left(- \\sin{\\left (\\lambda \\right )} \\sin{\\left (\\varphi \\right )} - \\sin{\\left (\\varepsilon \\right )} \\cos{\\left (\\lambda \\right )} \\cos{\\left (\\varphi \\right )}\\right)\\\\F_{b} \\left(- \\sin{\\left (\\lambda \\right )} \\sin{\\left (\\varepsilon \\right )} \\cos{\\left (\\varphi \\right )} + \\sin{\\left (\\varphi \\right )} \\cos{\\left (\\lambda \\right )}\\right)\\\\F_{b} \\cos{\\left (\\varepsilon \\right )} \\cos{\\left (\\varphi \\right )}\\end{matrix}\\right]$$"
      ],
      "text/plain": [
       "⎡                                      0                                      \n",
       "⎢                                                                             \n",
       "⎢                                      0                                      \n",
       "⎢                                                                             \n",
       "⎢                                      0                                      \n",
       "⎢                                                                             \n",
       "⎢F_f⋅(-sin(\\lambda)⋅sin(\\varphi) - sin(\\varepsilon)⋅cos(\\lambda)⋅cos(\\varphi))\n",
       "⎢                                                                             \n",
       "⎢F_f⋅(-sin(\\lambda)⋅sin(\\varepsilon)⋅cos(\\varphi) + sin(\\varphi)⋅cos(\\lambda))\n",
       "⎢                                                                             \n",
       "⎢                      F_f⋅cos(\\varepsilon)⋅cos(\\varphi)                      \n",
       "⎢                                                                             \n",
       "⎢F_b⋅(-sin(\\lambda)⋅sin(\\varphi) - sin(\\varepsilon)⋅cos(\\lambda)⋅cos(\\varphi))\n",
       "⎢                                                                             \n",
       "⎢F_b⋅(-sin(\\lambda)⋅sin(\\varepsilon)⋅cos(\\varphi) + sin(\\varphi)⋅cos(\\lambda))\n",
       "⎢                                                                             \n",
       "⎣                      F_b⋅cos(\\varepsilon)⋅cos(\\varphi)                      \n",
       "\n",
       "⎤\n",
       "⎥\n",
       "⎥\n",
       "⎥\n",
       "⎥\n",
       "⎥\n",
       "⎥\n",
       "⎥\n",
       "⎥\n",
       "⎥\n",
       "⎥\n",
       "⎥\n",
       "⎥\n",
       "⎥\n",
       "⎥\n",
       "⎥\n",
       "⎦"
      ]
     },
     "execution_count": 9,
     "metadata": {},
     "output_type": "execute_result"
    }
   ],
   "source": [
    "F_redundant = Matrix([0, 0, 0, Ff[0], Ff[1], Ff[2], Fb[0], Fb[1], Fb[2]]).subs(qt_to_qs_subs)\n",
    "F_redundant"
   ]
  },
  {
   "cell_type": "markdown",
   "metadata": {},
   "source": [
    "Rotorkräfte in Minimalkoordinaten"
   ]
  },
  {
   "cell_type": "code",
   "execution_count": 10,
   "metadata": {
    "pycharm": {
     "is_executing": false
    },
    "scrolled": true
   },
   "outputs": [],
   "source": [
    "fl = (F_redundant.T * p_from_q.subs(qt_to_qs_subs).diff(ls))[0].simplify()\n",
    "fe = (F_redundant.T * p_from_q.subs(qt_to_qs_subs).diff(es))[0].simplify()\n",
    "fp = (F_redundant.T * p_from_q.subs(qt_to_qs_subs).diff(ps))[0].simplify()"
   ]
  },
  {
   "cell_type": "code",
   "execution_count": 11,
   "metadata": {},
   "outputs": [
    {
     "data": {
      "image/png": "[encoded data removed]",
      "text/latex": [
       "$$l_{p} \\left(- F_{b} + F_{f}\\right)$$"
      ],
      "text/plain": [
       "lₚ⋅(-F_b + F_f)"
      ]
     },
     "metadata": {},
     "output_type": "display_data"
    },
    {
     "data": {
      "image/png": "[encoded data removed]",
      "text/latex": [
       "$$l_{h} \\left(F_{b} + F_{f}\\right) \\cos{\\left (\\varphi \\right )}$$"
      ],
      "text/plain": [
       "lₕ⋅(F_b + F_f)⋅cos(\\varphi)"
      ]
     },
     "metadata": {},
     "output_type": "display_data"
    },
    {
     "data": {
      "image/png": "[encoded data removed]",
      "text/latex": [
       "$$l_{h} \\left(F_{b} \\sin{\\left (\\varphi \\right )} \\cos{\\left (\\varepsilon \\right )} + F_{f} \\sin{\\left (\\varphi \\right )} \\cos{\\left (\\varepsilon \\right )}\\right) + l_{p} \\left(F_{b} \\sin{\\left (\\varepsilon \\right )} - F_{f} \\sin{\\left (\\varepsilon \\right )}\\right)$$"
      ],
      "text/plain": [
       "lₕ⋅(F_b⋅sin(\\varphi)⋅cos(\\varepsilon) + F_f⋅sin(\\varphi)⋅cos(\\varepsilon)) + l\n",
       "ₚ⋅(F_b⋅sin(\\varepsilon) - F_f⋅sin(\\varepsilon))"
      ]
     },
     "metadata": {},
     "output_type": "display_data"
    }
   ],
   "source": [
    "display(fp)\n",
    "display(fe)\n",
    "display(fl.collect([dh, lh, lp]))"
   ]
  },
  {
   "cell_type": "markdown",
   "metadata": {},
   "source": [
    "Aufstellen der Bewegungsgleichungen"
   ]
  },
  {
   "cell_type": "code",
   "execution_count": 12,
   "metadata": {
    "pycharm": {
     "is_executing": false
    }
   },
   "outputs": [],
   "source": [
    "L_d_l = L.diff(ls).simplify()\n",
    "L_d_dl = L.diff(lds).simplify()\n",
    "\n",
    "L_d_e = L.diff(es).simplify()\n",
    "L_d_de = L.diff(eds).simplify()\n",
    "\n",
    "L_d_p = L.diff(ps).simplify()\n",
    "L_d_dp = L.diff(pds).simplify()\n",
    "\n",
    "erster_term_l = L_d_dl.subs(s_to_t_subs).diff(t).subs(t_to_s_subs)\n",
    "erster_term_e = L_d_de.subs(s_to_t_subs).diff(t).subs(t_to_s_subs)\n",
    "erster_term_p = L_d_dp.subs(s_to_t_subs).diff(t).subs(t_to_s_subs)\n",
    "\n",
    "Eq_l = Eq(erster_term_l - L_d_l, fl)\n",
    "Eq_e = Eq(erster_term_e - L_d_e, fe)\n",
    "Eq_p = Eq(erster_term_p - L_d_p, fp)"
   ]
  },
  {
   "cell_type": "markdown",
   "metadata": {},
   "source": [
    "Bewegungsgleichung für $\\lambda$"
   ]
  },
  {
   "cell_type": "code",
   "execution_count": 13,
   "metadata": {
    "pycharm": {
     "is_executing": false
    },
    "scrolled": false
   },
   "outputs": [
    {
     "data": {
      "image/png": "[encoded data removed]",
      "text/latex": [
       "$$\\ddot{\\lambda} \\left(- d_{c}^{2} m_{c} \\cos^{2}{\\left (\\varepsilon \\right )} + d_{c}^{2} m_{c} - d_{c} l_{c} m_{c} \\sin{\\left (2 \\varepsilon \\right )} - d_{h}^{2} m_{h} \\cos^{2}{\\left (\\varepsilon \\right )} \\cos^{2}{\\left (\\varphi \\right )} + d_{h}^{2} m_{h} - \\frac{d_{h} l_{h} m_{h} \\left(\\sin{\\left (2 \\varepsilon - \\varphi \\right )} + \\sin{\\left (2 \\varepsilon + \\varphi \\right )}\\right)}{2} + l_{c}^{2} m_{c} \\cos^{2}{\\left (\\varepsilon \\right )} + l_{h}^{2} m_{h} \\cos^{2}{\\left (\\varepsilon \\right )} + l_{p}^{2} m_{h} \\cos^{2}{\\left (\\varepsilon \\right )} \\cos^{2}{\\left (\\varphi \\right )} - l_{p}^{2} m_{h} \\cos^{2}{\\left (\\varepsilon \\right )} + l_{p}^{2} m_{h}\\right) + \\ddot{\\varepsilon} \\left(\\frac{d_{h}^{2} m_{h} \\left(- \\sin{\\left (\\varepsilon - 2 \\varphi \\right )} + \\sin{\\left (\\varepsilon + 2 \\varphi \\right )}\\right)}{4} + d_{h} l_{h} m_{h} \\sin{\\left (\\varepsilon \\right )} \\sin{\\left (\\varphi \\right )} - \\frac{l_{p}^{2} m_{h} \\left(- \\sin{\\left (\\varepsilon - 2 \\varphi \\right )} + \\sin{\\left (\\varepsilon + 2 \\varphi \\right )}\\right)}{4}\\right) + \\ddot{\\varphi} \\left(- d_{h}^{2} m_{h} \\sin{\\left (\\varepsilon \\right )} + d_{h} l_{h} m_{h} \\cos{\\left (\\varepsilon \\right )} \\cos{\\left (\\varphi \\right )} - l_{p}^{2} m_{h} \\sin{\\left (\\varepsilon \\right )}\\right) + \\dot{\\lambda} \\left(2 \\dot{\\varepsilon} d_{c}^{2} m_{c} \\sin{\\left (\\varepsilon \\right )} \\cos{\\left (\\varepsilon \\right )} - 2 \\dot{\\varepsilon} d_{c} l_{c} m_{c} \\cos{\\left (2 \\varepsilon \\right )} + 2 \\dot{\\varepsilon} d_{h}^{2} m_{h} \\sin{\\left (\\varepsilon \\right )} \\cos{\\left (\\varepsilon \\right )} \\cos^{2}{\\left (\\varphi \\right )} - 2 \\dot{\\varepsilon} l_{c}^{2} m_{c} \\sin{\\left (\\varepsilon \\right )} \\cos{\\left (\\varepsilon \\right )} - 2 \\dot{\\varepsilon} l_{h}^{2} m_{h} \\sin{\\left (\\varepsilon \\right )} \\cos{\\left (\\varepsilon \\right )} - 2 \\dot{\\varepsilon} l_{p}^{2} m_{h} \\sin{\\left (\\varepsilon \\right )} \\cos{\\left (\\varepsilon \\right )} \\cos^{2}{\\left (\\varphi \\right )} + 2 \\dot{\\varepsilon} l_{p}^{2} m_{h} \\sin{\\left (\\varepsilon \\right )} \\cos{\\left (\\varepsilon \\right )} + 2 \\dot{\\varphi} d_{h}^{2} m_{h} \\sin{\\left (\\varphi \\right )} \\cos^{2}{\\left (\\varepsilon \\right )} \\cos{\\left (\\varphi \\right )} - 2 \\dot{\\varphi} l_{p}^{2} m_{h} \\sin{\\left (\\varphi \\right )} \\cos^{2}{\\left (\\varepsilon \\right )} \\cos{\\left (\\varphi \\right )} - \\frac{d_{h} l_{h} m_{h} \\left(\\left(2 \\dot{\\varepsilon} - \\dot{\\varphi}\\right) \\cos{\\left (2 \\varepsilon - \\varphi \\right )} + \\left(2 \\dot{\\varepsilon} + \\dot{\\varphi}\\right) \\cos{\\left (2 \\varepsilon + \\varphi \\right )}\\right)}{2}\\right) + \\dot{\\varepsilon}^{2} d_{h} l_{h} m_{h} \\sin{\\left (\\varphi \\right )} \\cos{\\left (\\varepsilon \\right )} - \\dot{\\varepsilon} \\dot{\\varphi} d_{h}^{2} m_{h} \\cos{\\left (\\varepsilon \\right )} - \\dot{\\varepsilon} \\dot{\\varphi} l_{p}^{2} m_{h} \\cos{\\left (\\varepsilon \\right )} + \\frac{\\dot{\\varepsilon} d_{h}^{2} m_{h} \\left(- \\left(\\dot{\\varepsilon} - 2 \\dot{\\varphi}\\right) \\cos{\\left (\\varepsilon - 2 \\varphi \\right )} + \\left(\\dot{\\varepsilon} + 2 \\dot{\\varphi}\\right) \\cos{\\left (\\varepsilon + 2 \\varphi \\right )}\\right)}{4} - \\frac{\\dot{\\varepsilon} l_{p}^{2} m_{h} \\left(- \\left(\\dot{\\varepsilon} - 2 \\dot{\\varphi}\\right) \\cos{\\left (\\varepsilon - 2 \\varphi \\right )} + \\left(\\dot{\\varepsilon} + 2 \\dot{\\varphi}\\right) \\cos{\\left (\\varepsilon + 2 \\varphi \\right )}\\right)}{4} - \\dot{\\varphi}^{2} d_{h} l_{h} m_{h} \\sin{\\left (\\varphi \\right )} \\cos{\\left (\\varepsilon \\right )} = F_{b} l_{h} \\sin{\\left (\\varphi \\right )} \\cos{\\left (\\varepsilon \\right )} + F_{b} l_{p} \\sin{\\left (\\varepsilon \\right )} + F_{f} l_{h} \\sin{\\left (\\varphi \\right )} \\cos{\\left (\\varepsilon \\right )} - F_{f} l_{p} \\sin{\\left (\\varepsilon \\right )}$$"
      ],
      "text/plain": [
       "                                                                              \n",
       "               ⎛     2        2                   2                           \n",
       "\\ddot{\\lambda}⋅⎜- d_c ⋅m_c⋅cos (\\varepsilon) + d_c ⋅m_c - d_c⋅l_c⋅m_c⋅sin(2⋅\\v\n",
       "               ⎝                                                              \n",
       "\n",
       "                                                                              \n",
       "               2       2                 2              2      dₕ⋅lₕ⋅mₕ⋅(sin(2\n",
       "arepsilon) - dₕ ⋅mₕ⋅cos (\\varepsilon)⋅cos (\\varphi) + dₕ ⋅mₕ - ───────────────\n",
       "                                                                              \n",
       "\n",
       "                                                                              \n",
       "⋅\\varepsilon - \\varphi) + sin(2⋅\\varepsilon + \\varphi))      2        2       \n",
       "─────────────────────────────────────────────────────── + l_c ⋅m_c⋅cos (\\varep\n",
       "                   2                                                          \n",
       "\n",
       "                                                                              \n",
       "           2       2                  2       2                 2             \n",
       "silon) + lₕ ⋅mₕ⋅cos (\\varepsilon) + lₚ ⋅mₕ⋅cos (\\varepsilon)⋅cos (\\varphi) - l\n",
       "                                                                              \n",
       "\n",
       "                                                       ⎛  2                   \n",
       " 2       2                  2   ⎞                      ⎜dₕ ⋅mₕ⋅(-sin(\\varepsil\n",
       "ₚ ⋅mₕ⋅cos (\\varepsilon) + lₚ ⋅mₕ⎟ + \\ddot{\\varepsilon}⋅⎜──────────────────────\n",
       "                                ⎠                      ⎝                      \n",
       "\n",
       "                                                                              \n",
       "on - 2⋅\\varphi) + sin(\\varepsilon + 2⋅\\varphi))                               \n",
       "─────────────────────────────────────────────── + dₕ⋅lₕ⋅mₕ⋅sin(\\varepsilon)⋅si\n",
       "            4                                                                 \n",
       "\n",
       "               2                                                              \n",
       "             lₚ ⋅mₕ⋅(-sin(\\varepsilon - 2⋅\\varphi) + sin(\\varepsilon + 2⋅\\varp\n",
       "n(\\varphi) - ─────────────────────────────────────────────────────────────────\n",
       "                                               4                              \n",
       "\n",
       "    ⎞                                                                         \n",
       "hi))⎟                  ⎛    2                                                 \n",
       "────⎟ + \\ddot{\\varphi}⋅⎝- dₕ ⋅mₕ⋅sin(\\varepsilon) + dₕ⋅lₕ⋅mₕ⋅cos(\\varepsilon)⋅\n",
       "    ⎠                                                                         \n",
       "\n",
       "                                                                              \n",
       "                 2                    ⎞                 ⎛                     \n",
       "cos(\\varphi) - lₚ ⋅mₕ⋅sin(\\varepsilon)⎠ + \\dot{\\lambda}⋅⎜2⋅\\dot{\\varepsilon}⋅d\n",
       "                                                        ⎝                     \n",
       "\n",
       "                                                                              \n",
       "  2                                                                           \n",
       "_c ⋅m_c⋅sin(\\varepsilon)⋅cos(\\varepsilon) - 2⋅\\dot{\\varepsilon}⋅d_c⋅l_c⋅m_c⋅co\n",
       "                                                                              \n",
       "\n",
       "                                                                              \n",
       "                                         2                                    \n",
       "s(2⋅\\varepsilon) + 2⋅\\dot{\\varepsilon}⋅dₕ ⋅mₕ⋅sin(\\varepsilon)⋅cos(\\varepsilon\n",
       "                                                                              \n",
       "\n",
       "                                                                              \n",
       "     2                                   2                                    \n",
       ")⋅cos (\\varphi) - 2⋅\\dot{\\varepsilon}⋅l_c ⋅m_c⋅sin(\\varepsilon)⋅cos(\\varepsilo\n",
       "                                                                              \n",
       "\n",
       "                                                                              \n",
       "                           2                                                  \n",
       "n) - 2⋅\\dot{\\varepsilon}⋅lₕ ⋅mₕ⋅sin(\\varepsilon)⋅cos(\\varepsilon) - 2⋅\\dot{\\va\n",
       "                                                                              \n",
       "\n",
       "                                                                              \n",
       "            2                                         2                       \n",
       "repsilon}⋅lₚ ⋅mₕ⋅sin(\\varepsilon)⋅cos(\\varepsilon)⋅cos (\\varphi) + 2⋅\\dot{\\var\n",
       "                                                                              \n",
       "\n",
       "                                                                              \n",
       "           2                                                          2       \n",
       "epsilon}⋅lₚ ⋅mₕ⋅sin(\\varepsilon)⋅cos(\\varepsilon) + 2⋅\\dot{\\varphi}⋅dₕ ⋅mₕ⋅sin\n",
       "                                                                              \n",
       "\n",
       "                                                                              \n",
       "             2                                               2                \n",
       "(\\varphi)⋅cos (\\varepsilon)⋅cos(\\varphi) - 2⋅\\dot{\\varphi}⋅lₚ ⋅mₕ⋅sin(\\varphi)\n",
       "                                                                              \n",
       "\n",
       "                                                                              \n",
       "    2                             dₕ⋅lₕ⋅mₕ⋅((2⋅\\dot{\\varepsilon} - \\dot{\\varph\n",
       "⋅cos (\\varepsilon)⋅cos(\\varphi) - ────────────────────────────────────────────\n",
       "                                                                              \n",
       "\n",
       "                                                                              \n",
       "i})⋅cos(2⋅\\varepsilon - \\varphi) + (2⋅\\dot{\\varepsilon} + \\dot{\\varphi})⋅cos(2\n",
       "──────────────────────────────────────────────────────────────────────────────\n",
       "                            2                                                 \n",
       "\n",
       "                                                                              \n",
       "⋅\\varepsilon + \\varphi))⎞                    2                                \n",
       "────────────────────────⎟ + \\dot{\\varepsilon} ⋅dₕ⋅lₕ⋅mₕ⋅sin(\\varphi)⋅cos(\\vare\n",
       "                        ⎠                                                     \n",
       "\n",
       "                                                                              \n",
       "                                            2                                 \n",
       "psilon) - \\dot{\\varepsilon}⋅\\dot{\\varphi}⋅dₕ ⋅mₕ⋅cos(\\varepsilon) - \\dot{\\vare\n",
       "                                                                              \n",
       "\n",
       "                                                                    2         \n",
       "                        2                       \\dot{\\varepsilon}⋅dₕ ⋅mₕ⋅(-(\\d\n",
       "psilon}⋅\\dot{\\varphi}⋅lₚ ⋅mₕ⋅cos(\\varepsilon) + ──────────────────────────────\n",
       "                                                                              \n",
       "\n",
       "                                                                              \n",
       "ot{\\varepsilon} - 2⋅\\dot{\\varphi})⋅cos(\\varepsilon - 2⋅\\varphi) + (\\dot{\\varep\n",
       "──────────────────────────────────────────────────────────────────────────────\n",
       "                                                   4                          \n",
       "\n",
       "                                                                              \n",
       "silon} + 2⋅\\dot{\\varphi})⋅cos(\\varepsilon + 2⋅\\varphi))   \\dot{\\varepsilon}⋅lₚ\n",
       "─────────────────────────────────────────────────────── - ────────────────────\n",
       "                                                                              \n",
       "\n",
       "2                                                                             \n",
       " ⋅mₕ⋅(-(\\dot{\\varepsilon} - 2⋅\\dot{\\varphi})⋅cos(\\varepsilon - 2⋅\\varphi) + (\\\n",
       "──────────────────────────────────────────────────────────────────────────────\n",
       "                                                             4                \n",
       "\n",
       "                                                                              \n",
       "dot{\\varepsilon} + 2⋅\\dot{\\varphi})⋅cos(\\varepsilon + 2⋅\\varphi))             \n",
       "───────────────────────────────────────────────────────────────── - \\dot{\\varp\n",
       "                                                                              \n",
       "\n",
       "                                                                              \n",
       "   2                                                                          \n",
       "hi} ⋅dₕ⋅lₕ⋅mₕ⋅sin(\\varphi)⋅cos(\\varepsilon) = F_b⋅lₕ⋅sin(\\varphi)⋅cos(\\varepsi\n",
       "                                                                              \n",
       "\n",
       "                                                                              \n",
       "                                                                              \n",
       "lon) + F_b⋅lₚ⋅sin(\\varepsilon) + F_f⋅lₕ⋅sin(\\varphi)⋅cos(\\varepsilon) - F_f⋅lₚ\n",
       "                                                                              \n",
       "\n",
       "                 \n",
       "                 \n",
       "⋅sin(\\varepsilon)\n",
       "                 "
      ]
     },
     "execution_count": 13,
     "metadata": {},
     "output_type": "execute_result"
    }
   ],
   "source": [
    "Eq_l = Eq(Eq_l.lhs.collect((ldds, lds, edds, pdds)), Eq_l.rhs)\n",
    "Eq_l"
   ]
  },
  {
   "cell_type": "markdown",
   "metadata": {},
   "source": [
    "Vernachlässigen von Zentripetalkräften"
   ]
  },
  {
   "cell_type": "code",
   "execution_count": 14,
   "metadata": {
    "pycharm": {
     "is_executing": false
    }
   },
   "outputs": [
    {
     "data": {
      "image/png": "[encoded data removed]",
      "text/latex": [
       "$$\\ddot{\\lambda} \\left(- d_{c}^{2} m_{c} \\cos^{2}{\\left (\\varepsilon \\right )} + d_{c}^{2} m_{c} - d_{c} l_{c} m_{c} \\sin{\\left (2 \\varepsilon \\right )} - d_{h}^{2} m_{h} \\cos^{2}{\\left (\\varepsilon \\right )} \\cos^{2}{\\left (\\varphi \\right )} + d_{h}^{2} m_{h} - \\frac{d_{h} l_{h} m_{h} \\left(\\sin{\\left (2 \\varepsilon - \\varphi \\right )} + \\sin{\\left (2 \\varepsilon + \\varphi \\right )}\\right)}{2} + l_{c}^{2} m_{c} \\cos^{2}{\\left (\\varepsilon \\right )} + l_{h}^{2} m_{h} \\cos^{2}{\\left (\\varepsilon \\right )} + l_{p}^{2} m_{h} \\cos^{2}{\\left (\\varepsilon \\right )} \\cos^{2}{\\left (\\varphi \\right )} - l_{p}^{2} m_{h} \\cos^{2}{\\left (\\varepsilon \\right )} + l_{p}^{2} m_{h}\\right) = F_{b} l_{h} \\sin{\\left (\\varphi \\right )} \\cos{\\left (\\varepsilon \\right )} + F_{b} l_{p} \\sin{\\left (\\varepsilon \\right )} + F_{f} l_{h} \\sin{\\left (\\varphi \\right )} \\cos{\\left (\\varepsilon \\right )} - F_{f} l_{p} \\sin{\\left (\\varepsilon \\right )}$$"
      ],
      "text/plain": [
       "               ⎛     2        2                   2                           \n",
       "\\ddot{\\lambda}⋅⎜- d_c ⋅m_c⋅cos (\\varepsilon) + d_c ⋅m_c - d_c⋅l_c⋅m_c⋅sin(2⋅\\v\n",
       "               ⎝                                                              \n",
       "\n",
       "               2       2                 2              2      dₕ⋅lₕ⋅mₕ⋅(sin(2\n",
       "arepsilon) - dₕ ⋅mₕ⋅cos (\\varepsilon)⋅cos (\\varphi) + dₕ ⋅mₕ - ───────────────\n",
       "                                                                              \n",
       "\n",
       "⋅\\varepsilon - \\varphi) + sin(2⋅\\varepsilon + \\varphi))      2        2       \n",
       "─────────────────────────────────────────────────────── + l_c ⋅m_c⋅cos (\\varep\n",
       "                   2                                                          \n",
       "\n",
       "           2       2                  2       2                 2             \n",
       "silon) + lₕ ⋅mₕ⋅cos (\\varepsilon) + lₚ ⋅mₕ⋅cos (\\varepsilon)⋅cos (\\varphi) - l\n",
       "                                                                              \n",
       "\n",
       " 2       2                  2   ⎞                                             \n",
       "ₚ ⋅mₕ⋅cos (\\varepsilon) + lₚ ⋅mₕ⎟ = F_b⋅lₕ⋅sin(\\varphi)⋅cos(\\varepsilon) + F_b\n",
       "                                ⎠                                             \n",
       "\n",
       "                                                                              \n",
       "⋅lₚ⋅sin(\\varepsilon) + F_f⋅lₕ⋅sin(\\varphi)⋅cos(\\varepsilon) - F_f⋅lₚ⋅sin(\\vare\n",
       "                                                                              \n",
       "\n",
       "       \n",
       "psilon)\n",
       "       "
      ]
     },
     "execution_count": 14,
     "metadata": {},
     "output_type": "execute_result"
    }
   ],
   "source": [
    "Eq_l_no_centripetal = Eq_l.subs([(lds, 0), (eds, 0), (pds, 0), (edds, 0), (pdds, 0)])\n",
    "Eq_l_no_centripetal"
   ]
  },
  {
   "cell_type": "markdown",
   "metadata": {},
   "source": [
    "Kleinwinkelnäherung $\\cos^2 (e) \\approx 1$, $\\cos^2 (p) \\approx 1$ und $\\sin(e) \\approx 0$"
   ]
  },
  {
   "cell_type": "code",
   "execution_count": 15,
   "metadata": {
    "pycharm": {
     "is_executing": false
    }
   },
   "outputs": [
    {
     "data": {
      "image/png": "[encoded data removed]",
      "text/latex": [
       "$$\\ddot{\\lambda} \\left(- d_{c} l_{c} m_{c} \\sin{\\left (2 \\varepsilon \\right )} - \\frac{d_{h} l_{h} m_{h} \\left(\\sin{\\left (2 \\varepsilon - \\varphi \\right )} + \\sin{\\left (2 \\varepsilon + \\varphi \\right )}\\right)}{2} + l_{c}^{2} m_{c} + l_{h}^{2} m_{h} + l_{p}^{2} m_{h}\\right) = l_{h} \\left(F_{b} + F_{f}\\right) \\sin{\\left (\\varphi \\right )} \\cos{\\left (\\varepsilon \\right )}$$"
      ],
      "text/plain": [
       "               ⎛                                  dₕ⋅lₕ⋅mₕ⋅(sin(2⋅\\varepsilon \n",
       "\\ddot{\\lambda}⋅⎜-d_c⋅l_c⋅m_c⋅sin(2⋅\\varepsilon) - ────────────────────────────\n",
       "               ⎝                                                              \n",
       "\n",
       "- \\varphi) + sin(2⋅\\varepsilon + \\varphi))      2         2        2   ⎞      \n",
       "────────────────────────────────────────── + l_c ⋅m_c + lₕ ⋅mₕ + lₚ ⋅mₕ⎟ = lₕ⋅\n",
       "      2                                                                ⎠      \n",
       "\n",
       "                                         \n",
       "(F_b + F_f)⋅sin(\\varphi)⋅cos(\\varepsilon)\n",
       "                                         "
      ]
     },
     "execution_count": 15,
     "metadata": {},
     "output_type": "execute_result"
    }
   ],
   "source": [
    "Eq_l_simplified = Eq_l_no_centripetal.subs([(cos(es)**2, 1), (cos(ps)**2, 1), (sin(es), 0)])\n",
    "Eq_l_simplified = Eq(Eq_l_simplified.lhs, Eq_l_simplified.rhs.simplify())\n",
    "Eq_l_simplified"
   ]
  },
  {
   "cell_type": "markdown",
   "metadata": {},
   "source": [
    "Äquivalent für $e$"
   ]
  },
  {
   "cell_type": "code",
   "execution_count": 16,
   "metadata": {
    "pycharm": {
     "is_executing": false
    }
   },
   "outputs": [
    {
     "data": {
      "image/png": "[encoded data removed]",
      "text/latex": [
       "$$\\ddot{\\varepsilon} \\left(d_{c}^{2} m_{c} + d_{h}^{2} m_{h} + l_{c}^{2} m_{c} + l_{h}^{2} m_{h}\\right) - \\ddot{\\varphi} d_{h} l_{h} m_{h} \\sin{\\left (\\varphi \\right )} + g \\left(d_{c} m_{c} \\sin{\\left (\\varepsilon \\right )} - d_{h} m_{h} \\sin{\\left (\\varepsilon \\right )} \\cos{\\left (\\varphi \\right )} - l_{c} m_{c} \\cos{\\left (\\varepsilon \\right )} + l_{h} m_{h} \\cos{\\left (\\varepsilon \\right )}\\right) = l_{h} \\left(F_{b} + F_{f}\\right) \\cos{\\left (\\varphi \\right )}$$"
      ],
      "text/plain": [
       "                   ⎛   2         2         2         2   ⎞                    \n",
       "\\ddot{\\varepsilon}⋅⎝d_c ⋅m_c + dₕ ⋅mₕ + l_c ⋅m_c + lₕ ⋅mₕ⎠ - \\ddot{\\varphi}⋅dₕ\n",
       "\n",
       "                                                                              \n",
       "⋅lₕ⋅mₕ⋅sin(\\varphi) + g⋅(d_c⋅m_c⋅sin(\\varepsilon) - dₕ⋅mₕ⋅sin(\\varepsilon)⋅cos\n",
       "\n",
       "                                                                              \n",
       "(\\varphi) - l_c⋅m_c⋅cos(\\varepsilon) + lₕ⋅mₕ⋅cos(\\varepsilon)) = lₕ⋅(F_b + F_f\n",
       "\n",
       "              \n",
       ")⋅cos(\\varphi)"
      ]
     },
     "execution_count": 16,
     "metadata": {},
     "output_type": "execute_result"
    }
   ],
   "source": [
    "Eq_e_simplified = Eq(Eq_e.lhs.subs([(ldds, 0), (lds, 0), (pds, 0), (eds, 0)]).simplify().subs(sin(ps)**2, 0).collect((edds, g)), Eq_e.rhs)\n",
    "Eq_e_simplified"
   ]
  },
  {
   "cell_type": "markdown",
   "metadata": {},
   "source": [
    "Und für $p$"
   ]
  },
  {
   "cell_type": "code",
   "execution_count": 17,
   "metadata": {
    "pycharm": {
     "is_executing": false
    }
   },
   "outputs": [
    {
     "data": {
      "image/png": "[encoded data removed]",
      "text/latex": [
       "$$- \\ddot{\\varepsilon} d_{h} l_{h} m_{h} \\sin{\\left (\\varphi \\right )} + \\ddot{\\varphi} \\left(d_{h}^{2} m_{h} + l_{p}^{2} m_{h}\\right) + g \\left(\\frac{d_{h} m_{h} \\sin{\\left (\\varepsilon - \\varphi \\right )}}{2} - \\frac{d_{h} m_{h} \\sin{\\left (\\varepsilon + \\varphi \\right )}}{2}\\right) = l_{p} \\left(- F_{b} + F_{f}\\right)$$"
      ],
      "text/plain": [
       "                                                           ⎛  2        2   ⎞  \n",
       "-\\ddot{\\varepsilon}⋅dₕ⋅lₕ⋅mₕ⋅sin(\\varphi) + \\ddot{\\varphi}⋅⎝dₕ ⋅mₕ + lₚ ⋅mₕ⎠ +\n",
       "                                                                              \n",
       "\n",
       "   ⎛dₕ⋅mₕ⋅sin(\\varepsilon - \\varphi)   dₕ⋅mₕ⋅sin(\\varepsilon + \\varphi)⎞      \n",
       " g⋅⎜──────────────────────────────── - ────────────────────────────────⎟ = lₚ⋅\n",
       "   ⎝               2                                  2                ⎠      \n",
       "\n",
       "            \n",
       "(-F_b + F_f)\n",
       "            "
      ]
     },
     "execution_count": 17,
     "metadata": {},
     "output_type": "execute_result"
    }
   ],
   "source": [
    "Eq_p_simplified = Eq(Eq_p.lhs.subs([(ldds, 0), (lds, 0), (eds, 0)]).expand().collect((pdds, g)), Eq_p.rhs)\n",
    "Eq_p_simplified"
   ]
  },
  {
   "cell_type": "code",
   "execution_count": 30,
   "metadata": {},
   "outputs": [],
   "source": [
    "Eq_p_expanded = Eq(Eq_p.lhs.expand().collect([pdds, edds, ldds]), Eq_p.rhs)\n",
    "Eq_e_expanded = Eq(Eq_e.lhs.expand().collect([pdds, edds, ldds]), Eq_e.rhs)\n",
    "Eq_l_expanded = Eq(Eq_l.lhs.expand().collect([pdds, edds, ldds]), Eq_l.rhs)\n",
    "M, b = linear_eq_to_matrix([Eq_p_expanded, Eq_e_expanded, Eq_l_expanded], [pdds, edds, ldds])"
   ]
  },
  {
   "cell_type": "code",
   "execution_count": 31,
   "metadata": {},
   "outputs": [
    {
     "data": {
      "image/png": "[encoded data removed]",
      "text/latex": [
       "$$\\left[\\begin{matrix}d_{h}^{2} m_{h} + l_{p}^{2} m_{h} & - d_{h} l_{h} m_{h} \\sin{\\left (\\varphi \\right )} & - d_{h}^{2} m_{h} \\sin{\\left (\\varepsilon \\right )} + d_{h} l_{h} m_{h} \\cos{\\left (\\varepsilon \\right )} \\cos{\\left (\\varphi \\right )} - l_{p}^{2} m_{h} \\sin{\\left (\\varepsilon \\right )}\\\\- d_{h} l_{h} m_{h} \\sin{\\left (\\varphi \\right )} & d_{c}^{2} m_{c} + d_{h}^{2} m_{h} \\cos^{2}{\\left (\\varphi \\right )} + l_{c}^{2} m_{c} + l_{h}^{2} m_{h} - l_{p}^{2} m_{h} \\cos^{2}{\\left (\\varphi \\right )} + l_{p}^{2} m_{h} & - \\frac{d_{h}^{2} m_{h} \\sin{\\left (\\varepsilon - 2 \\varphi \\right )}}{4} + \\frac{d_{h}^{2} m_{h} \\sin{\\left (\\varepsilon + 2 \\varphi \\right )}}{4} + d_{h} l_{h} m_{h} \\sin{\\left (\\varepsilon \\right )} \\sin{\\left (\\varphi \\right )} + \\frac{l_{p}^{2} m_{h} \\sin{\\left (\\varepsilon - 2 \\varphi \\right )}}{4} - \\frac{l_{p}^{2} m_{h} \\sin{\\left (\\varepsilon + 2 \\varphi \\right )}}{4}\\\\- d_{h}^{2} m_{h} \\sin{\\left (\\varepsilon \\right )} + d_{h} l_{h} m_{h} \\cos{\\left (\\varepsilon \\right )} \\cos{\\left (\\varphi \\right )} - l_{p}^{2} m_{h} \\sin{\\left (\\varepsilon \\right )} & - \\frac{d_{h}^{2} m_{h} \\sin{\\left (\\varepsilon - 2 \\varphi \\right )}}{4} + \\frac{d_{h}^{2} m_{h} \\sin{\\left (\\varepsilon + 2 \\varphi \\right )}}{4} + d_{h} l_{h} m_{h} \\sin{\\left (\\varepsilon \\right )} \\sin{\\left (\\varphi \\right )} + \\frac{l_{p}^{2} m_{h} \\sin{\\left (\\varepsilon - 2 \\varphi \\right )}}{4} - \\frac{l_{p}^{2} m_{h} \\sin{\\left (\\varepsilon + 2 \\varphi \\right )}}{4} & - d_{c}^{2} m_{c} \\cos^{2}{\\left (\\varepsilon \\right )} + d_{c}^{2} m_{c} - d_{c} l_{c} m_{c} \\sin{\\left (2 \\varepsilon \\right )} - d_{h}^{2} m_{h} \\cos^{2}{\\left (\\varepsilon \\right )} \\cos^{2}{\\left (\\varphi \\right )} + d_{h}^{2} m_{h} - \\frac{d_{h} l_{h} m_{h} \\sin{\\left (2 \\varepsilon - \\varphi \\right )}}{2} - \\frac{d_{h} l_{h} m_{h} \\sin{\\left (2 \\varepsilon + \\varphi \\right )}}{2} + l_{c}^{2} m_{c} \\cos^{2}{\\left (\\varepsilon \\right )} + l_{h}^{2} m_{h} \\cos^{2}{\\left (\\varepsilon \\right )} + l_{p}^{2} m_{h} \\cos^{2}{\\left (\\varepsilon \\right )} \\cos^{2}{\\left (\\varphi \\right )} - l_{p}^{2} m_{h} \\cos^{2}{\\left (\\varepsilon \\right )} + l_{p}^{2} m_{h}\\end{matrix}\\right]$$"
      ],
      "text/plain": [
       "⎡                                        2        2                           \n",
       "⎢                                      dₕ ⋅mₕ + lₚ ⋅mₕ                        \n",
       "⎢                                                                             \n",
       "⎢                                                                             \n",
       "⎢                                                                             \n",
       "⎢                                   -dₕ⋅lₕ⋅mₕ⋅sin(\\varphi)                    \n",
       "⎢                                                                             \n",
       "⎢                                                                             \n",
       "⎢                                                                             \n",
       "⎢    2                                                                  2     \n",
       "⎢- dₕ ⋅mₕ⋅sin(\\varepsilon) + dₕ⋅lₕ⋅mₕ⋅cos(\\varepsilon)⋅cos(\\varphi) - lₚ ⋅mₕ⋅s\n",
       "⎣                                                                             \n",
       "\n",
       "                                                                              \n",
       "                                                                              \n",
       "                                                                              \n",
       "                                                                              \n",
       "                                                                          2   \n",
       "                                                                       d_c ⋅m_\n",
       "                                                                              \n",
       "                                                                              \n",
       "                     2                                     2                  \n",
       "                   dₕ ⋅mₕ⋅sin(\\varepsilon - 2⋅\\varphi)   dₕ ⋅mₕ⋅sin(\\varepsilo\n",
       "in(\\varepsilon)  - ─────────────────────────────────── + ─────────────────────\n",
       "                                    4                                     4   \n",
       "\n",
       "                                                                              \n",
       "                        -dₕ⋅lₕ⋅mₕ⋅sin(\\varphi)                                \n",
       "                                                                              \n",
       "                                                                              \n",
       "      2       2               2         2        2       2              2     \n",
       "c + dₕ ⋅mₕ⋅cos (\\varphi) + l_c ⋅m_c + lₕ ⋅mₕ - lₚ ⋅mₕ⋅cos (\\varphi) + lₚ ⋅mₕ  \n",
       "                                                                              \n",
       "                                                                              \n",
       "                                                            2                 \n",
       "n + 2⋅\\varphi)                                            lₚ ⋅mₕ⋅sin(\\varepsil\n",
       "────────────── + dₕ⋅lₕ⋅mₕ⋅sin(\\varepsilon)⋅sin(\\varphi) + ────────────────────\n",
       "                                                                           4  \n",
       "\n",
       "                                                                              \n",
       "                                                                              \n",
       "                                                                              \n",
       "                                                                              \n",
       "                                                                              \n",
       "                                                                              \n",
       "                                                                              \n",
       "                                                                              \n",
       "                    2                                                         \n",
       "on - 2⋅\\varphi)   lₚ ⋅mₕ⋅sin(\\varepsilon + 2⋅\\varphi)       2        2        \n",
       "─────────────── - ───────────────────────────────────  - d_c ⋅m_c⋅cos (\\vareps\n",
       "                                   4                                          \n",
       "\n",
       "                                                                              \n",
       "                                                                              \n",
       "                                                                              \n",
       "                                                    2                         \n",
       "                                                  dₕ ⋅mₕ⋅sin(\\varepsilon - 2⋅\\\n",
       "                                                - ────────────────────────────\n",
       "                                                                   4          \n",
       "                                                                              \n",
       "                                                                              \n",
       "           2                                          2       2               \n",
       "ilon) + d_c ⋅m_c - d_c⋅l_c⋅m_c⋅sin(2⋅\\varepsilon) - dₕ ⋅mₕ⋅cos (\\varepsilon)⋅c\n",
       "                                                                              \n",
       "\n",
       "                        2                                                     \n",
       "                    - dₕ ⋅mₕ⋅sin(\\varepsilon) + dₕ⋅lₕ⋅mₕ⋅cos(\\varepsilon)⋅cos(\n",
       "                                                                              \n",
       "            2                                                                 \n",
       "varphi)   dₕ ⋅mₕ⋅sin(\\varepsilon + 2⋅\\varphi)                                 \n",
       "─────── + ─────────────────────────────────── + dₕ⋅lₕ⋅mₕ⋅sin(\\varepsilon)⋅sin(\n",
       "                           4                                                  \n",
       "                                                                              \n",
       "                                                                              \n",
       "  2              2      dₕ⋅lₕ⋅mₕ⋅sin(2⋅\\varepsilon - \\varphi)   dₕ⋅lₕ⋅mₕ⋅sin(2\n",
       "os (\\varphi) + dₕ ⋅mₕ - ───────────────────────────────────── - ──────────────\n",
       "                                          2                                   \n",
       "\n",
       "             2                                                                \n",
       "\\varphi) - lₚ ⋅mₕ⋅sin(\\varepsilon)                                            \n",
       "                                                                              \n",
       "             2                                     2                          \n",
       "           lₚ ⋅mₕ⋅sin(\\varepsilon - 2⋅\\varphi)   lₚ ⋅mₕ⋅sin(\\varepsilon + 2⋅\\v\n",
       "\\varphi) + ─────────────────────────────────── - ─────────────────────────────\n",
       "                            4                                     4           \n",
       "                                                                              \n",
       "                                                                              \n",
       "⋅\\varepsilon + \\varphi)      2        2                  2       2            \n",
       "─────────────────────── + l_c ⋅m_c⋅cos (\\varepsilon) + lₕ ⋅mₕ⋅cos (\\varepsilon\n",
       "    2                                                                         \n",
       "\n",
       "                                                                              \n",
       "                                                                              \n",
       "                                                                              \n",
       "                                                                              \n",
       "arphi)                                                                        \n",
       "──────                                                                        \n",
       "                                                                              \n",
       "                                                                              \n",
       "                                                                              \n",
       "      2       2                 2              2       2                  2   \n",
       ") + lₚ ⋅mₕ⋅cos (\\varepsilon)⋅cos (\\varphi) - lₚ ⋅mₕ⋅cos (\\varepsilon) + lₚ ⋅mₕ\n",
       "                                                                              \n",
       "\n",
       "⎤\n",
       "⎥\n",
       "⎥\n",
       "⎥\n",
       "⎥\n",
       "⎥\n",
       "⎥\n",
       "⎥\n",
       "⎥\n",
       "⎥\n",
       "⎥\n",
       "⎦"
      ]
     },
     "execution_count": 31,
     "metadata": {},
     "output_type": "execute_result"
    }
   ],
   "source": [
    "M"
   ]
  },
  {
   "cell_type": "code",
   "execution_count": 32,
   "metadata": {},
   "outputs": [
    {
     "data": {
      "image/png": "[encoded data removed]",
      "text/latex": [
       "$$\\left[\\begin{matrix}\\frac{\\dot{\\lambda}^{2} d_{h}^{2} m_{h} \\sin{\\left (2 \\varphi \\right )}}{4} - \\frac{\\dot{\\lambda}^{2} d_{h}^{2} m_{h} \\sin{\\left (2 \\varepsilon - 2 \\varphi \\right )}}{8} + \\frac{\\dot{\\lambda}^{2} d_{h}^{2} m_{h} \\sin{\\left (2 \\varepsilon + 2 \\varphi \\right )}}{8} + \\frac{\\dot{\\lambda}^{2} d_{h} l_{h} m_{h} \\cos{\\left (2 \\varepsilon - \\varphi \\right )}}{4} - \\frac{\\dot{\\lambda}^{2} d_{h} l_{h} m_{h} \\cos{\\left (2 \\varepsilon + \\varphi \\right )}}{4} - \\frac{\\dot{\\lambda}^{2} l_{p}^{2} m_{h} \\sin{\\left (2 \\varphi \\right )}}{4} + \\frac{\\dot{\\lambda}^{2} l_{p}^{2} m_{h} \\sin{\\left (2 \\varepsilon - 2 \\varphi \\right )}}{8} - \\frac{\\dot{\\lambda}^{2} l_{p}^{2} m_{h} \\sin{\\left (2 \\varepsilon + 2 \\varphi \\right )}}{8} + \\dot{\\lambda} \\dot{\\varepsilon} d_{h}^{2} m_{h} \\cos{\\left (\\varepsilon \\right )} + \\frac{\\dot{\\lambda} \\dot{\\varepsilon} d_{h}^{2} m_{h} \\cos{\\left (\\varepsilon - 2 \\varphi \\right )}}{2} + \\frac{\\dot{\\lambda} \\dot{\\varepsilon} d_{h}^{2} m_{h} \\cos{\\left (\\varepsilon + 2 \\varphi \\right )}}{2} + \\dot{\\lambda} \\dot{\\varepsilon} d_{h} l_{h} m_{h} \\sin{\\left (\\varepsilon \\right )} \\cos{\\left (\\varphi \\right )} + \\frac{\\dot{\\lambda} \\dot{\\varepsilon} d_{h} l_{h} m_{h} \\sin{\\left (\\varepsilon - \\varphi \\right )}}{2} + \\frac{\\dot{\\lambda} \\dot{\\varepsilon} d_{h} l_{h} m_{h} \\sin{\\left (\\varepsilon + \\varphi \\right )}}{2} + \\dot{\\lambda} \\dot{\\varepsilon} l_{p}^{2} m_{h} \\cos{\\left (\\varepsilon \\right )} - \\frac{\\dot{\\lambda} \\dot{\\varepsilon} l_{p}^{2} m_{h} \\cos{\\left (\\varepsilon - 2 \\varphi \\right )}}{2} - \\frac{\\dot{\\lambda} \\dot{\\varepsilon} l_{p}^{2} m_{h} \\cos{\\left (\\varepsilon + 2 \\varphi \\right )}}{2} + \\dot{\\lambda} \\dot{\\varphi} d_{h} l_{h} m_{h} \\sin{\\left (\\varphi \\right )} \\cos{\\left (\\varepsilon \\right )} + \\frac{\\dot{\\lambda} \\dot{\\varphi} d_{h} l_{h} m_{h} \\sin{\\left (\\varepsilon - \\varphi \\right )}}{2} - \\frac{\\dot{\\lambda} \\dot{\\varphi} d_{h} l_{h} m_{h} \\sin{\\left (\\varepsilon + \\varphi \\right )}}{2} - \\frac{\\dot{\\varepsilon}^{2} d_{h}^{2} m_{h} \\sin{\\left (2 \\varphi \\right )}}{2} + \\frac{\\dot{\\varepsilon}^{2} l_{p}^{2} m_{h} \\sin{\\left (2 \\varphi \\right )}}{2} - \\frac{d_{h} g m_{h} \\sin{\\left (\\varepsilon - \\varphi \\right )}}{2} + \\frac{d_{h} g m_{h} \\sin{\\left (\\varepsilon + \\varphi \\right )}}{2} + l_{p} \\left(- F_{b} + F_{f}\\right)\\\\\\frac{\\dot{\\lambda}^{2} d_{c}^{2} m_{c} \\sin{\\left (2 \\varepsilon \\right )}}{2} - \\dot{\\lambda}^{2} d_{c} l_{c} m_{c} \\cos{\\left (2 \\varepsilon \\right )} + \\frac{\\dot{\\lambda}^{2} d_{h}^{2} m_{h} \\sin{\\left (2 \\varepsilon \\right )}}{4} + \\frac{\\dot{\\lambda}^{2} d_{h}^{2} m_{h} \\sin{\\left (2 \\varepsilon - 2 \\varphi \\right )}}{8} + \\frac{\\dot{\\lambda}^{2} d_{h}^{2} m_{h} \\sin{\\left (2 \\varepsilon + 2 \\varphi \\right )}}{8} - \\frac{\\dot{\\lambda}^{2} d_{h} l_{h} m_{h} \\cos{\\left (2 \\varepsilon - \\varphi \\right )}}{2} - \\frac{\\dot{\\lambda}^{2} d_{h} l_{h} m_{h} \\cos{\\left (2 \\varepsilon + \\varphi \\right )}}{2} - \\frac{\\dot{\\lambda}^{2} l_{c}^{2} m_{c} \\sin{\\left (2 \\varepsilon \\right )}}{2} - \\frac{\\dot{\\lambda}^{2} l_{h}^{2} m_{h} \\sin{\\left (2 \\varepsilon \\right )}}{2} + \\frac{\\dot{\\lambda}^{2} l_{p}^{2} m_{h} \\sin{\\left (2 \\varepsilon \\right )}}{4} - \\frac{\\dot{\\lambda}^{2} l_{p}^{2} m_{h} \\sin{\\left (2 \\varepsilon - 2 \\varphi \\right )}}{8} - \\frac{\\dot{\\lambda}^{2} l_{p}^{2} m_{h} \\sin{\\left (2 \\varepsilon + 2 \\varphi \\right )}}{8} - \\dot{\\lambda} \\dot{\\varepsilon} d_{h} l_{h} m_{h} \\sin{\\left (\\varphi \\right )} \\cos{\\left (\\varepsilon \\right )} - \\frac{\\dot{\\lambda} \\dot{\\varepsilon} d_{h} l_{h} m_{h} \\sin{\\left (\\varepsilon - \\varphi \\right )}}{2} + \\frac{\\dot{\\lambda} \\dot{\\varepsilon} d_{h} l_{h} m_{h} \\sin{\\left (\\varepsilon + \\varphi \\right )}}{2} - \\dot{\\lambda} \\dot{\\varphi} d_{h}^{2} m_{h} \\cos{\\left (\\varepsilon \\right )} - \\frac{\\dot{\\lambda} \\dot{\\varphi} d_{h}^{2} m_{h} \\cos{\\left (\\varepsilon - 2 \\varphi \\right )}}{2} - \\frac{\\dot{\\lambda} \\dot{\\varphi} d_{h}^{2} m_{h} \\cos{\\left (\\varepsilon + 2 \\varphi \\right )}}{2} - \\dot{\\lambda} \\dot{\\varphi} d_{h} l_{h} m_{h} \\sin{\\left (\\varepsilon \\right )} \\cos{\\left (\\varphi \\right )} - \\frac{\\dot{\\lambda} \\dot{\\varphi} d_{h} l_{h} m_{h} \\sin{\\left (\\varepsilon - \\varphi \\right )}}{2} - \\frac{\\dot{\\lambda} \\dot{\\varphi} d_{h} l_{h} m_{h} \\sin{\\left (\\varepsilon + \\varphi \\right )}}{2} - \\dot{\\lambda} \\dot{\\varphi} l_{p}^{2} m_{h} \\cos{\\left (\\varepsilon \\right )} + \\frac{\\dot{\\lambda} \\dot{\\varphi} l_{p}^{2} m_{h} \\cos{\\left (\\varepsilon - 2 \\varphi \\right )}}{2} + \\frac{\\dot{\\lambda} \\dot{\\varphi} l_{p}^{2} m_{h} \\cos{\\left (\\varepsilon + 2 \\varphi \\right )}}{2} + 2 \\dot{\\varepsilon} \\dot{\\varphi} d_{h}^{2} m_{h} \\sin{\\left (\\varphi \\right )} \\cos{\\left (\\varphi \\right )} - 2 \\dot{\\varepsilon} \\dot{\\varphi} l_{p}^{2} m_{h} \\sin{\\left (\\varphi \\right )} \\cos{\\left (\\varphi \\right )} + \\dot{\\varphi}^{2} d_{h} l_{h} m_{h} \\cos{\\left (\\varphi \\right )} - d_{c} g m_{c} \\sin{\\left (\\varepsilon \\right )} + \\frac{d_{h} g m_{h} \\sin{\\left (\\varepsilon - \\varphi \\right )}}{2} + \\frac{d_{h} g m_{h} \\sin{\\left (\\varepsilon + \\varphi \\right )}}{2} + g l_{c} m_{c} \\cos{\\left (\\varepsilon \\right )} - g l_{h} m_{h} \\cos{\\left (\\varepsilon \\right )} + l_{h} \\left(F_{b} + F_{f}\\right) \\cos{\\left (\\varphi \\right )}\\\\F_{b} l_{h} \\sin{\\left (\\varphi \\right )} \\cos{\\left (\\varepsilon \\right )} + F_{b} l_{p} \\sin{\\left (\\varepsilon \\right )} + F_{f} l_{h} \\sin{\\left (\\varphi \\right )} \\cos{\\left (\\varepsilon \\right )} - F_{f} l_{p} \\sin{\\left (\\varepsilon \\right )} - 2 \\dot{\\lambda} \\dot{\\varepsilon} d_{c}^{2} m_{c} \\sin{\\left (\\varepsilon \\right )} \\cos{\\left (\\varepsilon \\right )} + 2 \\dot{\\lambda} \\dot{\\varepsilon} d_{c} l_{c} m_{c} \\cos{\\left (2 \\varepsilon \\right )} - 2 \\dot{\\lambda} \\dot{\\varepsilon} d_{h}^{2} m_{h} \\sin{\\left (\\varepsilon \\right )} \\cos{\\left (\\varepsilon \\right )} \\cos^{2}{\\left (\\varphi \\right )} + \\dot{\\lambda} \\dot{\\varepsilon} d_{h} l_{h} m_{h} \\cos{\\left (2 \\varepsilon - \\varphi \\right )} + \\dot{\\lambda} \\dot{\\varepsilon} d_{h} l_{h} m_{h} \\cos{\\left (2 \\varepsilon + \\varphi \\right )} + 2 \\dot{\\lambda} \\dot{\\varepsilon} l_{c}^{2} m_{c} \\sin{\\left (\\varepsilon \\right )} \\cos{\\left (\\varepsilon \\right )} + 2 \\dot{\\lambda} \\dot{\\varepsilon} l_{h}^{2} m_{h} \\sin{\\left (\\varepsilon \\right )} \\cos{\\left (\\varepsilon \\right )} + 2 \\dot{\\lambda} \\dot{\\varepsilon} l_{p}^{2} m_{h} \\sin{\\left (\\varepsilon \\right )} \\cos{\\left (\\varepsilon \\right )} \\cos^{2}{\\left (\\varphi \\right )} - 2 \\dot{\\lambda} \\dot{\\varepsilon} l_{p}^{2} m_{h} \\sin{\\left (\\varepsilon \\right )} \\cos{\\left (\\varepsilon \\right )} - 2 \\dot{\\lambda} \\dot{\\varphi} d_{h}^{2} m_{h} \\sin{\\left (\\varphi \\right )} \\cos^{2}{\\left (\\varepsilon \\right )} \\cos{\\left (\\varphi \\right )} - \\frac{\\dot{\\lambda} \\dot{\\varphi} d_{h} l_{h} m_{h} \\cos{\\left (2 \\varepsilon - \\varphi \\right )}}{2} + \\frac{\\dot{\\lambda} \\dot{\\varphi} d_{h} l_{h} m_{h} \\cos{\\left (2 \\varepsilon + \\varphi \\right )}}{2} + 2 \\dot{\\lambda} \\dot{\\varphi} l_{p}^{2} m_{h} \\sin{\\left (\\varphi \\right )} \\cos^{2}{\\left (\\varepsilon \\right )} \\cos{\\left (\\varphi \\right )} + \\frac{\\dot{\\varepsilon}^{2} d_{h}^{2} m_{h} \\cos{\\left (\\varepsilon - 2 \\varphi \\right )}}{4} - \\frac{\\dot{\\varepsilon}^{2} d_{h}^{2} m_{h} \\cos{\\left (\\varepsilon + 2 \\varphi \\right )}}{4} - \\dot{\\varepsilon}^{2} d_{h} l_{h} m_{h} \\sin{\\left (\\varphi \\right )} \\cos{\\left (\\varepsilon \\right )} - \\frac{\\dot{\\varepsilon}^{2} l_{p}^{2} m_{h} \\cos{\\left (\\varepsilon - 2 \\varphi \\right )}}{4} + \\frac{\\dot{\\varepsilon}^{2} l_{p}^{2} m_{h} \\cos{\\left (\\varepsilon + 2 \\varphi \\right )}}{4} + \\dot{\\varepsilon} \\dot{\\varphi} d_{h}^{2} m_{h} \\cos{\\left (\\varepsilon \\right )} - \\frac{\\dot{\\varepsilon} \\dot{\\varphi} d_{h}^{2} m_{h} \\cos{\\left (\\varepsilon - 2 \\varphi \\right )}}{2} - \\frac{\\dot{\\varepsilon} \\dot{\\varphi} d_{h}^{2} m_{h} \\cos{\\left (\\varepsilon + 2 \\varphi \\right )}}{2} + \\dot{\\varepsilon} \\dot{\\varphi} l_{p}^{2} m_{h} \\cos{\\left (\\varepsilon \\right )} + \\frac{\\dot{\\varepsilon} \\dot{\\varphi} l_{p}^{2} m_{h} \\cos{\\left (\\varepsilon - 2 \\varphi \\right )}}{2} + \\frac{\\dot{\\varepsilon} \\dot{\\varphi} l_{p}^{2} m_{h} \\cos{\\left (\\varepsilon + 2 \\varphi \\right )}}{2} + \\dot{\\varphi}^{2} d_{h} l_{h} m_{h} \\sin{\\left (\\varphi \\right )} \\cos{\\left (\\varepsilon \\right )}\\end{matrix}\\right]$$"
      ],
      "text/plain": [
       "⎡                                                                             \n",
       "⎢                                                                             \n",
       "⎢                                                                             \n",
       "⎢                                                                             \n",
       "⎢                                                                             \n",
       "⎢                                                                             \n",
       "⎢                                                                \\dot{\\lambda}\n",
       "⎢                                                                ─────────────\n",
       "⎢                                                                             \n",
       "⎢                                                                             \n",
       "⎢                                                                             \n",
       "⎢                                                                             \n",
       "⎢F_b⋅lₕ⋅sin(\\varphi)⋅cos(\\varepsilon) + F_b⋅lₚ⋅sin(\\varepsilon) + F_f⋅lₕ⋅sin(\\\n",
       "⎣                                                                             \n",
       "\n",
       "                                                                              \n",
       "                                                                              \n",
       "                                                                              \n",
       "                                                                              \n",
       "                                                                              \n",
       "2    2                                                                        \n",
       " ⋅d_c ⋅m_c⋅sin(2⋅\\varepsilon)                2                                \n",
       "───────────────────────────── - \\dot{\\lambda} ⋅d_c⋅l_c⋅m_c⋅cos(2⋅\\varepsilon) \n",
       "       2                                                                      \n",
       "                                                                              \n",
       "                                                                              \n",
       "                                                                              \n",
       "varphi)⋅cos(\\varepsilon) - F_f⋅lₚ⋅sin(\\varepsilon) - 2⋅\\dot{\\lambda}⋅\\dot{\\var\n",
       "                                                                              \n",
       "\n",
       "                                                                              \n",
       "                                                                              \n",
       "                                                                              \n",
       "                                                                              \n",
       "                                                                              \n",
       "               2   2                                      2   2               \n",
       "  \\dot{\\lambda} ⋅dₕ ⋅mₕ⋅sin(2⋅\\varepsilon)   \\dot{\\lambda} ⋅dₕ ⋅mₕ⋅sin(2⋅\\vare\n",
       "+ ──────────────────────────────────────── + ─────────────────────────────────\n",
       "                     4                                                8       \n",
       "                                                                              \n",
       "                                                                              \n",
       "            2                                                                 \n",
       "epsilon}⋅d_c ⋅m_c⋅sin(\\varepsilon)⋅cos(\\varepsilon) + 2⋅\\dot{\\lambda}⋅\\dot{\\va\n",
       "                                                                              \n",
       "\n",
       "                    2   2                                  2   2              \n",
       "       \\dot{\\lambda} ⋅dₕ ⋅mₕ⋅sin(2⋅\\varphi)   \\dot{\\lambda} ⋅dₕ ⋅mₕ⋅sin(2⋅\\var\n",
       "       ──────────────────────────────────── - ────────────────────────────────\n",
       "                        4                                              8      \n",
       "                                                                              \n",
       "                                   2   2                                      \n",
       "psilon - 2⋅\\varphi)   \\dot{\\lambda} ⋅dₕ ⋅mₕ⋅sin(2⋅\\varepsilon + 2⋅\\varphi)   \\\n",
       "─────────────────── + ──────────────────────────────────────────────────── - ─\n",
       "                                               8                              \n",
       "                                                                              \n",
       "                                                                              \n",
       "                                                                              \n",
       "repsilon}⋅d_c⋅l_c⋅m_c⋅cos(2⋅\\varepsilon) - 2⋅\\dot{\\lambda}⋅\\dot{\\varepsilon}⋅d\n",
       "                                                                              \n",
       "\n",
       "                                    2   2                                     \n",
       "epsilon - 2⋅\\varphi)   \\dot{\\lambda} ⋅dₕ ⋅mₕ⋅sin(2⋅\\varepsilon + 2⋅\\varphi)   \n",
       "──────────────────── + ──────────────────────────────────────────────────── + \n",
       "                                                8                             \n",
       "                                                                              \n",
       "            2                                                      2          \n",
       "dot{\\lambda} ⋅dₕ⋅lₕ⋅mₕ⋅cos(2⋅\\varepsilon - \\varphi)   \\dot{\\lambda} ⋅dₕ⋅lₕ⋅mₕ⋅\n",
       "─────────────────────────────────────────────────── - ────────────────────────\n",
       "                        2                                                     \n",
       "                                                                              \n",
       "                                                                              \n",
       " 2                                         2                                  \n",
       "ₕ ⋅mₕ⋅sin(\\varepsilon)⋅cos(\\varepsilon)⋅cos (\\varphi) + \\dot{\\lambda}⋅\\dot{\\va\n",
       "                                                                              \n",
       "\n",
       "             2                                                      2         \n",
       "\\dot{\\lambda} ⋅dₕ⋅lₕ⋅mₕ⋅cos(2⋅\\varepsilon - \\varphi)   \\dot{\\lambda} ⋅dₕ⋅lₕ⋅mₕ\n",
       "──────────────────────────────────────────────────── - ───────────────────────\n",
       "                         4                                                    \n",
       "                                                                              \n",
       "                                            2    2                            \n",
       "cos(2⋅\\varepsilon + \\varphi)   \\dot{\\lambda} ⋅l_c ⋅m_c⋅sin(2⋅\\varepsilon)   \\d\n",
       "──────────────────────────── - ────────────────────────────────────────── - ──\n",
       " 2                                                 2                          \n",
       "                                                                              \n",
       "                                                                              \n",
       "                                                                              \n",
       "repsilon}⋅dₕ⋅lₕ⋅mₕ⋅cos(2⋅\\varepsilon - \\varphi) + \\dot{\\lambda}⋅\\dot{\\varepsil\n",
       "                                                                              \n",
       "\n",
       "                                             2   2                            \n",
       "⋅cos(2⋅\\varepsilon + \\varphi)   \\dot{\\lambda} ⋅lₚ ⋅mₕ⋅sin(2⋅\\varphi)   \\dot{\\l\n",
       "───────────────────────────── - ──────────────────────────────────── + ───────\n",
       "  4                                              4                            \n",
       "                                                                              \n",
       "           2   2                                      2   2                   \n",
       "ot{\\lambda} ⋅lₕ ⋅mₕ⋅sin(2⋅\\varepsilon)   \\dot{\\lambda} ⋅lₚ ⋅mₕ⋅sin(2⋅\\varepsil\n",
       "────────────────────────────────────── + ─────────────────────────────────────\n",
       "                 2                                          4                 \n",
       "                                                                              \n",
       "                                                                              \n",
       "                                                                              \n",
       "on}⋅dₕ⋅lₕ⋅mₕ⋅cos(2⋅\\varepsilon + \\varphi) + 2⋅\\dot{\\lambda}⋅\\dot{\\varepsilon}⋅\n",
       "                                                                              \n",
       "\n",
       "      2   2                                                  2   2            \n",
       "ambda} ⋅lₚ ⋅mₕ⋅sin(2⋅\\varepsilon - 2⋅\\varphi)   \\dot{\\lambda} ⋅lₚ ⋅mₕ⋅sin(2⋅\\v\n",
       "───────────────────────────────────────────── - ──────────────────────────────\n",
       "                  8                                                      8    \n",
       "                                                                              \n",
       "                   2   2                                                  2   \n",
       "on)   \\dot{\\lambda} ⋅lₚ ⋅mₕ⋅sin(2⋅\\varepsilon - 2⋅\\varphi)   \\dot{\\lambda} ⋅lₚ\n",
       "─── - ──────────────────────────────────────────────────── - ─────────────────\n",
       "                               8                                              \n",
       "                                                                              \n",
       "                                                                              \n",
       "   2                                                                          \n",
       "l_c ⋅m_c⋅sin(\\varepsilon)⋅cos(\\varepsilon) + 2⋅\\dot{\\lambda}⋅\\dot{\\varepsilon}\n",
       "                                                                              \n",
       "\n",
       "                                                                              \n",
       "arepsilon + 2⋅\\varphi)                                     2                  \n",
       "────────────────────── + \\dot{\\lambda}⋅\\dot{\\varepsilon}⋅dₕ ⋅mₕ⋅cos(\\varepsilo\n",
       "                                                                              \n",
       "                                                                              \n",
       "2                                                                             \n",
       " ⋅mₕ⋅sin(2⋅\\varepsilon + 2⋅\\varphi)                                           \n",
       "─────────────────────────────────── - \\dot{\\lambda}⋅\\dot{\\varepsilon}⋅dₕ⋅lₕ⋅mₕ\n",
       "        8                                                                     \n",
       "                                                                              \n",
       "                                                                              \n",
       "   2                                                                          \n",
       "⋅lₕ ⋅mₕ⋅sin(\\varepsilon)⋅cos(\\varepsilon) + 2⋅\\dot{\\lambda}⋅\\dot{\\varepsilon}⋅\n",
       "                                                                              \n",
       "\n",
       "                                       2                                      \n",
       "     \\dot{\\lambda}⋅\\dot{\\varepsilon}⋅dₕ ⋅mₕ⋅cos(\\varepsilon - 2⋅\\varphi)   \\do\n",
       "n) + ─────────────────────────────────────────────────────────────────── + ───\n",
       "                                      2                                       \n",
       "                                                                              \n",
       "                                                                              \n",
       "                                 \\dot{\\lambda}⋅\\dot{\\varepsilon}⋅dₕ⋅lₕ⋅mₕ⋅sin(\n",
       "⋅sin(\\varphi)⋅cos(\\varepsilon) - ─────────────────────────────────────────────\n",
       "                                                                  2           \n",
       "                                                                              \n",
       "                                                                              \n",
       "  2                                         2                                 \n",
       "lₚ ⋅mₕ⋅sin(\\varepsilon)⋅cos(\\varepsilon)⋅cos (\\varphi) - 2⋅\\dot{\\lambda}⋅\\dot{\n",
       "                                                                              \n",
       "\n",
       "                               2                                              \n",
       "t{\\lambda}⋅\\dot{\\varepsilon}⋅dₕ ⋅mₕ⋅cos(\\varepsilon + 2⋅\\varphi)              \n",
       "──────────────────────────────────────────────────────────────── + \\dot{\\lambd\n",
       "                              2                                               \n",
       "                                                                              \n",
       "                                                                              \n",
       "\\varepsilon - \\varphi)   \\dot{\\lambda}⋅\\dot{\\varepsilon}⋅dₕ⋅lₕ⋅mₕ⋅sin(\\varepsi\n",
       "────────────────────── + ─────────────────────────────────────────────────────\n",
       "                                                          2                   \n",
       "                                                                              \n",
       "                                                                              \n",
       "               2                                                              \n",
       "\\varepsilon}⋅lₚ ⋅mₕ⋅sin(\\varepsilon)⋅cos(\\varepsilon) - 2⋅\\dot{\\lambda}⋅\\dot{\\\n",
       "                                                                              \n",
       "\n",
       "                                                                              \n",
       "                                                              \\dot{\\lambda}⋅\\d\n",
       "a}⋅\\dot{\\varepsilon}⋅dₕ⋅lₕ⋅mₕ⋅sin(\\varepsilon)⋅cos(\\varphi) + ────────────────\n",
       "                                                                              \n",
       "                                                                              \n",
       "                                                                              \n",
       "lon + \\varphi)                                 2                       \\dot{\\l\n",
       "────────────── - \\dot{\\lambda}⋅\\dot{\\varphi}⋅dₕ ⋅mₕ⋅cos(\\varepsilon) - ───────\n",
       "                                                                              \n",
       "                                                                              \n",
       "                                                                              \n",
       "          2                    2                             \\dot{\\lambda}⋅\\do\n",
       "varphi}⋅dₕ ⋅mₕ⋅sin(\\varphi)⋅cos (\\varepsilon)⋅cos(\\varphi) - ─────────────────\n",
       "                                                                              \n",
       "\n",
       "                                                                              \n",
       "ot{\\varepsilon}⋅dₕ⋅lₕ⋅mₕ⋅sin(\\varepsilon - \\varphi)   \\dot{\\lambda}⋅\\dot{\\vare\n",
       "─────────────────────────────────────────────────── + ────────────────────────\n",
       "                 2                                                            \n",
       "                                                                              \n",
       "                       2                                                      \n",
       "ambda}⋅\\dot{\\varphi}⋅dₕ ⋅mₕ⋅cos(\\varepsilon - 2⋅\\varphi)   \\dot{\\lambda}⋅\\dot{\n",
       "──────────────────────────────────────────────────────── - ───────────────────\n",
       "                        2                                                     \n",
       "                                                                              \n",
       "                                                                              \n",
       "t{\\varphi}⋅dₕ⋅lₕ⋅mₕ⋅cos(2⋅\\varepsilon - \\varphi)   \\dot{\\lambda}⋅\\dot{\\varphi}\n",
       "──────────────────────────────────────────────── + ───────────────────────────\n",
       "               2                                                              \n",
       "\n",
       "                                                                              \n",
       "psilon}⋅dₕ⋅lₕ⋅mₕ⋅sin(\\varepsilon + \\varphi)                                   \n",
       "─────────────────────────────────────────── + \\dot{\\lambda}⋅\\dot{\\varepsilon}⋅\n",
       "         2                                                                    \n",
       "                                                                              \n",
       "           2                                                                  \n",
       "\\varphi}⋅dₕ ⋅mₕ⋅cos(\\varepsilon + 2⋅\\varphi)                                  \n",
       "──────────────────────────────────────────── - \\dot{\\lambda}⋅\\dot{\\varphi}⋅dₕ⋅\n",
       "            2                                                                 \n",
       "                                                                              \n",
       "                                                                              \n",
       "⋅dₕ⋅lₕ⋅mₕ⋅cos(2⋅\\varepsilon + \\varphi)                                   2    \n",
       "────────────────────────────────────── + 2⋅\\dot{\\lambda}⋅\\dot{\\varphi}⋅lₚ ⋅mₕ⋅\n",
       "     2                                                                        \n",
       "\n",
       "                                                            2                 \n",
       "  2                       \\dot{\\lambda}⋅\\dot{\\varepsilon}⋅lₚ ⋅mₕ⋅cos(\\varepsil\n",
       "lₚ ⋅mₕ⋅cos(\\varepsilon) - ────────────────────────────────────────────────────\n",
       "                                                           2                  \n",
       "                                                                              \n",
       "                                                                              \n",
       "                                      \\dot{\\lambda}⋅\\dot{\\varphi}⋅dₕ⋅lₕ⋅mₕ⋅sin\n",
       "lₕ⋅mₕ⋅sin(\\varepsilon)⋅cos(\\varphi) - ────────────────────────────────────────\n",
       "                                                                     2        \n",
       "                                                                              \n",
       "                                                               2   2          \n",
       "                2                             \\dot{\\varepsilon} ⋅dₕ ⋅mₕ⋅cos(\\v\n",
       "sin(\\varphi)⋅cos (\\varepsilon)⋅cos(\\varphi) + ────────────────────────────────\n",
       "                                                                        4     \n",
       "\n",
       "                                                    2                         \n",
       "on - 2⋅\\varphi)   \\dot{\\lambda}⋅\\dot{\\varepsilon}⋅lₚ ⋅mₕ⋅cos(\\varepsilon + 2⋅\\\n",
       "─────────────── - ────────────────────────────────────────────────────────────\n",
       "                                                   2                          \n",
       "                                                                              \n",
       "                                                                              \n",
       "(\\varepsilon - \\varphi)   \\dot{\\lambda}⋅\\dot{\\varphi}⋅dₕ⋅lₕ⋅mₕ⋅sin(\\varepsilon\n",
       "─────────────────────── - ────────────────────────────────────────────────────\n",
       "                                                         2                    \n",
       "                                                                              \n",
       "                                          2   2                               \n",
       "arepsilon - 2⋅\\varphi)   \\dot{\\varepsilon} ⋅dₕ ⋅mₕ⋅cos(\\varepsilon + 2⋅\\varphi\n",
       "────────────────────── - ─────────────────────────────────────────────────────\n",
       "                                                   4                          \n",
       "\n",
       "                                                                              \n",
       "varphi)                                                                       \n",
       "─────── + \\dot{\\lambda}⋅\\dot{\\varphi}⋅dₕ⋅lₕ⋅mₕ⋅sin(\\varphi)⋅cos(\\varepsilon) +\n",
       "                                                                              \n",
       "                                                                              \n",
       "                                                                              \n",
       " + \\varphi)                                 2                       \\dot{\\lamb\n",
       "─────────── - \\dot{\\lambda}⋅\\dot{\\varphi}⋅lₚ ⋅mₕ⋅cos(\\varepsilon) + ──────────\n",
       "                                                                              \n",
       "                                                                              \n",
       "                                                                              \n",
       ")                    2                                          \\dot{\\varepsil\n",
       "─ - \\dot{\\varepsilon} ⋅dₕ⋅lₕ⋅mₕ⋅sin(\\varphi)⋅cos(\\varepsilon) - ──────────────\n",
       "                                                                              \n",
       "\n",
       "                                                                              \n",
       " \\dot{\\lambda}⋅\\dot{\\varphi}⋅dₕ⋅lₕ⋅mₕ⋅sin(\\varepsilon - \\varphi)   \\dot{\\lambd\n",
       " ─────────────────────────────────────────────────────────────── - ───────────\n",
       "                                2                                             \n",
       "                                                                              \n",
       "                    2                                                         \n",
       "da}⋅\\dot{\\varphi}⋅lₚ ⋅mₕ⋅cos(\\varepsilon - 2⋅\\varphi)   \\dot{\\lambda}⋅\\dot{\\va\n",
       "───────────────────────────────────────────────────── + ──────────────────────\n",
       "                     2                                                        \n",
       "                                                                              \n",
       "   2   2                                                    2   2             \n",
       "on} ⋅lₚ ⋅mₕ⋅cos(\\varepsilon - 2⋅\\varphi)   \\dot{\\varepsilon} ⋅lₚ ⋅mₕ⋅cos(\\vare\n",
       "──────────────────────────────────────── + ───────────────────────────────────\n",
       "            4                                                        4        \n",
       "\n",
       "                                                                        2   2 \n",
       "a}⋅\\dot{\\varphi}⋅dₕ⋅lₕ⋅mₕ⋅sin(\\varepsilon + \\varphi)   \\dot{\\varepsilon} ⋅dₕ ⋅\n",
       "──────────────────────────────────────────────────── - ───────────────────────\n",
       "                    2                                                     2   \n",
       "                                                                              \n",
       "        2                                                                     \n",
       "rphi}⋅lₚ ⋅mₕ⋅cos(\\varepsilon + 2⋅\\varphi)                                     \n",
       "───────────────────────────────────────── + 2⋅\\dot{\\varepsilon}⋅\\dot{\\varphi}⋅\n",
       "         2                                                                    \n",
       "                                                                              \n",
       "                                                                              \n",
       "psilon + 2⋅\\varphi)                                     2                     \n",
       "─────────────────── + \\dot{\\varepsilon}⋅\\dot{\\varphi}⋅dₕ ⋅mₕ⋅cos(\\varepsilon) \n",
       "                                                                              \n",
       "\n",
       "                                     2   2                                    \n",
       "mₕ⋅sin(2⋅\\varphi)   \\dot{\\varepsilon} ⋅lₚ ⋅mₕ⋅sin(2⋅\\varphi)   dₕ⋅g⋅mₕ⋅sin(\\va\n",
       "───────────────── + ──────────────────────────────────────── - ───────────────\n",
       "                                       2                                      \n",
       "                                                                              \n",
       "                                                                              \n",
       "  2                                                                    2      \n",
       "dₕ ⋅mₕ⋅sin(\\varphi)⋅cos(\\varphi) - 2⋅\\dot{\\varepsilon}⋅\\dot{\\varphi}⋅lₚ ⋅mₕ⋅si\n",
       "                                                                              \n",
       "                                                                              \n",
       "                                    2                                         \n",
       "  \\dot{\\varepsilon}⋅\\dot{\\varphi}⋅dₕ ⋅mₕ⋅cos(\\varepsilon - 2⋅\\varphi)   \\dot{\\\n",
       "- ─────────────────────────────────────────────────────────────────── - ──────\n",
       "                                   2                                          \n",
       "\n",
       "                                                                              \n",
       "repsilon - \\varphi)   dₕ⋅g⋅mₕ⋅sin(\\varepsilon + \\varphi)                      \n",
       "─────────────────── + ────────────────────────────────── + lₚ⋅(-F_b + F_f)    \n",
       " 2                                    2                                       \n",
       "                                                                              \n",
       "                                                                              \n",
       "                                       2                                      \n",
       "n(\\varphi)⋅cos(\\varphi) + \\dot{\\varphi} ⋅dₕ⋅lₕ⋅mₕ⋅cos(\\varphi) - d_c⋅g⋅m_c⋅sin\n",
       "                                                                              \n",
       "                                                                              \n",
       "                            2                                                 \n",
       "varepsilon}⋅\\dot{\\varphi}⋅dₕ ⋅mₕ⋅cos(\\varepsilon + 2⋅\\varphi)                 \n",
       "───────────────────────────────────────────────────────────── + \\dot{\\varepsil\n",
       "                           2                                                  \n",
       "\n",
       "                                                                              \n",
       "                                                                              \n",
       "                                                                              \n",
       "                                                                              \n",
       "                                                                              \n",
       "                                                                              \n",
       "                dₕ⋅g⋅mₕ⋅sin(\\varepsilon - \\varphi)   dₕ⋅g⋅mₕ⋅sin(\\varepsilon +\n",
       "(\\varepsilon) + ────────────────────────────────── + ─────────────────────────\n",
       "                                2                                    2        \n",
       "                                                                              \n",
       "                                                                              \n",
       "                    2                       \\dot{\\varepsilon}⋅\\dot{\\varphi}⋅lₚ\n",
       "on}⋅\\dot{\\varphi}⋅lₚ ⋅mₕ⋅cos(\\varepsilon) + ──────────────────────────────────\n",
       "                                                                             2\n",
       "\n",
       "                                                                              \n",
       "                                                                              \n",
       "                                                                              \n",
       "                                                                              \n",
       "                                                                              \n",
       "                                                                              \n",
       " \\varphi)                                                                     \n",
       "───────── + g⋅l_c⋅m_c⋅cos(\\varepsilon) - g⋅lₕ⋅mₕ⋅cos(\\varepsilon) + lₕ⋅(F_b + \n",
       "                                                                              \n",
       "                                                                              \n",
       "2                                                                     2       \n",
       " ⋅mₕ⋅cos(\\varepsilon - 2⋅\\varphi)   \\dot{\\varepsilon}⋅\\dot{\\varphi}⋅lₚ ⋅mₕ⋅cos\n",
       "───────────────────────────────── + ──────────────────────────────────────────\n",
       "                                                                     2        \n",
       "\n",
       "                                                                              \n",
       "                                                                              \n",
       "                                                                              \n",
       "                                                                              \n",
       "                                                                              \n",
       "                                                                              \n",
       "                                                                              \n",
       "F_f)⋅cos(\\varphi)                                                             \n",
       "                                                                              \n",
       "                                                                              \n",
       "                                                                              \n",
       "(\\varepsilon + 2⋅\\varphi)                2                                    \n",
       "───────────────────────── + \\dot{\\varphi} ⋅dₕ⋅lₕ⋅mₕ⋅sin(\\varphi)⋅cos(\\varepsil\n",
       "                                                                              \n",
       "\n",
       "   ⎤\n",
       "   ⎥\n",
       "   ⎥\n",
       "   ⎥\n",
       "   ⎥\n",
       "   ⎥\n",
       "   ⎥\n",
       "   ⎥\n",
       "   ⎥\n",
       "   ⎥\n",
       "   ⎥\n",
       "   ⎥\n",
       "on)⎥\n",
       "   ⎦"
      ]
     },
     "execution_count": 32,
     "metadata": {},
     "output_type": "execute_result"
    }
   ],
   "source": [
    "b"
   ]
  },
  {
   "cell_type": "markdown",
   "metadata": {},
   "source": [
    "# Parameter identification?"
   ]
  },
  {
   "cell_type": "code",
   "execution_count": 40,
   "metadata": {},
   "outputs": [
    {
     "data": {
      "image/png": "[encoded data removed]",
      "text/latex": [
       "$$\\ddot{\\varphi} \\left(d_{h}^{2} m_{h} + l_{p}^{2} m_{h}\\right) - d_{h} g m_{h} \\sin{\\left (\\varphi \\right )} \\cos{\\left (\\varepsilon \\right )} = l_{p} \\left(- F_{b} + F_{f}\\right)$$"
      ],
      "text/plain": [
       "               ⎛  2        2   ⎞                                              \n",
       "\\ddot{\\varphi}⋅⎝dₕ ⋅mₕ + lₚ ⋅mₕ⎠ - dₕ⋅g⋅mₕ⋅sin(\\varphi)⋅cos(\\varepsilon) = lₚ⋅\n",
       "\n",
       "            \n",
       "(-F_b + F_f)"
      ]
     },
     "metadata": {},
     "output_type": "display_data"
    },
    {
     "data": {
      "image/png": "[encoded data removed]",
      "text/latex": [
       "$$\\ddot{\\varepsilon} \\left(d_{c}^{2} m_{c} - d_{h}^{2} m_{h} \\sin^{2}{\\left (\\varphi \\right )} + d_{h}^{2} m_{h} + l_{c}^{2} m_{c} + l_{h}^{2} m_{h} + l_{p}^{2} m_{h} \\sin^{2}{\\left (\\varphi \\right )}\\right) + \\left(d_{c} g m_{c} - d_{h} g m_{h} \\cos{\\left (\\varphi \\right )}\\right) \\sin{\\left (\\varepsilon \\right )} + \\left(- g l_{c} m_{c} + g l_{h} m_{h}\\right) \\cos{\\left (\\varepsilon \\right )} = l_{h} \\left(F_{b} + F_{f}\\right) \\cos{\\left (\\varphi \\right )}$$"
      ],
      "text/plain": [
       "                   ⎛   2         2       2              2         2         2 \n",
       "\\ddot{\\varepsilon}⋅⎝d_c ⋅m_c - dₕ ⋅mₕ⋅sin (\\varphi) + dₕ ⋅mₕ + l_c ⋅m_c + lₕ ⋅\n",
       "\n",
       "       2       2         ⎞                                                    \n",
       "mₕ + lₚ ⋅mₕ⋅sin (\\varphi)⎠ + (d_c⋅g⋅m_c - dₕ⋅g⋅mₕ⋅cos(\\varphi))⋅sin(\\varepsilo\n",
       "\n",
       "                                                                          \n",
       "n) + (-g⋅l_c⋅m_c + g⋅lₕ⋅mₕ)⋅cos(\\varepsilon) = lₕ⋅(F_b + F_f)⋅cos(\\varphi)"
      ]
     },
     "metadata": {},
     "output_type": "display_data"
    },
    {
     "data": {
      "image/png": "[encoded data removed]",
      "text/latex": [
       "$$\\ddot{\\lambda} \\left(- d_{c}^{2} m_{c} \\cos^{2}{\\left (\\varepsilon \\right )} + d_{c}^{2} m_{c} - d_{c} l_{c} m_{c} \\sin{\\left (2 \\varepsilon \\right )} - d_{h}^{2} m_{h} \\cos^{2}{\\left (\\varepsilon \\right )} \\cos^{2}{\\left (\\varphi \\right )} + d_{h}^{2} m_{h} - \\frac{d_{h} l_{h} m_{h} \\sin{\\left (2 \\varepsilon - \\varphi \\right )}}{2} - \\frac{d_{h} l_{h} m_{h} \\sin{\\left (2 \\varepsilon + \\varphi \\right )}}{2} + l_{c}^{2} m_{c} \\cos^{2}{\\left (\\varepsilon \\right )} + l_{h}^{2} m_{h} \\cos^{2}{\\left (\\varepsilon \\right )} + l_{p}^{2} m_{h} \\cos^{2}{\\left (\\varepsilon \\right )} \\cos^{2}{\\left (\\varphi \\right )} - l_{p}^{2} m_{h} \\cos^{2}{\\left (\\varepsilon \\right )} + l_{p}^{2} m_{h}\\right) = l_{h} \\left(F_{b} \\sin{\\left (\\varphi \\right )} \\cos{\\left (\\varepsilon \\right )} + F_{f} \\sin{\\left (\\varphi \\right )} \\cos{\\left (\\varepsilon \\right )}\\right) + l_{p} \\left(F_{b} \\sin{\\left (\\varepsilon \\right )} - F_{f} \\sin{\\left (\\varepsilon \\right )}\\right)$$"
      ],
      "text/plain": [
       "               ⎛     2        2                   2                           \n",
       "\\ddot{\\lambda}⋅⎜- d_c ⋅m_c⋅cos (\\varepsilon) + d_c ⋅m_c - d_c⋅l_c⋅m_c⋅sin(2⋅\\v\n",
       "               ⎝                                                              \n",
       "\n",
       "               2       2                 2              2      dₕ⋅lₕ⋅mₕ⋅sin(2⋅\n",
       "arepsilon) - dₕ ⋅mₕ⋅cos (\\varepsilon)⋅cos (\\varphi) + dₕ ⋅mₕ - ───────────────\n",
       "                                                                              \n",
       "\n",
       "\\varepsilon - \\varphi)   dₕ⋅lₕ⋅mₕ⋅sin(2⋅\\varepsilon + \\varphi)      2        2\n",
       "────────────────────── - ───────────────────────────────────── + l_c ⋅m_c⋅cos \n",
       "   2                                       2                                  \n",
       "\n",
       "                  2       2                  2       2                 2      \n",
       "(\\varepsilon) + lₕ ⋅mₕ⋅cos (\\varepsilon) + lₚ ⋅mₕ⋅cos (\\varepsilon)⋅cos (\\varp\n",
       "                                                                              \n",
       "\n",
       "        2       2                  2   ⎞                                      \n",
       "hi) - lₚ ⋅mₕ⋅cos (\\varepsilon) + lₚ ⋅mₕ⎟ = lₕ⋅(F_b⋅sin(\\varphi)⋅cos(\\varepsilo\n",
       "                                       ⎠                                      \n",
       "\n",
       "                                                                              \n",
       "n) + F_f⋅sin(\\varphi)⋅cos(\\varepsilon)) + lₚ⋅(F_b⋅sin(\\varepsilon) - F_f⋅sin(\\\n",
       "                                                                              \n",
       "\n",
       "            \n",
       "varepsilon))\n",
       "            "
      ]
     },
     "metadata": {},
     "output_type": "display_data"
    }
   ],
   "source": [
    "Eq_p_ident_decoupled = Eq(Eq_p.lhs.subs([(edds, 0), (eds, 0), (ldds, 0), (lds, 0)]).simplify().expand().collect([pdds]), Eq_p.rhs)\n",
    "Eq_e_ident_decoupled = Eq(Eq_e.lhs.subs([(pdds, 0), (pds, 0), (ldds, 0), (lds, 0)]).simplify().expand().collect([edds, sin(es), cos(es)]), Eq_e.rhs)\n",
    "Eq_l_ident_decoupled = Eq(Eq_l.lhs.subs([(pdds, 0), (pds, 0), (edds, 0), (eds, 0)]).simplify().expand().collect([ldds]), Eq_l.rhs.collect([lp, lh]))\n",
    "\n",
    "display(Eq_p_ident_decoupled)\n",
    "display(Eq_e_ident_decoupled)\n",
    "display(Eq_l_ident_decoupled)"
   ]
  },
  {
   "cell_type": "code",
   "execution_count": 48,
   "metadata": {},
   "outputs": [
    {
     "data": {
      "image/png": "[encoded data removed]",
      "text/latex": [
       "$$\\ddot{\\varphi} \\left(d_{h}^{2} m_{h} + l_{p}^{2} m_{h}\\right) - d_{h} g m_{h} \\sin{\\left (\\varphi \\right )} = l_{p} \\left(- F_{b} + F_{f}\\right)$$"
      ],
      "text/plain": [
       "               ⎛  2        2   ⎞                                         \n",
       "\\ddot{\\varphi}⋅⎝dₕ ⋅mₕ + lₚ ⋅mₕ⎠ - dₕ⋅g⋅mₕ⋅sin(\\varphi) = lₚ⋅(-F_b + F_f)"
      ]
     },
     "metadata": {},
     "output_type": "display_data"
    },
    {
     "data": {
      "image/png": "[encoded data removed]",
      "text/latex": [
       "$$\\ddot{\\varepsilon} \\left(d_{c}^{2} m_{c} + d_{h}^{2} m_{h} + l_{c}^{2} m_{c} + l_{h}^{2} m_{h}\\right) + \\left(d_{c} g m_{c} - d_{h} g m_{h}\\right) \\sin{\\left (\\varepsilon \\right )} + \\left(- g l_{c} m_{c} + g l_{h} m_{h}\\right) \\cos{\\left (\\varepsilon \\right )} = l_{h} \\left(F_{b} + F_{f}\\right) \\cos{\\left (\\varphi \\right )}$$"
      ],
      "text/plain": [
       "                   ⎛   2         2         2         2   ⎞                    \n",
       "\\ddot{\\varepsilon}⋅⎝d_c ⋅m_c + dₕ ⋅mₕ + l_c ⋅m_c + lₕ ⋅mₕ⎠ + (d_c⋅g⋅m_c - dₕ⋅g\n",
       "\n",
       "                                                                              \n",
       "⋅mₕ)⋅sin(\\varepsilon) + (-g⋅l_c⋅m_c + g⋅lₕ⋅mₕ)⋅cos(\\varepsilon) = lₕ⋅(F_b + F_\n",
       "\n",
       "               \n",
       "f)⋅cos(\\varphi)"
      ]
     },
     "metadata": {},
     "output_type": "display_data"
    },
    {
     "data": {
      "image/png": "[encoded data removed]",
      "text/latex": [
       "$$\\ddot{\\lambda} \\left(l_{c}^{2} m_{c} + l_{h}^{2} m_{h} + l_{p}^{2} m_{h}\\right) = l_{h} \\left(F_{b} \\sin{\\left (\\varphi \\right )} \\cos{\\left (\\varepsilon \\right )} + F_{f} \\sin{\\left (\\varphi \\right )} \\cos{\\left (\\varepsilon \\right )}\\right) + l_{p} \\left(F_{b} \\sin{\\left (\\varepsilon \\right )} - F_{f} \\sin{\\left (\\varepsilon \\right )}\\right)$$"
      ],
      "text/plain": [
       "               ⎛   2         2        2   ⎞                                   \n",
       "\\ddot{\\lambda}⋅⎝l_c ⋅m_c + lₕ ⋅mₕ + lₚ ⋅mₕ⎠ = lₕ⋅(F_b⋅sin(\\varphi)⋅cos(\\vareps\n",
       "\n",
       "                                                                              \n",
       "ilon) + F_f⋅sin(\\varphi)⋅cos(\\varepsilon)) + lₚ⋅(F_b⋅sin(\\varepsilon) - F_f⋅si\n",
       "\n",
       "               \n",
       "n(\\varepsilon))"
      ]
     },
     "metadata": {},
     "output_type": "display_data"
    }
   ],
   "source": [
    "Eq_p_ident = Eq(Eq_p_ident_decoupled.lhs.subs(es, 0), Eq_p_ident_decoupled.rhs)\n",
    "Eq_e_ident = Eq(Eq_e_ident_decoupled.lhs.subs([(ps, 0)]), Eq_e_ident_decoupled.rhs)\n",
    "Eq_l_ident = Eq(Eq_l_ident_decoupled.lhs.subs([(ps, 0),(es, 0)]), Eq_l_ident_decoupled.rhs)\n",
    "\n",
    "display(Eq_p_ident)\n",
    "display(Eq_e_ident)\n",
    "display(Eq_l_ident)"
   ]
  },
  {
   "cell_type": "code",
   "execution_count": 57,
   "metadata": {},
   "outputs": [],
   "source": [
    "p_phi_1, p_phi_2, mu_phi = [Symbol(tex) for tex in [r\"p_{\\varphi,1}\", r\"p_{\\varphi,2}\", r\"\\mu_\\varphi\"]]\n",
    "p_eps_1, p_eps_2, p_eps_3, mu_eps = [Symbol(tex) for tex in [r\"p_{\\varepsilon,1}\", r\"p_{\\varepsilon,2}\", r\"p_{\\varepsilon,3}\", r\"\\mu_\\varepsilon\"]]\n",
    "p_lamb_1, mu_lamb = [Symbol(tex) for tex in [r\"p_{\\lambda,1}\", r\"\\mu_\\lambda\"]]"
   ]
  },
  {
   "cell_type": "code",
   "execution_count": 58,
   "metadata": {},
   "outputs": [],
   "source": [
    "eq_phi_1 = Eq(p_phi_1, dh^2*mh+lp**2*mh)\n",
    "eq_phi_2 = Eq(p_phi_2, -dh*mh*g)\n",
    "eq_eps_1 = Eq(p_eps_1, mh*dh**2+mc*dc**2+mc*lc**2+mh*lh**2)\n",
    "eq_eps_2 = Eq(p_eps_2, g*(mc*dc-mh*dh))\n",
    "eq_eps_3 = Eq(p_eps_3, g*(mh*lh-mc*lc))\n",
    "eq_lamb_1 = Eq(p_lamb_1, mc*lc**2+mh*lh**2+mh*lp**2)"
   ]
  },
  {
   "cell_type": "code",
   "execution_count": 60,
   "metadata": {},
   "outputs": [],
   "source": [
    "sol = solve([eq_eps_1, eq_eps_2, eq_eps_3], [lc, dc, mc])"
   ]
  },
  {
   "cell_type": "code",
   "execution_count": 65,
   "metadata": {},
   "outputs": [
    {
     "data": {
      "image/png": "[encoded data removed]",
      "text/latex": [
       "$$\\left [ \\left ( l_{c}, \\quad - \\frac{g \\left(g l_{h} m_{h} - p_{\\varepsilon,3}\\right) \\left(d_{h}^{2} m_{h} + l_{h}^{2} m_{h} - p_{\\varepsilon,1}\\right)}{d_{h}^{2} g^{2} m_{h}^{2} + 2 d_{h} g m_{h} p_{\\varepsilon,2} + g^{2} l_{h}^{2} m_{h}^{2} - 2 g l_{h} m_{h} p_{\\varepsilon,3} + p_{\\varepsilon,2}^{2} + p_{\\varepsilon,3}^{2}}\\right ), \\quad \\left ( d_{c}, \\quad - \\frac{g \\left(d_{h} g m_{h} + p_{\\varepsilon,2}\\right) \\left(d_{h}^{2} m_{h} + l_{h}^{2} m_{h} - p_{\\varepsilon,1}\\right)}{d_{h}^{2} g^{2} m_{h}^{2} + 2 d_{h} g m_{h} p_{\\varepsilon,2} + g^{2} l_{h}^{2} m_{h}^{2} - 2 g l_{h} m_{h} p_{\\varepsilon,3} + p_{\\varepsilon,2}^{2} + p_{\\varepsilon,3}^{2}}\\right ), \\quad \\left ( m_{c}, \\quad - \\frac{d_{h}^{2} g^{2} m_{h}^{2} + 2 d_{h} g m_{h} p_{\\varepsilon,2} + g^{2} l_{h}^{2} m_{h}^{2} - 2 g l_{h} m_{h} p_{\\varepsilon,3} + p_{\\varepsilon,2}^{2} + p_{\\varepsilon,3}^{2}}{g^{2} \\left(d_{h}^{2} m_{h} + l_{h}^{2} m_{h} - p_{\\varepsilon,1}\\right)}\\right )\\right ]$$"
      ],
      "text/plain": [
       "⎡⎛                                                                 ⎛  2       \n",
       "⎢⎜                                -g⋅(g⋅lₕ⋅mₕ - p_{\\varepsilon,3})⋅⎝dₕ ⋅mₕ + l\n",
       "⎢⎜l_c, ───────────────────────────────────────────────────────────────────────\n",
       "⎢⎜       2  2   2                                  2   2   2                  \n",
       "⎣⎝     dₕ ⋅g ⋅mₕ  + 2⋅dₕ⋅g⋅mₕ⋅p_{\\varepsilon,2} + g ⋅lₕ ⋅mₕ  - 2⋅g⋅lₕ⋅mₕ⋅p_{\\v\n",
       "\n",
       " 2                       ⎞                            ⎞  ⎛                    \n",
       "ₕ ⋅mₕ - p_{\\varepsilon,1}⎠                            ⎟  ⎜                    \n",
       "──────────────────────────────────────────────────────⎟, ⎜d_c, ───────────────\n",
       "                                2                    2⎟  ⎜       2  2   2     \n",
       "arepsilon,3} + p_{\\varepsilon,2}  + p_{\\varepsilon,3} ⎠  ⎝     dₕ ⋅g ⋅mₕ  + 2⋅\n",
       "\n",
       "                                             ⎛  2        2                    \n",
       "            -g⋅(dₕ⋅g⋅mₕ + p_{\\varepsilon,2})⋅⎝dₕ ⋅mₕ + lₕ ⋅mₕ - p_{\\varepsilon\n",
       "──────────────────────────────────────────────────────────────────────────────\n",
       "                             2   2   2                                        \n",
       "dₕ⋅g⋅mₕ⋅p_{\\varepsilon,2} + g ⋅lₕ ⋅mₕ  - 2⋅g⋅lₕ⋅mₕ⋅p_{\\varepsilon,3} + p_{\\var\n",
       "\n",
       "   ⎞                            ⎞  ⎛      ⎛  2  2   2                         \n",
       ",1}⎠                            ⎟  ⎜     -⎝dₕ ⋅g ⋅mₕ  + 2⋅dₕ⋅g⋅mₕ⋅p_{\\varepsil\n",
       "────────────────────────────────⎟, ⎜m_c, ─────────────────────────────────────\n",
       "          2                    2⎟  ⎜                                          \n",
       "epsilon,2}  + p_{\\varepsilon,3} ⎠  ⎝                                          \n",
       "\n",
       "         2   2   2                                                  2         \n",
       "on,2} + g ⋅lₕ ⋅mₕ  - 2⋅g⋅lₕ⋅mₕ⋅p_{\\varepsilon,3} + p_{\\varepsilon,2}  + p_{\\va\n",
       "──────────────────────────────────────────────────────────────────────────────\n",
       "         2 ⎛  2        2                       ⎞                              \n",
       "        g ⋅⎝dₕ ⋅mₕ + lₕ ⋅mₕ - p_{\\varepsilon,1}⎠                              \n",
       "\n",
       "           2⎞ ⎞⎤\n",
       "repsilon,3} ⎠ ⎟⎥\n",
       "──────────────⎟⎥\n",
       "              ⎟⎥\n",
       "              ⎠⎦"
      ]
     },
     "execution_count": 65,
     "metadata": {},
     "output_type": "execute_result"
    }
   ],
   "source": [
    "list(zip([lc, dc, mc], sol[0]))"
   ]
  },
  {
   "cell_type": "code",
   "execution_count": 66,
   "metadata": {},
   "outputs": [],
   "source": [
    "sol = solve([eq_lamb_1, eq_eps_2, eq_eps_3], [lc, dc, mc])"
   ]
  },
  {
   "cell_type": "code",
   "execution_count": 68,
   "metadata": {},
   "outputs": [
    {
     "data": {
      "image/png": "[encoded data removed]",
      "text/latex": [
       "$$\\left [ \\left ( l_{c}, \\quad - \\frac{g \\left(l_{h}^{2} m_{h} + l_{p}^{2} m_{h} - p_{\\lambda,1}\\right)}{g l_{h} m_{h} - p_{\\varepsilon,3}}\\right ), \\quad \\left ( d_{c}, \\quad - \\frac{g \\left(d_{h} g m_{h} + p_{\\varepsilon,2}\\right) \\left(l_{h}^{2} m_{h} + l_{p}^{2} m_{h} - p_{\\lambda,1}\\right)}{\\left(g l_{h} m_{h} - p_{\\varepsilon,3}\\right)^{2}}\\right ), \\quad \\left ( m_{c}, \\quad - \\frac{\\left(g l_{h} m_{h} - p_{\\varepsilon,3}\\right)^{2}}{g^{2} \\left(l_{h}^{2} m_{h} + l_{p}^{2} m_{h} - p_{\\lambda,1}\\right)}\\right )\\right ]$$"
      ],
      "text/plain": [
       "⎡⎛        ⎛  2        2                   ⎞ ⎞  ⎛                              \n",
       "⎢⎜     -g⋅⎝lₕ ⋅mₕ + lₚ ⋅mₕ - p_{\\lambda,1}⎠ ⎟  ⎜     -g⋅(dₕ⋅g⋅mₕ + p_{\\varepsi\n",
       "⎢⎜l_c, ─────────────────────────────────────⎟, ⎜d_c, ─────────────────────────\n",
       "⎢⎝          g⋅lₕ⋅mₕ - p_{\\varepsilon,3}     ⎠  ⎜                              \n",
       "⎣                                              ⎝                        (g⋅lₕ⋅\n",
       "\n",
       "        ⎛  2        2                   ⎞ ⎞  ⎛                                \n",
       "lon,2})⋅⎝lₕ ⋅mₕ + lₚ ⋅mₕ - p_{\\lambda,1}⎠ ⎟  ⎜       -(g⋅lₕ⋅mₕ - p_{\\varepsilo\n",
       "──────────────────────────────────────────⎟, ⎜m_c, ───────────────────────────\n",
       "                       2                  ⎟  ⎜      2 ⎛  2        2           \n",
       "mₕ - p_{\\varepsilon,3})                   ⎠  ⎝     g ⋅⎝lₕ ⋅mₕ + lₚ ⋅mₕ - p_{\\l\n",
       "\n",
       "     2   ⎞⎤\n",
       "n,3})    ⎟⎥\n",
       "─────────⎟⎥\n",
       "        ⎞⎟⎥\n",
       "ambda,1}⎠⎠⎦"
      ]
     },
     "execution_count": 68,
     "metadata": {},
     "output_type": "execute_result"
    }
   ],
   "source": [
    "list(zip([lc, dc, mc], sol[0]))"
   ]
  },
  {
   "cell_type": "markdown",
   "metadata": {},
   "source": [
    "# Simplification justifications"
   ]
  },
  {
   "cell_type": "code",
   "execution_count": 49,
   "metadata": {
    "pycharm": {
     "name": "#%%\n"
    }
   },
   "outputs": [],
   "source": [
    "param_symbols = [lh, lc, lp, dc, d1, d2, mp, mc]\n",
    "param_values = [0.66, 0.47, 0.178, 0.07, 0.04, 0.02, 0.575, 1.87]\n",
    "param_subs = list(zip(param_symbols, param_values))\n",
    "\n",
    "deg = pi/180\n",
    "angle_symbols = [ps, es, ls]\n",
    "angle_subs_0 = list(zip(angle_symbols, [0, 0, 0]))\n",
    "angle_subs_1 = list(zip(angle_symbols, [45*deg, 20*deg, 0]))"
   ]
  },
  {
   "cell_type": "markdown",
   "metadata": {},
   "source": [
    "Mass matrix for all angles 0"
   ]
  },
  {
   "cell_type": "code",
   "execution_count": 50,
   "metadata": {},
   "outputs": [
    {
     "data": {
      "image/png": "[encoded data removed]",
      "text/latex": [
       "$$\\left[\\begin{matrix}d_{h}^{2} m_{h} + 0.031684 m_{h} & 0 & 0.66 d_{h} m_{h}\\\\0 & d_{h}^{2} m_{h} + 0.4356 m_{h} + 0.422246 & 0\\\\0.66 d_{h} m_{h} & 0 & 0.467284 m_{h} + 0.413083\\end{matrix}\\right]$$"
      ],
      "text/plain": [
       "⎡  2                                                                        ⎤\n",
       "⎢dₕ ⋅mₕ + 0.031684⋅mₕ                0                      0.66⋅dₕ⋅mₕ      ⎥\n",
       "⎢                                                                           ⎥\n",
       "⎢                        2                                                  ⎥\n",
       "⎢         0            dₕ ⋅mₕ + 0.4356⋅mₕ + 0.422246            0           ⎥\n",
       "⎢                                                                           ⎥\n",
       "⎣     0.66⋅dₕ⋅mₕ                     0                0.467284⋅mₕ + 0.413083⎦"
      ]
     },
     "execution_count": 50,
     "metadata": {},
     "output_type": "execute_result"
    }
   ],
   "source": [
    "N(M.subs(param_subs).subs(angle_subs_0))"
   ]
  },
  {
   "cell_type": "markdown",
   "metadata": {},
   "source": [
    "Mass matrix for $\\varphi=45°$, $\\varepsilon=20°$"
   ]
  },
  {
   "cell_type": "code",
   "execution_count": 51,
   "metadata": {},
   "outputs": [
    {
     "data": {
      "image/png": "[encoded data removed]",
      "text/latex": [
       "$$\\left[\\begin{matrix}d_{h}^{2} m_{h} + 0.031684 m_{h} & - 0.466690475583121 d_{h} m_{h} & - 0.342020143325669 d_{h}^{2} m_{h} + 0.438545596096525 d_{h} m_{h} - 0.0108365662211305 m_{h}\\\\- 0.466690475583121 d_{h} m_{h} & 0.5 d_{h}^{2} m_{h} + 0.451442 m_{h} + 0.422246 & 0.469846310392954 d_{h}^{2} m_{h} + 0.159617543347664 d_{h} m_{h} - 0.0148866104984904 m_{h}\\\\- 0.342020143325669 d_{h}^{2} m_{h} + 0.438545596096525 d_{h} m_{h} - 0.0108365662211305 m_{h} & 0.469846310392954 d_{h}^{2} m_{h} + 0.159617543347664 d_{h} m_{h} - 0.0148866104984904 m_{h} & 0.558488889220256 d_{h}^{2} m_{h} - 0.299982855263549 d_{h} m_{h} + 0.402339641677368 m_{h} + 0.326287113621564\\end{matrix}\\right]$$"
      ],
      "text/plain": [
       "⎡                              2                                              \n",
       "⎢                            dₕ ⋅mₕ + 0.031684⋅mₕ                             \n",
       "⎢                                                                             \n",
       "⎢                                                                             \n",
       "⎢                          -0.466690475583121⋅dₕ⋅mₕ                           \n",
       "⎢                                                                             \n",
       "⎢                      2                                                      \n",
       "⎣- 0.342020143325669⋅dₕ ⋅mₕ + 0.438545596096525⋅dₕ⋅mₕ - 0.0108365662211305⋅mₕ \n",
       "\n",
       "                                                                              \n",
       "                          -0.466690475583121⋅dₕ⋅mₕ                            \n",
       "                                                                              \n",
       "                          2                                                   \n",
       "                    0.5⋅dₕ ⋅mₕ + 0.451442⋅mₕ + 0.422246                       \n",
       "                                                                              \n",
       "                     2                                                        \n",
       " 0.469846310392954⋅dₕ ⋅mₕ + 0.159617543347664⋅dₕ⋅mₕ - 0.0148866104984904⋅mₕ  0\n",
       "\n",
       "                             2                                                \n",
       "       - 0.342020143325669⋅dₕ ⋅mₕ + 0.438545596096525⋅dₕ⋅mₕ - 0.01083656622113\n",
       "                                                                              \n",
       "                            2                                                 \n",
       "        0.469846310392954⋅dₕ ⋅mₕ + 0.159617543347664⋅dₕ⋅mₕ - 0.014886610498490\n",
       "                                                                              \n",
       "                   2                                                          \n",
       ".558488889220256⋅dₕ ⋅mₕ - 0.299982855263549⋅dₕ⋅mₕ + 0.402339641677368⋅mₕ + 0.3\n",
       "\n",
       "              ⎤\n",
       "05⋅mₕ         ⎥\n",
       "              ⎥\n",
       "              ⎥\n",
       "4⋅mₕ          ⎥\n",
       "              ⎥\n",
       "              ⎥\n",
       "26287113621564⎦"
      ]
     },
     "execution_count": 51,
     "metadata": {},
     "output_type": "execute_result"
    }
   ],
   "source": [
    "N(M.subs(param_subs).subs(angle_subs_1))"
   ]
  },
  {
   "cell_type": "code",
   "execution_count": 52,
   "metadata": {},
   "outputs": [
    {
     "data": {
      "image/png": "[encoded data removed]",
      "text/latex": [
       "$$\\ddot{\\lambda} \\left(- 0.342020143325669 d_{h}^{2} m_{h} + 0.438545596096525 d_{h} m_{h} - 0.0108365662211305 m_{h}\\right) - 0.466690475583121 \\ddot{\\varepsilon} d_{h} m_{h} + \\ddot{\\varphi} \\left(d_{h}^{2} m_{h} + 0.031684 m_{h}\\right) - 0.441511110779744 \\dot{\\lambda}^{2} d_{h}^{2} m_{h} - 0.149991427631774 \\dot{\\lambda}^{2} d_{h} m_{h} + 0.0139888380339454 \\dot{\\lambda}^{2} m_{h} - 0.939692620785908 \\dot{\\lambda} \\dot{\\varepsilon} d_{h}^{2} m_{h} - 0.319235086695327 \\dot{\\lambda} \\dot{\\varepsilon} d_{h} m_{h} - 0.0297732209969807 \\dot{\\lambda} \\dot{\\varepsilon} m_{h} - 5.55111512312578 \\cdot 10^{-17} \\dot{\\lambda} \\dot{\\varphi} d_{h} m_{h} + 0.5 \\dot{\\varepsilon}^{2} d_{h}^{2} m_{h} - 0.015842 \\dot{\\varepsilon}^{2} m_{h} - 0.664463024388675 d_{h} g m_{h}$$"
      ],
      "text/plain": [
       "               ⎛                      2                                       \n",
       "\\ddot{\\lambda}⋅⎝- 0.342020143325669⋅dₕ ⋅mₕ + 0.438545596096525⋅dₕ⋅mₕ - 0.01083\n",
       "\n",
       "              ⎞                                                               \n",
       "65662211305⋅mₕ⎠ - 0.466690475583121⋅\\ddot{\\varepsilon}⋅dₕ⋅mₕ + \\ddot{\\varphi}⋅\n",
       "\n",
       "⎛  2                 ⎞                                  2   2                 \n",
       "⎝dₕ ⋅mₕ + 0.031684⋅mₕ⎠ - 0.441511110779744⋅\\dot{\\lambda} ⋅dₕ ⋅mₕ - 0.149991427\n",
       "\n",
       "                    2                                         2               \n",
       "631774⋅\\dot{\\lambda} ⋅dₕ⋅mₕ + 0.0139888380339454⋅\\dot{\\lambda} ⋅mₕ - 0.9396926\n",
       "\n",
       "                                           2                                  \n",
       "20785908⋅\\dot{\\lambda}⋅\\dot{\\varepsilon}⋅dₕ ⋅mₕ - 0.319235086695327⋅\\dot{\\lamb\n",
       "\n",
       "                                                                              \n",
       "da}⋅\\dot{\\varepsilon}⋅dₕ⋅mₕ - 0.0297732209969807⋅\\dot{\\lambda}⋅\\dot{\\varepsilo\n",
       "\n",
       "                                                                              \n",
       "n}⋅mₕ - 5.55111512312578e-17⋅\\dot{\\lambda}⋅\\dot{\\varphi}⋅dₕ⋅mₕ + 0.5⋅\\dot{\\var\n",
       "\n",
       "        2   2                                2                               \n",
       "epsilon} ⋅dₕ ⋅mₕ - 0.015842⋅\\dot{\\varepsilon} ⋅mₕ - 0.664463024388675⋅dₕ⋅g⋅mₕ"
      ]
     },
     "execution_count": 52,
     "metadata": {},
     "output_type": "execute_result"
    }
   ],
   "source": [
    "N(Eq_p.lhs.expand().collect([pdds, edds, ldds]).subs(param_subs).subs(angle_subs_1))"
   ]
  }
 ],
 "metadata": {
  "kernelspec": {
   "display_name": "Python 3",
   "language": "python",
   "name": "python3"
  },
  "language_info": {
   "codemirror_mode": {
    "name": "ipython",
    "version": 3
   },
   "file_extension": ".py",
   "mimetype": "text/x-python",
   "name": "python",
   "nbconvert_exporter": "python",
   "pygments_lexer": "ipython3",
   "version": "3.6.5"
  },
  "pycharm": {
   "stem_cell": {
    "cell_type": "raw",
    "metadata": {
     "collapsed": false
    },
    "source": []
   }
  }
 },
 "nbformat": 4,
 "nbformat_minor": 2
}

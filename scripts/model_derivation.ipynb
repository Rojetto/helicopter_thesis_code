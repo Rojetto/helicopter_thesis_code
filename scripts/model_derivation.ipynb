{
 "cells": [
  {
   "cell_type": "code",
   "execution_count": 1,
   "metadata": {
    "pycharm": {
     "is_executing": false
    }
   },
   "outputs": [],
   "source": [
    "from sympy import *\n",
    "from IPython.display import display\n",
    "init_printing()"
   ]
  },
  {
   "cell_type": "markdown",
   "metadata": {},
   "source": [
    "Zuerst mal alle Symbole definieren"
   ]
  },
  {
   "cell_type": "code",
   "execution_count": 2,
   "metadata": {
    "pycharm": {
     "is_executing": false
    }
   },
   "outputs": [],
   "source": [
    "t = Symbol(\"t\")\n",
    "xct = Function(\"x_c\")(t)\n",
    "yct = Function(\"y_c\")(t)\n",
    "zct = Function(\"z_c\")(t)\n",
    "xft = Function(\"x_f\")(t)\n",
    "yft = Function(\"y_f\")(t)\n",
    "zft = Function(\"z_f\")(t)\n",
    "xbt = Function(\"x_b\")(t)\n",
    "ybt = Function(\"y_b\")(t)\n",
    "zbt = Function(\"z_b\")(t)\n",
    "\n",
    "xcdt = xft.diff(t)\n",
    "ycdt = yft.diff(t)\n",
    "zcdt = zft.diff(t)\n",
    "xfdt = xft.diff(t)\n",
    "yfdt = yft.diff(t)\n",
    "zfdt = zft.diff(t)\n",
    "xbdt = xbt.diff(t)\n",
    "ybdt = ybt.diff(t)\n",
    "zbdt = zbt.diff(t)\n",
    "\n",
    "\n",
    "xcs, ycs, zcs, xfs, yfs, zfs, xbs, ybs, zbs = symbols(\"x_c, y_c, z_c, x_f, y_f, z_f, x_b, y_b, z_b\")\n",
    "pc = Matrix([xct, yct, zct])\n",
    "pf = Matrix([xft, yft, zft])\n",
    "pb = Matrix([xbt, ybt, zbt])\n",
    "\n",
    "xcds, ycds, zcds, xfds, yfds, zfds, xbds, ybds, zbds = symbols(\"\\dot{x_c}, \\dot{y_c}, \\dot{z_c}, \\dot{x_f}, \\dot{y_f}, \\dot{z_f}, \\dot{x_b}, \\dot{y_b}, \\dot{z_b}\")\n",
    "pcdt = Matrix([xcdt, ycdt, zcdt])\n",
    "pfdt = Matrix([xfdt, yfdt, zfdt])\n",
    "pbdt = Matrix([xbdt, ybdt, zbdt])\n",
    "\n",
    "es, ps, ls = symbols(r\"\\varepsilon, \\varphi, \\lambda\")\n",
    "et = Function(r\"\\varepsilon\")(t)\n",
    "pt = Function(r\"\\varphi\")(t)\n",
    "lt = Function(r\"\\lambda\")(t) \n",
    "\n",
    "qs_to_qt_subs = [(ls, lt), (es, et), (ps, pt)]\n",
    "qt_to_qs_subs = [(tup[1], tup[0]) for tup in qs_to_qt_subs]\n",
    "\n",
    "eds, pds, lds = symbols(r\"\\dot{\\varepsilon}, \\dot{\\varphi}, \\dot{\\lambda}\")\n",
    "edt = et.diff(t)\n",
    "pdt = pt.diff(t)\n",
    "ldt = lt.diff(t)\n",
    "\n",
    "qds_to_qdt_subs = [(lds, ldt), (eds, edt), (pds, pdt)]\n",
    "qdt_to_qds_subs = [(tup[1], tup[0]) for tup in qds_to_qdt_subs]\n",
    "\n",
    "edds, pdds, ldds = symbols(r\"\\ddot{\\varepsilon}, \\ddot{\\varphi}, \\ddot{\\lambda}\")\n",
    "eddt = et.diff(t, 2)\n",
    "pddt = pt.diff(t, 2)\n",
    "lddt = lt.diff(t, 2)\n",
    "\n",
    "qdds_to_qddt_subs = [(ldds, lddt), (edds, eddt), (pdds, pddt)]\n",
    "qddt_to_qdds_subs = [(tup[1], tup[0]) for tup in qdds_to_qddt_subs]\n",
    "\n",
    "t_to_s_subs = qddt_to_qdds_subs + qdt_to_qds_subs + qt_to_qs_subs\n",
    "s_to_t_subs = qdds_to_qddt_subs + qds_to_qdt_subs + qs_to_qt_subs\n",
    "\n",
    "qt = Matrix([lt, et, pt])\n",
    "qs = Matrix([ls, es, ps])\n",
    "\n",
    "lc, lh, lp, dc, d1, d2 = symbols(\"l_c, l_h, l_p, d_c, d_1, d_2\")\n",
    "mc, mp = symbols(\"m_c, m_p\")\n",
    "Ffs, Fbs = symbols(\"F_f, F_b\")\n",
    "\n",
    "t = symbols(\"t\")\n",
    "g = symbols(\"g\")"
   ]
  },
  {
   "cell_type": "markdown",
   "metadata": {},
   "source": [
    "Aufstellen der Transformationsmatrizen"
   ]
  },
  {
   "cell_type": "code",
   "execution_count": 3,
   "metadata": {
    "pycharm": {
     "is_executing": false
    }
   },
   "outputs": [],
   "source": [
    "IA = Matrix([[cos(lt), -sin(lt), 0, 0],\n",
    "             [sin(lt), cos(lt), 0, 0],\n",
    "             [0, 0, 1, 0],\n",
    "             [0, 0, 0, 1]])\n",
    "AB = Matrix([[cos(et), 0, -sin(et), 0],\n",
    "             [0, 1, 0, 0],\n",
    "             [sin(et), 0, cos(et), 0],\n",
    "             [0, 0, 0, 1]])\n",
    "BC = Matrix([[1, 0, 0, lh],\n",
    "             [0, cos(pt), sin(pt), 0],\n",
    "             [0, -sin(pt), cos(pt), -d1],\n",
    "             [0, 0, 0, 1]])\n",
    "CMF = Matrix([[1, 0, 0, 0],\n",
    "              [0, 1, 0, -lp],\n",
    "              [0, 0, 1, d2],\n",
    "              [0, 0, 0, 1]])\n",
    "CMB = Matrix([[1, 0, 0, 0],\n",
    "              [0, 1, 0, lp],\n",
    "              [0, 0, 1, d2],\n",
    "              [0, 0, 0, 1]])\n",
    "BMC = Matrix([[1, 0, 0, -lc],\n",
    "              [0, 1, 0, 0],\n",
    "              [0, 0, 1, dc],\n",
    "              [0, 0, 0, 1]])\n",
    "IMC = IA*AB*BMC\n",
    "IMF = IA*AB*BC*CMF\n",
    "IMB = IA*AB*BC*CMB"
   ]
  },
  {
   "cell_type": "markdown",
   "metadata": {},
   "source": [
    "Zum Beispiel Trafo von Frontrotorsystem zu Inertialsystem:"
   ]
  },
  {
   "cell_type": "code",
   "execution_count": 4,
   "metadata": {
    "pycharm": {
     "is_executing": false
    }
   },
   "outputs": [
    {
     "data": {
      "image/png": "[encoded data removed]",
      "text/latex": [
       "$$\\left[\\begin{matrix}\\cos{\\left (\\lambda{\\left (t \\right )} \\right )} \\cos{\\left (\\varepsilon{\\left (t \\right )} \\right )} & - \\sin{\\left (\\lambda{\\left (t \\right )} \\right )} \\cos{\\left (\\varphi{\\left (t \\right )} \\right )} + \\sin{\\left (\\varepsilon{\\left (t \\right )} \\right )} \\sin{\\left (\\varphi{\\left (t \\right )} \\right )} \\cos{\\left (\\lambda{\\left (t \\right )} \\right )} & - \\sin{\\left (\\lambda{\\left (t \\right )} \\right )} \\sin{\\left (\\varphi{\\left (t \\right )} \\right )} - \\sin{\\left (\\varepsilon{\\left (t \\right )} \\right )} \\cos{\\left (\\lambda{\\left (t \\right )} \\right )} \\cos{\\left (\\varphi{\\left (t \\right )} \\right )} & d_{1} \\sin{\\left (\\varepsilon{\\left (t \\right )} \\right )} \\cos{\\left (\\lambda{\\left (t \\right )} \\right )} + d_{2} \\left(- \\sin{\\left (\\lambda{\\left (t \\right )} \\right )} \\sin{\\left (\\varphi{\\left (t \\right )} \\right )} - \\sin{\\left (\\varepsilon{\\left (t \\right )} \\right )} \\cos{\\left (\\lambda{\\left (t \\right )} \\right )} \\cos{\\left (\\varphi{\\left (t \\right )} \\right )}\\right) + l_{h} \\cos{\\left (\\lambda{\\left (t \\right )} \\right )} \\cos{\\left (\\varepsilon{\\left (t \\right )} \\right )} - l_{p} \\left(- \\sin{\\left (\\lambda{\\left (t \\right )} \\right )} \\cos{\\left (\\varphi{\\left (t \\right )} \\right )} + \\sin{\\left (\\varepsilon{\\left (t \\right )} \\right )} \\sin{\\left (\\varphi{\\left (t \\right )} \\right )} \\cos{\\left (\\lambda{\\left (t \\right )} \\right )}\\right)\\\\\\sin{\\left (\\lambda{\\left (t \\right )} \\right )} \\cos{\\left (\\varepsilon{\\left (t \\right )} \\right )} & \\sin{\\left (\\lambda{\\left (t \\right )} \\right )} \\sin{\\left (\\varepsilon{\\left (t \\right )} \\right )} \\sin{\\left (\\varphi{\\left (t \\right )} \\right )} + \\cos{\\left (\\lambda{\\left (t \\right )} \\right )} \\cos{\\left (\\varphi{\\left (t \\right )} \\right )} & - \\sin{\\left (\\lambda{\\left (t \\right )} \\right )} \\sin{\\left (\\varepsilon{\\left (t \\right )} \\right )} \\cos{\\left (\\varphi{\\left (t \\right )} \\right )} + \\sin{\\left (\\varphi{\\left (t \\right )} \\right )} \\cos{\\left (\\lambda{\\left (t \\right )} \\right )} & d_{1} \\sin{\\left (\\lambda{\\left (t \\right )} \\right )} \\sin{\\left (\\varepsilon{\\left (t \\right )} \\right )} + d_{2} \\left(- \\sin{\\left (\\lambda{\\left (t \\right )} \\right )} \\sin{\\left (\\varepsilon{\\left (t \\right )} \\right )} \\cos{\\left (\\varphi{\\left (t \\right )} \\right )} + \\sin{\\left (\\varphi{\\left (t \\right )} \\right )} \\cos{\\left (\\lambda{\\left (t \\right )} \\right )}\\right) + l_{h} \\sin{\\left (\\lambda{\\left (t \\right )} \\right )} \\cos{\\left (\\varepsilon{\\left (t \\right )} \\right )} - l_{p} \\left(\\sin{\\left (\\lambda{\\left (t \\right )} \\right )} \\sin{\\left (\\varepsilon{\\left (t \\right )} \\right )} \\sin{\\left (\\varphi{\\left (t \\right )} \\right )} + \\cos{\\left (\\lambda{\\left (t \\right )} \\right )} \\cos{\\left (\\varphi{\\left (t \\right )} \\right )}\\right)\\\\\\sin{\\left (\\varepsilon{\\left (t \\right )} \\right )} & - \\sin{\\left (\\varphi{\\left (t \\right )} \\right )} \\cos{\\left (\\varepsilon{\\left (t \\right )} \\right )} & \\cos{\\left (\\varepsilon{\\left (t \\right )} \\right )} \\cos{\\left (\\varphi{\\left (t \\right )} \\right )} & - d_{1} \\cos{\\left (\\varepsilon{\\left (t \\right )} \\right )} + d_{2} \\cos{\\left (\\varepsilon{\\left (t \\right )} \\right )} \\cos{\\left (\\varphi{\\left (t \\right )} \\right )} + l_{h} \\sin{\\left (\\varepsilon{\\left (t \\right )} \\right )} + l_{p} \\sin{\\left (\\varphi{\\left (t \\right )} \\right )} \\cos{\\left (\\varepsilon{\\left (t \\right )} \\right )}\\\\0 & 0 & 0 & 1\\end{matrix}\\right]$$"
      ],
      "text/plain": [
       "⎡cos(\\lambda(t))⋅cos(\\varepsilon(t))  -sin(\\lambda(t))⋅cos(\\varphi(t)) + sin(\\\n",
       "⎢                                                                             \n",
       "⎢sin(\\lambda(t))⋅cos(\\varepsilon(t))  sin(\\lambda(t))⋅sin(\\varepsilon(t))⋅sin(\n",
       "⎢                                                                             \n",
       "⎢        sin(\\varepsilon(t))                                   -sin(\\varphi(t)\n",
       "⎢                                                                             \n",
       "⎣                 0                                                           \n",
       "\n",
       "varepsilon(t))⋅sin(\\varphi(t))⋅cos(\\lambda(t))  -sin(\\lambda(t))⋅sin(\\varphi(t\n",
       "                                                                              \n",
       "\\varphi(t)) + cos(\\lambda(t))⋅cos(\\varphi(t))   -sin(\\lambda(t))⋅sin(\\varepsil\n",
       "                                                                              \n",
       ")⋅cos(\\varepsilon(t))                                                    cos(\\\n",
       "                                                                              \n",
       "  0                                                                           \n",
       "\n",
       ")) - sin(\\varepsilon(t))⋅cos(\\lambda(t))⋅cos(\\varphi(t))  d₁⋅sin(\\varepsilon(t\n",
       "                                                                              \n",
       "on(t))⋅cos(\\varphi(t)) + sin(\\varphi(t))⋅cos(\\lambda(t))  d₁⋅sin(\\lambda(t))⋅s\n",
       "                                                                              \n",
       "varepsilon(t))⋅cos(\\varphi(t))                                                \n",
       "                                                                              \n",
       "            0                                                                 \n",
       "\n",
       "))⋅cos(\\lambda(t)) + d₂⋅(-sin(\\lambda(t))⋅sin(\\varphi(t)) - sin(\\varepsilon(t)\n",
       "                                                                              \n",
       "in(\\varepsilon(t)) + d₂⋅(-sin(\\lambda(t))⋅sin(\\varepsilon(t))⋅cos(\\varphi(t)) \n",
       "                                                                              \n",
       "                                                -d₁⋅cos(\\varepsilon(t)) + d₂⋅c\n",
       "                                                                              \n",
       "                                                                              \n",
       "\n",
       ")⋅cos(\\lambda(t))⋅cos(\\varphi(t))) + lₕ⋅cos(\\lambda(t))⋅cos(\\varepsilon(t)) - \n",
       "                                                                              \n",
       "+ sin(\\varphi(t))⋅cos(\\lambda(t))) + lₕ⋅sin(\\lambda(t))⋅cos(\\varepsilon(t)) - \n",
       "                                                                              \n",
       "os(\\varepsilon(t))⋅cos(\\varphi(t)) + lₕ⋅sin(\\varepsilon(t)) + lₚ⋅sin(\\varphi(t\n",
       "                                                                              \n",
       "                                   1                                          \n",
       "\n",
       "lₚ⋅(-sin(\\lambda(t))⋅cos(\\varphi(t)) + sin(\\varepsilon(t))⋅sin(\\varphi(t))⋅cos\n",
       "                                                                              \n",
       "lₚ⋅(sin(\\lambda(t))⋅sin(\\varepsilon(t))⋅sin(\\varphi(t)) + cos(\\lambda(t))⋅cos(\n",
       "                                                                              \n",
       "))⋅cos(\\varepsilon(t))                                                        \n",
       "                                                                              \n",
       "                                                                              \n",
       "\n",
       "(\\lambda(t)))⎤\n",
       "             ⎥\n",
       "\\varphi(t))) ⎥\n",
       "             ⎥\n",
       "             ⎥\n",
       "             ⎥\n",
       "             ⎦"
      ]
     },
     "execution_count": 4,
     "metadata": {},
     "output_type": "execute_result"
    }
   ],
   "source": [
    "IMF"
   ]
  },
  {
   "cell_type": "markdown",
   "metadata": {},
   "source": [
    "Definition der Transformationsgleichungen für Koordinaten und erste Zeitableitungen"
   ]
  },
  {
   "cell_type": "code",
   "execution_count": 5,
   "metadata": {
    "pycharm": {
     "is_executing": false
    }
   },
   "outputs": [],
   "source": [
    "pc_from_q = Matrix((IMC * Matrix([0, 0, 0, 1]))[0:3])\n",
    "pf_from_q = Matrix((IMF * Matrix([0, 0, 0, 1]))[0:3])\n",
    "pb_from_q = Matrix((IMB * Matrix([0, 0, 0, 1]))[0:3])\n",
    "\n",
    "p_from_q = Matrix([pc_from_q[0], pc_from_q[1], pc_from_q[2], pf_from_q[0], pf_from_q[1], pf_from_q[2], pb_from_q[0], pb_from_q[1], pb_from_q[2]])\n",
    "\n",
    "ps_to_qs_subs = list(zip([xcs, ycs, zcs, xfs, yfs, zfs, xbs, ybs, zbs], p_from_q.subs([(et, es), (pt, ps), (lt, ls)])))\n",
    "\n",
    "pds_to_qds_subs = list(zip([xcds, ycds, zcds, xfds, yfds, zfds, xbds, ybds, zbds], Matrix([xcs, ycs, zcs, xfs, yfs, zfs, xbs, ybs, zbs]).subs(ps_to_qs_subs).jacobian(Matrix([ls, es, ps])) * Matrix([lds, eds, pds])))"
   ]
  },
  {
   "cell_type": "markdown",
   "metadata": {},
   "source": [
    "Langrange-Funktion in redundanten Koordinaten"
   ]
  },
  {
   "cell_type": "code",
   "execution_count": 6,
   "metadata": {
    "pycharm": {
     "is_executing": false
    }
   },
   "outputs": [
    {
     "data": {
      "image/png": "[encoded data removed]",
      "text/latex": [
       "$$- g m_{c} z_{c} - g m_{p} z_{b} - g m_{p} z_{f} + \\frac{m_{c} \\left(\\dot{x_c}^{2} + \\dot{y_c}^{2} + \\dot{z_c}^{2}\\right)}{2} + \\frac{m_{p} \\left(\\dot{x_b}^{2} + \\dot{y_b}^{2} + \\dot{z_b}^{2}\\right)}{2} + \\frac{m_{p} \\left(\\dot{x_f}^{2} + \\dot{y_f}^{2} + \\dot{z_f}^{2}\\right)}{2}$$"
      ],
      "text/plain": [
       "                                       ⎛         2            2            2⎞ \n",
       "                                   m_c⋅⎝\\dot{x_c}  + \\dot{y_c}  + \\dot{z_c} ⎠ \n",
       "-g⋅m_c⋅z_c - g⋅mₚ⋅z_b - g⋅mₚ⋅z_f + ────────────────────────────────────────── \n",
       "                                                       2                      \n",
       "\n",
       "     ⎛         2            2            2⎞      ⎛         2            2     \n",
       "  mₚ⋅⎝\\dot{x_b}  + \\dot{y_b}  + \\dot{z_b} ⎠   mₚ⋅⎝\\dot{x_f}  + \\dot{y_f}  + \\d\n",
       "+ ───────────────────────────────────────── + ────────────────────────────────\n",
       "                      2                                           2           \n",
       "\n",
       "       2⎞\n",
       "ot{z_f} ⎠\n",
       "─────────\n",
       "         "
      ]
     },
     "execution_count": 6,
     "metadata": {},
     "output_type": "execute_result"
    }
   ],
   "source": [
    "T = S(1)/S(2)*(mc*(xcds**2+ycds**2+zcds**2)+\n",
    "               mp*(xfds**2+yfds**2+zfds**2)+\n",
    "               mp*(xbds**2+ybds**2+zbds**2))\n",
    "V = mc*g*zcs+mp*g*zfs+mp*g*zbs\n",
    "L_redundant = T - V\n",
    "L_redundant\n"
   ]
  },
  {
   "cell_type": "markdown",
   "metadata": {},
   "source": [
    "Substitution und Darstellung in Minimalkoordinaten"
   ]
  },
  {
   "cell_type": "code",
   "execution_count": 7,
   "metadata": {
    "pycharm": {
     "is_executing": false
    }
   },
   "outputs": [
    {
     "data": {
      "image/png": "[encoded data removed]",
      "text/latex": [
       "$$- \\dot{\\lambda}^{2} d_{1}^{2} m_{p} \\cos^{2}{\\left (\\varepsilon \\right )} + \\dot{\\lambda}^{2} d_{1}^{2} m_{p} + 2 \\dot{\\lambda}^{2} d_{1} d_{2} m_{p} \\cos^{2}{\\left (\\varepsilon \\right )} \\cos{\\left (\\varphi \\right )} - 2 \\dot{\\lambda}^{2} d_{1} d_{2} m_{p} \\cos{\\left (\\varphi \\right )} + 2 \\dot{\\lambda}^{2} d_{1} l_{h} m_{p} \\sin{\\left (\\varepsilon \\right )} \\cos{\\left (\\varepsilon \\right )} - \\dot{\\lambda}^{2} d_{2}^{2} m_{p} \\cos^{2}{\\left (\\varepsilon \\right )} \\cos^{2}{\\left (\\varphi \\right )} + \\dot{\\lambda}^{2} d_{2}^{2} m_{p} - 2 \\dot{\\lambda}^{2} d_{2} l_{h} m_{p} \\sin{\\left (\\varepsilon \\right )} \\cos{\\left (\\varepsilon \\right )} \\cos{\\left (\\varphi \\right )} - \\frac{\\dot{\\lambda}^{2} d_{c}^{2} m_{c} \\cos^{2}{\\left (\\varepsilon \\right )}}{2} + \\frac{\\dot{\\lambda}^{2} d_{c}^{2} m_{c}}{2} + \\dot{\\lambda}^{2} d_{c} l_{c} m_{c} \\sin{\\left (\\varepsilon \\right )} \\cos{\\left (\\varepsilon \\right )} + \\frac{\\dot{\\lambda}^{2} l_{c}^{2} m_{c} \\cos^{2}{\\left (\\varepsilon \\right )}}{2} + \\dot{\\lambda}^{2} l_{h}^{2} m_{p} \\cos^{2}{\\left (\\varepsilon \\right )} + \\dot{\\lambda}^{2} l_{p}^{2} m_{p} \\cos^{2}{\\left (\\varepsilon \\right )} \\cos^{2}{\\left (\\varphi \\right )} - \\dot{\\lambda}^{2} l_{p}^{2} m_{p} \\cos^{2}{\\left (\\varepsilon \\right )} + \\dot{\\lambda}^{2} l_{p}^{2} m_{p} - 2 \\dot{\\lambda} \\dot{\\varepsilon} d_{1} d_{2} m_{p} \\sin{\\left (\\varphi \\right )} \\cos{\\left (\\varepsilon \\right )} + 2 \\dot{\\lambda} \\dot{\\varepsilon} d_{2}^{2} m_{p} \\sin{\\left (\\varphi \\right )} \\cos{\\left (\\varepsilon \\right )} \\cos{\\left (\\varphi \\right )} + 2 \\dot{\\lambda} \\dot{\\varepsilon} d_{2} l_{h} m_{p} \\sin{\\left (\\varepsilon \\right )} \\sin{\\left (\\varphi \\right )} - 2 \\dot{\\lambda} \\dot{\\varepsilon} l_{p}^{2} m_{p} \\sin{\\left (\\varphi \\right )} \\cos{\\left (\\varepsilon \\right )} \\cos{\\left (\\varphi \\right )} + 2 \\dot{\\lambda} \\dot{\\varphi} d_{1} d_{2} m_{p} \\sin{\\left (\\varepsilon \\right )} \\cos{\\left (\\varphi \\right )} - 2 \\dot{\\lambda} \\dot{\\varphi} d_{2}^{2} m_{p} \\sin{\\left (\\varepsilon \\right )} + 2 \\dot{\\lambda} \\dot{\\varphi} d_{2} l_{h} m_{p} \\cos{\\left (\\varepsilon \\right )} \\cos{\\left (\\varphi \\right )} - 2 \\dot{\\lambda} \\dot{\\varphi} l_{p}^{2} m_{p} \\sin{\\left (\\varepsilon \\right )} + \\dot{\\varepsilon}^{2} d_{1}^{2} m_{p} - 2 \\dot{\\varepsilon}^{2} d_{1} d_{2} m_{p} \\cos{\\left (\\varphi \\right )} + \\dot{\\varepsilon}^{2} d_{2}^{2} m_{p} \\cos^{2}{\\left (\\varphi \\right )} + \\frac{\\dot{\\varepsilon}^{2} d_{c}^{2} m_{c}}{2} + \\frac{\\dot{\\varepsilon}^{2} l_{c}^{2} m_{c}}{2} + \\dot{\\varepsilon}^{2} l_{h}^{2} m_{p} - \\dot{\\varepsilon}^{2} l_{p}^{2} m_{p} \\cos^{2}{\\left (\\varphi \\right )} + \\dot{\\varepsilon}^{2} l_{p}^{2} m_{p} - 2 \\dot{\\varepsilon} \\dot{\\varphi} d_{2} l_{h} m_{p} \\sin{\\left (\\varphi \\right )} + \\dot{\\varphi}^{2} d_{2}^{2} m_{p} + \\dot{\\varphi}^{2} l_{p}^{2} m_{p} + 2 d_{1} g m_{p} \\cos{\\left (\\varepsilon \\right )} - 2 d_{2} g m_{p} \\cos{\\left (\\varepsilon \\right )} \\cos{\\left (\\varphi \\right )} - d_{c} g m_{c} \\cos{\\left (\\varepsilon \\right )} + g l_{c} m_{c} \\sin{\\left (\\varepsilon \\right )} - 2 g l_{h} m_{p} \\sin{\\left (\\varepsilon \\right )}$$"
      ],
      "text/plain": [
       "                                                                              \n",
       "               2   2       2                             2   2                \n",
       "- \\dot{\\lambda} ⋅d₁ ⋅mₚ⋅cos (\\varepsilon) + \\dot{\\lambda} ⋅d₁ ⋅mₚ + 2⋅\\dot{\\la\n",
       "                                                                              \n",
       "\n",
       "                                                                              \n",
       "     2             2                                            2             \n",
       "mbda} ⋅d₁⋅d₂⋅mₚ⋅cos (\\varepsilon)⋅cos(\\varphi) - 2⋅\\dot{\\lambda} ⋅d₁⋅d₂⋅mₚ⋅cos\n",
       "                                                                              \n",
       "\n",
       "                                                                              \n",
       "                           2                                                  \n",
       "(\\varphi) + 2⋅\\dot{\\lambda} ⋅d₁⋅lₕ⋅mₚ⋅sin(\\varepsilon)⋅cos(\\varepsilon) - \\dot\n",
       "                                                                              \n",
       "\n",
       "                                                                              \n",
       "         2   2       2                 2                         2   2        \n",
       "{\\lambda} ⋅d₂ ⋅mₚ⋅cos (\\varepsilon)⋅cos (\\varphi) + \\dot{\\lambda} ⋅d₂ ⋅mₚ - 2⋅\n",
       "                                                                              \n",
       "\n",
       "                                                                              \n",
       "             2                                                           \\dot{\n",
       "\\dot{\\lambda} ⋅d₂⋅lₕ⋅mₚ⋅sin(\\varepsilon)⋅cos(\\varepsilon)⋅cos(\\varphi) - ─────\n",
       "                                                                              \n",
       "\n",
       "        2    2        2                             2    2                    \n",
       "\\lambda} ⋅d_c ⋅m_c⋅cos (\\varepsilon)   \\dot{\\lambda} ⋅d_c ⋅m_c                \n",
       "──────────────────────────────────── + ─────────────────────── + \\dot{\\lambda}\n",
       "               2                                  2                           \n",
       "\n",
       "                                                               2    2        2\n",
       "2                                                 \\dot{\\lambda} ⋅l_c ⋅m_c⋅cos \n",
       " ⋅d_c⋅l_c⋅m_c⋅sin(\\varepsilon)⋅cos(\\varepsilon) + ────────────────────────────\n",
       "                                                                      2       \n",
       "\n",
       "                                                                              \n",
       "(\\varepsilon)                2   2       2                             2   2  \n",
       "───────────── + \\dot{\\lambda} ⋅lₕ ⋅mₚ⋅cos (\\varepsilon) + \\dot{\\lambda} ⋅lₚ ⋅m\n",
       "                                                                              \n",
       "\n",
       "                                                                              \n",
       "     2                 2                         2   2       2                \n",
       "ₚ⋅cos (\\varepsilon)⋅cos (\\varphi) - \\dot{\\lambda} ⋅lₚ ⋅mₚ⋅cos (\\varepsilon) + \n",
       "                                                                              \n",
       "\n",
       "                                                                              \n",
       "             2   2                                                            \n",
       "\\dot{\\lambda} ⋅lₚ ⋅mₚ - 2⋅\\dot{\\lambda}⋅\\dot{\\varepsilon}⋅d₁⋅d₂⋅mₚ⋅sin(\\varphi\n",
       "                                                                              \n",
       "\n",
       "                                                                              \n",
       "                                                         2                    \n",
       ")⋅cos(\\varepsilon) + 2⋅\\dot{\\lambda}⋅\\dot{\\varepsilon}⋅d₂ ⋅mₚ⋅sin(\\varphi)⋅cos\n",
       "                                                                              \n",
       "\n",
       "                                                                              \n",
       "                                                                              \n",
       "(\\varepsilon)⋅cos(\\varphi) + 2⋅\\dot{\\lambda}⋅\\dot{\\varepsilon}⋅d₂⋅lₕ⋅mₚ⋅sin(\\v\n",
       "                                                                              \n",
       "\n",
       "                                                                              \n",
       "                                                              2               \n",
       "arepsilon)⋅sin(\\varphi) - 2⋅\\dot{\\lambda}⋅\\dot{\\varepsilon}⋅lₚ ⋅mₚ⋅sin(\\varphi\n",
       "                                                                              \n",
       "\n",
       "                                                                              \n",
       "                                                                              \n",
       ")⋅cos(\\varepsilon)⋅cos(\\varphi) + 2⋅\\dot{\\lambda}⋅\\dot{\\varphi}⋅d₁⋅d₂⋅mₚ⋅sin(\\\n",
       "                                                                              \n",
       "\n",
       "                                                                              \n",
       "                                                           2                  \n",
       "varepsilon)⋅cos(\\varphi) - 2⋅\\dot{\\lambda}⋅\\dot{\\varphi}⋅d₂ ⋅mₚ⋅sin(\\varepsilo\n",
       "                                                                              \n",
       "\n",
       "                                                                              \n",
       "                                                                              \n",
       "n) + 2⋅\\dot{\\lambda}⋅\\dot{\\varphi}⋅d₂⋅lₕ⋅mₚ⋅cos(\\varepsilon)⋅cos(\\varphi) - 2⋅\n",
       "                                                                              \n",
       "\n",
       "                                                                              \n",
       "                              2                                        2   2  \n",
       "\\dot{\\lambda}⋅\\dot{\\varphi}⋅lₚ ⋅mₚ⋅sin(\\varepsilon) + \\dot{\\varepsilon} ⋅d₁ ⋅m\n",
       "                                                                              \n",
       "\n",
       "                                                                              \n",
       "                       2                                          2   2       \n",
       "ₚ - 2⋅\\dot{\\varepsilon} ⋅d₁⋅d₂⋅mₚ⋅cos(\\varphi) + \\dot{\\varepsilon} ⋅d₂ ⋅mₚ⋅cos\n",
       "                                                                              \n",
       "\n",
       "                              2    2                        2    2            \n",
       "2            \\dot{\\varepsilon} ⋅d_c ⋅m_c   \\dot{\\varepsilon} ⋅l_c ⋅m_c        \n",
       " (\\varphi) + ─────────────────────────── + ─────────────────────────── + \\dot{\n",
       "                          2                             2                     \n",
       "\n",
       "                                                                              \n",
       "            2   2                       2   2       2                         \n",
       "\\varepsilon} ⋅lₕ ⋅mₚ - \\dot{\\varepsilon} ⋅lₚ ⋅mₚ⋅cos (\\varphi) + \\dot{\\varepsi\n",
       "                                                                              \n",
       "\n",
       "                                                                              \n",
       "    2   2                                                                     \n",
       "lon} ⋅lₚ ⋅mₚ - 2⋅\\dot{\\varepsilon}⋅\\dot{\\varphi}⋅d₂⋅lₕ⋅mₚ⋅sin(\\varphi) + \\dot{\n",
       "                                                                              \n",
       "\n",
       "                                                                              \n",
       "        2   2                   2   2                                         \n",
       "\\varphi} ⋅d₂ ⋅mₚ + \\dot{\\varphi} ⋅lₚ ⋅mₚ + 2⋅d₁⋅g⋅mₚ⋅cos(\\varepsilon) - 2⋅d₂⋅g\n",
       "                                                                              \n",
       "\n",
       "                                                                              \n",
       "                                                                              \n",
       "⋅mₚ⋅cos(\\varepsilon)⋅cos(\\varphi) - d_c⋅g⋅m_c⋅cos(\\varepsilon) + g⋅l_c⋅m_c⋅sin\n",
       "                                                                              \n",
       "\n",
       "                                          \n",
       "                                          \n",
       "(\\varepsilon) - 2⋅g⋅lₕ⋅mₚ⋅sin(\\varepsilon)\n",
       "                                          "
      ]
     },
     "execution_count": 7,
     "metadata": {},
     "output_type": "execute_result"
    }
   ],
   "source": [
    "L = L_redundant.subs(ps_to_qs_subs).subs(pds_to_qds_subs).simplify()\n",
    "L"
   ]
  },
  {
   "cell_type": "markdown",
   "metadata": {},
   "source": [
    "Definition der Rotorkräfte"
   ]
  },
  {
   "cell_type": "code",
   "execution_count": 8,
   "metadata": {
    "pycharm": {
     "is_executing": false
    }
   },
   "outputs": [],
   "source": [
    "Ff_direction_local = Matrix([0, 0, 1, 0])\n",
    "Ff = Ffs*(IMF * Ff_direction_local).row([0,1,2])\n",
    "\n",
    "Fb_direction_local = Matrix([0, 0, 1, 0])\n",
    "Fb = Fbs*(IMB * Fb_direction_local).row([0,1,2])"
   ]
  },
  {
   "cell_type": "markdown",
   "metadata": {},
   "source": [
    "Rotorkräfte in redundanten Koordinaten"
   ]
  },
  {
   "cell_type": "code",
   "execution_count": 9,
   "metadata": {
    "pycharm": {
     "is_executing": false
    }
   },
   "outputs": [
    {
     "data": {
      "image/png": "[encoded data removed]",
      "text/latex": [
       "$$\\left[\\begin{matrix}0\\\\0\\\\0\\\\F_{f} \\left(- \\sin{\\left (\\lambda \\right )} \\sin{\\left (\\varphi \\right )} - \\sin{\\left (\\varepsilon \\right )} \\cos{\\left (\\lambda \\right )} \\cos{\\left (\\varphi \\right )}\\right)\\\\F_{f} \\left(- \\sin{\\left (\\lambda \\right )} \\sin{\\left (\\varepsilon \\right )} \\cos{\\left (\\varphi \\right )} + \\sin{\\left (\\varphi \\right )} \\cos{\\left (\\lambda \\right )}\\right)\\\\F_{f} \\cos{\\left (\\varepsilon \\right )} \\cos{\\left (\\varphi \\right )}\\\\F_{b} \\left(- \\sin{\\left (\\lambda \\right )} \\sin{\\left (\\varphi \\right )} - \\sin{\\left (\\varepsilon \\right )} \\cos{\\left (\\lambda \\right )} \\cos{\\left (\\varphi \\right )}\\right)\\\\F_{b} \\left(- \\sin{\\left (\\lambda \\right )} \\sin{\\left (\\varepsilon \\right )} \\cos{\\left (\\varphi \\right )} + \\sin{\\left (\\varphi \\right )} \\cos{\\left (\\lambda \\right )}\\right)\\\\F_{b} \\cos{\\left (\\varepsilon \\right )} \\cos{\\left (\\varphi \\right )}\\end{matrix}\\right]$$"
      ],
      "text/plain": [
       "⎡                                      0                                      \n",
       "⎢                                                                             \n",
       "⎢                                      0                                      \n",
       "⎢                                                                             \n",
       "⎢                                      0                                      \n",
       "⎢                                                                             \n",
       "⎢F_f⋅(-sin(\\lambda)⋅sin(\\varphi) - sin(\\varepsilon)⋅cos(\\lambda)⋅cos(\\varphi))\n",
       "⎢                                                                             \n",
       "⎢F_f⋅(-sin(\\lambda)⋅sin(\\varepsilon)⋅cos(\\varphi) + sin(\\varphi)⋅cos(\\lambda))\n",
       "⎢                                                                             \n",
       "⎢                      F_f⋅cos(\\varepsilon)⋅cos(\\varphi)                      \n",
       "⎢                                                                             \n",
       "⎢F_b⋅(-sin(\\lambda)⋅sin(\\varphi) - sin(\\varepsilon)⋅cos(\\lambda)⋅cos(\\varphi))\n",
       "⎢                                                                             \n",
       "⎢F_b⋅(-sin(\\lambda)⋅sin(\\varepsilon)⋅cos(\\varphi) + sin(\\varphi)⋅cos(\\lambda))\n",
       "⎢                                                                             \n",
       "⎣                      F_b⋅cos(\\varepsilon)⋅cos(\\varphi)                      \n",
       "\n",
       "⎤\n",
       "⎥\n",
       "⎥\n",
       "⎥\n",
       "⎥\n",
       "⎥\n",
       "⎥\n",
       "⎥\n",
       "⎥\n",
       "⎥\n",
       "⎥\n",
       "⎥\n",
       "⎥\n",
       "⎥\n",
       "⎥\n",
       "⎥\n",
       "⎦"
      ]
     },
     "execution_count": 9,
     "metadata": {},
     "output_type": "execute_result"
    }
   ],
   "source": [
    "F_redundant = Matrix([0, 0, 0, Ff[0], Ff[1], Ff[2], Fb[0], Fb[1], Fb[2]]).subs(qt_to_qs_subs)\n",
    "F_redundant"
   ]
  },
  {
   "cell_type": "markdown",
   "metadata": {},
   "source": [
    "Rotorkräfte in Minimalkoordinaten"
   ]
  },
  {
   "cell_type": "code",
   "execution_count": 10,
   "metadata": {
    "pycharm": {
     "is_executing": false
    }
   },
   "outputs": [
    {
     "data": {
      "image/png": "[encoded data removed]",
      "text/latex": [
       "$$l_{p} \\left(- F_{b} + F_{f}\\right)$$"
      ],
      "text/plain": [
       "lₚ⋅(-F_b + F_f)"
      ]
     },
     "metadata": {},
     "output_type": "display_data"
    },
    {
     "data": {
      "image/png": "[encoded data removed]",
      "text/latex": [
       "$$l_{h} \\left(F_{b} + F_{f}\\right) \\cos{\\left (\\varphi \\right )}$$"
      ],
      "text/plain": [
       "lₕ⋅(F_b + F_f)⋅cos(\\varphi)"
      ]
     },
     "metadata": {},
     "output_type": "display_data"
    },
    {
     "data": {
      "image/png": "[encoded data removed]",
      "text/latex": [
       "$$d_{1} \\left(F_{b} \\sin{\\left (\\varepsilon \\right )} \\sin{\\left (\\varphi \\right )} + F_{f} \\sin{\\left (\\varepsilon \\right )} \\sin{\\left (\\varphi \\right )}\\right) + l_{h} \\left(F_{b} \\sin{\\left (\\varphi \\right )} \\cos{\\left (\\varepsilon \\right )} + F_{f} \\sin{\\left (\\varphi \\right )} \\cos{\\left (\\varepsilon \\right )}\\right) + l_{p} \\left(F_{b} \\sin{\\left (\\varepsilon \\right )} - F_{f} \\sin{\\left (\\varepsilon \\right )}\\right)$$"
      ],
      "text/plain": [
       "d₁⋅(F_b⋅sin(\\varepsilon)⋅sin(\\varphi) + F_f⋅sin(\\varepsilon)⋅sin(\\varphi)) + l\n",
       "ₕ⋅(F_b⋅sin(\\varphi)⋅cos(\\varepsilon) + F_f⋅sin(\\varphi)⋅cos(\\varepsilon)) + lₚ\n",
       "⋅(F_b⋅sin(\\varepsilon) - F_f⋅sin(\\varepsilon))"
      ]
     },
     "metadata": {},
     "output_type": "display_data"
    }
   ],
   "source": [
    "fl = (F_redundant.T * p_from_q.subs(qt_to_qs_subs).diff(ls))[0].simplify()\n",
    "fe = (F_redundant.T * p_from_q.subs(qt_to_qs_subs).diff(es))[0].simplify()\n",
    "fp = (F_redundant.T * p_from_q.subs(qt_to_qs_subs).diff(ps))[0].simplify()\n",
    "\n",
    "display(fp)\n",
    "display(fe)\n",
    "display(fl.collect([d1, lh, lp]))"
   ]
  },
  {
   "cell_type": "markdown",
   "metadata": {},
   "source": [
    "Aufstellen der Bewegungsgleichungen"
   ]
  },
  {
   "cell_type": "code",
   "execution_count": 11,
   "metadata": {
    "pycharm": {
     "is_executing": false
    }
   },
   "outputs": [],
   "source": [
    "L_d_l = L.diff(ls).simplify()\n",
    "L_d_dl = L.diff(lds).simplify()\n",
    "\n",
    "L_d_e = L.diff(es).simplify()\n",
    "L_d_de = L.diff(eds).simplify()\n",
    "\n",
    "L_d_p = L.diff(ps).simplify()\n",
    "L_d_dp = L.diff(pds).simplify()\n",
    "\n",
    "erster_term_l = L_d_dl.subs(s_to_t_subs).diff(t).subs(t_to_s_subs)\n",
    "erster_term_e = L_d_de.subs(s_to_t_subs).diff(t).subs(t_to_s_subs)\n",
    "erster_term_p = L_d_dp.subs(s_to_t_subs).diff(t).subs(t_to_s_subs)\n",
    "\n",
    "Eq_l = Eq(erster_term_l - L_d_l, fl)\n",
    "Eq_e = Eq(erster_term_e - L_d_e, fe)\n",
    "Eq_p = Eq(erster_term_p - L_d_p, fp)"
   ]
  },
  {
   "cell_type": "markdown",
   "metadata": {},
   "source": [
    "Bewegungsgleichung für $\\lambda$"
   ]
  },
  {
   "cell_type": "code",
   "execution_count": 12,
   "metadata": {
    "pycharm": {
     "is_executing": false
    },
    "scrolled": false
   },
   "outputs": [
    {
     "data": {
      "image/png": "[encoded data removed]",
      "text/latex": [
       "$$\\ddot{\\lambda} \\left(- 2 d_{1}^{2} m_{p} \\cos^{2}{\\left (\\varepsilon \\right )} + 2 d_{1}^{2} m_{p} + 4 d_{1} d_{2} m_{p} \\cos^{2}{\\left (\\varepsilon \\right )} \\cos{\\left (\\varphi \\right )} - 4 d_{1} d_{2} m_{p} \\cos{\\left (\\varphi \\right )} + 2 d_{1} l_{h} m_{p} \\sin{\\left (2 \\varepsilon \\right )} - 2 d_{2}^{2} m_{p} \\cos^{2}{\\left (\\varepsilon \\right )} \\cos^{2}{\\left (\\varphi \\right )} + 2 d_{2}^{2} m_{p} - d_{2} l_{h} m_{p} \\left(\\sin{\\left (2 \\varepsilon - \\varphi \\right )} + \\sin{\\left (2 \\varepsilon + \\varphi \\right )}\\right) - d_{c}^{2} m_{c} \\cos^{2}{\\left (\\varepsilon \\right )} + d_{c}^{2} m_{c} + d_{c} l_{c} m_{c} \\sin{\\left (2 \\varepsilon \\right )} + l_{c}^{2} m_{c} \\cos^{2}{\\left (\\varepsilon \\right )} + 2 l_{h}^{2} m_{p} \\cos^{2}{\\left (\\varepsilon \\right )} + 2 l_{p}^{2} m_{p} \\cos^{2}{\\left (\\varepsilon \\right )} \\cos^{2}{\\left (\\varphi \\right )} - 2 l_{p}^{2} m_{p} \\cos^{2}{\\left (\\varepsilon \\right )} + 2 l_{p}^{2} m_{p}\\right) + \\ddot{\\varepsilon} \\left(- 2 d_{1} d_{2} m_{p} \\sin{\\left (\\varphi \\right )} \\cos{\\left (\\varepsilon \\right )} + \\frac{d_{2}^{2} m_{p} \\left(- \\sin{\\left (\\varepsilon - 2 \\varphi \\right )} + \\sin{\\left (\\varepsilon + 2 \\varphi \\right )}\\right)}{2} + 2 d_{2} l_{h} m_{p} \\sin{\\left (\\varepsilon \\right )} \\sin{\\left (\\varphi \\right )} - \\frac{l_{p}^{2} m_{p} \\left(- \\sin{\\left (\\varepsilon - 2 \\varphi \\right )} + \\sin{\\left (\\varepsilon + 2 \\varphi \\right )}\\right)}{2}\\right) + \\ddot{\\varphi} \\left(2 d_{1} d_{2} m_{p} \\sin{\\left (\\varepsilon \\right )} \\cos{\\left (\\varphi \\right )} - 2 d_{2}^{2} m_{p} \\sin{\\left (\\varepsilon \\right )} + 2 d_{2} l_{h} m_{p} \\cos{\\left (\\varepsilon \\right )} \\cos{\\left (\\varphi \\right )} - 2 l_{p}^{2} m_{p} \\sin{\\left (\\varepsilon \\right )}\\right) + \\dot{\\lambda} \\left(4 \\dot{\\varepsilon} d_{1}^{2} m_{p} \\sin{\\left (\\varepsilon \\right )} \\cos{\\left (\\varepsilon \\right )} - 8 \\dot{\\varepsilon} d_{1} d_{2} m_{p} \\sin{\\left (\\varepsilon \\right )} \\cos{\\left (\\varepsilon \\right )} \\cos{\\left (\\varphi \\right )} + 4 \\dot{\\varepsilon} d_{1} l_{h} m_{p} \\cos{\\left (2 \\varepsilon \\right )} + 4 \\dot{\\varepsilon} d_{2}^{2} m_{p} \\sin{\\left (\\varepsilon \\right )} \\cos{\\left (\\varepsilon \\right )} \\cos^{2}{\\left (\\varphi \\right )} + 2 \\dot{\\varepsilon} d_{c}^{2} m_{c} \\sin{\\left (\\varepsilon \\right )} \\cos{\\left (\\varepsilon \\right )} + 2 \\dot{\\varepsilon} d_{c} l_{c} m_{c} \\cos{\\left (2 \\varepsilon \\right )} - 2 \\dot{\\varepsilon} l_{c}^{2} m_{c} \\sin{\\left (\\varepsilon \\right )} \\cos{\\left (\\varepsilon \\right )} - 4 \\dot{\\varepsilon} l_{h}^{2} m_{p} \\sin{\\left (\\varepsilon \\right )} \\cos{\\left (\\varepsilon \\right )} - 4 \\dot{\\varepsilon} l_{p}^{2} m_{p} \\sin{\\left (\\varepsilon \\right )} \\cos{\\left (\\varepsilon \\right )} \\cos^{2}{\\left (\\varphi \\right )} + 4 \\dot{\\varepsilon} l_{p}^{2} m_{p} \\sin{\\left (\\varepsilon \\right )} \\cos{\\left (\\varepsilon \\right )} - 4 \\dot{\\varphi} d_{1} d_{2} m_{p} \\sin{\\left (\\varphi \\right )} \\cos^{2}{\\left (\\varepsilon \\right )} + 4 \\dot{\\varphi} d_{1} d_{2} m_{p} \\sin{\\left (\\varphi \\right )} + 4 \\dot{\\varphi} d_{2}^{2} m_{p} \\sin{\\left (\\varphi \\right )} \\cos^{2}{\\left (\\varepsilon \\right )} \\cos{\\left (\\varphi \\right )} - 4 \\dot{\\varphi} l_{p}^{2} m_{p} \\sin{\\left (\\varphi \\right )} \\cos^{2}{\\left (\\varepsilon \\right )} \\cos{\\left (\\varphi \\right )} - d_{2} l_{h} m_{p} \\left(\\left(2 \\dot{\\varepsilon} - \\dot{\\varphi}\\right) \\cos{\\left (2 \\varepsilon - \\varphi \\right )} + \\left(2 \\dot{\\varepsilon} + \\dot{\\varphi}\\right) \\cos{\\left (2 \\varepsilon + \\varphi \\right )}\\right)\\right) + 2 \\dot{\\varepsilon}^{2} d_{1} d_{2} m_{p} \\sin{\\left (\\varepsilon \\right )} \\sin{\\left (\\varphi \\right )} + 2 \\dot{\\varepsilon}^{2} d_{2} l_{h} m_{p} \\sin{\\left (\\varphi \\right )} \\cos{\\left (\\varepsilon \\right )} - 2 \\dot{\\varepsilon} \\dot{\\varphi} d_{2}^{2} m_{p} \\cos{\\left (\\varepsilon \\right )} - 2 \\dot{\\varepsilon} \\dot{\\varphi} l_{p}^{2} m_{p} \\cos{\\left (\\varepsilon \\right )} + \\frac{\\dot{\\varepsilon} d_{2}^{2} m_{p} \\left(- \\left(\\dot{\\varepsilon} - 2 \\dot{\\varphi}\\right) \\cos{\\left (\\varepsilon - 2 \\varphi \\right )} + \\left(\\dot{\\varepsilon} + 2 \\dot{\\varphi}\\right) \\cos{\\left (\\varepsilon + 2 \\varphi \\right )}\\right)}{2} - \\frac{\\dot{\\varepsilon} l_{p}^{2} m_{p} \\left(- \\left(\\dot{\\varepsilon} - 2 \\dot{\\varphi}\\right) \\cos{\\left (\\varepsilon - 2 \\varphi \\right )} + \\left(\\dot{\\varepsilon} + 2 \\dot{\\varphi}\\right) \\cos{\\left (\\varepsilon + 2 \\varphi \\right )}\\right)}{2} - 2 \\dot{\\varphi}^{2} d_{1} d_{2} m_{p} \\sin{\\left (\\varepsilon \\right )} \\sin{\\left (\\varphi \\right )} - 2 \\dot{\\varphi}^{2} d_{2} l_{h} m_{p} \\sin{\\left (\\varphi \\right )} \\cos{\\left (\\varepsilon \\right )} = F_{b} d_{1} \\sin{\\left (\\varepsilon \\right )} \\sin{\\left (\\varphi \\right )} + F_{b} l_{h} \\sin{\\left (\\varphi \\right )} \\cos{\\left (\\varepsilon \\right )} + F_{b} l_{p} \\sin{\\left (\\varepsilon \\right )} + F_{f} d_{1} \\sin{\\left (\\varepsilon \\right )} \\sin{\\left (\\varphi \\right )} + F_{f} l_{h} \\sin{\\left (\\varphi \\right )} \\cos{\\left (\\varepsilon \\right )} - F_{f} l_{p} \\sin{\\left (\\varepsilon \\right )}$$"
      ],
      "text/plain": [
       "                                                                              \n",
       "               ⎛      2       2                    2                    2     \n",
       "\\ddot{\\lambda}⋅⎝- 2⋅d₁ ⋅mₚ⋅cos (\\varepsilon) + 2⋅d₁ ⋅mₚ + 4⋅d₁⋅d₂⋅mₚ⋅cos (\\var\n",
       "                                                                              \n",
       "\n",
       "                                                                              \n",
       "                                                                              \n",
       "epsilon)⋅cos(\\varphi) - 4⋅d₁⋅d₂⋅mₚ⋅cos(\\varphi) + 2⋅d₁⋅lₕ⋅mₚ⋅sin(2⋅\\varepsilon\n",
       "                                                                              \n",
       "\n",
       "                                                                              \n",
       "        2       2                 2                2                          \n",
       ") - 2⋅d₂ ⋅mₚ⋅cos (\\varepsilon)⋅cos (\\varphi) + 2⋅d₂ ⋅mₚ - d₂⋅lₕ⋅mₚ⋅(sin(2⋅\\var\n",
       "                                                                              \n",
       "\n",
       "                                                                              \n",
       "                                                        2        2            \n",
       "epsilon - \\varphi) + sin(2⋅\\varepsilon + \\varphi)) - d_c ⋅m_c⋅cos (\\varepsilon\n",
       "                                                                              \n",
       "\n",
       "                                                                              \n",
       "       2                                           2        2                 \n",
       ") + d_c ⋅m_c + d_c⋅l_c⋅m_c⋅sin(2⋅\\varepsilon) + l_c ⋅m_c⋅cos (\\varepsilon) + 2\n",
       "                                                                              \n",
       "\n",
       "                                                                              \n",
       "   2       2                    2       2                 2                2  \n",
       "⋅lₕ ⋅mₚ⋅cos (\\varepsilon) + 2⋅lₚ ⋅mₚ⋅cos (\\varepsilon)⋅cos (\\varphi) - 2⋅lₚ ⋅m\n",
       "                                                                              \n",
       "\n",
       "                                                     ⎛                        \n",
       "     2                    2   ⎞                      ⎜                        \n",
       "ₚ⋅cos (\\varepsilon) + 2⋅lₚ ⋅mₚ⎠ + \\ddot{\\varepsilon}⋅⎜-2⋅d₁⋅d₂⋅mₚ⋅sin(\\varphi)\n",
       "                                                     ⎝                        \n",
       "\n",
       "                      2                                                       \n",
       "                    d₂ ⋅mₚ⋅(-sin(\\varepsilon - 2⋅\\varphi) + sin(\\varepsilon + \n",
       "⋅cos(\\varepsilon) + ──────────────────────────────────────────────────────────\n",
       "                                                      2                       \n",
       "\n",
       "                                                           2                  \n",
       "2⋅\\varphi))                                              lₚ ⋅mₚ⋅(-sin(\\varepsi\n",
       "─────────── + 2⋅d₂⋅lₕ⋅mₚ⋅sin(\\varepsilon)⋅sin(\\varphi) - ─────────────────────\n",
       "                                                                              \n",
       "\n",
       "                                                ⎞                             \n",
       "lon - 2⋅\\varphi) + sin(\\varepsilon + 2⋅\\varphi))⎟                  ⎛          \n",
       "────────────────────────────────────────────────⎟ + \\ddot{\\varphi}⋅⎝2⋅d₁⋅d₂⋅mₚ\n",
       "             2                                  ⎠                             \n",
       "\n",
       "                                                                              \n",
       "                                     2                                        \n",
       "⋅sin(\\varepsilon)⋅cos(\\varphi) - 2⋅d₂ ⋅mₚ⋅sin(\\varepsilon) + 2⋅d₂⋅lₕ⋅mₚ⋅cos(\\v\n",
       "                                                                              \n",
       "\n",
       "                                                                              \n",
       "                              2                    ⎞                 ⎛        \n",
       "arepsilon)⋅cos(\\varphi) - 2⋅lₚ ⋅mₚ⋅sin(\\varepsilon)⎠ + \\dot{\\lambda}⋅⎝4⋅\\dot{\\\n",
       "                                                                              \n",
       "\n",
       "                                                                              \n",
       "              2                                                               \n",
       "varepsilon}⋅d₁ ⋅mₚ⋅sin(\\varepsilon)⋅cos(\\varepsilon) - 8⋅\\dot{\\varepsilon}⋅d₁⋅\n",
       "                                                                              \n",
       "\n",
       "                                                                              \n",
       "                                                                              \n",
       "d₂⋅mₚ⋅sin(\\varepsilon)⋅cos(\\varepsilon)⋅cos(\\varphi) + 4⋅\\dot{\\varepsilon}⋅d₁⋅\n",
       "                                                                              \n",
       "\n",
       "                                                                              \n",
       "                                                 2                            \n",
       "lₕ⋅mₚ⋅cos(2⋅\\varepsilon) + 4⋅\\dot{\\varepsilon}⋅d₂ ⋅mₚ⋅sin(\\varepsilon)⋅cos(\\va\n",
       "                                                                              \n",
       "\n",
       "                                                                              \n",
       "             2                                   2                            \n",
       "repsilon)⋅cos (\\varphi) + 2⋅\\dot{\\varepsilon}⋅d_c ⋅m_c⋅sin(\\varepsilon)⋅cos(\\v\n",
       "                                                                              \n",
       "\n",
       "                                                                              \n",
       "                                                                              \n",
       "arepsilon) + 2⋅\\dot{\\varepsilon}⋅d_c⋅l_c⋅m_c⋅cos(2⋅\\varepsilon) - 2⋅\\dot{\\vare\n",
       "                                                                              \n",
       "\n",
       "                                                                              \n",
       "           2                                                               2  \n",
       "psilon}⋅l_c ⋅m_c⋅sin(\\varepsilon)⋅cos(\\varepsilon) - 4⋅\\dot{\\varepsilon}⋅lₕ ⋅m\n",
       "                                                                              \n",
       "\n",
       "                                                                              \n",
       "                                                            2                 \n",
       "ₚ⋅sin(\\varepsilon)⋅cos(\\varepsilon) - 4⋅\\dot{\\varepsilon}⋅lₚ ⋅mₚ⋅sin(\\varepsil\n",
       "                                                                              \n",
       "\n",
       "                                                                              \n",
       "                        2                                  2                  \n",
       "on)⋅cos(\\varepsilon)⋅cos (\\varphi) + 4⋅\\dot{\\varepsilon}⋅lₚ ⋅mₚ⋅sin(\\varepsilo\n",
       "                                                                              \n",
       "\n",
       "                                                                              \n",
       "                                                               2              \n",
       "n)⋅cos(\\varepsilon) - 4⋅\\dot{\\varphi}⋅d₁⋅d₂⋅mₚ⋅sin(\\varphi)⋅cos (\\varepsilon) \n",
       "                                                                              \n",
       "\n",
       "                                                                              \n",
       "                                                            2                 \n",
       "+ 4⋅\\dot{\\varphi}⋅d₁⋅d₂⋅mₚ⋅sin(\\varphi) + 4⋅\\dot{\\varphi}⋅d₂ ⋅mₚ⋅sin(\\varphi)⋅\n",
       "                                                                              \n",
       "\n",
       "                                                                              \n",
       "   2                                               2                    2     \n",
       "cos (\\varepsilon)⋅cos(\\varphi) - 4⋅\\dot{\\varphi}⋅lₚ ⋅mₚ⋅sin(\\varphi)⋅cos (\\var\n",
       "                                                                              \n",
       "\n",
       "                                                                              \n",
       "                                                                              \n",
       "epsilon)⋅cos(\\varphi) - d₂⋅lₕ⋅mₚ⋅((2⋅\\dot{\\varepsilon} - \\dot{\\varphi})⋅cos(2⋅\n",
       "                                                                              \n",
       "\n",
       "                                                                              \n",
       "                                                                              \n",
       "\\varepsilon - \\varphi) + (2⋅\\dot{\\varepsilon} + \\dot{\\varphi})⋅cos(2⋅\\varepsil\n",
       "                                                                              \n",
       "\n",
       "                                                                              \n",
       "              ⎞                      2                                        \n",
       "on + \\varphi))⎠ + 2⋅\\dot{\\varepsilon} ⋅d₁⋅d₂⋅mₚ⋅sin(\\varepsilon)⋅sin(\\varphi) \n",
       "                                                                              \n",
       "\n",
       "                                                                              \n",
       "                     2                                                        \n",
       "+ 2⋅\\dot{\\varepsilon} ⋅d₂⋅lₕ⋅mₚ⋅sin(\\varphi)⋅cos(\\varepsilon) - 2⋅\\dot{\\vareps\n",
       "                                                                              \n",
       "\n",
       "                                                                              \n",
       "                      2                                                       \n",
       "ilon}⋅\\dot{\\varphi}⋅d₂ ⋅mₚ⋅cos(\\varepsilon) - 2⋅\\dot{\\varepsilon}⋅\\dot{\\varphi\n",
       "                                                                              \n",
       "\n",
       "                                                2                             \n",
       "    2                       \\dot{\\varepsilon}⋅d₂ ⋅mₚ⋅(-(\\dot{\\varepsilon} - 2⋅\n",
       "}⋅lₚ ⋅mₚ⋅cos(\\varepsilon) + ──────────────────────────────────────────────────\n",
       "                                                                              \n",
       "\n",
       "                                                                              \n",
       "\\dot{\\varphi})⋅cos(\\varepsilon - 2⋅\\varphi) + (\\dot{\\varepsilon} + 2⋅\\dot{\\var\n",
       "──────────────────────────────────────────────────────────────────────────────\n",
       "                               2                                              \n",
       "\n",
       "                                                          2                   \n",
       "phi})⋅cos(\\varepsilon + 2⋅\\varphi))   \\dot{\\varepsilon}⋅lₚ ⋅mₚ⋅(-(\\dot{\\vareps\n",
       "─────────────────────────────────── - ────────────────────────────────────────\n",
       "                                                                              \n",
       "\n",
       "                                                                              \n",
       "ilon} - 2⋅\\dot{\\varphi})⋅cos(\\varepsilon - 2⋅\\varphi) + (\\dot{\\varepsilon} + 2\n",
       "──────────────────────────────────────────────────────────────────────────────\n",
       "                                         2                                    \n",
       "\n",
       "                                                                              \n",
       "⋅\\dot{\\varphi})⋅cos(\\varepsilon + 2⋅\\varphi))                  2              \n",
       "───────────────────────────────────────────── - 2⋅\\dot{\\varphi} ⋅d₁⋅d₂⋅mₚ⋅sin(\n",
       "                                                                              \n",
       "\n",
       "                                                                              \n",
       "                                           2                                  \n",
       "\\varepsilon)⋅sin(\\varphi) - 2⋅\\dot{\\varphi} ⋅d₂⋅lₕ⋅mₚ⋅sin(\\varphi)⋅cos(\\vareps\n",
       "                                                                              \n",
       "\n",
       "                                                                              \n",
       "                                                                              \n",
       "ilon) = F_b⋅d₁⋅sin(\\varepsilon)⋅sin(\\varphi) + F_b⋅lₕ⋅sin(\\varphi)⋅cos(\\vareps\n",
       "                                                                              \n",
       "\n",
       "                                                                              \n",
       "                                                                              \n",
       "ilon) + F_b⋅lₚ⋅sin(\\varepsilon) + F_f⋅d₁⋅sin(\\varepsilon)⋅sin(\\varphi) + F_f⋅l\n",
       "                                                                              \n",
       "\n",
       "                                                         \n",
       "                                                         \n",
       "ₕ⋅sin(\\varphi)⋅cos(\\varepsilon) - F_f⋅lₚ⋅sin(\\varepsilon)\n",
       "                                                         "
      ]
     },
     "execution_count": 12,
     "metadata": {},
     "output_type": "execute_result"
    }
   ],
   "source": [
    "Eq_l = Eq(Eq_l.lhs.collect((ldds, lds, edds, pdds)), Eq_l.rhs)\n",
    "Eq_l"
   ]
  },
  {
   "cell_type": "markdown",
   "metadata": {},
   "source": [
    "Vernachlässigen von Zentripetalkräften"
   ]
  },
  {
   "cell_type": "code",
   "execution_count": 13,
   "metadata": {
    "pycharm": {
     "is_executing": false
    }
   },
   "outputs": [
    {
     "data": {
      "image/png": "[encoded data removed]",
      "text/latex": [
       "$$\\ddot{\\lambda} \\left(- 2 d_{1}^{2} m_{p} \\cos^{2}{\\left (\\varepsilon \\right )} + 2 d_{1}^{2} m_{p} + 4 d_{1} d_{2} m_{p} \\cos^{2}{\\left (\\varepsilon \\right )} \\cos{\\left (\\varphi \\right )} - 4 d_{1} d_{2} m_{p} \\cos{\\left (\\varphi \\right )} + 2 d_{1} l_{h} m_{p} \\sin{\\left (2 \\varepsilon \\right )} - 2 d_{2}^{2} m_{p} \\cos^{2}{\\left (\\varepsilon \\right )} \\cos^{2}{\\left (\\varphi \\right )} + 2 d_{2}^{2} m_{p} - d_{2} l_{h} m_{p} \\left(\\sin{\\left (2 \\varepsilon - \\varphi \\right )} + \\sin{\\left (2 \\varepsilon + \\varphi \\right )}\\right) - d_{c}^{2} m_{c} \\cos^{2}{\\left (\\varepsilon \\right )} + d_{c}^{2} m_{c} + d_{c} l_{c} m_{c} \\sin{\\left (2 \\varepsilon \\right )} + l_{c}^{2} m_{c} \\cos^{2}{\\left (\\varepsilon \\right )} + 2 l_{h}^{2} m_{p} \\cos^{2}{\\left (\\varepsilon \\right )} + 2 l_{p}^{2} m_{p} \\cos^{2}{\\left (\\varepsilon \\right )} \\cos^{2}{\\left (\\varphi \\right )} - 2 l_{p}^{2} m_{p} \\cos^{2}{\\left (\\varepsilon \\right )} + 2 l_{p}^{2} m_{p}\\right) = F_{b} d_{1} \\sin{\\left (\\varepsilon \\right )} \\sin{\\left (\\varphi \\right )} + F_{b} l_{h} \\sin{\\left (\\varphi \\right )} \\cos{\\left (\\varepsilon \\right )} + F_{b} l_{p} \\sin{\\left (\\varepsilon \\right )} + F_{f} d_{1} \\sin{\\left (\\varepsilon \\right )} \\sin{\\left (\\varphi \\right )} + F_{f} l_{h} \\sin{\\left (\\varphi \\right )} \\cos{\\left (\\varepsilon \\right )} - F_{f} l_{p} \\sin{\\left (\\varepsilon \\right )}$$"
      ],
      "text/plain": [
       "               ⎛      2       2                    2                    2     \n",
       "\\ddot{\\lambda}⋅⎝- 2⋅d₁ ⋅mₚ⋅cos (\\varepsilon) + 2⋅d₁ ⋅mₚ + 4⋅d₁⋅d₂⋅mₚ⋅cos (\\var\n",
       "\n",
       "                                                                              \n",
       "epsilon)⋅cos(\\varphi) - 4⋅d₁⋅d₂⋅mₚ⋅cos(\\varphi) + 2⋅d₁⋅lₕ⋅mₚ⋅sin(2⋅\\varepsilon\n",
       "\n",
       "        2       2                 2                2                          \n",
       ") - 2⋅d₂ ⋅mₚ⋅cos (\\varepsilon)⋅cos (\\varphi) + 2⋅d₂ ⋅mₚ - d₂⋅lₕ⋅mₚ⋅(sin(2⋅\\var\n",
       "\n",
       "                                                        2        2            \n",
       "epsilon - \\varphi) + sin(2⋅\\varepsilon + \\varphi)) - d_c ⋅m_c⋅cos (\\varepsilon\n",
       "\n",
       "       2                                           2        2                 \n",
       ") + d_c ⋅m_c + d_c⋅l_c⋅m_c⋅sin(2⋅\\varepsilon) + l_c ⋅m_c⋅cos (\\varepsilon) + 2\n",
       "\n",
       "   2       2                    2       2                 2                2  \n",
       "⋅lₕ ⋅mₚ⋅cos (\\varepsilon) + 2⋅lₚ ⋅mₚ⋅cos (\\varepsilon)⋅cos (\\varphi) - 2⋅lₚ ⋅m\n",
       "\n",
       "     2                    2   ⎞                                               \n",
       "ₚ⋅cos (\\varepsilon) + 2⋅lₚ ⋅mₚ⎠ = F_b⋅d₁⋅sin(\\varepsilon)⋅sin(\\varphi) + F_b⋅l\n",
       "\n",
       "                                                                              \n",
       "ₕ⋅sin(\\varphi)⋅cos(\\varepsilon) + F_b⋅lₚ⋅sin(\\varepsilon) + F_f⋅d₁⋅sin(\\vareps\n",
       "\n",
       "                                                                              \n",
       "ilon)⋅sin(\\varphi) + F_f⋅lₕ⋅sin(\\varphi)⋅cos(\\varepsilon) - F_f⋅lₚ⋅sin(\\vareps\n",
       "\n",
       "     \n",
       "ilon)"
      ]
     },
     "execution_count": 13,
     "metadata": {},
     "output_type": "execute_result"
    }
   ],
   "source": [
    "Eq_l_no_centripetal = Eq_l.subs([(lds, 0), (eds, 0), (pds, 0), (edds, 0), (pdds, 0)])\n",
    "Eq_l_no_centripetal"
   ]
  },
  {
   "cell_type": "markdown",
   "metadata": {},
   "source": [
    "Kleinwinkelnäherung $\\cos^2 (e) \\approx 1$, $\\cos^2 (p) \\approx 1$ und $\\sin(e) \\approx 0$"
   ]
  },
  {
   "cell_type": "code",
   "execution_count": 14,
   "metadata": {
    "pycharm": {
     "is_executing": false
    }
   },
   "outputs": [
    {
     "data": {
      "image/png": "[encoded data removed]",
      "text/latex": [
       "$$\\ddot{\\lambda} \\left(2 d_{1} l_{h} m_{p} \\sin{\\left (2 \\varepsilon \\right )} - d_{2} l_{h} m_{p} \\left(\\sin{\\left (2 \\varepsilon - \\varphi \\right )} + \\sin{\\left (2 \\varepsilon + \\varphi \\right )}\\right) + d_{c} l_{c} m_{c} \\sin{\\left (2 \\varepsilon \\right )} + l_{c}^{2} m_{c} + 2 l_{h}^{2} m_{p} + 2 l_{p}^{2} m_{p}\\right) = l_{h} \\left(F_{b} + F_{f}\\right) \\sin{\\left (\\varphi \\right )} \\cos{\\left (\\varepsilon \\right )}$$"
      ],
      "text/plain": [
       "               ⎛                                                              \n",
       "\\ddot{\\lambda}⋅⎝2⋅d₁⋅lₕ⋅mₚ⋅sin(2⋅\\varepsilon) - d₂⋅lₕ⋅mₚ⋅(sin(2⋅\\varepsilon - \n",
       "\n",
       "                                                                              \n",
       "\\varphi) + sin(2⋅\\varepsilon + \\varphi)) + d_c⋅l_c⋅m_c⋅sin(2⋅\\varepsilon) + l_\n",
       "\n",
       " 2           2          2   ⎞                                               \n",
       "c ⋅m_c + 2⋅lₕ ⋅mₚ + 2⋅lₚ ⋅mₚ⎠ = lₕ⋅(F_b + F_f)⋅sin(\\varphi)⋅cos(\\varepsilon)"
      ]
     },
     "execution_count": 14,
     "metadata": {},
     "output_type": "execute_result"
    }
   ],
   "source": [
    "Eq_l_simplified = Eq_l_no_centripetal.subs([(cos(es)**2, 1), (cos(ps)**2, 1), (sin(es), 0)])\n",
    "Eq_l_simplified = Eq(Eq_l_simplified.lhs, Eq_l_simplified.rhs.simplify())\n",
    "Eq_l_simplified"
   ]
  },
  {
   "cell_type": "markdown",
   "metadata": {},
   "source": [
    "Äquivalent für $e$"
   ]
  },
  {
   "cell_type": "code",
   "execution_count": 15,
   "metadata": {
    "pycharm": {
     "is_executing": false
    }
   },
   "outputs": [
    {
     "data": {
      "image/png": "[encoded data removed]",
      "text/latex": [
       "$$\\ddot{\\varepsilon} \\left(2 d_{1}^{2} m_{p} - 4 d_{1} d_{2} m_{p} \\cos{\\left (\\varphi \\right )} + 2 d_{2}^{2} m_{p} + d_{c}^{2} m_{c} + l_{c}^{2} m_{c} + 2 l_{h}^{2} m_{p}\\right) - 2 \\ddot{\\varphi} d_{2} l_{h} m_{p} \\sin{\\left (\\varphi \\right )} + g \\left(2 d_{1} m_{p} \\sin{\\left (\\varepsilon \\right )} - 2 d_{2} m_{p} \\sin{\\left (\\varepsilon \\right )} \\cos{\\left (\\varphi \\right )} - d_{c} m_{c} \\sin{\\left (\\varepsilon \\right )} - l_{c} m_{c} \\cos{\\left (\\varepsilon \\right )} + 2 l_{h} m_{p} \\cos{\\left (\\varepsilon \\right )}\\right) = l_{h} \\left(F_{b} + F_{f}\\right) \\cos{\\left (\\varphi \\right )}$$"
      ],
      "text/plain": [
       "                   ⎛    2                                    2         2      \n",
       "\\ddot{\\varepsilon}⋅⎝2⋅d₁ ⋅mₚ - 4⋅d₁⋅d₂⋅mₚ⋅cos(\\varphi) + 2⋅d₂ ⋅mₚ + d_c ⋅m_c +\n",
       "\n",
       "    2           2   ⎞                                                         \n",
       " l_c ⋅m_c + 2⋅lₕ ⋅mₚ⎠ - 2⋅\\ddot{\\varphi}⋅d₂⋅lₕ⋅mₚ⋅sin(\\varphi) + g⋅(2⋅d₁⋅mₚ⋅si\n",
       "\n",
       "                                                                              \n",
       "n(\\varepsilon) - 2⋅d₂⋅mₚ⋅sin(\\varepsilon)⋅cos(\\varphi) - d_c⋅m_c⋅sin(\\varepsil\n",
       "\n",
       "                                                                              \n",
       "on) - l_c⋅m_c⋅cos(\\varepsilon) + 2⋅lₕ⋅mₚ⋅cos(\\varepsilon)) = lₕ⋅(F_b + F_f)⋅co\n",
       "\n",
       "          \n",
       "s(\\varphi)"
      ]
     },
     "execution_count": 15,
     "metadata": {},
     "output_type": "execute_result"
    }
   ],
   "source": [
    "Eq_e_simplified = Eq(Eq_e.lhs.subs([(ldds, 0), (lds, 0), (pds, 0), (eds, 0)]).simplify().subs(sin(ps)**2, 0).collect((edds, g)), Eq_e.rhs)\n",
    "Eq_e_simplified"
   ]
  },
  {
   "cell_type": "markdown",
   "metadata": {},
   "source": [
    "Und für $p$"
   ]
  },
  {
   "cell_type": "code",
   "execution_count": 16,
   "metadata": {
    "pycharm": {
     "is_executing": false
    }
   },
   "outputs": [
    {
     "data": {
      "image/png": "[encoded data removed]",
      "text/latex": [
       "$$- 2 \\ddot{\\varepsilon} d_{2} l_{h} m_{p} \\sin{\\left (\\varphi \\right )} + \\ddot{\\varphi} \\left(2 d_{2}^{2} m_{p} + 2 l_{p}^{2} m_{p}\\right) + g \\left(d_{2} m_{p} \\sin{\\left (\\varepsilon - \\varphi \\right )} - d_{2} m_{p} \\sin{\\left (\\varepsilon + \\varphi \\right )}\\right) = l_{p} \\left(- F_{b} + F_{f}\\right)$$"
      ],
      "text/plain": [
       "                                                             ⎛    2          2\n",
       "-2⋅\\ddot{\\varepsilon}⋅d₂⋅lₕ⋅mₚ⋅sin(\\varphi) + \\ddot{\\varphi}⋅⎝2⋅d₂ ⋅mₚ + 2⋅lₚ \n",
       "\n",
       "   ⎞                                                                          \n",
       "⋅mₚ⎠ + g⋅(d₂⋅mₚ⋅sin(\\varepsilon - \\varphi) - d₂⋅mₚ⋅sin(\\varepsilon + \\varphi))\n",
       "\n",
       "                  \n",
       " = lₚ⋅(-F_b + F_f)"
      ]
     },
     "execution_count": 16,
     "metadata": {},
     "output_type": "execute_result"
    }
   ],
   "source": [
    "Eq_p_simplified = Eq(Eq_p.lhs.subs([(ldds, 0), (lds, 0), (eds, 0)]).expand().collect((pdds, g)), Eq_p.rhs)\n",
    "Eq_p_simplified"
   ]
  },
  {
   "cell_type": "code",
   "execution_count": 17,
   "metadata": {},
   "outputs": [
    {
     "data": {
      "image/png": "[encoded data removed]",
      "text/latex": [
       "$$\\ddot{\\varepsilon} \\left(2 d_{1}^{2} m_{p} - 4 d_{1} d_{2} m_{p} + 2 d_{2}^{2} m_{p} + d_{c}^{2} m_{c} + l_{c}^{2} m_{c} + 2 l_{h}^{2} m_{p}\\right) + \\left(- g l_{c} m_{c} + 2 g l_{h} m_{p}\\right) \\cos{\\left (\\varepsilon \\right )} + \\left(2 d_{1} g m_{p} - 2 d_{2} g m_{p} - d_{c} g m_{c}\\right) \\sin{\\left (\\varepsilon \\right )} = l_{h} \\left(F_{b} + F_{f}\\right)$$"
      ],
      "text/plain": [
       "                   ⎛    2                       2         2          2        \n",
       "\\ddot{\\varepsilon}⋅⎝2⋅d₁ ⋅mₚ - 4⋅d₁⋅d₂⋅mₚ + 2⋅d₂ ⋅mₚ + d_c ⋅m_c + l_c ⋅m_c + 2\n",
       "\n",
       "   2   ⎞                                                                      \n",
       "⋅lₕ ⋅mₚ⎠ + (-g⋅l_c⋅m_c + 2⋅g⋅lₕ⋅mₚ)⋅cos(\\varepsilon) + (2⋅d₁⋅g⋅mₚ - 2⋅d₂⋅g⋅mₚ \n",
       "\n",
       "                                              \n",
       "- d_c⋅g⋅m_c)⋅sin(\\varepsilon) = lₕ⋅(F_b + F_f)"
      ]
     },
     "execution_count": 17,
     "metadata": {},
     "output_type": "execute_result"
    }
   ],
   "source": [
    "Eq_e_single_axis = Eq_e.subs([(pdds, 0), (ldds, 0), (lds, 0), (pds, 0), (ps, 0)])\n",
    "Eq(Eq_e_single_axis.lhs.collect([edds, cos(es), sin(es)]), Eq_e_single_axis.rhs)"
   ]
  },
  {
   "cell_type": "code",
   "execution_count": 18,
   "metadata": {},
   "outputs": [
    {
     "data": {
      "image/png": "[encoded data removed]",
      "text/latex": [
       "$$\\ddot{\\varphi} \\left(2 d_{2}^{2} m_{p} + 2 l_{p}^{2} m_{p}\\right) - 2 d_{2} g m_{p} \\sin{\\left (\\varphi \\right )} = l_{p} \\left(- F_{b} + F_{f}\\right)$$"
      ],
      "text/plain": [
       "               ⎛    2          2   ⎞                                          \n",
       "\\ddot{\\varphi}⋅⎝2⋅d₂ ⋅mₚ + 2⋅lₚ ⋅mₚ⎠ - 2⋅d₂⋅g⋅mₚ⋅sin(\\varphi) = lₚ⋅(-F_b + F_f\n",
       "\n",
       " \n",
       ")"
      ]
     },
     "execution_count": 18,
     "metadata": {},
     "output_type": "execute_result"
    }
   ],
   "source": [
    "Eq_p_single_axis = Eq_p.subs([(edds, 0), (eds, 0), (es, 0), (ldds, 0), (lds, 0)])\n",
    "Eq(Eq_p_single_axis.lhs.expand().collect([pdds, d2*g*mp]), Eq_p_single_axis.rhs)"
   ]
  },
  {
   "cell_type": "code",
   "execution_count": 19,
   "metadata": {},
   "outputs": [
    {
     "data": {
      "image/png": "[encoded data removed]",
      "text/latex": [
       "$$\\ddot{\\lambda} \\left(2 d_{1} d_{2} m_{p} \\sin{\\left (\\varepsilon \\right )} \\cos{\\left (\\varphi \\right )} - 2 d_{2}^{2} m_{p} \\sin{\\left (\\varepsilon \\right )} + 2 d_{2} l_{h} m_{p} \\cos{\\left (\\varepsilon \\right )} \\cos{\\left (\\varphi \\right )} - 2 l_{p}^{2} m_{p} \\sin{\\left (\\varepsilon \\right )}\\right) - 2 \\ddot{\\varepsilon} d_{2} l_{h} m_{p} \\sin{\\left (\\varphi \\right )} + \\ddot{\\varphi} \\left(2 d_{2}^{2} m_{p} + 2 l_{p}^{2} m_{p}\\right) - \\dot{\\lambda}^{2} d_{1} d_{2} m_{p} \\sin{\\left (\\varphi \\right )} - \\frac{\\dot{\\lambda}^{2} d_{1} d_{2} m_{p} \\sin{\\left (2 \\varepsilon - \\varphi \\right )}}{2} + \\frac{\\dot{\\lambda}^{2} d_{1} d_{2} m_{p} \\sin{\\left (2 \\varepsilon + \\varphi \\right )}}{2} - \\frac{\\dot{\\lambda}^{2} d_{2}^{2} m_{p} \\sin{\\left (2 \\varphi \\right )}}{2} + \\frac{\\dot{\\lambda}^{2} d_{2}^{2} m_{p} \\sin{\\left (2 \\varepsilon - 2 \\varphi \\right )}}{4} - \\frac{\\dot{\\lambda}^{2} d_{2}^{2} m_{p} \\sin{\\left (2 \\varepsilon + 2 \\varphi \\right )}}{4} - \\frac{\\dot{\\lambda}^{2} d_{2} l_{h} m_{p} \\cos{\\left (2 \\varepsilon - \\varphi \\right )}}{2} + \\frac{\\dot{\\lambda}^{2} d_{2} l_{h} m_{p} \\cos{\\left (2 \\varepsilon + \\varphi \\right )}}{2} + \\frac{\\dot{\\lambda}^{2} l_{p}^{2} m_{p} \\sin{\\left (2 \\varphi \\right )}}{2} - \\frac{\\dot{\\lambda}^{2} l_{p}^{2} m_{p} \\sin{\\left (2 \\varepsilon - 2 \\varphi \\right )}}{4} + \\frac{\\dot{\\lambda}^{2} l_{p}^{2} m_{p} \\sin{\\left (2 \\varepsilon + 2 \\varphi \\right )}}{4} + 2 \\dot{\\lambda} \\dot{\\varepsilon} d_{1} d_{2} m_{p} \\cos{\\left (\\varepsilon \\right )} \\cos{\\left (\\varphi \\right )} + \\dot{\\lambda} \\dot{\\varepsilon} d_{1} d_{2} m_{p} \\cos{\\left (\\varepsilon - \\varphi \\right )} + \\dot{\\lambda} \\dot{\\varepsilon} d_{1} d_{2} m_{p} \\cos{\\left (\\varepsilon + \\varphi \\right )} - 2 \\dot{\\lambda} \\dot{\\varepsilon} d_{2}^{2} m_{p} \\cos{\\left (\\varepsilon \\right )} - \\dot{\\lambda} \\dot{\\varepsilon} d_{2}^{2} m_{p} \\cos{\\left (\\varepsilon - 2 \\varphi \\right )} - \\dot{\\lambda} \\dot{\\varepsilon} d_{2}^{2} m_{p} \\cos{\\left (\\varepsilon + 2 \\varphi \\right )} - 2 \\dot{\\lambda} \\dot{\\varepsilon} d_{2} l_{h} m_{p} \\sin{\\left (\\varepsilon \\right )} \\cos{\\left (\\varphi \\right )} - \\dot{\\lambda} \\dot{\\varepsilon} d_{2} l_{h} m_{p} \\sin{\\left (\\varepsilon - \\varphi \\right )} - \\dot{\\lambda} \\dot{\\varepsilon} d_{2} l_{h} m_{p} \\sin{\\left (\\varepsilon + \\varphi \\right )} - 2 \\dot{\\lambda} \\dot{\\varepsilon} l_{p}^{2} m_{p} \\cos{\\left (\\varepsilon \\right )} + \\dot{\\lambda} \\dot{\\varepsilon} l_{p}^{2} m_{p} \\cos{\\left (\\varepsilon - 2 \\varphi \\right )} + \\dot{\\lambda} \\dot{\\varepsilon} l_{p}^{2} m_{p} \\cos{\\left (\\varepsilon + 2 \\varphi \\right )} - 2 \\dot{\\lambda} \\dot{\\varphi} d_{1} d_{2} m_{p} \\sin{\\left (\\varepsilon \\right )} \\sin{\\left (\\varphi \\right )} + \\dot{\\lambda} \\dot{\\varphi} d_{1} d_{2} m_{p} \\cos{\\left (\\varepsilon - \\varphi \\right )} - \\dot{\\lambda} \\dot{\\varphi} d_{1} d_{2} m_{p} \\cos{\\left (\\varepsilon + \\varphi \\right )} - 2 \\dot{\\lambda} \\dot{\\varphi} d_{2} l_{h} m_{p} \\sin{\\left (\\varphi \\right )} \\cos{\\left (\\varepsilon \\right )} - \\dot{\\lambda} \\dot{\\varphi} d_{2} l_{h} m_{p} \\sin{\\left (\\varepsilon - \\varphi \\right )} + \\dot{\\lambda} \\dot{\\varphi} d_{2} l_{h} m_{p} \\sin{\\left (\\varepsilon + \\varphi \\right )} - 2 \\dot{\\varepsilon}^{2} d_{1} d_{2} m_{p} \\sin{\\left (\\varphi \\right )} + \\dot{\\varepsilon}^{2} d_{2}^{2} m_{p} \\sin{\\left (2 \\varphi \\right )} - \\dot{\\varepsilon}^{2} l_{p}^{2} m_{p} \\sin{\\left (2 \\varphi \\right )} + d_{2} g m_{p} \\sin{\\left (\\varepsilon - \\varphi \\right )} - d_{2} g m_{p} \\sin{\\left (\\varepsilon + \\varphi \\right )} = l_{p} \\left(- F_{b} + F_{f}\\right)$$"
      ],
      "text/plain": [
       "                                                                              \n",
       "               ⎛                                               2              \n",
       "\\ddot{\\lambda}⋅⎝2⋅d₁⋅d₂⋅mₚ⋅sin(\\varepsilon)⋅cos(\\varphi) - 2⋅d₂ ⋅mₚ⋅sin(\\varep\n",
       "                                                                              \n",
       "\n",
       "                                                                              \n",
       "                                                        2                    ⎞\n",
       "silon) + 2⋅d₂⋅lₕ⋅mₚ⋅cos(\\varepsilon)⋅cos(\\varphi) - 2⋅lₚ ⋅mₚ⋅sin(\\varepsilon)⎠\n",
       "                                                                              \n",
       "\n",
       "                                                                              \n",
       "                                                               ⎛    2         \n",
       " - 2⋅\\ddot{\\varepsilon}⋅d₂⋅lₕ⋅mₚ⋅sin(\\varphi) + \\ddot{\\varphi}⋅⎝2⋅d₂ ⋅mₚ + 2⋅l\n",
       "                                                                              \n",
       "\n",
       "                                                             2                \n",
       " 2   ⎞                2                         \\dot{\\lambda} ⋅d₁⋅d₂⋅mₚ⋅sin(2⋅\n",
       "ₚ ⋅mₚ⎠ - \\dot{\\lambda} ⋅d₁⋅d₂⋅mₚ⋅sin(\\varphi) - ──────────────────────────────\n",
       "                                                                         2    \n",
       "\n",
       "                                      2                                       \n",
       "\\varepsilon - \\varphi)   \\dot{\\lambda} ⋅d₁⋅d₂⋅mₚ⋅sin(2⋅\\varepsilon + \\varphi) \n",
       "────────────────────── + ──────────────────────────────────────────────────── \n",
       "                                                  2                           \n",
       "\n",
       "               2   2                                  2   2                   \n",
       "  \\dot{\\lambda} ⋅d₂ ⋅mₚ⋅sin(2⋅\\varphi)   \\dot{\\lambda} ⋅d₂ ⋅mₚ⋅sin(2⋅\\varepsil\n",
       "- ──────────────────────────────────── + ─────────────────────────────────────\n",
       "                   2                                              4           \n",
       "\n",
       "                               2   2                                          \n",
       "on - 2⋅\\varphi)   \\dot{\\lambda} ⋅d₂ ⋅mₚ⋅sin(2⋅\\varepsilon + 2⋅\\varphi)   \\dot{\n",
       "─────────────── - ──────────────────────────────────────────────────── - ─────\n",
       "                                           4                                  \n",
       "\n",
       "        2                                                      2              \n",
       "\\lambda} ⋅d₂⋅lₕ⋅mₚ⋅cos(2⋅\\varepsilon - \\varphi)   \\dot{\\lambda} ⋅d₂⋅lₕ⋅mₚ⋅cos(\n",
       "─────────────────────────────────────────────── + ────────────────────────────\n",
       "                    2                                                      2  \n",
       "\n",
       "                                        2   2                                 \n",
       "2⋅\\varepsilon + \\varphi)   \\dot{\\lambda} ⋅lₚ ⋅mₚ⋅sin(2⋅\\varphi)   \\dot{\\lambda\n",
       "──────────────────────── + ──────────────────────────────────── - ────────────\n",
       "                                            2                                 \n",
       "\n",
       " 2   2                                                  2   2                 \n",
       "} ⋅lₚ ⋅mₚ⋅sin(2⋅\\varepsilon - 2⋅\\varphi)   \\dot{\\lambda} ⋅lₚ ⋅mₚ⋅sin(2⋅\\vareps\n",
       "──────────────────────────────────────── + ───────────────────────────────────\n",
       "             4                                                      4         \n",
       "\n",
       "                                                                              \n",
       "ilon + 2⋅\\varphi)                                                             \n",
       "───────────────── + 2⋅\\dot{\\lambda}⋅\\dot{\\varepsilon}⋅d₁⋅d₂⋅mₚ⋅cos(\\varepsilon\n",
       "                                                                              \n",
       "\n",
       "                                                                              \n",
       "                                                                              \n",
       ")⋅cos(\\varphi) + \\dot{\\lambda}⋅\\dot{\\varepsilon}⋅d₁⋅d₂⋅mₚ⋅cos(\\varepsilon - \\v\n",
       "                                                                              \n",
       "\n",
       "                                                                              \n",
       "                                                                              \n",
       "arphi) + \\dot{\\lambda}⋅\\dot{\\varepsilon}⋅d₁⋅d₂⋅mₚ⋅cos(\\varepsilon + \\varphi) -\n",
       "                                                                              \n",
       "\n",
       "                                                                              \n",
       "                                     2                                        \n",
       " 2⋅\\dot{\\lambda}⋅\\dot{\\varepsilon}⋅d₂ ⋅mₚ⋅cos(\\varepsilon) - \\dot{\\lambda}⋅\\do\n",
       "                                                                              \n",
       "\n",
       "                                                                              \n",
       "                 2                                                            \n",
       "t{\\varepsilon}⋅d₂ ⋅mₚ⋅cos(\\varepsilon - 2⋅\\varphi) - \\dot{\\lambda}⋅\\dot{\\varep\n",
       "                                                                              \n",
       "\n",
       "                                                                              \n",
       "         2                                                                    \n",
       "silon}⋅d₂ ⋅mₚ⋅cos(\\varepsilon + 2⋅\\varphi) - 2⋅\\dot{\\lambda}⋅\\dot{\\varepsilon}\n",
       "                                                                              \n",
       "\n",
       "                                                                              \n",
       "                                                                              \n",
       "⋅d₂⋅lₕ⋅mₚ⋅sin(\\varepsilon)⋅cos(\\varphi) - \\dot{\\lambda}⋅\\dot{\\varepsilon}⋅d₂⋅l\n",
       "                                                                              \n",
       "\n",
       "                                                                              \n",
       "                                                                              \n",
       "ₕ⋅mₚ⋅sin(\\varepsilon - \\varphi) - \\dot{\\lambda}⋅\\dot{\\varepsilon}⋅d₂⋅lₕ⋅mₚ⋅sin\n",
       "                                                                              \n",
       "\n",
       "                                                                              \n",
       "                                                              2               \n",
       "(\\varepsilon + \\varphi) - 2⋅\\dot{\\lambda}⋅\\dot{\\varepsilon}⋅lₚ ⋅mₚ⋅cos(\\vareps\n",
       "                                                                              \n",
       "\n",
       "                                                                              \n",
       "                                          2                                   \n",
       "ilon) + \\dot{\\lambda}⋅\\dot{\\varepsilon}⋅lₚ ⋅mₚ⋅cos(\\varepsilon - 2⋅\\varphi) + \n",
       "                                                                              \n",
       "\n",
       "                                                                              \n",
       "                                  2                                           \n",
       "\\dot{\\lambda}⋅\\dot{\\varepsilon}⋅lₚ ⋅mₚ⋅cos(\\varepsilon + 2⋅\\varphi) - 2⋅\\dot{\\\n",
       "                                                                              \n",
       "\n",
       "                                                                              \n",
       "                                                                              \n",
       "lambda}⋅\\dot{\\varphi}⋅d₁⋅d₂⋅mₚ⋅sin(\\varepsilon)⋅sin(\\varphi) + \\dot{\\lambda}⋅\\\n",
       "                                                                              \n",
       "\n",
       "                                                                              \n",
       "                                                                              \n",
       "dot{\\varphi}⋅d₁⋅d₂⋅mₚ⋅cos(\\varepsilon - \\varphi) - \\dot{\\lambda}⋅\\dot{\\varphi}\n",
       "                                                                              \n",
       "\n",
       "                                                                              \n",
       "                                                                              \n",
       "⋅d₁⋅d₂⋅mₚ⋅cos(\\varepsilon + \\varphi) - 2⋅\\dot{\\lambda}⋅\\dot{\\varphi}⋅d₂⋅lₕ⋅mₚ⋅\n",
       "                                                                              \n",
       "\n",
       "                                                                              \n",
       "                                                                              \n",
       "sin(\\varphi)⋅cos(\\varepsilon) - \\dot{\\lambda}⋅\\dot{\\varphi}⋅d₂⋅lₕ⋅mₚ⋅sin(\\vare\n",
       "                                                                              \n",
       "\n",
       "                                                                              \n",
       "                                                                              \n",
       "psilon - \\varphi) + \\dot{\\lambda}⋅\\dot{\\varphi}⋅d₂⋅lₕ⋅mₚ⋅sin(\\varepsilon + \\va\n",
       "                                                                              \n",
       "\n",
       "                                                                              \n",
       "                           2                                          2   2   \n",
       "rphi) - 2⋅\\dot{\\varepsilon} ⋅d₁⋅d₂⋅mₚ⋅sin(\\varphi) + \\dot{\\varepsilon} ⋅d₂ ⋅mₚ\n",
       "                                                                              \n",
       "\n",
       "                                                                              \n",
       "                                   2   2                                      \n",
       "⋅sin(2⋅\\varphi) - \\dot{\\varepsilon} ⋅lₚ ⋅mₚ⋅sin(2⋅\\varphi) + d₂⋅g⋅mₚ⋅sin(\\vare\n",
       "                                                                              \n",
       "\n",
       "                                                                        \n",
       "                                                                        \n",
       "psilon - \\varphi) - d₂⋅g⋅mₚ⋅sin(\\varepsilon + \\varphi) = lₚ⋅(-F_b + F_f)\n",
       "                                                                        "
      ]
     },
     "execution_count": 19,
     "metadata": {},
     "output_type": "execute_result"
    }
   ],
   "source": [
    "Eq(Eq_p.lhs.expand().collect([pdds, edds, ldds]), Eq_p.rhs)"
   ]
  },
  {
   "cell_type": "code",
   "execution_count": 20,
   "metadata": {},
   "outputs": [],
   "source": [
    "Eq_p_expanded = Eq(Eq_p.lhs.expand().collect([pdds, edds, ldds]), Eq_p.rhs)\n",
    "Eq_e_expanded = Eq(Eq_e.lhs.expand().collect([pdds, edds, ldds]), Eq_e.rhs)\n",
    "Eq_l_expanded = Eq(Eq_l.lhs.expand().collect([pdds, edds, ldds]), Eq_l.rhs)\n",
    "M, b = linear_eq_to_matrix([Eq_p_expanded, Eq_e_expanded, Eq_l_expanded], [pdds, edds, ldds])"
   ]
  },
  {
   "cell_type": "code",
   "execution_count": 21,
   "metadata": {},
   "outputs": [
    {
     "data": {
      "image/png": "[encoded data removed]",
      "text/latex": [
       "$$\\left[\\begin{matrix}2 d_{2}^{2} m_{p} + 2 l_{p}^{2} m_{p} & - 2 d_{2} l_{h} m_{p} \\sin{\\left (\\varphi \\right )} & 2 d_{1} d_{2} m_{p} \\sin{\\left (\\varepsilon \\right )} \\cos{\\left (\\varphi \\right )} - 2 d_{2}^{2} m_{p} \\sin{\\left (\\varepsilon \\right )} + 2 d_{2} l_{h} m_{p} \\cos{\\left (\\varepsilon \\right )} \\cos{\\left (\\varphi \\right )} - 2 l_{p}^{2} m_{p} \\sin{\\left (\\varepsilon \\right )}\\\\- 2 d_{2} l_{h} m_{p} \\sin{\\left (\\varphi \\right )} & 2 d_{1}^{2} m_{p} - 4 d_{1} d_{2} m_{p} \\cos{\\left (\\varphi \\right )} + 2 d_{2}^{2} m_{p} \\cos^{2}{\\left (\\varphi \\right )} + d_{c}^{2} m_{c} + l_{c}^{2} m_{c} + 2 l_{h}^{2} m_{p} - 2 l_{p}^{2} m_{p} \\cos^{2}{\\left (\\varphi \\right )} + 2 l_{p}^{2} m_{p} & - 2 d_{1} d_{2} m_{p} \\sin{\\left (\\varphi \\right )} \\cos{\\left (\\varepsilon \\right )} - \\frac{d_{2}^{2} m_{p} \\sin{\\left (\\varepsilon - 2 \\varphi \\right )}}{2} + \\frac{d_{2}^{2} m_{p} \\sin{\\left (\\varepsilon + 2 \\varphi \\right )}}{2} + 2 d_{2} l_{h} m_{p} \\sin{\\left (\\varepsilon \\right )} \\sin{\\left (\\varphi \\right )} + \\frac{l_{p}^{2} m_{p} \\sin{\\left (\\varepsilon - 2 \\varphi \\right )}}{2} - \\frac{l_{p}^{2} m_{p} \\sin{\\left (\\varepsilon + 2 \\varphi \\right )}}{2}\\\\2 d_{1} d_{2} m_{p} \\sin{\\left (\\varepsilon \\right )} \\cos{\\left (\\varphi \\right )} - 2 d_{2}^{2} m_{p} \\sin{\\left (\\varepsilon \\right )} + 2 d_{2} l_{h} m_{p} \\cos{\\left (\\varepsilon \\right )} \\cos{\\left (\\varphi \\right )} - 2 l_{p}^{2} m_{p} \\sin{\\left (\\varepsilon \\right )} & - 2 d_{1} d_{2} m_{p} \\sin{\\left (\\varphi \\right )} \\cos{\\left (\\varepsilon \\right )} - \\frac{d_{2}^{2} m_{p} \\sin{\\left (\\varepsilon - 2 \\varphi \\right )}}{2} + \\frac{d_{2}^{2} m_{p} \\sin{\\left (\\varepsilon + 2 \\varphi \\right )}}{2} + 2 d_{2} l_{h} m_{p} \\sin{\\left (\\varepsilon \\right )} \\sin{\\left (\\varphi \\right )} + \\frac{l_{p}^{2} m_{p} \\sin{\\left (\\varepsilon - 2 \\varphi \\right )}}{2} - \\frac{l_{p}^{2} m_{p} \\sin{\\left (\\varepsilon + 2 \\varphi \\right )}}{2} & - 2 d_{1}^{2} m_{p} \\cos^{2}{\\left (\\varepsilon \\right )} + 2 d_{1}^{2} m_{p} + 4 d_{1} d_{2} m_{p} \\cos^{2}{\\left (\\varepsilon \\right )} \\cos{\\left (\\varphi \\right )} - 4 d_{1} d_{2} m_{p} \\cos{\\left (\\varphi \\right )} + 2 d_{1} l_{h} m_{p} \\sin{\\left (2 \\varepsilon \\right )} - 2 d_{2}^{2} m_{p} \\cos^{2}{\\left (\\varepsilon \\right )} \\cos^{2}{\\left (\\varphi \\right )} + 2 d_{2}^{2} m_{p} - d_{2} l_{h} m_{p} \\sin{\\left (2 \\varepsilon - \\varphi \\right )} - d_{2} l_{h} m_{p} \\sin{\\left (2 \\varepsilon + \\varphi \\right )} - d_{c}^{2} m_{c} \\cos^{2}{\\left (\\varepsilon \\right )} + d_{c}^{2} m_{c} + d_{c} l_{c} m_{c} \\sin{\\left (2 \\varepsilon \\right )} + l_{c}^{2} m_{c} \\cos^{2}{\\left (\\varepsilon \\right )} + 2 l_{h}^{2} m_{p} \\cos^{2}{\\left (\\varepsilon \\right )} + 2 l_{p}^{2} m_{p} \\cos^{2}{\\left (\\varepsilon \\right )} \\cos^{2}{\\left (\\varphi \\right )} - 2 l_{p}^{2} m_{p} \\cos^{2}{\\left (\\varepsilon \\right )} + 2 l_{p}^{2} m_{p}\\end{matrix}\\right]$$"
      ],
      "text/plain": [
       "⎡                                                                2          2 \n",
       "⎢                                                            2⋅d₂ ⋅mₚ + 2⋅lₚ ⋅\n",
       "⎢                                                                             \n",
       "⎢                                                                             \n",
       "⎢                                                                             \n",
       "⎢                                                         -2⋅d₂⋅lₕ⋅mₚ⋅sin(\\var\n",
       "⎢                                                                             \n",
       "⎢                                                                             \n",
       "⎢                                                                             \n",
       "⎢                                               2                             \n",
       "⎢2⋅d₁⋅d₂⋅mₚ⋅sin(\\varepsilon)⋅cos(\\varphi) - 2⋅d₂ ⋅mₚ⋅sin(\\varepsilon) + 2⋅d₂⋅l\n",
       "⎣                                                                             \n",
       "\n",
       "                                                                              \n",
       "mₚ                                                                            \n",
       "                                                                              \n",
       "                                                                              \n",
       "                                                                              \n",
       "phi)                                                                          \n",
       "                                                                              \n",
       "                                                                              \n",
       "                                                                              \n",
       "                                         2                                    \n",
       "ₕ⋅mₚ⋅cos(\\varepsilon)⋅cos(\\varphi) - 2⋅lₚ ⋅mₚ⋅sin(\\varepsilon)  -2⋅d₁⋅d₂⋅mₚ⋅si\n",
       "                                                                              \n",
       "\n",
       "                                                                              \n",
       "                                                                              \n",
       "                                                                              \n",
       "                                                                              \n",
       "                                            2                                 \n",
       "                                        2⋅d₁ ⋅mₚ - 4⋅d₁⋅d₂⋅mₚ⋅cos(\\varphi) + 2\n",
       "                                                                              \n",
       "                                                                              \n",
       "                                2                                     2       \n",
       "                              d₂ ⋅mₚ⋅sin(\\varepsilon - 2⋅\\varphi)   d₂ ⋅mₚ⋅sin\n",
       "n(\\varphi)⋅cos(\\varepsilon) - ─────────────────────────────────── + ──────────\n",
       "                                               2                              \n",
       "\n",
       "                                                                              \n",
       "              -2⋅d₂⋅lₕ⋅mₚ⋅sin(\\varphi)                                        \n",
       "                                                                              \n",
       "                                                                              \n",
       "   2       2               2          2           2          2       2        \n",
       "⋅d₂ ⋅mₚ⋅cos (\\varphi) + d_c ⋅m_c + l_c ⋅m_c + 2⋅lₕ ⋅mₚ - 2⋅lₚ ⋅mₚ⋅cos (\\varphi\n",
       "                                                                              \n",
       "                                                                              \n",
       "                                                                         2    \n",
       "(\\varepsilon + 2⋅\\varphi)                                              lₚ ⋅mₚ⋅\n",
       "───────────────────────── + 2⋅d₂⋅lₕ⋅mₚ⋅sin(\\varepsilon)⋅sin(\\varphi) + ───────\n",
       "       2                                                                      \n",
       "\n",
       "                                                                              \n",
       "                                                                              \n",
       "                                                                              \n",
       "                                                                              \n",
       "        2                                                                     \n",
       ") + 2⋅lₚ ⋅mₚ                                                                  \n",
       "                                                                              \n",
       "                                                                              \n",
       "                                 2                                            \n",
       "sin(\\varepsilon - 2⋅\\varphi)   lₚ ⋅mₚ⋅sin(\\varepsilon + 2⋅\\varphi)        2   \n",
       "──────────────────────────── - ───────────────────────────────────  - 2⋅d₁ ⋅mₚ\n",
       "          2                                     2                             \n",
       "\n",
       "                                                                              \n",
       "                                                                              \n",
       "                                                                              \n",
       "                                                                              \n",
       "                                                                              \n",
       "                                                                              \n",
       "                                                                              \n",
       "                                                                              \n",
       "                                                                              \n",
       "    2                    2                    2                               \n",
       "⋅cos (\\varepsilon) + 2⋅d₁ ⋅mₚ + 4⋅d₁⋅d₂⋅mₚ⋅cos (\\varepsilon)⋅cos(\\varphi) - 4⋅\n",
       "                                                                              \n",
       "\n",
       "                                                                              \n",
       "                                                                              \n",
       "                                                                              \n",
       "                                                                              \n",
       "                                                                              \n",
       "                                      -2⋅d₁⋅d₂⋅mₚ⋅sin(\\varphi)⋅cos(\\varepsilon\n",
       "                                                                              \n",
       "                                                                              \n",
       "                                                                              \n",
       "                                                            2       2         \n",
       "d₁⋅d₂⋅mₚ⋅cos(\\varphi) + 2⋅d₁⋅lₕ⋅mₚ⋅sin(2⋅\\varepsilon) - 2⋅d₂ ⋅mₚ⋅cos (\\varepsi\n",
       "                                                                              \n",
       "\n",
       "                                                        2                     \n",
       "         2⋅d₁⋅d₂⋅mₚ⋅sin(\\varepsilon)⋅cos(\\varphi) - 2⋅d₂ ⋅mₚ⋅sin(\\varepsilon) \n",
       "                                                                              \n",
       "      2                                     2                                 \n",
       "    d₂ ⋅mₚ⋅sin(\\varepsilon - 2⋅\\varphi)   d₂ ⋅mₚ⋅sin(\\varepsilon + 2⋅\\varphi) \n",
       ") - ─────────────────────────────────── + ─────────────────────────────────── \n",
       "                     2                                     2                  \n",
       "                                                                              \n",
       "                                                                              \n",
       "        2                2                                                    \n",
       "lon)⋅cos (\\varphi) + 2⋅d₂ ⋅mₚ - d₂⋅lₕ⋅mₚ⋅sin(2⋅\\varepsilon - \\varphi) - d₂⋅lₕ⋅\n",
       "                                                                              \n",
       "\n",
       "                                                 2                            \n",
       "+ 2⋅d₂⋅lₕ⋅mₚ⋅cos(\\varepsilon)⋅cos(\\varphi) - 2⋅lₚ ⋅mₚ⋅sin(\\varepsilon)        \n",
       "                                                                              \n",
       "                                               2                              \n",
       "                                             lₚ ⋅mₚ⋅sin(\\varepsilon - 2⋅\\varph\n",
       "+ 2⋅d₂⋅lₕ⋅mₚ⋅sin(\\varepsilon)⋅sin(\\varphi) + ─────────────────────────────────\n",
       "                                                              2               \n",
       "                                                                              \n",
       "                                                                              \n",
       "                                     2        2                   2           \n",
       "mₚ⋅sin(2⋅\\varepsilon + \\varphi) - d_c ⋅m_c⋅cos (\\varepsilon) + d_c ⋅m_c + d_c⋅\n",
       "                                                                              \n",
       "\n",
       "                                                                              \n",
       "                                                                              \n",
       "                                                                              \n",
       "       2                                                                      \n",
       "i)   lₚ ⋅mₚ⋅sin(\\varepsilon + 2⋅\\varphi)                                      \n",
       "── - ───────────────────────────────────                                      \n",
       "                      2                                                       \n",
       "                                                                              \n",
       "                                                                              \n",
       "                                2        2                    2       2       \n",
       "l_c⋅m_c⋅sin(2⋅\\varepsilon) + l_c ⋅m_c⋅cos (\\varepsilon) + 2⋅lₕ ⋅mₚ⋅cos (\\varep\n",
       "                                                                              \n",
       "\n",
       "                                                                              \n",
       "                                                                              \n",
       "                                                                              \n",
       "                                                                              \n",
       "                                                                              \n",
       "                                                                              \n",
       "                                                                              \n",
       "                                                                              \n",
       "                                                                              \n",
       "             2       2                 2                2       2             \n",
       "silon) + 2⋅lₚ ⋅mₚ⋅cos (\\varepsilon)⋅cos (\\varphi) - 2⋅lₚ ⋅mₚ⋅cos (\\varepsilon)\n",
       "                                                                              \n",
       "\n",
       "           ⎤\n",
       "           ⎥\n",
       "           ⎥\n",
       "           ⎥\n",
       "           ⎥\n",
       "           ⎥\n",
       "           ⎥\n",
       "           ⎥\n",
       "           ⎥\n",
       "       2   ⎥\n",
       " + 2⋅lₚ ⋅mₚ⎥\n",
       "           ⎦"
      ]
     },
     "execution_count": 21,
     "metadata": {},
     "output_type": "execute_result"
    }
   ],
   "source": [
    "M"
   ]
  },
  {
   "cell_type": "code",
   "execution_count": 22,
   "metadata": {},
   "outputs": [
    {
     "data": {
      "image/png": "[encoded data removed]",
      "text/latex": [
       "$$\\left[\\begin{matrix}\\dot{\\lambda}^{2} d_{1} d_{2} m_{p} \\sin{\\left (\\varphi \\right )} + \\frac{\\dot{\\lambda}^{2} d_{1} d_{2} m_{p} \\sin{\\left (2 \\varepsilon - \\varphi \\right )}}{2} - \\frac{\\dot{\\lambda}^{2} d_{1} d_{2} m_{p} \\sin{\\left (2 \\varepsilon + \\varphi \\right )}}{2} + \\frac{\\dot{\\lambda}^{2} d_{2}^{2} m_{p} \\sin{\\left (2 \\varphi \\right )}}{2} - \\frac{\\dot{\\lambda}^{2} d_{2}^{2} m_{p} \\sin{\\left (2 \\varepsilon - 2 \\varphi \\right )}}{4} + \\frac{\\dot{\\lambda}^{2} d_{2}^{2} m_{p} \\sin{\\left (2 \\varepsilon + 2 \\varphi \\right )}}{4} + \\frac{\\dot{\\lambda}^{2} d_{2} l_{h} m_{p} \\cos{\\left (2 \\varepsilon - \\varphi \\right )}}{2} - \\frac{\\dot{\\lambda}^{2} d_{2} l_{h} m_{p} \\cos{\\left (2 \\varepsilon + \\varphi \\right )}}{2} - \\frac{\\dot{\\lambda}^{2} l_{p}^{2} m_{p} \\sin{\\left (2 \\varphi \\right )}}{2} + \\frac{\\dot{\\lambda}^{2} l_{p}^{2} m_{p} \\sin{\\left (2 \\varepsilon - 2 \\varphi \\right )}}{4} - \\frac{\\dot{\\lambda}^{2} l_{p}^{2} m_{p} \\sin{\\left (2 \\varepsilon + 2 \\varphi \\right )}}{4} - 2 \\dot{\\lambda} \\dot{\\varepsilon} d_{1} d_{2} m_{p} \\cos{\\left (\\varepsilon \\right )} \\cos{\\left (\\varphi \\right )} - \\dot{\\lambda} \\dot{\\varepsilon} d_{1} d_{2} m_{p} \\cos{\\left (\\varepsilon - \\varphi \\right )} - \\dot{\\lambda} \\dot{\\varepsilon} d_{1} d_{2} m_{p} \\cos{\\left (\\varepsilon + \\varphi \\right )} + 2 \\dot{\\lambda} \\dot{\\varepsilon} d_{2}^{2} m_{p} \\cos{\\left (\\varepsilon \\right )} + \\dot{\\lambda} \\dot{\\varepsilon} d_{2}^{2} m_{p} \\cos{\\left (\\varepsilon - 2 \\varphi \\right )} + \\dot{\\lambda} \\dot{\\varepsilon} d_{2}^{2} m_{p} \\cos{\\left (\\varepsilon + 2 \\varphi \\right )} + 2 \\dot{\\lambda} \\dot{\\varepsilon} d_{2} l_{h} m_{p} \\sin{\\left (\\varepsilon \\right )} \\cos{\\left (\\varphi \\right )} + \\dot{\\lambda} \\dot{\\varepsilon} d_{2} l_{h} m_{p} \\sin{\\left (\\varepsilon - \\varphi \\right )} + \\dot{\\lambda} \\dot{\\varepsilon} d_{2} l_{h} m_{p} \\sin{\\left (\\varepsilon + \\varphi \\right )} + 2 \\dot{\\lambda} \\dot{\\varepsilon} l_{p}^{2} m_{p} \\cos{\\left (\\varepsilon \\right )} - \\dot{\\lambda} \\dot{\\varepsilon} l_{p}^{2} m_{p} \\cos{\\left (\\varepsilon - 2 \\varphi \\right )} - \\dot{\\lambda} \\dot{\\varepsilon} l_{p}^{2} m_{p} \\cos{\\left (\\varepsilon + 2 \\varphi \\right )} + 2 \\dot{\\lambda} \\dot{\\varphi} d_{1} d_{2} m_{p} \\sin{\\left (\\varepsilon \\right )} \\sin{\\left (\\varphi \\right )} - \\dot{\\lambda} \\dot{\\varphi} d_{1} d_{2} m_{p} \\cos{\\left (\\varepsilon - \\varphi \\right )} + \\dot{\\lambda} \\dot{\\varphi} d_{1} d_{2} m_{p} \\cos{\\left (\\varepsilon + \\varphi \\right )} + 2 \\dot{\\lambda} \\dot{\\varphi} d_{2} l_{h} m_{p} \\sin{\\left (\\varphi \\right )} \\cos{\\left (\\varepsilon \\right )} + \\dot{\\lambda} \\dot{\\varphi} d_{2} l_{h} m_{p} \\sin{\\left (\\varepsilon - \\varphi \\right )} - \\dot{\\lambda} \\dot{\\varphi} d_{2} l_{h} m_{p} \\sin{\\left (\\varepsilon + \\varphi \\right )} + 2 \\dot{\\varepsilon}^{2} d_{1} d_{2} m_{p} \\sin{\\left (\\varphi \\right )} - \\dot{\\varepsilon}^{2} d_{2}^{2} m_{p} \\sin{\\left (2 \\varphi \\right )} + \\dot{\\varepsilon}^{2} l_{p}^{2} m_{p} \\sin{\\left (2 \\varphi \\right )} - d_{2} g m_{p} \\sin{\\left (\\varepsilon - \\varphi \\right )} + d_{2} g m_{p} \\sin{\\left (\\varepsilon + \\varphi \\right )} + l_{p} \\left(- F_{b} + F_{f}\\right)\\\\\\dot{\\lambda}^{2} d_{1}^{2} m_{p} \\sin{\\left (2 \\varepsilon \\right )} - \\dot{\\lambda}^{2} d_{1} d_{2} m_{p} \\sin{\\left (2 \\varepsilon - \\varphi \\right )} - \\dot{\\lambda}^{2} d_{1} d_{2} m_{p} \\sin{\\left (2 \\varepsilon + \\varphi \\right )} + 2 \\dot{\\lambda}^{2} d_{1} l_{h} m_{p} \\cos{\\left (2 \\varepsilon \\right )} + \\frac{\\dot{\\lambda}^{2} d_{2}^{2} m_{p} \\sin{\\left (2 \\varepsilon \\right )}}{2} + \\frac{\\dot{\\lambda}^{2} d_{2}^{2} m_{p} \\sin{\\left (2 \\varepsilon - 2 \\varphi \\right )}}{4} + \\frac{\\dot{\\lambda}^{2} d_{2}^{2} m_{p} \\sin{\\left (2 \\varepsilon + 2 \\varphi \\right )}}{4} - \\dot{\\lambda}^{2} d_{2} l_{h} m_{p} \\cos{\\left (2 \\varepsilon - \\varphi \\right )} - \\dot{\\lambda}^{2} d_{2} l_{h} m_{p} \\cos{\\left (2 \\varepsilon + \\varphi \\right )} + \\frac{\\dot{\\lambda}^{2} d_{c}^{2} m_{c} \\sin{\\left (2 \\varepsilon \\right )}}{2} + \\dot{\\lambda}^{2} d_{c} l_{c} m_{c} \\cos{\\left (2 \\varepsilon \\right )} - \\frac{\\dot{\\lambda}^{2} l_{c}^{2} m_{c} \\sin{\\left (2 \\varepsilon \\right )}}{2} - \\dot{\\lambda}^{2} l_{h}^{2} m_{p} \\sin{\\left (2 \\varepsilon \\right )} + \\frac{\\dot{\\lambda}^{2} l_{p}^{2} m_{p} \\sin{\\left (2 \\varepsilon \\right )}}{2} - \\frac{\\dot{\\lambda}^{2} l_{p}^{2} m_{p} \\sin{\\left (2 \\varepsilon - 2 \\varphi \\right )}}{4} - \\frac{\\dot{\\lambda}^{2} l_{p}^{2} m_{p} \\sin{\\left (2 \\varepsilon + 2 \\varphi \\right )}}{4} - 2 \\dot{\\lambda} \\dot{\\varepsilon} d_{1} d_{2} m_{p} \\sin{\\left (\\varepsilon \\right )} \\sin{\\left (\\varphi \\right )} + \\dot{\\lambda} \\dot{\\varepsilon} d_{1} d_{2} m_{p} \\cos{\\left (\\varepsilon - \\varphi \\right )} - \\dot{\\lambda} \\dot{\\varepsilon} d_{1} d_{2} m_{p} \\cos{\\left (\\varepsilon + \\varphi \\right )} - 2 \\dot{\\lambda} \\dot{\\varepsilon} d_{2} l_{h} m_{p} \\sin{\\left (\\varphi \\right )} \\cos{\\left (\\varepsilon \\right )} - \\dot{\\lambda} \\dot{\\varepsilon} d_{2} l_{h} m_{p} \\sin{\\left (\\varepsilon - \\varphi \\right )} + \\dot{\\lambda} \\dot{\\varepsilon} d_{2} l_{h} m_{p} \\sin{\\left (\\varepsilon + \\varphi \\right )} + 2 \\dot{\\lambda} \\dot{\\varphi} d_{1} d_{2} m_{p} \\cos{\\left (\\varepsilon \\right )} \\cos{\\left (\\varphi \\right )} + \\dot{\\lambda} \\dot{\\varphi} d_{1} d_{2} m_{p} \\cos{\\left (\\varepsilon - \\varphi \\right )} + \\dot{\\lambda} \\dot{\\varphi} d_{1} d_{2} m_{p} \\cos{\\left (\\varepsilon + \\varphi \\right )} - 2 \\dot{\\lambda} \\dot{\\varphi} d_{2}^{2} m_{p} \\cos{\\left (\\varepsilon \\right )} - \\dot{\\lambda} \\dot{\\varphi} d_{2}^{2} m_{p} \\cos{\\left (\\varepsilon - 2 \\varphi \\right )} - \\dot{\\lambda} \\dot{\\varphi} d_{2}^{2} m_{p} \\cos{\\left (\\varepsilon + 2 \\varphi \\right )} - 2 \\dot{\\lambda} \\dot{\\varphi} d_{2} l_{h} m_{p} \\sin{\\left (\\varepsilon \\right )} \\cos{\\left (\\varphi \\right )} - \\dot{\\lambda} \\dot{\\varphi} d_{2} l_{h} m_{p} \\sin{\\left (\\varepsilon - \\varphi \\right )} - \\dot{\\lambda} \\dot{\\varphi} d_{2} l_{h} m_{p} \\sin{\\left (\\varepsilon + \\varphi \\right )} - 2 \\dot{\\lambda} \\dot{\\varphi} l_{p}^{2} m_{p} \\cos{\\left (\\varepsilon \\right )} + \\dot{\\lambda} \\dot{\\varphi} l_{p}^{2} m_{p} \\cos{\\left (\\varepsilon - 2 \\varphi \\right )} + \\dot{\\lambda} \\dot{\\varphi} l_{p}^{2} m_{p} \\cos{\\left (\\varepsilon + 2 \\varphi \\right )} - 4 \\dot{\\varepsilon} \\dot{\\varphi} d_{1} d_{2} m_{p} \\sin{\\left (\\varphi \\right )} + 4 \\dot{\\varepsilon} \\dot{\\varphi} d_{2}^{2} m_{p} \\sin{\\left (\\varphi \\right )} \\cos{\\left (\\varphi \\right )} - 4 \\dot{\\varepsilon} \\dot{\\varphi} l_{p}^{2} m_{p} \\sin{\\left (\\varphi \\right )} \\cos{\\left (\\varphi \\right )} + 2 \\dot{\\varphi}^{2} d_{2} l_{h} m_{p} \\cos{\\left (\\varphi \\right )} - 2 d_{1} g m_{p} \\sin{\\left (\\varepsilon \\right )} + d_{2} g m_{p} \\sin{\\left (\\varepsilon - \\varphi \\right )} + d_{2} g m_{p} \\sin{\\left (\\varepsilon + \\varphi \\right )} + d_{c} g m_{c} \\sin{\\left (\\varepsilon \\right )} + g l_{c} m_{c} \\cos{\\left (\\varepsilon \\right )} - 2 g l_{h} m_{p} \\cos{\\left (\\varepsilon \\right )} + l_{h} \\left(F_{b} + F_{f}\\right) \\cos{\\left (\\varphi \\right )}\\\\F_{b} d_{1} \\sin{\\left (\\varepsilon \\right )} \\sin{\\left (\\varphi \\right )} + F_{b} l_{h} \\sin{\\left (\\varphi \\right )} \\cos{\\left (\\varepsilon \\right )} + F_{b} l_{p} \\sin{\\left (\\varepsilon \\right )} + F_{f} d_{1} \\sin{\\left (\\varepsilon \\right )} \\sin{\\left (\\varphi \\right )} + F_{f} l_{h} \\sin{\\left (\\varphi \\right )} \\cos{\\left (\\varepsilon \\right )} - F_{f} l_{p} \\sin{\\left (\\varepsilon \\right )} - 4 \\dot{\\lambda} \\dot{\\varepsilon} d_{1}^{2} m_{p} \\sin{\\left (\\varepsilon \\right )} \\cos{\\left (\\varepsilon \\right )} + 8 \\dot{\\lambda} \\dot{\\varepsilon} d_{1} d_{2} m_{p} \\sin{\\left (\\varepsilon \\right )} \\cos{\\left (\\varepsilon \\right )} \\cos{\\left (\\varphi \\right )} - 4 \\dot{\\lambda} \\dot{\\varepsilon} d_{1} l_{h} m_{p} \\cos{\\left (2 \\varepsilon \\right )} - 4 \\dot{\\lambda} \\dot{\\varepsilon} d_{2}^{2} m_{p} \\sin{\\left (\\varepsilon \\right )} \\cos{\\left (\\varepsilon \\right )} \\cos^{2}{\\left (\\varphi \\right )} + 2 \\dot{\\lambda} \\dot{\\varepsilon} d_{2} l_{h} m_{p} \\cos{\\left (2 \\varepsilon - \\varphi \\right )} + 2 \\dot{\\lambda} \\dot{\\varepsilon} d_{2} l_{h} m_{p} \\cos{\\left (2 \\varepsilon + \\varphi \\right )} - 2 \\dot{\\lambda} \\dot{\\varepsilon} d_{c}^{2} m_{c} \\sin{\\left (\\varepsilon \\right )} \\cos{\\left (\\varepsilon \\right )} - 2 \\dot{\\lambda} \\dot{\\varepsilon} d_{c} l_{c} m_{c} \\cos{\\left (2 \\varepsilon \\right )} + 2 \\dot{\\lambda} \\dot{\\varepsilon} l_{c}^{2} m_{c} \\sin{\\left (\\varepsilon \\right )} \\cos{\\left (\\varepsilon \\right )} + 4 \\dot{\\lambda} \\dot{\\varepsilon} l_{h}^{2} m_{p} \\sin{\\left (\\varepsilon \\right )} \\cos{\\left (\\varepsilon \\right )} + 4 \\dot{\\lambda} \\dot{\\varepsilon} l_{p}^{2} m_{p} \\sin{\\left (\\varepsilon \\right )} \\cos{\\left (\\varepsilon \\right )} \\cos^{2}{\\left (\\varphi \\right )} - 4 \\dot{\\lambda} \\dot{\\varepsilon} l_{p}^{2} m_{p} \\sin{\\left (\\varepsilon \\right )} \\cos{\\left (\\varepsilon \\right )} + 4 \\dot{\\lambda} \\dot{\\varphi} d_{1} d_{2} m_{p} \\sin{\\left (\\varphi \\right )} \\cos^{2}{\\left (\\varepsilon \\right )} - 4 \\dot{\\lambda} \\dot{\\varphi} d_{1} d_{2} m_{p} \\sin{\\left (\\varphi \\right )} - 4 \\dot{\\lambda} \\dot{\\varphi} d_{2}^{2} m_{p} \\sin{\\left (\\varphi \\right )} \\cos^{2}{\\left (\\varepsilon \\right )} \\cos{\\left (\\varphi \\right )} - \\dot{\\lambda} \\dot{\\varphi} d_{2} l_{h} m_{p} \\cos{\\left (2 \\varepsilon - \\varphi \\right )} + \\dot{\\lambda} \\dot{\\varphi} d_{2} l_{h} m_{p} \\cos{\\left (2 \\varepsilon + \\varphi \\right )} + 4 \\dot{\\lambda} \\dot{\\varphi} l_{p}^{2} m_{p} \\sin{\\left (\\varphi \\right )} \\cos^{2}{\\left (\\varepsilon \\right )} \\cos{\\left (\\varphi \\right )} - 2 \\dot{\\varepsilon}^{2} d_{1} d_{2} m_{p} \\sin{\\left (\\varepsilon \\right )} \\sin{\\left (\\varphi \\right )} + \\frac{\\dot{\\varepsilon}^{2} d_{2}^{2} m_{p} \\cos{\\left (\\varepsilon - 2 \\varphi \\right )}}{2} - \\frac{\\dot{\\varepsilon}^{2} d_{2}^{2} m_{p} \\cos{\\left (\\varepsilon + 2 \\varphi \\right )}}{2} - 2 \\dot{\\varepsilon}^{2} d_{2} l_{h} m_{p} \\sin{\\left (\\varphi \\right )} \\cos{\\left (\\varepsilon \\right )} - \\frac{\\dot{\\varepsilon}^{2} l_{p}^{2} m_{p} \\cos{\\left (\\varepsilon - 2 \\varphi \\right )}}{2} + \\frac{\\dot{\\varepsilon}^{2} l_{p}^{2} m_{p} \\cos{\\left (\\varepsilon + 2 \\varphi \\right )}}{2} + 2 \\dot{\\varepsilon} \\dot{\\varphi} d_{2}^{2} m_{p} \\cos{\\left (\\varepsilon \\right )} - \\dot{\\varepsilon} \\dot{\\varphi} d_{2}^{2} m_{p} \\cos{\\left (\\varepsilon - 2 \\varphi \\right )} - \\dot{\\varepsilon} \\dot{\\varphi} d_{2}^{2} m_{p} \\cos{\\left (\\varepsilon + 2 \\varphi \\right )} + 2 \\dot{\\varepsilon} \\dot{\\varphi} l_{p}^{2} m_{p} \\cos{\\left (\\varepsilon \\right )} + \\dot{\\varepsilon} \\dot{\\varphi} l_{p}^{2} m_{p} \\cos{\\left (\\varepsilon - 2 \\varphi \\right )} + \\dot{\\varepsilon} \\dot{\\varphi} l_{p}^{2} m_{p} \\cos{\\left (\\varepsilon + 2 \\varphi \\right )} + 2 \\dot{\\varphi}^{2} d_{1} d_{2} m_{p} \\sin{\\left (\\varepsilon \\right )} \\sin{\\left (\\varphi \\right )} + 2 \\dot{\\varphi}^{2} d_{2} l_{h} m_{p} \\sin{\\left (\\varphi \\right )} \\cos{\\left (\\varepsilon \\right )}\\end{matrix}\\right]$$"
      ],
      "text/plain": [
       "⎡                                                                             \n",
       "⎢                                                                             \n",
       "⎢                                                                             \n",
       "⎢                                                                             \n",
       "⎢                                                                             \n",
       "⎢                                                                             \n",
       "⎢             2   2                                      2                    \n",
       "⎢\\dot{\\lambda} ⋅d₁ ⋅mₚ⋅sin(2⋅\\varepsilon) - \\dot{\\lambda} ⋅d₁⋅d₂⋅mₚ⋅sin(2⋅\\var\n",
       "⎢                                                                             \n",
       "⎢                                                                             \n",
       "⎢                                                                             \n",
       "⎢                                                                             \n",
       "⎢          F_b⋅d₁⋅sin(\\varepsilon)⋅sin(\\varphi) + F_b⋅lₕ⋅sin(\\varphi)⋅cos(\\var\n",
       "⎣                                                                             \n",
       "\n",
       "                                                                              \n",
       "                                                                              \n",
       "                                                                              \n",
       "                                                                              \n",
       "                                                                              \n",
       "                                                                              \n",
       "                                  2                                           \n",
       "epsilon - \\varphi) - \\dot{\\lambda} ⋅d₁⋅d₂⋅mₚ⋅sin(2⋅\\varepsilon + \\varphi) + 2⋅\n",
       "                                                                              \n",
       "                                                                              \n",
       "                                                                              \n",
       "                                                                              \n",
       "epsilon) + F_b⋅lₚ⋅sin(\\varepsilon) + F_f⋅d₁⋅sin(\\varepsilon)⋅sin(\\varphi) + F_\n",
       "                                                                              \n",
       "\n",
       "                                                                              \n",
       "                                                                              \n",
       "                                                                      \\dot{\\la\n",
       "                                                                              \n",
       "                                                                              \n",
       "                                                          2   2               \n",
       "             2                               \\dot{\\lambda} ⋅d₂ ⋅mₚ⋅sin(2⋅\\vare\n",
       "\\dot{\\lambda} ⋅d₁⋅lₕ⋅mₚ⋅cos(2⋅\\varepsilon) + ─────────────────────────────────\n",
       "                                                                2             \n",
       "                                                                              \n",
       "                                                                              \n",
       "                                                                              \n",
       "f⋅lₕ⋅sin(\\varphi)⋅cos(\\varepsilon) - F_f⋅lₚ⋅sin(\\varepsilon) - 4⋅\\dot{\\lambda}\n",
       "                                                                              \n",
       "\n",
       "                                            2                                 \n",
       "     2                         \\dot{\\lambda} ⋅d₁⋅d₂⋅mₚ⋅sin(2⋅\\varepsilon - \\va\n",
       "mbda} ⋅d₁⋅d₂⋅mₚ⋅sin(\\varphi) + ───────────────────────────────────────────────\n",
       "                                                        2                     \n",
       "                                                                              \n",
       "                       2   2                                                  \n",
       "psilon)   \\dot{\\lambda} ⋅d₂ ⋅mₚ⋅sin(2⋅\\varepsilon - 2⋅\\varphi)   \\dot{\\lambda}\n",
       "─────── + ──────────────────────────────────────────────────── + ─────────────\n",
       "                                   4                                          \n",
       "                                                                              \n",
       "                                                                              \n",
       "                     2                                                        \n",
       "⋅\\dot{\\varepsilon}⋅d₁ ⋅mₚ⋅sin(\\varepsilon)⋅cos(\\varepsilon) + 8⋅\\dot{\\lambda}⋅\n",
       "                                                                              \n",
       "\n",
       "                     2                                                      2 \n",
       "rphi)   \\dot{\\lambda} ⋅d₁⋅d₂⋅mₚ⋅sin(2⋅\\varepsilon + \\varphi)   \\dot{\\lambda} ⋅\n",
       "───── - ──────────────────────────────────────────────────── + ───────────────\n",
       "                                 2                                            \n",
       "                                                                              \n",
       "2   2                                                                         \n",
       " ⋅d₂ ⋅mₚ⋅sin(2⋅\\varepsilon + 2⋅\\varphi)                2                      \n",
       "─────────────────────────────────────── - \\dot{\\lambda} ⋅d₂⋅lₕ⋅mₚ⋅cos(2⋅\\varep\n",
       "            4                                                                 \n",
       "                                                                              \n",
       "                                                                              \n",
       "                                                                              \n",
       "\\dot{\\varepsilon}⋅d₁⋅d₂⋅mₚ⋅sin(\\varepsilon)⋅cos(\\varepsilon)⋅cos(\\varphi) - 4⋅\n",
       "                                                                              \n",
       "\n",
       "  2                                  2   2                                    \n",
       "d₂ ⋅mₚ⋅sin(2⋅\\varphi)   \\dot{\\lambda} ⋅d₂ ⋅mₚ⋅sin(2⋅\\varepsilon - 2⋅\\varphi)  \n",
       "───────────────────── - ──────────────────────────────────────────────────── +\n",
       "  2                                              4                            \n",
       "                                                                              \n",
       "                                                                              \n",
       "                                2                                         \\dot\n",
       "silon - \\varphi) - \\dot{\\lambda} ⋅d₂⋅lₕ⋅mₚ⋅cos(2⋅\\varepsilon + \\varphi) + ────\n",
       "                                                                              \n",
       "                                                                              \n",
       "                                                                              \n",
       "                                                                              \n",
       "\\dot{\\lambda}⋅\\dot{\\varepsilon}⋅d₁⋅lₕ⋅mₚ⋅cos(2⋅\\varepsilon) - 4⋅\\dot{\\lambda}⋅\n",
       "                                                                              \n",
       "\n",
       "              2   2                                                  2        \n",
       " \\dot{\\lambda} ⋅d₂ ⋅mₚ⋅sin(2⋅\\varepsilon + 2⋅\\varphi)   \\dot{\\lambda} ⋅d₂⋅lₕ⋅m\n",
       " ──────────────────────────────────────────────────── + ──────────────────────\n",
       "                          4                                                   \n",
       "                                                                              \n",
       "         2    2                                                               \n",
       "{\\lambda} ⋅d_c ⋅m_c⋅sin(2⋅\\varepsilon)                2                       \n",
       "────────────────────────────────────── + \\dot{\\lambda} ⋅d_c⋅l_c⋅m_c⋅cos(2⋅\\var\n",
       "                2                                                             \n",
       "                                                                              \n",
       "                                                                              \n",
       "                    2                                         2               \n",
       "\\dot{\\varepsilon}⋅d₂ ⋅mₚ⋅sin(\\varepsilon)⋅cos(\\varepsilon)⋅cos (\\varphi) + 2⋅\\\n",
       "                                                                              \n",
       "\n",
       "                                              2                               \n",
       "ₚ⋅cos(2⋅\\varepsilon - \\varphi)   \\dot{\\lambda} ⋅d₂⋅lₕ⋅mₚ⋅cos(2⋅\\varepsilon + \\\n",
       "────────────────────────────── - ─────────────────────────────────────────────\n",
       "   2                                                      2                   \n",
       "                                                                              \n",
       "                        2    2                                                \n",
       "           \\dot{\\lambda} ⋅l_c ⋅m_c⋅sin(2⋅\\varepsilon)                2   2    \n",
       "epsilon) - ────────────────────────────────────────── - \\dot{\\lambda} ⋅lₕ ⋅mₚ⋅\n",
       "                               2                                              \n",
       "                                                                              \n",
       "                                                                              \n",
       "                                                                              \n",
       "dot{\\lambda}⋅\\dot{\\varepsilon}⋅d₂⋅lₕ⋅mₚ⋅cos(2⋅\\varepsilon - \\varphi) + 2⋅\\dot{\n",
       "                                                                              \n",
       "\n",
       "                       2   2                                  2   2           \n",
       "varphi)   \\dot{\\lambda} ⋅lₚ ⋅mₚ⋅sin(2⋅\\varphi)   \\dot{\\lambda} ⋅lₚ ⋅mₚ⋅sin(2⋅\\\n",
       "─────── - ──────────────────────────────────── + ─────────────────────────────\n",
       "                           2                                              4   \n",
       "                                                                              \n",
       "                                  2   2                                      2\n",
       "                     \\dot{\\lambda} ⋅lₚ ⋅mₚ⋅sin(2⋅\\varepsilon)   \\dot{\\lambda} \n",
       "sin(2⋅\\varepsilon) + ──────────────────────────────────────── - ──────────────\n",
       "                                        2                                     \n",
       "                                                                              \n",
       "                                                                              \n",
       "                                                                              \n",
       "\\lambda}⋅\\dot{\\varepsilon}⋅d₂⋅lₕ⋅mₚ⋅cos(2⋅\\varepsilon + \\varphi) - 2⋅\\dot{\\lam\n",
       "                                                                              \n",
       "\n",
       "                                       2   2                                  \n",
       "varepsilon - 2⋅\\varphi)   \\dot{\\lambda} ⋅lₚ ⋅mₚ⋅sin(2⋅\\varepsilon + 2⋅\\varphi)\n",
       "─────────────────────── - ────────────────────────────────────────────────────\n",
       "                                                   4                          \n",
       "                                                                              \n",
       "   2                                                  2   2                   \n",
       "⋅lₚ ⋅mₚ⋅sin(2⋅\\varepsilon - 2⋅\\varphi)   \\dot{\\lambda} ⋅lₚ ⋅mₚ⋅sin(2⋅\\varepsil\n",
       "────────────────────────────────────── - ─────────────────────────────────────\n",
       "           4                                                      4           \n",
       "                                                                              \n",
       "                                                                              \n",
       "                          2                                                   \n",
       "bda}⋅\\dot{\\varepsilon}⋅d_c ⋅m_c⋅sin(\\varepsilon)⋅cos(\\varepsilon) - 2⋅\\dot{\\la\n",
       "                                                                              \n",
       "\n",
       "                                                                              \n",
       "                                                                              \n",
       " - 2⋅\\dot{\\lambda}⋅\\dot{\\varepsilon}⋅d₁⋅d₂⋅mₚ⋅cos(\\varepsilon)⋅cos(\\varphi) - \n",
       "                                                                              \n",
       "                                                                              \n",
       "                                                                              \n",
       "on + 2⋅\\varphi)                                                               \n",
       "─────────────── - 2⋅\\dot{\\lambda}⋅\\dot{\\varepsilon}⋅d₁⋅d₂⋅mₚ⋅sin(\\varepsilon)⋅\n",
       "                                                                              \n",
       "                                                                              \n",
       "                                                                              \n",
       "                                                                              \n",
       "mbda}⋅\\dot{\\varepsilon}⋅d_c⋅l_c⋅m_c⋅cos(2⋅\\varepsilon) + 2⋅\\dot{\\lambda}⋅\\dot{\n",
       "                                                                              \n",
       "\n",
       "                                                                              \n",
       "                                                                              \n",
       "\\dot{\\lambda}⋅\\dot{\\varepsilon}⋅d₁⋅d₂⋅mₚ⋅cos(\\varepsilon - \\varphi) - \\dot{\\la\n",
       "                                                                              \n",
       "                                                                              \n",
       "                                                                              \n",
       "                                                                              \n",
       "sin(\\varphi) + \\dot{\\lambda}⋅\\dot{\\varepsilon}⋅d₁⋅d₂⋅mₚ⋅cos(\\varepsilon - \\var\n",
       "                                                                              \n",
       "                                                                              \n",
       "                                                                              \n",
       "                2                                                             \n",
       "\\varepsilon}⋅l_c ⋅m_c⋅sin(\\varepsilon)⋅cos(\\varepsilon) + 4⋅\\dot{\\lambda}⋅\\dot\n",
       "                                                                              \n",
       "\n",
       "                                                                              \n",
       "                                                                              \n",
       "mbda}⋅\\dot{\\varepsilon}⋅d₁⋅d₂⋅mₚ⋅cos(\\varepsilon + \\varphi) + 2⋅\\dot{\\lambda}⋅\n",
       "                                                                              \n",
       "                                                                              \n",
       "                                                                              \n",
       "                                                                              \n",
       "phi) - \\dot{\\lambda}⋅\\dot{\\varepsilon}⋅d₁⋅d₂⋅mₚ⋅cos(\\varepsilon + \\varphi) - 2\n",
       "                                                                              \n",
       "                                                                              \n",
       "                                                                              \n",
       "                2                                                             \n",
       "{\\varepsilon}⋅lₕ ⋅mₚ⋅sin(\\varepsilon)⋅cos(\\varepsilon) + 4⋅\\dot{\\lambda}⋅\\dot{\n",
       "                                                                              \n",
       "\n",
       "                                                                              \n",
       "                    2                                                         \n",
       "\\dot{\\varepsilon}⋅d₂ ⋅mₚ⋅cos(\\varepsilon) + \\dot{\\lambda}⋅\\dot{\\varepsilon}⋅d₂\n",
       "                                                                              \n",
       "                                                                              \n",
       "                                                                              \n",
       "                                                                              \n",
       "⋅\\dot{\\lambda}⋅\\dot{\\varepsilon}⋅d₂⋅lₕ⋅mₚ⋅sin(\\varphi)⋅cos(\\varepsilon) - \\dot\n",
       "                                                                              \n",
       "                                                                              \n",
       "                                                                              \n",
       "               2                                         2                    \n",
       "\\varepsilon}⋅lₚ ⋅mₚ⋅sin(\\varepsilon)⋅cos(\\varepsilon)⋅cos (\\varphi) - 4⋅\\dot{\\\n",
       "                                                                              \n",
       "\n",
       "                                                                              \n",
       "2                                                                     2       \n",
       " ⋅mₚ⋅cos(\\varepsilon - 2⋅\\varphi) + \\dot{\\lambda}⋅\\dot{\\varepsilon}⋅d₂ ⋅mₚ⋅cos\n",
       "                                                                              \n",
       "                                                                              \n",
       "                                                                              \n",
       "                                                                              \n",
       "{\\lambda}⋅\\dot{\\varepsilon}⋅d₂⋅lₕ⋅mₚ⋅sin(\\varepsilon - \\varphi) + \\dot{\\lambda\n",
       "                                                                              \n",
       "                                                                              \n",
       "                                                                              \n",
       "                            2                                                 \n",
       "lambda}⋅\\dot{\\varepsilon}⋅lₚ ⋅mₚ⋅sin(\\varepsilon)⋅cos(\\varepsilon) + 4⋅\\dot{\\l\n",
       "                                                                              \n",
       "\n",
       "                                                                              \n",
       "                                                                              \n",
       "(\\varepsilon + 2⋅\\varphi) + 2⋅\\dot{\\lambda}⋅\\dot{\\varepsilon}⋅d₂⋅lₕ⋅mₚ⋅sin(\\va\n",
       "                                                                              \n",
       "                                                                              \n",
       "                                                                              \n",
       "                                                                              \n",
       "}⋅\\dot{\\varepsilon}⋅d₂⋅lₕ⋅mₚ⋅sin(\\varepsilon + \\varphi) + 2⋅\\dot{\\lambda}⋅\\dot\n",
       "                                                                              \n",
       "                                                                              \n",
       "                                                                              \n",
       "                                              2                               \n",
       "ambda}⋅\\dot{\\varphi}⋅d₁⋅d₂⋅mₚ⋅sin(\\varphi)⋅cos (\\varepsilon) - 4⋅\\dot{\\lambda}\n",
       "                                                                              \n",
       "\n",
       "                                                                              \n",
       "                                                                              \n",
       "repsilon)⋅cos(\\varphi) + \\dot{\\lambda}⋅\\dot{\\varepsilon}⋅d₂⋅lₕ⋅mₚ⋅sin(\\varepsi\n",
       "                                                                              \n",
       "                                                                              \n",
       "                                                                              \n",
       "                                                                              \n",
       "{\\varphi}⋅d₁⋅d₂⋅mₚ⋅cos(\\varepsilon)⋅cos(\\varphi) + \\dot{\\lambda}⋅\\dot{\\varphi}\n",
       "                                                                              \n",
       "                                                                              \n",
       "                                                                              \n",
       "                                                                       2      \n",
       "⋅\\dot{\\varphi}⋅d₁⋅d₂⋅mₚ⋅sin(\\varphi) - 4⋅\\dot{\\lambda}⋅\\dot{\\varphi}⋅d₂ ⋅mₚ⋅si\n",
       "                                                                              \n",
       "\n",
       "                                                                              \n",
       "                                                                              \n",
       "lon - \\varphi) + \\dot{\\lambda}⋅\\dot{\\varepsilon}⋅d₂⋅lₕ⋅mₚ⋅sin(\\varepsilon + \\v\n",
       "                                                                              \n",
       "                                                                              \n",
       "                                                                              \n",
       "                                                                              \n",
       "⋅d₁⋅d₂⋅mₚ⋅cos(\\varepsilon - \\varphi) + \\dot{\\lambda}⋅\\dot{\\varphi}⋅d₁⋅d₂⋅mₚ⋅co\n",
       "                                                                              \n",
       "                                                                              \n",
       "                                                                              \n",
       "              2                                                               \n",
       "n(\\varphi)⋅cos (\\varepsilon)⋅cos(\\varphi) - \\dot{\\lambda}⋅\\dot{\\varphi}⋅d₂⋅lₕ⋅\n",
       "                                                                              \n",
       "\n",
       "                                                                              \n",
       "                                             2                                \n",
       "arphi) + 2⋅\\dot{\\lambda}⋅\\dot{\\varepsilon}⋅lₚ ⋅mₚ⋅cos(\\varepsilon) - \\dot{\\lam\n",
       "                                                                              \n",
       "                                                                              \n",
       "                                                                              \n",
       "                                                           2                  \n",
       "s(\\varepsilon + \\varphi) - 2⋅\\dot{\\lambda}⋅\\dot{\\varphi}⋅d₂ ⋅mₚ⋅cos(\\varepsilo\n",
       "                                                                              \n",
       "                                                                              \n",
       "                                                                              \n",
       "                                                                              \n",
       "mₚ⋅cos(2⋅\\varepsilon - \\varphi) + \\dot{\\lambda}⋅\\dot{\\varphi}⋅d₂⋅lₕ⋅mₚ⋅cos(2⋅\\\n",
       "                                                                              \n",
       "\n",
       "                                                                              \n",
       "                         2                                                    \n",
       "bda}⋅\\dot{\\varepsilon}⋅lₚ ⋅mₚ⋅cos(\\varepsilon - 2⋅\\varphi) - \\dot{\\lambda}⋅\\do\n",
       "                                                                              \n",
       "                                                                              \n",
       "                                                                              \n",
       "                                   2                                          \n",
       "n) - \\dot{\\lambda}⋅\\dot{\\varphi}⋅d₂ ⋅mₚ⋅cos(\\varepsilon - 2⋅\\varphi) - \\dot{\\l\n",
       "                                                                              \n",
       "                                                                              \n",
       "                                                                              \n",
       "                                                        2                    2\n",
       "varepsilon + \\varphi) + 4⋅\\dot{\\lambda}⋅\\dot{\\varphi}⋅lₚ ⋅mₚ⋅sin(\\varphi)⋅cos \n",
       "                                                                              \n",
       "\n",
       "                                                                              \n",
       "                 2                                                            \n",
       "t{\\varepsilon}⋅lₚ ⋅mₚ⋅cos(\\varepsilon + 2⋅\\varphi) + 2⋅\\dot{\\lambda}⋅\\dot{\\var\n",
       "                                                                              \n",
       "                                                                              \n",
       "                                                                              \n",
       "                       2                                                      \n",
       "ambda}⋅\\dot{\\varphi}⋅d₂ ⋅mₚ⋅cos(\\varepsilon + 2⋅\\varphi) - 2⋅\\dot{\\lambda}⋅\\do\n",
       "                                                                              \n",
       "                                                                              \n",
       "                                                                              \n",
       "                                                2                             \n",
       "(\\varepsilon)⋅cos(\\varphi) - 2⋅\\dot{\\varepsilon} ⋅d₁⋅d₂⋅mₚ⋅sin(\\varepsilon)⋅si\n",
       "                                                                              \n",
       "\n",
       "                                                                              \n",
       "                                                                              \n",
       "phi}⋅d₁⋅d₂⋅mₚ⋅sin(\\varepsilon)⋅sin(\\varphi) - \\dot{\\lambda}⋅\\dot{\\varphi}⋅d₁⋅d\n",
       "                                                                              \n",
       "                                                                              \n",
       "                                                                              \n",
       "                                                                              \n",
       "t{\\varphi}⋅d₂⋅lₕ⋅mₚ⋅sin(\\varepsilon)⋅cos(\\varphi) - \\dot{\\lambda}⋅\\dot{\\varphi\n",
       "                                                                              \n",
       "                                                                              \n",
       "                              2   2                                           \n",
       "             \\dot{\\varepsilon} ⋅d₂ ⋅mₚ⋅cos(\\varepsilon - 2⋅\\varphi)   \\dot{\\va\n",
       "n(\\varphi) + ────────────────────────────────────────────────────── - ────────\n",
       "                                       2                                      \n",
       "\n",
       "                                                                              \n",
       "                                                                              \n",
       "₂⋅mₚ⋅cos(\\varepsilon - \\varphi) + \\dot{\\lambda}⋅\\dot{\\varphi}⋅d₁⋅d₂⋅mₚ⋅cos(\\va\n",
       "                                                                              \n",
       "                                                                              \n",
       "                                                                              \n",
       "                                                                              \n",
       "}⋅d₂⋅lₕ⋅mₚ⋅sin(\\varepsilon - \\varphi) - \\dot{\\lambda}⋅\\dot{\\varphi}⋅d₂⋅lₕ⋅mₚ⋅s\n",
       "                                                                              \n",
       "                                                                              \n",
       "         2   2                                                                \n",
       "repsilon} ⋅d₂ ⋅mₚ⋅cos(\\varepsilon + 2⋅\\varphi)                      2         \n",
       "────────────────────────────────────────────── - 2⋅\\dot{\\varepsilon} ⋅d₂⋅lₕ⋅mₚ\n",
       "                  2                                                           \n",
       "\n",
       "                                                                              \n",
       "                                                                              \n",
       "repsilon + \\varphi) + 2⋅\\dot{\\lambda}⋅\\dot{\\varphi}⋅d₂⋅lₕ⋅mₚ⋅sin(\\varphi)⋅cos(\n",
       "                                                                              \n",
       "                                                                              \n",
       "                                                                              \n",
       "                                                            2                 \n",
       "in(\\varepsilon + \\varphi) - 2⋅\\dot{\\lambda}⋅\\dot{\\varphi}⋅lₚ ⋅mₚ⋅cos(\\varepsil\n",
       "                                                                              \n",
       "                                                                              \n",
       "                                                  2   2                       \n",
       "                                 \\dot{\\varepsilon} ⋅lₚ ⋅mₚ⋅cos(\\varepsilon - 2\n",
       "⋅sin(\\varphi)⋅cos(\\varepsilon) - ─────────────────────────────────────────────\n",
       "                                                           2                  \n",
       "\n",
       "                                                                              \n",
       "                                                                              \n",
       "\\varepsilon) + \\dot{\\lambda}⋅\\dot{\\varphi}⋅d₂⋅lₕ⋅mₚ⋅sin(\\varepsilon - \\varphi)\n",
       "                                                                              \n",
       "                                                                              \n",
       "                                                                              \n",
       "                                    2                                         \n",
       "on) + \\dot{\\lambda}⋅\\dot{\\varphi}⋅lₚ ⋅mₚ⋅cos(\\varepsilon - 2⋅\\varphi) + \\dot{\\\n",
       "                                                                              \n",
       "                                                                              \n",
       "                             2   2                                            \n",
       "⋅\\varphi)   \\dot{\\varepsilon} ⋅lₚ ⋅mₚ⋅cos(\\varepsilon + 2⋅\\varphi)            \n",
       "───────── + ────────────────────────────────────────────────────── + 2⋅\\dot{\\v\n",
       "                                      2                                       \n",
       "\n",
       "                                                                              \n",
       "                                                                              \n",
       " - \\dot{\\lambda}⋅\\dot{\\varphi}⋅d₂⋅lₕ⋅mₚ⋅sin(\\varepsilon + \\varphi) + 2⋅\\dot{\\v\n",
       "                                                                              \n",
       "                                                                              \n",
       "                                                                              \n",
       "                        2                                                     \n",
       "lambda}⋅\\dot{\\varphi}⋅lₚ ⋅mₚ⋅cos(\\varepsilon + 2⋅\\varphi) - 4⋅\\dot{\\varepsilon\n",
       "                                                                              \n",
       "                                                                              \n",
       "                                                                              \n",
       "                           2                                                  \n",
       "arepsilon}⋅\\dot{\\varphi}⋅d₂ ⋅mₚ⋅cos(\\varepsilon) - \\dot{\\varepsilon}⋅\\dot{\\var\n",
       "                                                                              \n",
       "\n",
       "                                                                              \n",
       "          2                                          2   2                    \n",
       "arepsilon} ⋅d₁⋅d₂⋅mₚ⋅sin(\\varphi) - \\dot{\\varepsilon} ⋅d₂ ⋅mₚ⋅sin(2⋅\\varphi) +\n",
       "                                                                              \n",
       "                                                                              \n",
       "                                                                              \n",
       "                                                                            2 \n",
       "}⋅\\dot{\\varphi}⋅d₁⋅d₂⋅mₚ⋅sin(\\varphi) + 4⋅\\dot{\\varepsilon}⋅\\dot{\\varphi}⋅d₂ ⋅\n",
       "                                                                              \n",
       "                                                                              \n",
       "                                                                              \n",
       "       2                                                                     2\n",
       "phi}⋅d₂ ⋅mₚ⋅cos(\\varepsilon - 2⋅\\varphi) - \\dot{\\varepsilon}⋅\\dot{\\varphi}⋅d₂ \n",
       "                                                                              \n",
       "\n",
       "                                                                              \n",
       "                  2   2                                                       \n",
       " \\dot{\\varepsilon} ⋅lₚ ⋅mₚ⋅sin(2⋅\\varphi) - d₂⋅g⋅mₚ⋅sin(\\varepsilon - \\varphi)\n",
       "                                                                              \n",
       "                                                                              \n",
       "                                                                              \n",
       "                                                                   2          \n",
       "mₚ⋅sin(\\varphi)⋅cos(\\varphi) - 4⋅\\dot{\\varepsilon}⋅\\dot{\\varphi}⋅lₚ ⋅mₚ⋅sin(\\v\n",
       "                                                                              \n",
       "                                                                              \n",
       "                                                                              \n",
       "                                                                       2      \n",
       "⋅mₚ⋅cos(\\varepsilon + 2⋅\\varphi) + 2⋅\\dot{\\varepsilon}⋅\\dot{\\varphi}⋅lₚ ⋅mₚ⋅co\n",
       "                                                                              \n",
       "\n",
       "                                                                              \n",
       "                                                                              \n",
       " + d₂⋅g⋅mₚ⋅sin(\\varepsilon + \\varphi) + lₚ⋅(-F_b + F_f)                       \n",
       "                                                                              \n",
       "                                                                              \n",
       "                                                                              \n",
       "                                     2                                        \n",
       "arphi)⋅cos(\\varphi) + 2⋅\\dot{\\varphi} ⋅d₂⋅lₕ⋅mₚ⋅cos(\\varphi) - 2⋅d₁⋅g⋅mₚ⋅sin(\\\n",
       "                                                                              \n",
       "                                                                              \n",
       "                                                                              \n",
       "                                                   2                          \n",
       "s(\\varepsilon) + \\dot{\\varepsilon}⋅\\dot{\\varphi}⋅lₚ ⋅mₚ⋅cos(\\varepsilon - 2⋅\\v\n",
       "                                                                              \n",
       "\n",
       "                                                                              \n",
       "                                                                              \n",
       "                                                                              \n",
       "                                                                              \n",
       "                                                                              \n",
       "                                                                              \n",
       "                                                                              \n",
       "varepsilon) + d₂⋅g⋅mₚ⋅sin(\\varepsilon - \\varphi) + d₂⋅g⋅mₚ⋅sin(\\varepsilon + \\\n",
       "                                                                              \n",
       "                                                                              \n",
       "                                                                              \n",
       "                                           2                                  \n",
       "arphi) + \\dot{\\varepsilon}⋅\\dot{\\varphi}⋅lₚ ⋅mₚ⋅cos(\\varepsilon + 2⋅\\varphi) +\n",
       "                                                                              \n",
       "\n",
       "                                                                              \n",
       "                                                                              \n",
       "                                                                              \n",
       "                                                                              \n",
       "                                                                              \n",
       "                                                                              \n",
       "                                                                              \n",
       "varphi) + d_c⋅g⋅m_c⋅sin(\\varepsilon) + g⋅l_c⋅m_c⋅cos(\\varepsilon) - 2⋅g⋅lₕ⋅mₚ⋅\n",
       "                                                                              \n",
       "                                                                              \n",
       "                                                                              \n",
       "                2                                                         2   \n",
       " 2⋅\\dot{\\varphi} ⋅d₁⋅d₂⋅mₚ⋅sin(\\varepsilon)⋅sin(\\varphi) + 2⋅\\dot{\\varphi} ⋅d₂\n",
       "                                                                              \n",
       "\n",
       "                                              ⎤\n",
       "                                              ⎥\n",
       "                                              ⎥\n",
       "                                              ⎥\n",
       "                                              ⎥\n",
       "                                              ⎥\n",
       "                                              ⎥\n",
       "cos(\\varepsilon) + lₕ⋅(F_b + F_f)⋅cos(\\varphi)⎥\n",
       "                                              ⎥\n",
       "                                              ⎥\n",
       "                                              ⎥\n",
       "                                              ⎥\n",
       "⋅lₕ⋅mₚ⋅sin(\\varphi)⋅cos(\\varepsilon)          ⎥\n",
       "                                              ⎦"
      ]
     },
     "execution_count": 22,
     "metadata": {},
     "output_type": "execute_result"
    }
   ],
   "source": [
    "b"
   ]
  },
  {
   "cell_type": "code",
   "execution_count": 23,
   "metadata": {},
   "outputs": [
    {
     "data": {
      "image/png": "[encoded data removed]",
      "text/latex": [
       "$$\\ddot{\\varphi} \\left(2 d_{2}^{2} m_{p} + 2 l_{p}^{2} m_{p}\\right) + d_{2} g m_{p} \\left(\\sin{\\left (\\varepsilon - \\varphi \\right )} - \\sin{\\left (\\varepsilon + \\varphi \\right )}\\right) = l_{p} \\left(- F_{b} + F_{f}\\right)$$"
      ],
      "text/plain": [
       "               ⎛    2          2   ⎞                                          \n",
       "\\ddot{\\varphi}⋅⎝2⋅d₂ ⋅mₚ + 2⋅lₚ ⋅mₚ⎠ + d₂⋅g⋅mₚ⋅(sin(\\varepsilon - \\varphi) - s\n",
       "\n",
       "                                            \n",
       "in(\\varepsilon + \\varphi)) = lₚ⋅(-F_b + F_f)"
      ]
     },
     "metadata": {},
     "output_type": "display_data"
    },
    {
     "data": {
      "image/png": "[encoded data removed]",
      "text/latex": [
       "$$\\ddot{\\varepsilon} \\left(2 d_{1}^{2} m_{p} - 4 d_{1} d_{2} m_{p} \\cos{\\left (\\varphi \\right )} + 2 d_{2}^{2} m_{p} \\cos^{2}{\\left (\\varphi \\right )} + d_{c}^{2} m_{c} + l_{c}^{2} m_{c} + 2 l_{h}^{2} m_{p} - 2 l_{p}^{2} m_{p} \\cos^{2}{\\left (\\varphi \\right )} + 2 l_{p}^{2} m_{p}\\right) + d_{2} g m_{p} \\left(- \\sin{\\left (\\varepsilon - \\varphi \\right )} - \\sin{\\left (\\varepsilon + \\varphi \\right )}\\right) + \\left(2 d_{1} g m_{p} - d_{c} g m_{c}\\right) \\sin{\\left (\\varepsilon \\right )} + \\left(- g l_{c} m_{c} + 2 g l_{h} m_{p}\\right) \\cos{\\left (\\varepsilon \\right )} = l_{h} \\left(F_{b} + F_{f}\\right) \\cos{\\left (\\varphi \\right )}$$"
      ],
      "text/plain": [
       "                   ⎛    2                                    2       2        \n",
       "\\ddot{\\varepsilon}⋅⎝2⋅d₁ ⋅mₚ - 4⋅d₁⋅d₂⋅mₚ⋅cos(\\varphi) + 2⋅d₂ ⋅mₚ⋅cos (\\varphi\n",
       "\n",
       "       2          2           2          2       2                2   ⎞       \n",
       ") + d_c ⋅m_c + l_c ⋅m_c + 2⋅lₕ ⋅mₚ - 2⋅lₚ ⋅mₚ⋅cos (\\varphi) + 2⋅lₚ ⋅mₚ⎠ + d₂⋅g\n",
       "\n",
       "                                                                              \n",
       "⋅mₚ⋅(-sin(\\varepsilon - \\varphi) - sin(\\varepsilon + \\varphi)) + (2⋅d₁⋅g⋅mₚ - \n",
       "\n",
       "                                                                              \n",
       "d_c⋅g⋅m_c)⋅sin(\\varepsilon) + (-g⋅l_c⋅m_c + 2⋅g⋅lₕ⋅mₚ)⋅cos(\\varepsilon) = lₕ⋅(\n",
       "\n",
       "                       \n",
       "F_b + F_f)⋅cos(\\varphi)"
      ]
     },
     "metadata": {},
     "output_type": "display_data"
    },
    {
     "data": {
      "image/png": "[encoded data removed]",
      "text/latex": [
       "$$\\ddot{\\lambda} \\left(- 2 d_{1}^{2} m_{p} \\cos^{2}{\\left (\\varepsilon \\right )} + 2 d_{1}^{2} m_{p} + 4 d_{1} d_{2} m_{p} \\cos^{2}{\\left (\\varepsilon \\right )} \\cos{\\left (\\varphi \\right )} - 4 d_{1} d_{2} m_{p} \\cos{\\left (\\varphi \\right )} + 2 d_{1} l_{h} m_{p} \\sin{\\left (2 \\varepsilon \\right )} - 2 d_{2}^{2} m_{p} \\cos^{2}{\\left (\\varepsilon \\right )} \\cos^{2}{\\left (\\varphi \\right )} + 2 d_{2}^{2} m_{p} - d_{2} l_{h} m_{p} \\sin{\\left (2 \\varepsilon - \\varphi \\right )} - d_{2} l_{h} m_{p} \\sin{\\left (2 \\varepsilon + \\varphi \\right )} - d_{c}^{2} m_{c} \\cos^{2}{\\left (\\varepsilon \\right )} + d_{c}^{2} m_{c} + d_{c} l_{c} m_{c} \\sin{\\left (2 \\varepsilon \\right )} + l_{c}^{2} m_{c} \\cos^{2}{\\left (\\varepsilon \\right )} + 2 l_{h}^{2} m_{p} \\cos^{2}{\\left (\\varepsilon \\right )} + 2 l_{p}^{2} m_{p} \\cos^{2}{\\left (\\varepsilon \\right )} \\cos^{2}{\\left (\\varphi \\right )} - 2 l_{p}^{2} m_{p} \\cos^{2}{\\left (\\varepsilon \\right )} + 2 l_{p}^{2} m_{p}\\right) = d_{1} \\left(F_{b} \\sin{\\left (\\varepsilon \\right )} \\sin{\\left (\\varphi \\right )} + F_{f} \\sin{\\left (\\varepsilon \\right )} \\sin{\\left (\\varphi \\right )}\\right) + l_{h} \\left(F_{b} \\sin{\\left (\\varphi \\right )} \\cos{\\left (\\varepsilon \\right )} + F_{f} \\sin{\\left (\\varphi \\right )} \\cos{\\left (\\varepsilon \\right )}\\right) + l_{p} \\left(F_{b} \\sin{\\left (\\varepsilon \\right )} - F_{f} \\sin{\\left (\\varepsilon \\right )}\\right)$$"
      ],
      "text/plain": [
       "               ⎛      2       2                    2                    2     \n",
       "\\ddot{\\lambda}⋅⎝- 2⋅d₁ ⋅mₚ⋅cos (\\varepsilon) + 2⋅d₁ ⋅mₚ + 4⋅d₁⋅d₂⋅mₚ⋅cos (\\var\n",
       "\n",
       "                                                                              \n",
       "epsilon)⋅cos(\\varphi) - 4⋅d₁⋅d₂⋅mₚ⋅cos(\\varphi) + 2⋅d₁⋅lₕ⋅mₚ⋅sin(2⋅\\varepsilon\n",
       "\n",
       "        2       2                 2                2                          \n",
       ") - 2⋅d₂ ⋅mₚ⋅cos (\\varepsilon)⋅cos (\\varphi) + 2⋅d₂ ⋅mₚ - d₂⋅lₕ⋅mₚ⋅sin(2⋅\\vare\n",
       "\n",
       "                                                               2        2     \n",
       "psilon - \\varphi) - d₂⋅lₕ⋅mₚ⋅sin(2⋅\\varepsilon + \\varphi) - d_c ⋅m_c⋅cos (\\var\n",
       "\n",
       "              2                                           2        2          \n",
       "epsilon) + d_c ⋅m_c + d_c⋅l_c⋅m_c⋅sin(2⋅\\varepsilon) + l_c ⋅m_c⋅cos (\\varepsil\n",
       "\n",
       "          2       2                    2       2                 2            \n",
       "on) + 2⋅lₕ ⋅mₚ⋅cos (\\varepsilon) + 2⋅lₚ ⋅mₚ⋅cos (\\varepsilon)⋅cos (\\varphi) - \n",
       "\n",
       "    2       2                    2   ⎞                                        \n",
       "2⋅lₚ ⋅mₚ⋅cos (\\varepsilon) + 2⋅lₚ ⋅mₚ⎠ = d₁⋅(F_b⋅sin(\\varepsilon)⋅sin(\\varphi)\n",
       "\n",
       "                                                                              \n",
       " + F_f⋅sin(\\varepsilon)⋅sin(\\varphi)) + lₕ⋅(F_b⋅sin(\\varphi)⋅cos(\\varepsilon) \n",
       "\n",
       "                                                                              \n",
       "+ F_f⋅sin(\\varphi)⋅cos(\\varepsilon)) + lₚ⋅(F_b⋅sin(\\varepsilon) - F_f⋅sin(\\var\n",
       "\n",
       "         \n",
       "epsilon))"
      ]
     },
     "metadata": {},
     "output_type": "display_data"
    }
   ],
   "source": [
    "Eq_p_ident = Eq(Eq_p.lhs.subs([(edds, 0), (eds, 0), (ldds, 0), (lds, 0)]).expand().collect([pdds, d2*g*mp]), Eq_p.rhs)\n",
    "Eq_e_ident = Eq(Eq_e.lhs.subs([(pdds, 0), (pds, 0), (ldds, 0), (lds, 0)]).expand().collect([edds, sin(es), cos(es), d2*g*mp]), Eq_e.rhs)\n",
    "Eq_l_ident = Eq(Eq_l.lhs.subs([(pdds, 0), (pds, 0), (edds, 0), (eds, 0)]).expand().collect([ldds]), Eq_l.rhs.collect([lp, lh, d1]))\n",
    "\n",
    "display(Eq_p_ident)\n",
    "display(Eq_e_ident)\n",
    "display(Eq_l_ident)"
   ]
  },
  {
   "cell_type": "markdown",
   "metadata": {},
   "source": [
    "# Parameter identification?"
   ]
  },
  {
   "cell_type": "code",
   "execution_count": 24,
   "metadata": {
    "pycharm": {
     "is_executing": false
    }
   },
   "outputs": [],
   "source": [
    "def symb_vec(name, n):\n",
    "    return Matrix([Symbol(f\"{name}_{{{i+1}}}\") for i in range(n)])"
   ]
  },
  {
   "cell_type": "code",
   "execution_count": 25,
   "metadata": {
    "pycharm": {
     "is_executing": false
    }
   },
   "outputs": [],
   "source": [
    "p1, q1, lh, lc, d1, d2, dc, mp, mc = symbols('p_1, q_1, l_h, l_c, d_1, d_2, d_c, m_p, m_c')\n",
    "g = Symbol('g')\n",
    "p = Matrix([p1, q1, lh, lc, d1, d2, dc, mp, mc])\n",
    "Vs = symb_vec('Vs', 9)\n",
    "eps = symb_vec('\\\\varepsilon', 9)"
   ]
  },
  {
   "cell_type": "code",
   "execution_count": 26,
   "metadata": {
    "pycharm": {
     "is_executing": false,
     "name": "#%%\n"
    }
   },
   "outputs": [],
   "source": [
    "f_vec = Matrix([lh*(p1*Vs[i]+2*q1)+g*(dc*mc+2*(d2-d1)*mp)*sin(eps[i])+g*(lc*mc-2*lh*mp)*cos(eps[i]) for i in range(9)])"
   ]
  },
  {
   "cell_type": "code",
   "execution_count": 27,
   "metadata": {
    "pycharm": {
     "is_executing": false,
     "name": "#%%\n"
    }
   },
   "outputs": [],
   "source": [
    "f_jac = f_vec.jacobian(p)"
   ]
  },
  {
   "cell_type": "code",
   "execution_count": 28,
   "metadata": {
    "pycharm": {
     "is_executing": false,
     "name": "#%%\n"
    }
   },
   "outputs": [
    {
     "data": {
      "image/png": "[encoded data removed]",
      "text/latex": [
       "$$4$$"
      ],
      "text/plain": [
       "4"
      ]
     },
     "execution_count": 28,
     "metadata": {},
     "output_type": "execute_result"
    }
   ],
   "source": [
    "f_jac.rank()"
   ]
  },
  {
   "cell_type": "code",
   "execution_count": 29,
   "metadata": {
    "pycharm": {
     "name": "#%%\n"
    }
   },
   "outputs": [],
   "source": [
    "param_symbols = [lh, lc, lp, dc, d1, d2, mp, mc]\n",
    "param_values = [0.66, 0.47, 0.178, 0.07, 0.04, 0.02, 0.575, 1.87]\n",
    "param_subs = list(zip(param_symbols, param_values))\n",
    "\n",
    "deg = pi/180\n",
    "angle_symbols = [ps, es, ls]\n",
    "angle_subs_0 = list(zip(angle_symbols, [0, 0, 0]))\n",
    "angle_subs_1 = list(zip(angle_symbols, [45*deg, 20*deg, 0]))"
   ]
  },
  {
   "cell_type": "markdown",
   "metadata": {},
   "source": [
    "Mass matrix for all angles 0"
   ]
  },
  {
   "cell_type": "code",
   "execution_count": 35,
   "metadata": {},
   "outputs": [
    {
     "data": {
      "image/png": "[encoded data removed]",
      "text/latex": [
       "$$\\left[\\begin{matrix}0.0368966 & 0 & 0.01518\\\\0 & 0.923646 & 0\\\\0.01518 & 0 & 0.9504596\\end{matrix}\\right]$$"
      ],
      "text/plain": [
       "⎡0.0368966     0       0.01518 ⎤\n",
       "⎢                              ⎥\n",
       "⎢    0      0.923646      0    ⎥\n",
       "⎢                              ⎥\n",
       "⎣ 0.01518      0      0.9504596⎦"
      ]
     },
     "execution_count": 35,
     "metadata": {},
     "output_type": "execute_result"
    }
   ],
   "source": [
    "N(M.subs(param_subs).subs(angle_subs_0))"
   ]
  },
  {
   "cell_type": "markdown",
   "metadata": {},
   "source": [
    "Mass matrix for $\\varphi=45°$, $\\varepsilon=20°$"
   ]
  },
  {
   "cell_type": "code",
   "execution_count": 36,
   "metadata": {},
   "outputs": [
    {
     "data": {
      "image/png": "[encoded data removed]",
      "text/latex": [
       "$$\\left[\\begin{matrix}0.0368966 & -0.0107338809384118 & -0.00231033452837365\\\\-0.0107338809384118 & 0.942173223522617 & -0.0138435752559245\\\\-0.00231033452837365 & -0.0138435752559245 & 0.881005518896515\\end{matrix}\\right]$$"
      ],
      "text/plain": [
       "⎡     0.0368966        -0.0107338809384118  -0.00231033452837365⎤\n",
       "⎢                                                               ⎥\n",
       "⎢-0.0107338809384118    0.942173223522617   -0.0138435752559245 ⎥\n",
       "⎢                                                               ⎥\n",
       "⎣-0.00231033452837365  -0.0138435752559245   0.881005518896515  ⎦"
      ]
     },
     "execution_count": 36,
     "metadata": {},
     "output_type": "execute_result"
    }
   ],
   "source": [
    "N(M.subs(param_subs).subs(angle_subs_1))"
   ]
  },
  {
   "cell_type": "code",
   "execution_count": 42,
   "metadata": {},
   "outputs": [
    {
     "data": {
      "image/png": "[encoded data removed]",
      "text/latex": [
       "$$- 0.00231033452837364 \\ddot{\\lambda} - 0.0107338809384118 \\ddot{\\varepsilon} + 0.0368966 \\ddot{\\varphi} + 0.012358167274595 \\dot{\\lambda}^{2} - 0.0407912577812067 \\dot{\\lambda} \\dot{\\varepsilon} - 1.73472347597681 \\cdot 10^{-18} \\dot{\\lambda} \\dot{\\varphi} - 0.0186388382386916 \\dot{\\varepsilon}^{2} - 0.0152826495609395 g$$"
      ],
      "text/plain": [
       "                                                                              \n",
       "-0.00231033452837364⋅\\ddot{\\lambda} - 0.0107338809384118⋅\\ddot{\\varepsilon} + \n",
       "\n",
       "                                                          2                   \n",
       "0.0368966⋅\\ddot{\\varphi} + 0.012358167274595⋅\\dot{\\lambda}  - 0.04079125778120\n",
       "\n",
       "                                                                              \n",
       "67⋅\\dot{\\lambda}⋅\\dot{\\varepsilon} - 1.73472347597681e-18⋅\\dot{\\lambda}⋅\\dot{\\\n",
       "\n",
       "                                              2                       \n",
       "varphi} - 0.0186388382386916⋅\\dot{\\varepsilon}  - 0.0152826495609395⋅g"
      ]
     },
     "execution_count": 42,
     "metadata": {},
     "output_type": "execute_result"
    }
   ],
   "source": [
    "N(Eq_p.lhs.expand().collect([pdds, edds, ldds]).subs(param_subs).subs(angle_subs_1))"
   ]
  },
  {
   "cell_type": "code",
   "execution_count": 31,
   "metadata": {},
   "outputs": [
    {
     "data": {
      "image/png": "[encoded data removed]",
      "text/latex": [
       "$$- 2 d_{2} g m_{p} \\sin{\\left (\\varepsilon \\right )} + \\left(2 d_{1} g m_{p} - d_{c} g m_{c}\\right) \\sin{\\left (\\varepsilon \\right )} = l_{h} \\left(F_{b} + F_{f}\\right)$$"
      ],
      "text/plain": [
       "-2⋅d₂⋅g⋅mₚ⋅sin(\\varepsilon) + (2⋅d₁⋅g⋅mₚ - d_c⋅g⋅m_c)⋅sin(\\varepsilon) = lₕ⋅(F\n",
       "_b + F_f)"
      ]
     },
     "execution_count": 31,
     "metadata": {},
     "output_type": "execute_result"
    }
   ],
   "source": [
    "Eq_e_ident.subs([(ps, 0), (edds, 0), (lc, 2*lh*mp/mc)])"
   ]
  },
  {
   "cell_type": "code",
   "execution_count": 32,
   "metadata": {},
   "outputs": [
    {
     "data": {
      "image/png": "[encoded data removed]",
      "text/latex": [
       "$$\\ddot{\\varphi} \\left(2 d_{2}^{2} m_{p} + 2 l_{p}^{2} m_{p}\\right) - d_{2} g m_{p} \\left(\\sin{\\left (\\varepsilon - \\varphi \\right )} - \\sin{\\left (\\varepsilon + \\varphi \\right )}\\right) = l_{p} \\left(- F_{b} + F_{f}\\right)$$"
      ],
      "text/plain": [
       "               ⎛    2          2   ⎞                                          \n",
       "\\ddot{\\varphi}⋅⎝2⋅d₂ ⋅mₚ + 2⋅lₚ ⋅mₚ⎠ - d₂⋅g⋅mₚ⋅(sin(\\varepsilon - \\varphi) - s\n",
       "\n",
       "                                            \n",
       "in(\\varepsilon + \\varphi)) = lₚ⋅(-F_b + F_f)"
      ]
     },
     "execution_count": 32,
     "metadata": {},
     "output_type": "execute_result"
    }
   ],
   "source": [
    "Eq_p_ident.subs(d2, -d2)"
   ]
  },
  {
   "cell_type": "code",
   "execution_count": 33,
   "metadata": {},
   "outputs": [
    {
     "data": {
      "image/png": "[encoded data removed]",
      "text/latex": [
       "$$\\ddot{\\varepsilon} \\left(2 d_{1}^{2} m_{p} + d_{c}^{2} m_{c} + l_{c}^{2} m_{c} + 2 l_{h}^{2} m_{p} - 2 l_{p}^{2} m_{p} \\cos^{2}{\\left (\\varphi \\right )} + 2 l_{p}^{2} m_{p}\\right) + \\left(2 d_{1} g m_{p} - d_{c} g m_{c}\\right) \\sin{\\left (\\varepsilon \\right )} + \\left(- g l_{c} m_{c} + 2 g l_{h} m_{p}\\right) \\cos{\\left (\\varepsilon \\right )} = l_{h} \\left(F_{b} + F_{f}\\right) \\cos{\\left (\\varphi \\right )}$$"
      ],
      "text/plain": [
       "                   ⎛    2         2          2           2          2       2 \n",
       "\\ddot{\\varepsilon}⋅⎝2⋅d₁ ⋅mₚ + d_c ⋅m_c + l_c ⋅m_c + 2⋅lₕ ⋅mₚ - 2⋅lₚ ⋅mₚ⋅cos (\n",
       "\n",
       "               2   ⎞                                                          \n",
       "\\varphi) + 2⋅lₚ ⋅mₚ⎠ + (2⋅d₁⋅g⋅mₚ - d_c⋅g⋅m_c)⋅sin(\\varepsilon) + (-g⋅l_c⋅m_c \n",
       "\n",
       "                                                           \n",
       "+ 2⋅g⋅lₕ⋅mₚ)⋅cos(\\varepsilon) = lₕ⋅(F_b + F_f)⋅cos(\\varphi)"
      ]
     },
     "execution_count": 33,
     "metadata": {},
     "output_type": "execute_result"
    }
   ],
   "source": [
    "Eq_e_ident.subs(d2, 0)"
   ]
  },
  {
   "cell_type": "code",
   "execution_count": 34,
   "metadata": {},
   "outputs": [
    {
     "data": {
      "image/png": "[encoded data removed]",
      "text/latex": [
       "$$\\ddot{\\lambda} \\left(- 2 d_{1}^{2} m_{p} \\cos^{2}{\\left (\\varepsilon \\right )} + 2 d_{1}^{2} m_{p} + 2 d_{1} l_{h} m_{p} \\sin{\\left (2 \\varepsilon \\right )} - d_{c}^{2} m_{c} \\cos^{2}{\\left (\\varepsilon \\right )} + d_{c}^{2} m_{c} + d_{c} l_{c} m_{c} \\sin{\\left (2 \\varepsilon \\right )} + l_{c}^{2} m_{c} \\cos^{2}{\\left (\\varepsilon \\right )} + 2 l_{h}^{2} m_{p} \\cos^{2}{\\left (\\varepsilon \\right )} + 2 l_{p}^{2} m_{p} \\cos^{2}{\\left (\\varepsilon \\right )} \\cos^{2}{\\left (\\varphi \\right )} - 2 l_{p}^{2} m_{p} \\cos^{2}{\\left (\\varepsilon \\right )} + 2 l_{p}^{2} m_{p}\\right) = d_{1} \\left(F_{b} \\sin{\\left (\\varepsilon \\right )} \\sin{\\left (\\varphi \\right )} + F_{f} \\sin{\\left (\\varepsilon \\right )} \\sin{\\left (\\varphi \\right )}\\right) + l_{h} \\left(F_{b} \\sin{\\left (\\varphi \\right )} \\cos{\\left (\\varepsilon \\right )} + F_{f} \\sin{\\left (\\varphi \\right )} \\cos{\\left (\\varepsilon \\right )}\\right) + l_{p} \\left(F_{b} \\sin{\\left (\\varepsilon \\right )} - F_{f} \\sin{\\left (\\varepsilon \\right )}\\right)$$"
      ],
      "text/plain": [
       "               ⎛      2       2                    2                          \n",
       "\\ddot{\\lambda}⋅⎝- 2⋅d₁ ⋅mₚ⋅cos (\\varepsilon) + 2⋅d₁ ⋅mₚ + 2⋅d₁⋅lₕ⋅mₚ⋅sin(2⋅\\va\n",
       "\n",
       "               2        2                   2                                 \n",
       "repsilon) - d_c ⋅m_c⋅cos (\\varepsilon) + d_c ⋅m_c + d_c⋅l_c⋅m_c⋅sin(2⋅\\varepsi\n",
       "\n",
       "          2        2                    2       2                    2       2\n",
       "lon) + l_c ⋅m_c⋅cos (\\varepsilon) + 2⋅lₕ ⋅mₚ⋅cos (\\varepsilon) + 2⋅lₚ ⋅mₚ⋅cos \n",
       "\n",
       "                 2                2       2                    2   ⎞          \n",
       "(\\varepsilon)⋅cos (\\varphi) - 2⋅lₚ ⋅mₚ⋅cos (\\varepsilon) + 2⋅lₚ ⋅mₚ⎠ = d₁⋅(F_b\n",
       "\n",
       "                                                                              \n",
       "⋅sin(\\varepsilon)⋅sin(\\varphi) + F_f⋅sin(\\varepsilon)⋅sin(\\varphi)) + lₕ⋅(F_b⋅\n",
       "\n",
       "                                                                              \n",
       "sin(\\varphi)⋅cos(\\varepsilon) + F_f⋅sin(\\varphi)⋅cos(\\varepsilon)) + lₚ⋅(F_b⋅s\n",
       "\n",
       "                                       \n",
       "in(\\varepsilon) - F_f⋅sin(\\varepsilon))"
      ]
     },
     "execution_count": 34,
     "metadata": {},
     "output_type": "execute_result"
    }
   ],
   "source": [
    "Eq_l_ident.subs(d2, 0)"
   ]
  }
 ],
 "metadata": {
  "kernelspec": {
   "display_name": "Python 3",
   "language": "python",
   "name": "python3"
  },
  "language_info": {
   "codemirror_mode": {
    "name": "ipython",
    "version": 3
   },
   "file_extension": ".py",
   "mimetype": "text/x-python",
   "name": "python",
   "nbconvert_exporter": "python",
   "pygments_lexer": "ipython3",
   "version": "3.6.5"
  },
  "pycharm": {
   "stem_cell": {
    "cell_type": "raw",
    "metadata": {
     "collapsed": false
    },
    "source": []
   }
  }
 },
 "nbformat": 4,
 "nbformat_minor": 2
}

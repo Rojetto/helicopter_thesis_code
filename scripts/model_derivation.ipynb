{
 "cells": [
  {
   "cell_type": "code",
   "execution_count": 1,
   "metadata": {
    "pycharm": {
     "is_executing": false
    }
   },
   "outputs": [],
   "source": [
    "from sympy import *\n",
    "init_printing()"
   ]
  },
  {
   "cell_type": "markdown",
   "metadata": {},
   "source": [
    "Zuerst mal alle Symbole definieren"
   ]
  },
  {
   "cell_type": "code",
   "execution_count": 2,
   "metadata": {
    "pycharm": {
     "is_executing": false
    }
   },
   "outputs": [],
   "source": [
    "t = Symbol(\"t\")\n",
    "xct = Function(\"x_c\")(t)\n",
    "yct = Function(\"y_c\")(t)\n",
    "zct = Function(\"z_c\")(t)\n",
    "xft = Function(\"x_f\")(t)\n",
    "yft = Function(\"y_f\")(t)\n",
    "zft = Function(\"z_f\")(t)\n",
    "xbt = Function(\"x_b\")(t)\n",
    "ybt = Function(\"y_b\")(t)\n",
    "zbt = Function(\"z_b\")(t)\n",
    "\n",
    "xcdt = xft.diff(t)\n",
    "ycdt = yft.diff(t)\n",
    "zcdt = zft.diff(t)\n",
    "xfdt = xft.diff(t)\n",
    "yfdt = yft.diff(t)\n",
    "zfdt = zft.diff(t)\n",
    "xbdt = xbt.diff(t)\n",
    "ybdt = ybt.diff(t)\n",
    "zbdt = zbt.diff(t)\n",
    "\n",
    "\n",
    "xcs, ycs, zcs, xfs, yfs, zfs, xbs, ybs, zbs = symbols(\"x_c, y_c, z_c, x_f, y_f, z_f, x_b, y_b, z_b\")\n",
    "pc = Matrix([xct, yct, zct])\n",
    "pf = Matrix([xft, yft, zft])\n",
    "pb = Matrix([xbt, ybt, zbt])\n",
    "\n",
    "xcds, ycds, zcds, xfds, yfds, zfds, xbds, ybds, zbds = symbols(\"\\dot{x_c}, \\dot{y_c}, \\dot{z_c}, \\dot{x_f}, \\dot{y_f}, \\dot{z_f}, \\dot{x_b}, \\dot{y_b}, \\dot{z_b}\")\n",
    "pcdt = Matrix([xcdt, ycdt, zcdt])\n",
    "pfdt = Matrix([xfdt, yfdt, zfdt])\n",
    "pbdt = Matrix([xbdt, ybdt, zbdt])\n",
    "\n",
    "es, ps, ls = symbols(\"e, p, \\lambda\")\n",
    "et = Function(\"e\")(t)\n",
    "pt = Function(\"p\")(t)\n",
    "lt = Function(\"\\lambda\")(t) \n",
    "\n",
    "qs_to_qt_subs = [(ls, lt), (es, et), (ps, pt)]\n",
    "qt_to_qs_subs = [(tup[1], tup[0]) for tup in qs_to_qt_subs]\n",
    "\n",
    "eds, pds, lds = symbols(\"\\dot{e}, \\dot{p}, \\dot{\\lambda}\")\n",
    "edt = et.diff(t)\n",
    "pdt = pt.diff(t)\n",
    "ldt = lt.diff(t)\n",
    "\n",
    "qds_to_qdt_subs = [(lds, ldt), (eds, edt), (pds, pdt)]\n",
    "qdt_to_qds_subs = [(tup[1], tup[0]) for tup in qds_to_qdt_subs]\n",
    "\n",
    "edds, pdds, ldds = symbols(\"\\ddot{e}, \\ddot{p}, \\ddot{\\lambda}\")\n",
    "eddt = et.diff(t, 2)\n",
    "pddt = pt.diff(t, 2)\n",
    "lddt = lt.diff(t, 2)\n",
    "\n",
    "qdds_to_qddt_subs = [(ldds, lddt), (edds, eddt), (pdds, pddt)]\n",
    "qddt_to_qdds_subs = [(tup[1], tup[0]) for tup in qdds_to_qddt_subs]\n",
    "\n",
    "t_to_s_subs = qddt_to_qdds_subs + qdt_to_qds_subs + qt_to_qs_subs\n",
    "s_to_t_subs = qdds_to_qddt_subs + qds_to_qdt_subs + qs_to_qt_subs\n",
    "\n",
    "qt = Matrix([lt, et, pt])\n",
    "qs = Matrix([ls, es, ps])\n",
    "\n",
    "lc, lh, lp, ld = symbols(\"l_c, l_h, l_p, ld\")\n",
    "mc, mp = symbols(\"m_c, m_p\")\n",
    "Kf, Vf, Vb = symbols(\"K_f, V_f, V_b\")\n",
    "\n",
    "t = symbols(\"t\")\n",
    "g = symbols(\"g\")"
   ]
  },
  {
   "cell_type": "markdown",
   "metadata": {},
   "source": [
    "Aufstellen der Transformationsmatrizen"
   ]
  },
  {
   "cell_type": "code",
   "execution_count": 3,
   "metadata": {},
   "outputs": [],
   "source": [
    "IT = Matrix([[cos(lt), -sin(lt), 0, 0],\n",
    "            [sin(lt), cos(lt), 0, 0],\n",
    "            [0, 0, 1, 0],\n",
    "            [0, 0, 0, 1]])\n",
    "TC = Matrix([[cos(et), 0, -sin(et), -lc*cos(et)],\n",
    "            [0, 1, 0, 0],\n",
    "            [sin(et), 0, cos(et), -lc*sin(et)],\n",
    "            [0, 0, 0, 1]])\n",
    "TR = Matrix([[cos(et), 0, -sin(et), lh*cos(et)],\n",
    "            [0, 1, 0, 0],\n",
    "            [sin(et), 0, cos(et), lh*sin(et)],\n",
    "            [0, 0, 0, 1]])\n",
    "RF = Matrix([[1, 0, 0, 0],\n",
    "            [0, cos(pt), sin(pt), -lp*cos(pt)],\n",
    "            [0, -sin(pt), cos(pt), lp*sin(pt)],\n",
    "            [0, 0, 0, 1]])\n",
    "RB = Matrix([[1, 0, 0, 0],\n",
    "            [0, cos(pt), sin(pt), lp*cos(pt)],\n",
    "            [0, -sin(pt), cos(pt), -lp*sin(pt)],\n",
    "            [0, 0, 0, 1]])\n",
    "IC = IT*TC\n",
    "IF = IT*TR*RF\n",
    "IB = IT*TR*RB"
   ]
  },
  {
   "cell_type": "code",
   "execution_count": 4,
   "metadata": {},
   "outputs": [],
   "source": [
    "# Transformationsmatrizen für Gravitation\n",
    "ICg = Matrix([[1, 0, 0, IC[0, 3]],\n",
    "             [0, 1, 0, IC[1, 3]],\n",
    "             [0, 0, 1, IC[2, 3]],\n",
    "             [0, 0, 0, 1]])\n",
    "\n",
    "IFg = Matrix([[1, 0, 0, IF[0, 3]],\n",
    "             [0, 1, 0, IF[1, 3]],\n",
    "             [0, 0, 1, IF[2, 3]],\n",
    "             [0, 0, 0, 1]])\n",
    "\n",
    "IBg = Matrix([[1, 0, 0, IB[0, 3]],\n",
    "             [0, 1, 0, IB[1, 3]],\n",
    "             [0, 0, 1, IB[2, 3]],\n",
    "             [0, 0, 0, 1]])"
   ]
  },
  {
   "cell_type": "markdown",
   "metadata": {},
   "source": [
    "Zum Beispiel Trafo von Frontrotorsystem zu Inertialsystem:"
   ]
  },
  {
   "cell_type": "code",
   "execution_count": 4,
   "metadata": {},
   "outputs": [
    {
     "data": {
      "image/png": "[encoded data removed]",
      "text/latex": [
       "$$\\left[\\begin{matrix}\\cos{\\left (\\lambda{\\left (t \\right )} \\right )} \\cos{\\left (e{\\left (t \\right )} \\right )} & - \\sin{\\left (\\lambda{\\left (t \\right )} \\right )} \\cos{\\left (p{\\left (t \\right )} \\right )} + \\sin{\\left (e{\\left (t \\right )} \\right )} \\sin{\\left (p{\\left (t \\right )} \\right )} \\cos{\\left (\\lambda{\\left (t \\right )} \\right )} & - \\sin{\\left (\\lambda{\\left (t \\right )} \\right )} \\sin{\\left (p{\\left (t \\right )} \\right )} - \\sin{\\left (e{\\left (t \\right )} \\right )} \\cos{\\left (\\lambda{\\left (t \\right )} \\right )} \\cos{\\left (p{\\left (t \\right )} \\right )} & l_{h} \\cos{\\left (\\lambda{\\left (t \\right )} \\right )} \\cos{\\left (e{\\left (t \\right )} \\right )} + l_{p} \\sin{\\left (\\lambda{\\left (t \\right )} \\right )} \\cos{\\left (p{\\left (t \\right )} \\right )} - l_{p} \\sin{\\left (e{\\left (t \\right )} \\right )} \\sin{\\left (p{\\left (t \\right )} \\right )} \\cos{\\left (\\lambda{\\left (t \\right )} \\right )}\\\\\\sin{\\left (\\lambda{\\left (t \\right )} \\right )} \\cos{\\left (e{\\left (t \\right )} \\right )} & \\sin{\\left (\\lambda{\\left (t \\right )} \\right )} \\sin{\\left (e{\\left (t \\right )} \\right )} \\sin{\\left (p{\\left (t \\right )} \\right )} + \\cos{\\left (\\lambda{\\left (t \\right )} \\right )} \\cos{\\left (p{\\left (t \\right )} \\right )} & - \\sin{\\left (\\lambda{\\left (t \\right )} \\right )} \\sin{\\left (e{\\left (t \\right )} \\right )} \\cos{\\left (p{\\left (t \\right )} \\right )} + \\sin{\\left (p{\\left (t \\right )} \\right )} \\cos{\\left (\\lambda{\\left (t \\right )} \\right )} & l_{h} \\sin{\\left (\\lambda{\\left (t \\right )} \\right )} \\cos{\\left (e{\\left (t \\right )} \\right )} - l_{p} \\sin{\\left (\\lambda{\\left (t \\right )} \\right )} \\sin{\\left (e{\\left (t \\right )} \\right )} \\sin{\\left (p{\\left (t \\right )} \\right )} - l_{p} \\cos{\\left (\\lambda{\\left (t \\right )} \\right )} \\cos{\\left (p{\\left (t \\right )} \\right )}\\\\\\sin{\\left (e{\\left (t \\right )} \\right )} & - \\sin{\\left (p{\\left (t \\right )} \\right )} \\cos{\\left (e{\\left (t \\right )} \\right )} & \\cos{\\left (e{\\left (t \\right )} \\right )} \\cos{\\left (p{\\left (t \\right )} \\right )} & l_{h} \\sin{\\left (e{\\left (t \\right )} \\right )} + l_{p} \\sin{\\left (p{\\left (t \\right )} \\right )} \\cos{\\left (e{\\left (t \\right )} \\right )}\\\\0 & 0 & 0 & 1\\end{matrix}\\right]$$"
      ],
      "text/plain": [
       "⎡cos(\\lambda(t))⋅cos(e(t))  -sin(\\lambda(t))⋅cos(p(t)) + sin(e(t))⋅sin(p(t))⋅c\n",
       "⎢                                                                             \n",
       "⎢sin(\\lambda(t))⋅cos(e(t))  sin(\\lambda(t))⋅sin(e(t))⋅sin(p(t)) + cos(\\lambda(\n",
       "⎢                                                                             \n",
       "⎢        sin(e(t))                                -sin(p(t))⋅cos(e(t))        \n",
       "⎢                                                                             \n",
       "⎣            0                                             0                  \n",
       "\n",
       "os(\\lambda(t))  -sin(\\lambda(t))⋅sin(p(t)) - sin(e(t))⋅cos(\\lambda(t))⋅cos(p(t\n",
       "                                                                              \n",
       "t))⋅cos(p(t))   -sin(\\lambda(t))⋅sin(e(t))⋅cos(p(t)) + sin(p(t))⋅cos(\\lambda(t\n",
       "                                                                              \n",
       "                                      cos(e(t))⋅cos(p(t))                     \n",
       "                                                                              \n",
       "                                               0                              \n",
       "\n",
       "))  lₕ⋅cos(\\lambda(t))⋅cos(e(t)) + lₚ⋅sin(\\lambda(t))⋅cos(p(t)) - lₚ⋅sin(e(t))\n",
       "                                                                              \n",
       "))  lₕ⋅sin(\\lambda(t))⋅cos(e(t)) - lₚ⋅sin(\\lambda(t))⋅sin(e(t))⋅sin(p(t)) - lₚ\n",
       "                                                                              \n",
       "                                   lₕ⋅sin(e(t)) + lₚ⋅sin(p(t))⋅cos(e(t))      \n",
       "                                                                              \n",
       "                                                     1                        \n",
       "\n",
       "⋅sin(p(t))⋅cos(\\lambda(t))⎤\n",
       "                          ⎥\n",
       "⋅cos(\\lambda(t))⋅cos(p(t))⎥\n",
       "                          ⎥\n",
       "                          ⎥\n",
       "                          ⎥\n",
       "                          ⎦"
      ]
     },
     "execution_count": 4,
     "metadata": {},
     "output_type": "execute_result"
    }
   ],
   "source": [
    "IF"
   ]
  },
  {
   "cell_type": "markdown",
   "metadata": {},
   "source": [
    "Definition der Transformationsgleichungen für Koordinaten und erste Zeitableitungen"
   ]
  },
  {
   "cell_type": "code",
   "execution_count": 7,
   "metadata": {},
   "outputs": [],
   "source": [
    "pc_from_q = Matrix((IC * Matrix([0, 0, 0, 1]))[0:3])\n",
    "pf_from_q = Matrix((IF * Matrix([0, 0, 0, 1]))[0:3])\n",
    "pb_from_q = Matrix((IB * Matrix([0, 0, 0, 1]))[0:3])\n",
    "\n",
    "p_from_q = Matrix([pc_from_q[0], pc_from_q[1], pc_from_q[2], pf_from_q[0], pf_from_q[1], pf_from_q[2], pb_from_q[0], pb_from_q[1], pb_from_q[2]])\n",
    "\n",
    "ps_to_qs_subs = list(zip([xcs, ycs, zcs, xfs, yfs, zfs, xbs, ybs, zbs], p_from_q.subs([(et, es), (pt, ps), (lt, ls)])))\n",
    "\n",
    "pds_to_qds_subs = list(zip([xcds, ycds, zcds, xfds, yfds, zfds, xbds, ybds, zbds], Matrix([xcs, ycs, zcs, xfs, yfs, zfs, xbs, ybs, zbs]).subs(ps_to_qs_subs).jacobian(Matrix([ls, es, ps])) * Matrix([lds, eds, pds])))"
   ]
  },
  {
   "cell_type": "markdown",
   "metadata": {},
   "source": [
    "Langrange-Funktion in redundanten Koordinaten"
   ]
  },
  {
   "cell_type": "code",
   "execution_count": 8,
   "metadata": {},
   "outputs": [
    {
     "data": {
      "image/png": "[encoded data removed]",
      "text/latex": [
       "$$- g m_{c} z_{c} - g m_{p} z_{b} - g m_{p} z_{f} + \\frac{m_{c} \\left(\\dot{x_c}^{2} + \\dot{y_c}^{2} + \\dot{z_c}^{2}\\right)}{2} + \\frac{m_{p} \\left(\\dot{x_b}^{2} + \\dot{y_b}^{2} + \\dot{z_b}^{2}\\right)}{2} + \\frac{m_{p} \\left(\\dot{x_f}^{2} + \\dot{y_f}^{2} + \\dot{z_f}^{2}\\right)}{2}$$"
      ],
      "text/plain": [
       "                                       ⎛         2            2            2⎞ \n",
       "                                   m_c⋅⎝\\dot{x_c}  + \\dot{y_c}  + \\dot{z_c} ⎠ \n",
       "-g⋅m_c⋅z_c - g⋅mₚ⋅z_b - g⋅mₚ⋅z_f + ────────────────────────────────────────── \n",
       "                                                       2                      \n",
       "\n",
       "     ⎛         2            2            2⎞      ⎛         2            2     \n",
       "  mₚ⋅⎝\\dot{x_b}  + \\dot{y_b}  + \\dot{z_b} ⎠   mₚ⋅⎝\\dot{x_f}  + \\dot{y_f}  + \\d\n",
       "+ ───────────────────────────────────────── + ────────────────────────────────\n",
       "                      2                                           2           \n",
       "\n",
       "       2⎞\n",
       "ot{z_f} ⎠\n",
       "─────────\n",
       "         "
      ]
     },
     "execution_count": 8,
     "metadata": {},
     "output_type": "execute_result"
    }
   ],
   "source": [
    "T = S(1)/S(2)*(mc*(xcds**2+ycds**2+zcds**2)+\n",
    "               mp*(xfds**2+yfds**2+zfds**2)+\n",
    "               mp*(xbds**2+ybds**2+zbds**2))\n",
    "V = mc*g*zcs+mp*g*zfs+mp*g*zbs\n",
    "L_redundant = T - V\n",
    "L_redundant\n"
   ]
  },
  {
   "cell_type": "markdown",
   "metadata": {},
   "source": [
    "Substitution und Darstellung in Minimalkoordinaten"
   ]
  },
  {
   "cell_type": "code",
   "execution_count": 9,
   "metadata": {},
   "outputs": [
    {
     "data": {
      "image/png": "[encoded data removed]",
      "text/latex": [
       "$$\\frac{\\dot{\\lambda}^{2} l_{c}^{2} m_{c} \\cos^{2}{\\left (e \\right )}}{2} + \\dot{\\lambda}^{2} l_{h}^{2} m_{p} \\cos^{2}{\\left (e \\right )} + \\dot{\\lambda}^{2} l_{p}^{2} m_{p} \\cos^{2}{\\left (e \\right )} \\cos^{2}{\\left (p \\right )} - \\dot{\\lambda}^{2} l_{p}^{2} m_{p} \\cos^{2}{\\left (e \\right )} + \\dot{\\lambda}^{2} l_{p}^{2} m_{p} - 2 \\dot{\\lambda} \\dot{e} l_{p}^{2} m_{p} \\sin{\\left (p \\right )} \\cos{\\left (e \\right )} \\cos{\\left (p \\right )} - 2 \\dot{\\lambda} \\dot{p} l_{p}^{2} m_{p} \\sin{\\left (e \\right )} + \\frac{\\dot{e}^{2} l_{c}^{2} m_{c}}{2} + \\dot{e}^{2} l_{h}^{2} m_{p} - \\dot{e}^{2} l_{p}^{2} m_{p} \\cos^{2}{\\left (p \\right )} + \\dot{e}^{2} l_{p}^{2} m_{p} + \\dot{p}^{2} l_{p}^{2} m_{p} + g l_{c} m_{c} \\sin{\\left (e \\right )} - 2 g l_{h} m_{p} \\sin{\\left (e \\right )}$$"
      ],
      "text/plain": [
       "             2    2        2                                                  \n",
       "\\dot{\\lambda} ⋅l_c ⋅m_c⋅cos (e)                2   2       2                  \n",
       "─────────────────────────────── + \\dot{\\lambda} ⋅lₕ ⋅mₚ⋅cos (e) + \\dot{\\lambda\n",
       "               2                                                              \n",
       "\n",
       "                                                                              \n",
       " 2   2       2       2                   2   2       2                   2   2\n",
       "} ⋅lₚ ⋅mₚ⋅cos (e)⋅cos (p) - \\dot{\\lambda} ⋅lₚ ⋅mₚ⋅cos (e) + \\dot{\\lambda} ⋅lₚ \n",
       "                                                                              \n",
       "\n",
       "                                                                              \n",
       "                                2                                             \n",
       "⋅mₚ - 2⋅\\dot{\\lambda}⋅\\dot{e}⋅lₚ ⋅mₚ⋅sin(p)⋅cos(e)⋅cos(p) - 2⋅\\dot{\\lambda}⋅\\d\n",
       "                                                                              \n",
       "\n",
       "                             2    2                                           \n",
       "        2             \\dot{e} ⋅l_c ⋅m_c          2   2             2   2      \n",
       "ot{p}⋅lₚ ⋅mₚ⋅sin(e) + ───────────────── + \\dot{e} ⋅lₕ ⋅mₚ - \\dot{e} ⋅lₚ ⋅mₚ⋅co\n",
       "                              2                                               \n",
       "\n",
       "                                                                              \n",
       " 2             2   2             2   2                                        \n",
       "s (p) + \\dot{e} ⋅lₚ ⋅mₚ + \\dot{p} ⋅lₚ ⋅mₚ + g⋅l_c⋅m_c⋅sin(e) - 2⋅g⋅lₕ⋅mₚ⋅sin(e\n",
       "                                                                              \n",
       "\n",
       " \n",
       " \n",
       ")\n",
       " "
      ]
     },
     "execution_count": 9,
     "metadata": {},
     "output_type": "execute_result"
    }
   ],
   "source": [
    "L = L_redundant.subs(ps_to_qs_subs).subs(pds_to_qds_subs).simplify()\n",
    "L"
   ]
  },
  {
   "cell_type": "markdown",
   "metadata": {},
   "source": [
    "Definition der Rotorkräfte"
   ]
  },
  {
   "cell_type": "code",
   "execution_count": 10,
   "metadata": {},
   "outputs": [],
   "source": [
    "Ff_direction_local = Matrix([0, 0, 1, 0])\n",
    "Ff = Kf*Vf*(IF * Ff_direction_local).row([0,1,2])\n",
    "\n",
    "Fb_direction_local = Matrix([0, 0, 1, 0])\n",
    "Fb = Kf*Vb*(IF * Fb_direction_local).row([0,1,2])"
   ]
  },
  {
   "cell_type": "markdown",
   "metadata": {},
   "source": [
    "Rotorkräfte in redundanten Koordinaten"
   ]
  },
  {
   "cell_type": "code",
   "execution_count": 11,
   "metadata": {},
   "outputs": [
    {
     "data": {
      "image/png": "[encoded data removed]",
      "text/latex": [
       "$$\\left[\\begin{matrix}0\\\\0\\\\0\\\\K_{f} V_{f} \\left(- \\sin{\\left (\\lambda \\right )} \\sin{\\left (p \\right )} - \\sin{\\left (e \\right )} \\cos{\\left (\\lambda \\right )} \\cos{\\left (p \\right )}\\right)\\\\K_{f} V_{f} \\left(- \\sin{\\left (\\lambda \\right )} \\sin{\\left (e \\right )} \\cos{\\left (p \\right )} + \\sin{\\left (p \\right )} \\cos{\\left (\\lambda \\right )}\\right)\\\\K_{f} V_{f} \\cos{\\left (e \\right )} \\cos{\\left (p \\right )}\\\\K_{f} V_{b} \\left(- \\sin{\\left (\\lambda \\right )} \\sin{\\left (p \\right )} - \\sin{\\left (e \\right )} \\cos{\\left (\\lambda \\right )} \\cos{\\left (p \\right )}\\right)\\\\K_{f} V_{b} \\left(- \\sin{\\left (\\lambda \\right )} \\sin{\\left (e \\right )} \\cos{\\left (p \\right )} + \\sin{\\left (p \\right )} \\cos{\\left (\\lambda \\right )}\\right)\\\\K_{f} V_{b} \\cos{\\left (e \\right )} \\cos{\\left (p \\right )}\\end{matrix}\\right]$$"
      ],
      "text/plain": [
       "⎡                             0                             ⎤\n",
       "⎢                                                           ⎥\n",
       "⎢                             0                             ⎥\n",
       "⎢                                                           ⎥\n",
       "⎢                             0                             ⎥\n",
       "⎢                                                           ⎥\n",
       "⎢K_f⋅V_f⋅(-sin(\\lambda)⋅sin(p) - sin(e)⋅cos(\\lambda)⋅cos(p))⎥\n",
       "⎢                                                           ⎥\n",
       "⎢K_f⋅V_f⋅(-sin(\\lambda)⋅sin(e)⋅cos(p) + sin(p)⋅cos(\\lambda))⎥\n",
       "⎢                                                           ⎥\n",
       "⎢                   K_f⋅V_f⋅cos(e)⋅cos(p)                   ⎥\n",
       "⎢                                                           ⎥\n",
       "⎢K_f⋅V_b⋅(-sin(\\lambda)⋅sin(p) - sin(e)⋅cos(\\lambda)⋅cos(p))⎥\n",
       "⎢                                                           ⎥\n",
       "⎢K_f⋅V_b⋅(-sin(\\lambda)⋅sin(e)⋅cos(p) + sin(p)⋅cos(\\lambda))⎥\n",
       "⎢                                                           ⎥\n",
       "⎣                   K_f⋅V_b⋅cos(e)⋅cos(p)                   ⎦"
      ]
     },
     "execution_count": 11,
     "metadata": {},
     "output_type": "execute_result"
    }
   ],
   "source": [
    "F_redundant = Matrix([0, 0, 0, Ff[0], Ff[1], Ff[2], Fb[0], Fb[1], Fb[2]]).subs(qt_to_qs_subs)\n",
    "F_redundant"
   ]
  },
  {
   "cell_type": "markdown",
   "metadata": {},
   "source": [
    "Rotorkräfte in Minimalkoordinaten"
   ]
  },
  {
   "cell_type": "code",
   "execution_count": 22,
   "metadata": {},
   "outputs": [
    {
     "data": {
      "image/png": "[encoded data removed]",
      "text/latex": [
       "$$K_{f} \\left(V_{b} l_{h} \\sin{\\left (p \\right )} \\cos{\\left (e \\right )} + V_{b} l_{p} \\sin{\\left (e \\right )} + V_{f} l_{h} \\sin{\\left (p \\right )} \\cos{\\left (e \\right )} - V_{f} l_{p} \\sin{\\left (e \\right )}\\right)$$"
      ],
      "text/plain": [
       "K_f⋅(V_b⋅lₕ⋅sin(p)⋅cos(e) + V_b⋅lₚ⋅sin(e) + V_f⋅lₕ⋅sin(p)⋅cos(e) - V_f⋅lₚ⋅sin(\n",
       "e))"
      ]
     },
     "metadata": {},
     "output_type": "display_data"
    },
    {
     "data": {
      "image/png": "[encoded data removed]",
      "text/latex": [
       "$$K_{f} l_{h} \\left(V_{b} + V_{f}\\right) \\cos{\\left (p \\right )}$$"
      ],
      "text/plain": [
       "K_f⋅lₕ⋅(V_b + V_f)⋅cos(p)"
      ]
     },
     "metadata": {},
     "output_type": "display_data"
    },
    {
     "data": {
      "image/png": "[encoded data removed]",
      "text/latex": [
       "$$K_{f} l_{p} \\left(- V_{b} + V_{f}\\right)$$"
      ],
      "text/plain": [
       "K_f⋅lₚ⋅(-V_b + V_f)"
      ]
     },
     "metadata": {},
     "output_type": "display_data"
    }
   ],
   "source": [
    "fl = (F_redundant.T * p_from_q.subs(qt_to_qs_subs).diff(ls))[0].simplify()\n",
    "fe = (F_redundant.T * p_from_q.subs(qt_to_qs_subs).diff(es))[0].simplify()\n",
    "fp = (F_redundant.T * p_from_q.subs(qt_to_qs_subs).diff(ps))[0].simplify()\n",
    "\n",
    "display(fl)\n",
    "display(fe)\n",
    "display(fp)"
   ]
  },
  {
   "cell_type": "code",
   "execution_count": 25,
   "metadata": {},
   "outputs": [
    {
     "data": {
      "image/png": "[encoded data removed]",
      "text/latex": [
       "$$0$$"
      ],
      "text/plain": [
       "0"
      ]
     },
     "metadata": {},
     "output_type": "display_data"
    },
    {
     "data": {
      "image/png": "[encoded data removed]",
      "text/latex": [
       "$$g \\left(l_{c} m_{c} - 2 l_{h} m_{p}\\right) \\cos{\\left (e \\right )}$$"
      ],
      "text/plain": [
       "g⋅(l_c⋅m_c - 2⋅lₕ⋅mₚ)⋅cos(e)"
      ]
     },
     "metadata": {},
     "output_type": "display_data"
    },
    {
     "data": {
      "image/png": "[encoded data removed]",
      "text/latex": [
       "$$0$$"
      ],
      "text/plain": [
       "0"
      ]
     },
     "metadata": {},
     "output_type": "display_data"
    }
   ],
   "source": [
    "# Gravitationskräfte in redundanten Koordinaten\n",
    "Fg_redundant = Matrix([0, 0, -mc*g, 0, 0, -mp*g, 0, 0, -mp*g])\n",
    "# Gravitation in Minimalkoordinaten\n",
    "fgl = (Fg_redundant.T * p_from_q.subs(qt_to_qs_subs).diff(ls))[0]\n",
    "fge = (Fg_redundant.T * p_from_q.subs(qt_to_qs_subs).diff(es))[0].simplify()\n",
    "fgp = (Fg_redundant.T * p_from_q.subs(qt_to_qs_subs).diff(ps))[0]\n",
    "\n",
    "display(fgl)\n",
    "display(fge)\n",
    "display(fgp)"
   ]
  },
  {
   "cell_type": "markdown",
   "metadata": {},
   "source": [
    "Aufstellen der Bewegungsgleichungen"
   ]
  },
  {
   "cell_type": "code",
   "execution_count": 32,
   "metadata": {},
   "outputs": [],
   "source": [
    "L_d_l = L.diff(ls).simplify()\n",
    "L_d_dl = L.diff(lds).simplify()\n",
    "\n",
    "L_d_e = L.diff(es).simplify()\n",
    "L_d_de = L.diff(eds).simplify()\n",
    "\n",
    "L_d_p = L.diff(ps).simplify()\n",
    "L_d_dp = L.diff(pds).simplify()\n",
    "\n",
    "erster_term_l = L_d_dl.subs(s_to_t_subs).diff(t).subs(t_to_s_subs)\n",
    "erster_term_e = L_d_de.subs(s_to_t_subs).diff(t).subs(t_to_s_subs)\n",
    "erster_term_p = L_d_dp.subs(s_to_t_subs).diff(t).subs(t_to_s_subs)\n",
    "\n",
    "Eq_l = Eq(erster_term_l - L_d_l, fl)\n",
    "Eq_e = Eq(erster_term_e - L_d_e, fe)\n",
    "Eq_p = Eq(erster_term_p - L_d_p, fp)"
   ]
  },
  {
   "cell_type": "markdown",
   "metadata": {},
   "source": [
    "Bewegungsgleichung für $\\lambda$"
   ]
  },
  {
   "cell_type": "code",
   "execution_count": 27,
   "metadata": {
    "scrolled": false
   },
   "outputs": [
    {
     "data": {
      "image/png": "[encoded data removed]",
      "text/latex": [
       "$$\\ddot{\\lambda} \\left(l_{c}^{2} m_{c} \\cos^{2}{\\left (e \\right )} + 2 l_{h}^{2} m_{p} \\cos^{2}{\\left (e \\right )} + 2 l_{p}^{2} m_{p} \\cos^{2}{\\left (e \\right )} \\cos^{2}{\\left (p \\right )} - 2 l_{p}^{2} m_{p} \\cos^{2}{\\left (e \\right )} + 2 l_{p}^{2} m_{p}\\right) - \\frac{\\ddot{e} l_{p}^{2} m_{p} \\left(- \\sin{\\left (e - 2 p \\right )} + \\sin{\\left (e + 2 p \\right )}\\right)}{2} - 2 \\ddot{p} l_{p}^{2} m_{p} \\sin{\\left (e \\right )} + \\dot{\\lambda} \\left(- 2 \\dot{e} l_{c}^{2} m_{c} \\sin{\\left (e \\right )} \\cos{\\left (e \\right )} - 4 \\dot{e} l_{h}^{2} m_{p} \\sin{\\left (e \\right )} \\cos{\\left (e \\right )} - 4 \\dot{e} l_{p}^{2} m_{p} \\sin{\\left (e \\right )} \\cos{\\left (e \\right )} \\cos^{2}{\\left (p \\right )} + 4 \\dot{e} l_{p}^{2} m_{p} \\sin{\\left (e \\right )} \\cos{\\left (e \\right )} - 4 \\dot{p} l_{p}^{2} m_{p} \\sin{\\left (p \\right )} \\cos^{2}{\\left (e \\right )} \\cos{\\left (p \\right )}\\right) - 2 \\dot{e} \\dot{p} l_{p}^{2} m_{p} \\cos{\\left (e \\right )} - \\frac{\\dot{e} l_{p}^{2} m_{p} \\left(- \\left(\\dot{e} - 2 \\dot{p}\\right) \\cos{\\left (e - 2 p \\right )} + \\left(\\dot{e} + 2 \\dot{p}\\right) \\cos{\\left (e + 2 p \\right )}\\right)}{2} = K_{f} \\left(V_{b} l_{h} \\sin{\\left (p \\right )} \\cos{\\left (e \\right )} + V_{b} l_{p} \\sin{\\left (e \\right )} + V_{f} l_{h} \\sin{\\left (p \\right )} \\cos{\\left (e \\right )} - V_{f} l_{p} \\sin{\\left (e \\right )}\\right)$$"
      ],
      "text/plain": [
       "                                                                              \n",
       "               ⎛   2        2          2       2          2       2       2   \n",
       "\\ddot{\\lambda}⋅⎝l_c ⋅m_c⋅cos (e) + 2⋅lₕ ⋅mₚ⋅cos (e) + 2⋅lₚ ⋅mₚ⋅cos (e)⋅cos (p)\n",
       "                                                                              \n",
       "\n",
       "                                             2                                \n",
       "       2       2          2   ⎞   \\ddot{e}⋅lₚ ⋅mₚ⋅(-sin(e - 2⋅p) + sin(e + 2⋅p\n",
       " - 2⋅lₚ ⋅mₚ⋅cos (e) + 2⋅lₚ ⋅mₚ⎠ - ────────────────────────────────────────────\n",
       "                                                        2                     \n",
       "\n",
       "                                                                              \n",
       "))                2                           ⎛               2               \n",
       "── - 2⋅\\ddot{p}⋅lₚ ⋅mₚ⋅sin(e) + \\dot{\\lambda}⋅⎝- 2⋅\\dot{e}⋅l_c ⋅m_c⋅sin(e)⋅cos\n",
       "                                                                              \n",
       "\n",
       "                                                                              \n",
       "                  2                                2                     2    \n",
       "(e) - 4⋅\\dot{e}⋅lₕ ⋅mₚ⋅sin(e)⋅cos(e) - 4⋅\\dot{e}⋅lₚ ⋅mₚ⋅sin(e)⋅cos(e)⋅cos (p) \n",
       "                                                                              \n",
       "\n",
       "                                                                              \n",
       "              2                                2              2          ⎞    \n",
       "+ 4⋅\\dot{e}⋅lₚ ⋅mₚ⋅sin(e)⋅cos(e) - 4⋅\\dot{p}⋅lₚ ⋅mₚ⋅sin(p)⋅cos (e)⋅cos(p)⎠ - 2\n",
       "                                                                              \n",
       "\n",
       "                                           2                                  \n",
       "                   2             \\dot{e}⋅lₚ ⋅mₚ⋅(-(\\dot{e} - 2⋅\\dot{p})⋅cos(e \n",
       "⋅\\dot{e}⋅\\dot{p}⋅lₚ ⋅mₚ⋅cos(e) - ─────────────────────────────────────────────\n",
       "                                                                             2\n",
       "\n",
       "                                                                              \n",
       "- 2⋅p) + (\\dot{e} + 2⋅\\dot{p})⋅cos(e + 2⋅p))                                  \n",
       "──────────────────────────────────────────── = K_f⋅(V_b⋅lₕ⋅sin(p)⋅cos(e) + V_b\n",
       "                                                                              \n",
       "\n",
       "                                                  \n",
       "                                                  \n",
       "⋅lₚ⋅sin(e) + V_f⋅lₕ⋅sin(p)⋅cos(e) - V_f⋅lₚ⋅sin(e))\n",
       "                                                  "
      ]
     },
     "execution_count": 27,
     "metadata": {},
     "output_type": "execute_result"
    }
   ],
   "source": [
    "Eq_l = Eq(Eq_l.lhs.collect((ldds, lds, edds)), Eq_l.rhs)\n",
    "Eq_l"
   ]
  },
  {
   "cell_type": "markdown",
   "metadata": {},
   "source": [
    "Vernachlässigen von Zentripetalkräften"
   ]
  },
  {
   "cell_type": "code",
   "execution_count": 28,
   "metadata": {},
   "outputs": [
    {
     "data": {
      "image/png": "[encoded data removed]",
      "text/latex": [
       "$$\\ddot{\\lambda} \\left(l_{c}^{2} m_{c} \\cos^{2}{\\left (e \\right )} + 2 l_{h}^{2} m_{p} \\cos^{2}{\\left (e \\right )} + 2 l_{p}^{2} m_{p} \\cos^{2}{\\left (e \\right )} \\cos^{2}{\\left (p \\right )} - 2 l_{p}^{2} m_{p} \\cos^{2}{\\left (e \\right )} + 2 l_{p}^{2} m_{p}\\right) = K_{f} \\left(V_{b} l_{h} \\sin{\\left (p \\right )} \\cos{\\left (e \\right )} + V_{b} l_{p} \\sin{\\left (e \\right )} + V_{f} l_{h} \\sin{\\left (p \\right )} \\cos{\\left (e \\right )} - V_{f} l_{p} \\sin{\\left (e \\right )}\\right)$$"
      ],
      "text/plain": [
       "               ⎛   2        2          2       2          2       2       2   \n",
       "\\ddot{\\lambda}⋅⎝l_c ⋅m_c⋅cos (e) + 2⋅lₕ ⋅mₚ⋅cos (e) + 2⋅lₚ ⋅mₚ⋅cos (e)⋅cos (p)\n",
       "\n",
       "       2       2          2   ⎞                                               \n",
       " - 2⋅lₚ ⋅mₚ⋅cos (e) + 2⋅lₚ ⋅mₚ⎠ = K_f⋅(V_b⋅lₕ⋅sin(p)⋅cos(e) + V_b⋅lₚ⋅sin(e) + \n",
       "\n",
       "                                     \n",
       "V_f⋅lₕ⋅sin(p)⋅cos(e) - V_f⋅lₚ⋅sin(e))"
      ]
     },
     "execution_count": 28,
     "metadata": {},
     "output_type": "execute_result"
    }
   ],
   "source": [
    "Eq_l_no_centripetal = Eq_l.subs([(lds, 0), (eds, 0), (pds, 0), (edds, 0), (pdds, 0)])\n",
    "Eq_l_no_centripetal"
   ]
  },
  {
   "cell_type": "markdown",
   "metadata": {},
   "source": [
    "Kleinwinkelnäherung $\\cos^2 (e) \\approx 1$, $\\cos^2 (p) \\approx 1$ und $\\sin(e) \\approx 0$"
   ]
  },
  {
   "cell_type": "code",
   "execution_count": 29,
   "metadata": {},
   "outputs": [
    {
     "data": {
      "image/png": "[encoded data removed]",
      "text/latex": [
       "$$\\ddot{\\lambda} \\left(l_{c}^{2} m_{c} + 2 l_{h}^{2} m_{p} + 2 l_{p}^{2} m_{p}\\right) = K_{f} l_{h} \\left(V_{b} + V_{f}\\right) \\sin{\\left (p \\right )} \\cos{\\left (e \\right )}$$"
      ],
      "text/plain": [
       "               ⎛   2           2          2   ⎞                               \n",
       "\\ddot{\\lambda}⋅⎝l_c ⋅m_c + 2⋅lₕ ⋅mₚ + 2⋅lₚ ⋅mₚ⎠ = K_f⋅lₕ⋅(V_b + V_f)⋅sin(p)⋅co\n",
       "\n",
       "    \n",
       "s(e)"
      ]
     },
     "execution_count": 29,
     "metadata": {},
     "output_type": "execute_result"
    }
   ],
   "source": [
    "Eq_l_simplified = Eq_l_no_centripetal.subs([(cos(es)**2, 1), (cos(ps)**2, 1), (sin(es), 0)])\n",
    "Eq_l_simplified = Eq(Eq_l_simplified.lhs, Eq_l_simplified.rhs.simplify())\n",
    "Eq_l_simplified"
   ]
  },
  {
   "cell_type": "markdown",
   "metadata": {},
   "source": [
    "Äquivalent für $e$"
   ]
  },
  {
   "cell_type": "code",
   "execution_count": 33,
   "metadata": {},
   "outputs": [
    {
     "data": {
      "image/png": "[encoded data removed]",
      "text/latex": [
       "$$\\ddot{e} l_{c}^{2} m_{c} + 2 \\ddot{e} l_{h}^{2} m_{p} - g l_{c} m_{c} \\cos{\\left (e \\right )} + 2 g l_{h} m_{p} \\cos{\\left (e \\right )} = K_{f} l_{h} \\left(V_{b} + V_{f}\\right) \\cos{\\left (p \\right )}$$"
      ],
      "text/plain": [
       "            2                    2                                            \n",
       "\\ddot{e}⋅l_c ⋅m_c + 2⋅\\ddot{e}⋅lₕ ⋅mₚ - g⋅l_c⋅m_c⋅cos(e) + 2⋅g⋅lₕ⋅mₚ⋅cos(e) = \n",
       "\n",
       "                         \n",
       "K_f⋅lₕ⋅(V_b + V_f)⋅cos(p)"
      ]
     },
     "execution_count": 33,
     "metadata": {},
     "output_type": "execute_result"
    }
   ],
   "source": [
    "Eq_e_simplified = Eq(Eq_e.lhs.subs([(ldds, 0), (lds, 0), (pds, 0), (eds, 0)]).simplify().subs(sin(ps)**2, 0), Eq_e.rhs)\n",
    "Eq_e_simplified"
   ]
  },
  {
   "cell_type": "markdown",
   "metadata": {},
   "source": [
    "Und für $p$"
   ]
  },
  {
   "cell_type": "code",
   "execution_count": 16,
   "metadata": {},
   "outputs": [
    {
     "data": {
      "image/png": "[encoded data removed]",
      "text/latex": [
       "$$2 \\ddot{p} l_{p}^{2} m_{p} = K_{f} l_{p} \\left(- V_{b} + V_{f}\\right)$$"
      ],
      "text/plain": [
       "             2                         \n",
       "2⋅\\ddot{p}⋅lₚ ⋅mₚ = K_f⋅lₚ⋅(-V_b + V_f)"
      ]
     },
     "execution_count": 16,
     "metadata": {},
     "output_type": "execute_result"
    }
   ],
   "source": [
    "Eq_p_simplified = Eq(Eq_p.lhs.subs([(ldds, 0), (lds, 0), (eds, 0)]), Eq_p.rhs)\n",
    "Eq_p_simplified"
   ]
  }
 ],
 "metadata": {
  "kernelspec": {
   "display_name": "Python 3",
   "language": "python",
   "name": "python3"
  },
  "language_info": {
   "codemirror_mode": {
    "name": "ipython",
    "version": 3
   },
   "file_extension": ".py",
   "mimetype": "text/x-python",
   "name": "python",
   "nbconvert_exporter": "python",
   "pygments_lexer": "ipython3",
   "version": "3.6.5"
  },
  "pycharm": {
   "stem_cell": {
    "cell_type": "raw",
    "source": [],
    "metadata": {
     "collapsed": false
    }
   }
  }
 },
 "nbformat": 4,
 "nbformat_minor": 2
}
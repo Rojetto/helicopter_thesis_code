{
 "cells": [
  {
   "cell_type": "code",
   "execution_count": 1,
   "metadata": {
    "pycharm": {
     "is_executing": false
    }
   },
   "outputs": [],
   "source": [
    "from sympy import *\n",
    "init_printing()"
   ]
  },
  {
   "cell_type": "code",
   "execution_count": 46,
   "metadata": {
    "pycharm": {
     "is_executing": false,
     "name": "#%%\n"
    }
   },
   "outputs": [],
   "source": [
    "l2, l3, l4 = symbols('l_2, l_3, l_4')\n",
    "d1, d4 = symbols('d_1, d_4')\n",
    "m1, m2, m3, m4, m5 = symbols('m_1, m_2, m_3, m_4, m_5')\n",
    "g = Symbol('g')\n",
    "\n",
    "mh, lh, lp, dh, mc, lc, dc = symbols('m_h, l_h, l_p, d_h, m_c, l_c, d_c') \n",
    "\n",
    "num_subs = list(zip([m1, m2, m3, m4, m5, l2, l3, l4, d1, d4], [1.47, 0.349*67/91.5, 0.349*24.5/91.5, 0.122, 1.932,\n",
    "                                                               0.67, 0.245, 0.225, 0.04, 0.1]))"
   ]
  },
  {
   "cell_type": "code",
   "execution_count": 3,
   "metadata": {
    "pycharm": {
     "is_executing": false,
     "name": "#%%\n"
    }
   },
   "outputs": [],
   "source": [
    "eq_j = Eq(m1*(l2**2+d1**2)+S(1)/S(12)*m2*l2**2+m2*(l2/2)**2+S(1)/S(12)*m3*l3**2+m3*(l3/2)**2+S(1)/S(12)*m4*(l4**2+d4**2)+m4*((l3+l4/2)**2+d4**2)+m5*((l3+l4)**2+d4**2), mh*(lh**2+dh**2)+mc*(lc**2+dc**2))\n",
    "eq_cos = Eq(m1*l2+m2*l2/2-m3*l3/2-m4*(l3+l4/2)-m5*(l3+l4),mh*lh-mc*lc)\n",
    "eq_sin = Eq(m1*d1-m4*d4/2-m5*d4,mh*dh-mc*dc)\n",
    "eq_f = Eq(l2, lh)"
   ]
  },
  {
   "cell_type": "code",
   "execution_count": 4,
   "metadata": {
    "pycharm": {
     "is_executing": false,
     "name": "#%%\n"
    }
   },
   "outputs": [],
   "source": [
    "solution = solve([eq.subs(num_subs) for eq in [eq_j, eq_cos, eq_sin, eq_f]], [lh,dh,mc,dc])"
   ]
  },
  {
   "cell_type": "code",
   "execution_count": 5,
   "metadata": {
    "pycharm": {
     "is_executing": false,
     "name": "#%%\n"
    }
   },
   "outputs": [
    {
     "data": {
      "image/png": "[encoded data removed]",
      "text/latex": [
       "$$0.140544356348362$$"
      ],
      "text/plain": [
       "0.140544356348362"
      ]
     },
     "execution_count": 5,
     "metadata": {},
     "output_type": "execute_result"
    }
   ],
   "source": [
    "solution[0][1].subs([(mh, 1.47), (lc, 0.47)])"
   ]
  },
  {
   "cell_type": "code",
   "execution_count": 6,
   "metadata": {
    "pycharm": {
     "name": "#%%\n"
    }
   },
   "outputs": [
    {
     "data": {
      "image/png": "[encoded data removed]",
      "text/latex": [
       "$$\\left [ 1.16587134166667 = m_{c} \\left(d_{c}^{2} + l_{c}^{2}\\right) + m_{h} \\left(d_{h}^{2} + l_{h}^{2}\\right), \\quad 0.1074075 = - l_{c} m_{c} + l_{h} m_{h}, \\quad -0.1405 = - d_{c} m_{c} + d_{h} m_{h}, \\quad 0.67 = l_{h}\\right ]$$"
      ],
      "text/plain": [
       "⎡                       ⎛   2      2⎞      ⎛  2     2⎞                        \n",
       "⎣1.16587134166667 = m_c⋅⎝d_c  + l_c ⎠ + mₕ⋅⎝dₕ  + lₕ ⎠, 0.1074075 = -l_c⋅m_c +\n",
       "\n",
       "                                             ⎤\n",
       " lₕ⋅mₕ, -0.1405 = -d_c⋅m_c + dₕ⋅mₕ, 0.67 = lₕ⎦"
      ]
     },
     "execution_count": 6,
     "metadata": {},
     "output_type": "execute_result"
    }
   ],
   "source": [
    "[eq.subs(num_subs) for eq in [eq_j, eq_cos, eq_sin, eq_f]]"
   ]
  },
  {
   "cell_type": "code",
   "execution_count": 7,
   "metadata": {},
   "outputs": [],
   "source": [
    "eps = symbols(r\"\\varepsilon\")\n",
    "beta = atan(d4/l4)"
   ]
  },
  {
   "cell_type": "code",
   "execution_count": 8,
   "metadata": {},
   "outputs": [],
   "source": [
    "eq_jlamb = Eq(m1*(l2*cos(eps)+d1*sin(eps))**2+m5*((l3+l4)*cos(eps)+d4*sin(eps))**2+m2/12*(l2*cos(eps))**2+m2*(l2/2*cos(eps))**2+m3/3*(l3*cos(eps))**2+m4/12*(l4*cos(eps+beta))**2+m4*((l3+l4/2)*cos(eps))**2, mh*(lh*cos(eps)+dh*sin(eps))**2+mc*(lc*cos(eps)+dc*sin(eps))**2)"
   ]
  },
  {
   "cell_type": "code",
   "execution_count": 9,
   "metadata": {},
   "outputs": [],
   "source": [
    "abc = eq_jlamb.subs(num_subs)"
   ]
  },
  {
   "cell_type": "code",
   "execution_count": 10,
   "metadata": {},
   "outputs": [
    {
     "data": {
      "image/png": "[encoded data removed]",
      "text/latex": [
       "$$0.021672 \\sin^{2}{\\left (\\varepsilon \\right )} + 0.2604 \\sin{\\left (\\varepsilon \\right )} \\cos{\\left (\\varepsilon \\right )} + 1.1423629875 \\cos^{2}{\\left (\\varepsilon \\right )} + 0.0005146875 \\cos^{2}{\\left (\\varepsilon + 0.418224329579229 \\right )} = \\left(d_{c}^{2} m_{c} + d_{h}^{2} m_{h}\\right) \\sin^{2}{\\left (\\varepsilon \\right )} + \\left(l_{c}^{2} m_{c} + l_{h}^{2} m_{h}\\right) \\cos^{2}{\\left (\\varepsilon \\right )} + \\left(2 d_{c} l_{c} m_{c} + 2 d_{h} l_{h} m_{h}\\right) \\sin{\\left (\\varepsilon \\right )} \\cos{\\left (\\varepsilon \\right )}$$"
      ],
      "text/plain": [
       "            2                                                                 \n",
       "0.021672⋅sin (\\varepsilon) + 0.2604⋅sin(\\varepsilon)⋅cos(\\varepsilon) + 1.1423\n",
       "\n",
       "          2                                2                                  \n",
       "629875⋅cos (\\varepsilon) + 0.0005146875⋅cos (\\varepsilon + 0.418224329579229) \n",
       "\n",
       "  ⎛   2         2   ⎞    2                ⎛   2         2   ⎞    2            \n",
       "= ⎝d_c ⋅m_c + dₕ ⋅mₕ⎠⋅sin (\\varepsilon) + ⎝l_c ⋅m_c + lₕ ⋅mₕ⎠⋅cos (\\varepsilon\n",
       "\n",
       "                                                                  \n",
       ") + (2⋅d_c⋅l_c⋅m_c + 2⋅dₕ⋅lₕ⋅mₕ)⋅sin(\\varepsilon)⋅cos(\\varepsilon)"
      ]
     },
     "execution_count": 10,
     "metadata": {},
     "output_type": "execute_result"
    }
   ],
   "source": [
    "Eq(abc.lhs.expand(), abc.rhs.expand().collect([cos(eps)*sin(eps), sin(eps)*2, cos(eps)**2]))"
   ]
  },
  {
   "cell_type": "code",
   "execution_count": 12,
   "metadata": {},
   "outputs": [
    {
     "data": {
      "image/png": "[encoded data removed]",
      "text/latex": [
       "$$1.16587134166667 = m_{c} \\left(d_{c}^{2} + l_{c}^{2}\\right) + m_{h} \\left(d_{h}^{2} + l_{h}^{2}\\right)$$"
      ],
      "text/plain": [
       "                       ⎛   2      2⎞      ⎛  2     2⎞\n",
       "1.16587134166667 = m_c⋅⎝d_c  + l_c ⎠ + mₕ⋅⎝dₕ  + lₕ ⎠"
      ]
     },
     "execution_count": 12,
     "metadata": {},
     "output_type": "execute_result"
    }
   ],
   "source": [
    "eq_j.subs(num_subs)"
   ]
  },
  {
   "cell_type": "code",
   "execution_count": 13,
   "metadata": {},
   "outputs": [
    {
     "data": {
      "image/png": "[encoded data removed]",
      "text/latex": [
       "$$0.1074075 = - l_{c} m_{c} + l_{h} m_{h}$$"
      ],
      "text/plain": [
       "0.1074075 = -l_c⋅m_c + lₕ⋅mₕ"
      ]
     },
     "execution_count": 13,
     "metadata": {},
     "output_type": "execute_result"
    }
   ],
   "source": [
    "eq_cos.subs(num_subs)"
   ]
  },
  {
   "cell_type": "code",
   "execution_count": 14,
   "metadata": {},
   "outputs": [
    {
     "data": {
      "image/png": "[encoded data removed]",
      "text/latex": [
       "$$-0.1405 = - d_{c} m_{c} + d_{h} m_{h}$$"
      ],
      "text/plain": [
       "-0.1405 = -d_c⋅m_c + dₕ⋅mₕ"
      ]
     },
     "execution_count": 14,
     "metadata": {},
     "output_type": "execute_result"
    }
   ],
   "source": [
    "eq_sin.subs(num_subs)"
   ]
  },
  {
   "cell_type": "code",
   "execution_count": 17,
   "metadata": {},
   "outputs": [
    {
     "data": {
      "image/png": "[encoded data removed]",
      "text/latex": [
       "$$0.187296297814208 = - l_{c} m_{c} + l_{h} m_{h}$$"
      ],
      "text/plain": [
       "0.187296297814208 = -l_c⋅m_c + lₕ⋅mₕ"
      ]
     },
     "execution_count": 17,
     "metadata": {},
     "output_type": "execute_result"
    }
   ],
   "source": [
    "eq_cos.subs(l2, 0.72).subs(num_subs)"
   ]
  },
  {
   "cell_type": "code",
   "execution_count": 38,
   "metadata": {},
   "outputs": [],
   "source": [
    "p_phi_1, p_phi_2, mu_phi = [Symbol(tex) for tex in [r\"p_{\\varphi,1}\", r\"p_{\\varphi,2}\", r\"\\mu_\\varphi\"]]\n",
    "p_eps_1, p_eps_2, p_eps_3, mu_eps = [Symbol(tex) for tex in [r\"p_{\\varepsilon,1}\", r\"p_{\\varepsilon,2}\", r\"p_{\\varepsilon,3}\", r\"\\mu_\\varepsilon\"]]\n",
    "p_lamb_1, mu_lamb = [Symbol(tex) for tex in [r\"p_{\\lambda,1}\", r\"\\mu_\\lambda\"]]"
   ]
  },
  {
   "cell_type": "code",
   "execution_count": 51,
   "metadata": {},
   "outputs": [],
   "source": [
    "eq_phi_1 = Eq(p_phi_1, lp**2*mh)\n",
    "eq_phi_2 = Eq(p_phi_2, 0)\n",
    "eq_eps_1 = Eq(p_eps_1, mh*dh**2+mc*dc**2+mc*lc**2+mh*lh**2)\n",
    "eq_eps_2 = Eq(p_eps_2, g*(mh*dh-mc*dc))\n",
    "eq_eps_3 = Eq(p_eps_3, g*(mh*lh-mc*lc))\n",
    "eq_lamb_1 = Eq(p_lamb_1, mc*lc**2+mh*lh**2+mh*lp**2)"
   ]
  },
  {
   "cell_type": "code",
   "execution_count": 68,
   "metadata": {},
   "outputs": [],
   "source": [
    "unknowns = [mh, mc, dh, dc, lc]\n",
    "sol = solve([eq_phi_1, eq_eps_1, eq_eps_2, eq_eps_3, eq_lamb_1], unknowns)"
   ]
  },
  {
   "cell_type": "code",
   "execution_count": 74,
   "metadata": {},
   "outputs": [],
   "source": [
    "estimated_subs = [(g, 9.81), (lh, 0.67), (lp, 0.178), (p_phi_1, 0.044), (p_eps_1, 0.9), (p_eps_2, 1.0699), (p_eps_3, 0.8375), (p_lamb_1, 1.3)]"
   ]
  },
  {
   "cell_type": "code",
   "execution_count": 76,
   "metadata": {},
   "outputs": [
    {
     "data": {
      "image/png": "[encoded data removed]",
      "text/latex": [
       "$$\\left [ \\left ( m_{h}, \\quad 1.38871354626941\\right ), \\quad \\left ( m_{c}, \\quad 1.12887959257408\\right ), \\quad \\left ( d_{h}, \\quad 0.0433200185386598 + 0.341281359080278 i\\right ), \\quad \\left ( d_{c}, \\quad -0.0433200185386598 + 0.41983401025377 i\\right ), \\quad \\left ( l_{c}, \\quad 0.748588257102387\\right )\\right ]$$"
      ],
      "text/plain": [
       "[(mₕ, 1.38871354626941), (m_c, 1.12887959257408), (dₕ, 0.0433200185386598 + 0.\n",
       "341281359080278⋅ⅈ), (d_c, -0.0433200185386598 + 0.41983401025377⋅ⅈ), (l_c, 0.7\n",
       "48588257102387)]"
      ]
     },
     "execution_count": 76,
     "metadata": {},
     "output_type": "execute_result"
    }
   ],
   "source": [
    "list(zip(unknowns, [entry.subs(estimated_subs) for entry in sol[1]]))"
   ]
  },
  {
   "cell_type": "code",
   "execution_count": 78,
   "metadata": {},
   "outputs": [
    {
     "data": {
      "image/png": "[encoded data removed]",
      "text/latex": [
       "$$\\left [ 0.044 = 0.031684 m_{h}, \\quad 0.9 = d_{c}^{2} m_{c} + d_{h}^{2} m_{h} + l_{c}^{2} m_{c} + 0.4489 m_{h}, \\quad 1.0699 = - 9.81 d_{c} m_{c} + 9.81 d_{h} m_{h}, \\quad 0.8375 = - 9.81 l_{c} m_{c} + 6.5727 m_{h}, \\quad 1.3 = l_{c}^{2} m_{c} + 0.480584 m_{h}\\right ]$$"
      ],
      "text/plain": [
       "⎡                              2         2         2                          \n",
       "⎣0.044 = 0.031684⋅mₕ, 0.9 = d_c ⋅m_c + dₕ ⋅mₕ + l_c ⋅m_c + 0.4489⋅mₕ, 1.0699 =\n",
       "\n",
       "                                                                          2   \n",
       " -9.81⋅d_c⋅m_c + 9.81⋅dₕ⋅mₕ, 0.8375 = -9.81⋅l_c⋅m_c + 6.5727⋅mₕ, 1.3 = l_c ⋅m_\n",
       "\n",
       "               ⎤\n",
       "c + 0.480584⋅mₕ⎦"
      ]
     },
     "execution_count": 78,
     "metadata": {},
     "output_type": "execute_result"
    }
   ],
   "source": [
    "[eq.subs(estimated_subs) for eq in [eq_phi_1, eq_eps_1, eq_eps_2, eq_eps_3, eq_lamb_1]]"
   ]
  },
  {
   "cell_type": "code",
   "execution_count": 79,
   "metadata": {},
   "outputs": [
    {
     "data": {
      "image/png": "[encoded data removed]",
      "text/latex": [
       "$$\\left [ p_{\\varphi,1} = l_{p}^{2} m_{h}, \\quad p_{\\varepsilon,1} = d_{c}^{2} m_{c} + d_{h}^{2} m_{h} + l_{c}^{2} m_{c} + l_{h}^{2} m_{h}, \\quad p_{\\varepsilon,2} = g \\left(- d_{c} m_{c} + d_{h} m_{h}\\right), \\quad p_{\\varepsilon,3} = g \\left(- l_{c} m_{c} + l_{h} m_{h}\\right), \\quad p_{\\lambda,1} = l_{c}^{2} m_{c} + l_{h}^{2} m_{h} + l_{p}^{2} m_{h}\\right ]$$"
      ],
      "text/plain": [
       "⎡                  2                            2         2         2         \n",
       "⎣p_{\\varphi,1} = lₚ ⋅mₕ, p_{\\varepsilon,1} = d_c ⋅m_c + dₕ ⋅mₕ + l_c ⋅m_c + lₕ\n",
       "\n",
       "2                                                                             \n",
       " ⋅mₕ, p_{\\varepsilon,2} = g⋅(-d_c⋅m_c + dₕ⋅mₕ), p_{\\varepsilon,3} = g⋅(-l_c⋅m_\n",
       "\n",
       "                               2         2        2   ⎤\n",
       "c + lₕ⋅mₕ), p_{\\lambda,1} = l_c ⋅m_c + lₕ ⋅mₕ + lₚ ⋅mₕ⎦"
      ]
     },
     "execution_count": 79,
     "metadata": {},
     "output_type": "execute_result"
    }
   ],
   "source": [
    "[eq_phi_1, eq_eps_1, eq_eps_2, eq_eps_3, eq_lamb_1]"
   ]
  },
  {
   "cell_type": "code",
   "execution_count": 82,
   "metadata": {},
   "outputs": [
    {
     "data": {
      "image/png": "[encoded data removed]",
      "text/latex": [
       "$$\\left [ \\left ( \\frac{- g m_{c} \\sqrt{- \\frac{l_{c}^{2} m_{c} + l_{h}^{2} m_{h} - p_{\\varepsilon,1}}{m_{c}}} + p_{\\varepsilon,2}}{g m_{h}}, \\quad - \\sqrt{- \\frac{l_{c}^{2} m_{c} + l_{h}^{2} m_{h} - p_{\\varepsilon,1}}{m_{c}}}\\right ), \\quad \\left ( \\frac{g m_{c} \\sqrt{- \\frac{l_{c}^{2} m_{c} + l_{h}^{2} m_{h} - p_{\\varepsilon,1}}{m_{c}}} + p_{\\varepsilon,2}}{g m_{h}}, \\quad \\sqrt{- \\frac{l_{c}^{2} m_{c} + l_{h}^{2} m_{h} - p_{\\varepsilon,1}}{m_{c}}}\\right )\\right ]$$"
      ],
      "text/plain": [
       "⎡⎛             ___________________________________________                    \n",
       "⎢⎜            ╱  ⎛   2         2                       ⎞                      \n",
       "⎢⎜           ╱  -⎝l_c ⋅m_c + lₕ ⋅mₕ - p_{\\varepsilon,1}⎠                      \n",
       "⎢⎜- g⋅m_c⋅  ╱   ─────────────────────────────────────────  + p_{\\varepsilon,2}\n",
       "⎢⎜        ╲╱                       m_c                                        \n",
       "⎢⎜────────────────────────────────────────────────────────────────────────────\n",
       "⎣⎝                                    g⋅mₕ                                    \n",
       "\n",
       "                                                   ⎞  ⎛           ____________\n",
       "                                                   ⎟  ⎜          ╱  ⎛   2     \n",
       "        ___________________________________________⎟  ⎜         ╱  -⎝l_c ⋅m_c \n",
       "       ╱  ⎛   2         2                       ⎞  ⎟  ⎜g⋅m_c⋅  ╱   ───────────\n",
       "      ╱  -⎝l_c ⋅m_c + lₕ ⋅mₕ - p_{\\varepsilon,1}⎠  ⎟  ⎜      ╲╱               \n",
       ", -  ╱   ───────────────────────────────────────── ⎟, ⎜───────────────────────\n",
       "   ╲╱                       m_c                    ⎠  ⎝                       \n",
       "\n",
       "_______________________________                                               \n",
       "    2                       ⎞                                                 \n",
       "+ lₕ ⋅mₕ - p_{\\varepsilon,1}⎠                             ____________________\n",
       "──────────────────────────────  + p_{\\varepsilon,2}      ╱  ⎛   2         2   \n",
       "        m_c                                             ╱  -⎝l_c ⋅m_c + lₕ ⋅mₕ\n",
       "───────────────────────────────────────────────────,   ╱   ───────────────────\n",
       "            g⋅mₕ                                     ╲╱                       \n",
       "\n",
       "                       ⎞⎤\n",
       "                       ⎟⎥\n",
       "_______________________⎟⎥\n",
       "                    ⎞  ⎟⎥\n",
       " - p_{\\varepsilon,1}⎠  ⎟⎥\n",
       "────────────────────── ⎟⎥\n",
       "m_c                    ⎠⎦"
      ]
     },
     "execution_count": 82,
     "metadata": {},
     "output_type": "execute_result"
    }
   ],
   "source": [
    "solve([eq_eps_1.subs(dh, 0), eq_eps_2], [dh, dc])"
   ]
  },
  {
   "cell_type": "code",
   "execution_count": null,
   "metadata": {},
   "outputs": [],
   "source": []
  }
 ],
 "metadata": {
  "kernelspec": {
   "display_name": "Python 3",
   "language": "python",
   "name": "python3"
  },
  "language_info": {
   "codemirror_mode": {
    "name": "ipython",
    "version": 3
   },
   "file_extension": ".py",
   "mimetype": "text/x-python",
   "name": "python",
   "nbconvert_exporter": "python",
   "pygments_lexer": "ipython3",
   "version": "3.6.5"
  },
  "pycharm": {
   "stem_cell": {
    "cell_type": "raw",
    "metadata": {
     "collapsed": false
    },
    "source": []
   }
  }
 },
 "nbformat": 4,
 "nbformat_minor": 1
}

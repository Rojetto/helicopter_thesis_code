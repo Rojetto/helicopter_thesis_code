{
 "cells": [
  {
   "cell_type": "code",
   "execution_count": 1,
   "metadata": {
    "pycharm": {
     "is_executing": false
    }
   },
   "outputs": [],
   "source": [
    "from sympy import *\n",
    "init_printing()"
   ]
  },
  {
   "cell_type": "code",
   "execution_count": 32,
   "metadata": {
    "pycharm": {
     "is_executing": false,
     "name": "#%%\n"
    }
   },
   "outputs": [],
   "source": [
    "l2, l3, l4 = symbols('l_2, l_3, l_4')\n",
    "d1, d4 = symbols('d_1, d_4')\n",
    "m1, m2, m3, m4, m5 = symbols('m_1, m_2, m_3, m_4, m_5')\n",
    "\n",
    "mh, lh, dh, mc, lc, dc = symbols('m_h, l_h, d_h, m_c, l_c, d_c') \n",
    "\n",
    "num_subs = list(zip([m1, m2, m3, m4, m5, l2, l3, l4, d1, d4], [1.47, 0.349*67/91.5, 0.349*24.5/91.5, 0.122, 1.932,\n",
    "                                                               0.67, 0.245, 0.225, 0.04, 0.1]))"
   ]
  },
  {
   "cell_type": "code",
   "execution_count": 33,
   "metadata": {
    "pycharm": {
     "is_executing": false,
     "name": "#%%\n"
    }
   },
   "outputs": [],
   "source": [
    "eq_j = Eq(m1*(l2**2+d1**2)+S(1)/S(12)*m2*l2**2+m2*(l2/2)**2+S(1)/S(12)*m3*l3**2+m3*(l3/2)**2+S(1)/S(12)*m4*(l4**2+d4**2)+m4*((l3+l4/2)**2+d4**2)+m5*((l3+l4)**2+d4**2), mh*(lh**2+dh**2)+mc*(lc**2+dc**2))\n",
    "eq_cos = Eq(m1*l2+m2*l2/2-m3*l3/2-m4*(l3+l4/2)-m5*(l3+l4),mh*lh-mc*lc)\n",
    "eq_sin = Eq(m1*d1-m4*d4/2-m5*d4,mh*dh-mc*dc)\n",
    "eq_f = Eq(l2, lh)"
   ]
  },
  {
   "cell_type": "code",
   "execution_count": 34,
   "metadata": {
    "pycharm": {
     "is_executing": false,
     "name": "#%%\n"
    }
   },
   "outputs": [],
   "source": [
    "solution = solve([eq.subs(num_subs) for eq in [eq_j, eq_cos, eq_sin, eq_f]], [lh,dh,mc,dc])"
   ]
  },
  {
   "cell_type": "code",
   "execution_count": 36,
   "metadata": {
    "pycharm": {
     "is_executing": false,
     "name": "#%%\n"
    }
   },
   "outputs": [
    {
     "data": {
      "image/png": "[encoded data removed]",
      "text/latex": [
       "$$0.140544356348362$$"
      ],
      "text/plain": [
       "0.140544356348362"
      ]
     },
     "execution_count": 36,
     "metadata": {},
     "output_type": "execute_result"
    }
   ],
   "source": [
    "solution[0][1].subs([(mh, 1.47), (lc, 0.47)])"
   ]
  },
  {
   "cell_type": "code",
   "execution_count": 25,
   "metadata": {
    "pycharm": {
     "name": "#%%\n"
    }
   },
   "outputs": [
    {
     "data": {
      "image/png": "[encoded data removed]",
      "text/latex": [
       "$$\\left [ 1.16410734166667 = m_{c} \\left(d_{c}^{2} + l_{c}^{2}\\right) + m_{h} \\left(d_{h}^{2} + l_{h}^{2}\\right), \\quad 0.1074075 = - l_{c} m_{c} + l_{h} m_{h}, \\quad -0.1699 = - d_{c} m_{c} + d_{h} m_{h}, \\quad 0.67 = l_{h}\\right ]$$"
      ],
      "text/plain": [
       "⎡                       ⎛   2      2⎞      ⎛  2     2⎞                        \n",
       "⎣1.16410734166667 = m_c⋅⎝d_c  + l_c ⎠ + mₕ⋅⎝dₕ  + lₕ ⎠, 0.1074075 = -l_c⋅m_c +\n",
       "\n",
       "                                             ⎤\n",
       " lₕ⋅mₕ, -0.1699 = -d_c⋅m_c + dₕ⋅mₕ, 0.67 = lₕ⎦"
      ]
     },
     "execution_count": 25,
     "metadata": {},
     "output_type": "execute_result"
    }
   ],
   "source": [
    "[eq.subs(num_subs) for eq in [eq_j, eq_cos, eq_sin, eq_f]]"
   ]
  },
  {
   "cell_type": "code",
   "execution_count": 44,
   "metadata": {},
   "outputs": [],
   "source": [
    "eps = symbols(r\"\\varepsilon\")\n",
    "beta = atan(d4/l4)"
   ]
  },
  {
   "cell_type": "code",
   "execution_count": 49,
   "metadata": {},
   "outputs": [],
   "source": [
    "eq_jlamb = Eq(m1*(l2*cos(eps)+d1*sin(eps))**2+m5*((l3+l4)*cos(eps)+d4*sin(eps))**2+m2/12*(l2*cos(eps))**2+m2*(l2/2*cos(eps))**2+m3/3*(l3*cos(eps))**2+m4/12*(l4*cos(eps+beta))**2+m4*((l3+l4/2)*cos(eps))**2, mh*(lh*cos(eps)+dh*sin(eps))**2+mc*(lc*cos(eps)+dc*sin(eps))**2)"
   ]
  },
  {
   "cell_type": "code",
   "execution_count": 51,
   "metadata": {},
   "outputs": [],
   "source": [
    "abc = eq_jlamb.subs(num_subs)"
   ]
  },
  {
   "cell_type": "code",
   "execution_count": 57,
   "metadata": {},
   "outputs": [
    {
     "data": {
      "image/png": "[encoded data removed]",
      "text/latex": [
       "$$0.021672 \\sin^{2}{\\left (\\varepsilon \\right )} + 0.2604 \\sin{\\left (\\varepsilon \\right )} \\cos{\\left (\\varepsilon \\right )} + 1.1423629875 \\cos^{2}{\\left (\\varepsilon \\right )} + 0.0005146875 \\cos^{2}{\\left (\\varepsilon + 0.418224329579229 \\right )} = \\left(d_{c}^{2} m_{c} + d_{h}^{2} m_{h}\\right) \\sin^{2}{\\left (\\varepsilon \\right )} + \\left(l_{c}^{2} m_{c} + l_{h}^{2} m_{h}\\right) \\cos^{2}{\\left (\\varepsilon \\right )} + \\left(2 d_{c} l_{c} m_{c} + 2 d_{h} l_{h} m_{h}\\right) \\sin{\\left (\\varepsilon \\right )} \\cos{\\left (\\varepsilon \\right )}$$"
      ],
      "text/plain": [
       "            2                                                                 \n",
       "0.021672⋅sin (\\varepsilon) + 0.2604⋅sin(\\varepsilon)⋅cos(\\varepsilon) + 1.1423\n",
       "\n",
       "          2                                2                                  \n",
       "629875⋅cos (\\varepsilon) + 0.0005146875⋅cos (\\varepsilon + 0.418224329579229) \n",
       "\n",
       "  ⎛   2         2   ⎞    2                ⎛   2         2   ⎞    2            \n",
       "= ⎝d_c ⋅m_c + dₕ ⋅mₕ⎠⋅sin (\\varepsilon) + ⎝l_c ⋅m_c + lₕ ⋅mₕ⎠⋅cos (\\varepsilon\n",
       "\n",
       "                                                                  \n",
       ") + (2⋅d_c⋅l_c⋅m_c + 2⋅dₕ⋅lₕ⋅mₕ)⋅sin(\\varepsilon)⋅cos(\\varepsilon)"
      ]
     },
     "execution_count": 57,
     "metadata": {},
     "output_type": "execute_result"
    }
   ],
   "source": [
    "Eq(abc.lhs.expand(), abc.rhs.expand().collect([cos(eps)*sin(eps), sin(eps)*2, cos(eps)**2]))"
   ]
  },
  {
   "cell_type": "code",
   "execution_count": null,
   "metadata": {},
   "outputs": [],
   "source": []
  }
 ],
 "metadata": {
  "kernelspec": {
   "display_name": "Python 3",
   "language": "python",
   "name": "python3"
  },
  "language_info": {
   "codemirror_mode": {
    "name": "ipython",
    "version": 3
   },
   "file_extension": ".py",
   "mimetype": "text/x-python",
   "name": "python",
   "nbconvert_exporter": "python",
   "pygments_lexer": "ipython3",
   "version": "3.6.5"
  },
  "pycharm": {
   "stem_cell": {
    "cell_type": "raw",
    "metadata": {
     "collapsed": false
    },
    "source": []
   }
  }
 },
 "nbformat": 4,
 "nbformat_minor": 1
}

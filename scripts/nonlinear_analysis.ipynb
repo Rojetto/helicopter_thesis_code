{
 "cells": [
  {
   "cell_type": "code",
   "execution_count": 3,
   "metadata": {},
   "outputs": [],
   "source": [
    "%load_ext ipydex.displaytools\n",
    "import sympy as sp\n",
    "from sympy import sin, cos\n",
    "import symbtools as sb\n",
    "sp.init_printing()"
   ]
  },
  {
   "cell_type": "code",
   "execution_count": 4,
   "metadata": {},
   "outputs": [],
   "source": [
    "mh, mc, lh, lc, lp, dh, dc = sp.symbols('m_h, m_c, l_h, l_c, l_p, d_h, d_c')\n",
    "mup, mue, mul = sp.symbols('\\\\mu_\\\\varphi, \\\\mu_\\\\varepsilon, \\\\mu_\\\\lambda')\n",
    "phi, eps, lamb = sp.symbols('varphi, varepsilon, lambda')\n",
    "dphi, deps, dlamb = sb.time_deriv(sp.Matrix([phi, eps, lamb]), [phi, eps, lamb])\n",
    "t = sp.symbols('t')\n",
    "g = sp.symbols('g')\n",
    "\n",
    "x = sp.Matrix([phi, eps, lamb, dphi, deps, dlamb])"
   ]
  },
  {
   "cell_type": "code",
   "execution_count": 5,
   "metadata": {},
   "outputs": [],
   "source": [
    "p_phi_1 = mh*(lp**2+dh**2)\n",
    "p_eps_1 = mc*(lc**2+dc**2) + mh*(lh**2+dh**2) + mh*sin(phi)**2*(lp**2-dh**2)\n",
    "p_lamb_1 = -dc**2*mc*cos(eps)**2-dc*lc*mc*sin(2*eps)-dh**2*mh*cos(eps)**2*cos(phi)**2+dh**2*mh - dh*lh*mh/2*(sin(2*eps-phi)+sin(2*eps+phi))+lc**2*mc*cos(eps)**2+lh**2*mh*cos(eps)**2+lp**2*mh*cos(eps)**2*cos(phi)**2-lp**2*mh*cos(eps)**2+lp**2*mh\n",
    "\n",
    "p_phi_2 = - g*dh*mh*cos(eps)\n",
    "p_eps_2 = g*(dc*mc - dh*mh*cos(phi))\n",
    "p_eps_3 = g*(lh*mh - mc*lc)"
   ]
  },
  {
   "cell_type": "code",
   "execution_count": 69,
   "metadata": {},
   "outputs": [],
   "source": [
    "p_phi_1 = sp.Symbol('p_{\\\\varphi,1}')\n",
    "p_phi_2 = sp.Function('p_{\\\\varphi,2}')(eps)\n",
    "p_eps_1 = sp.Function('p_{\\\\varepsilon,1}')(phi)\n",
    "p_eps_2 = sp.Function('p_{\\\\varepsilon,2}')(phi)\n",
    "p_eps_3 = sp.Symbol('p_{\\\\varepsilon,3}')\n",
    "p_lamb_1 = sp.Function('p_{\\\\lambda,1}')(phi, eps)"
   ]
  },
  {
   "cell_type": "code",
   "execution_count": 3,
   "metadata": {},
   "outputs": [],
   "source": [
    "p_phi_1 = sp.Symbol('p_{\\\\varphi,1}')\n",
    "p_phi_2 = sp.Symbol('p_{\\\\varphi,2}')\n",
    "p_eps_1 = sp.Symbol('p_{\\\\varepsilon,1}')\n",
    "p_eps_2 = sp.Symbol('p_{\\\\varepsilon,2}')\n",
    "p_eps_3 = sp.Symbol('p_{\\\\varepsilon,3}')\n",
    "p_lamb_1 = sp.Symbol('p_{\\\\lambda,1}')"
   ]
  },
  {
   "cell_type": "code",
   "execution_count": 70,
   "metadata": {},
   "outputs": [],
   "source": [
    "f = sp.Matrix([dphi, deps, dlamb, \n",
    "              -1/p_phi_1*(mup*dphi+p_phi_2*sin(phi)),\n",
    "              -1/p_eps_1*(mue*deps+p_eps_2*sin(eps)+p_eps_3*cos(eps)),\n",
    "              -mul/p_lamb_1*dlamb])\n",
    "\n",
    "g1 = sp.Matrix([0, 0, 0, 0, lh*cos(phi)/p_eps_1, lh*sin(phi)*cos(eps)/p_lamb_1])\n",
    "g2 = sp.Matrix([0, 0, 0, lp/p_phi_1, 0, -lp*sin(eps)/p_lamb_1])"
   ]
  },
  {
   "cell_type": "code",
   "execution_count": 6,
   "metadata": {},
   "outputs": [],
   "source": [
    "f = sp.Matrix([dphi, deps, dlamb, \n",
    "              -1/p_phi_1*(mup*dphi+p_phi_2*sin(phi)),\n",
    "              -1/p_eps_1*(mue*deps+p_eps_2*sin(eps)+p_eps_3*cos(eps)),\n",
    "              -mul/p_lamb_1*dlamb])\n",
    "\n",
    "g1 = sp.Matrix([0, 0, 0, 0, lh*cos(phi)/p_eps_1, lh*sin(phi)*cos(eps)/p_lamb_1])\n",
    "g2 = sp.Matrix([0, 0, 0, lp/p_phi_1, 0, 0])"
   ]
  },
  {
   "cell_type": "code",
   "execution_count": 87,
   "metadata": {},
   "outputs": [],
   "source": [
    "f = sp.Matrix([dphi, deps, dlamb,\n",
    "               sp.Function('a')(phi, dphi, eps),\n",
    "               sp.Function('b')(phi, eps, deps),\n",
    "               sp.Function('c')(phi, eps, dlamb)])\n",
    "g1 = sp.Matrix([0, 0, 0, 0,\n",
    "               sp.Function('d')(phi),\n",
    "               sp.Function('e')(phi, eps)])\n",
    "g2 = sp.Matrix([0, 0, 0, sp.Symbol('f'), 0, sp.Function('g')(phi, eps)])"
   ]
  },
  {
   "cell_type": "code",
   "execution_count": 5,
   "metadata": {},
   "outputs": [],
   "source": [
    "def calc_Gi(f, g1, g2, i):\n",
    "    g1_cols = [sb.lie_bracket(f, g1, [phi, eps, lamb, dphi, deps, dlamb], order=k) for k in range(i+1)]\n",
    "    g2_cols = [sb.lie_bracket(f, g2, [phi, eps, lamb, dphi, deps, dlamb], order=k) for k in range(i+1)]\n",
    "    cols = [val for pair in zip(g1_cols, g2_cols) for val in pair]\n",
    "    return sb.concat_cols(*cols)"
   ]
  },
  {
   "cell_type": "code",
   "execution_count": 6,
   "metadata": {},
   "outputs": [
    {
     "data": {
      "image/png": "[encoded data removed]",
      "text/latex": [
       "$$\\verb|G5_rank| := 6$$"
      ],
      "text/plain": [
       "G5_rank := 6"
      ]
     },
     "metadata": {},
     "output_type": "display_data"
    },
    {
     "name": "stdout",
     "output_type": "stream",
     "text": [
      "---\n"
     ]
    },
    {
     "data": {
      "text/plain": [
       "Gi_involutive := [True, False, False, True, True]"
      ]
     },
     "metadata": {},
     "output_type": "display_data"
    },
    {
     "name": "stdout",
     "output_type": "stream",
     "text": [
      "---\n",
      "System IS NOT input state linearizable\n"
     ]
    }
   ],
   "source": [
    "Gis = [calc_Gi(f, g1, g2, i) for i in range(6)]\n",
    "G5_rank = sb.generic_rank(Gis[5]) ##:\n",
    "Gi_involutive = [sb.involutivity_test(Gis[i], x)[0] for i in range(5)] ##:\n",
    "\n",
    "if G5_rank==6 and all(Gi_involutive):\n",
    "    print(\"System IS input state linearizable\")\n",
    "else:\n",
    "    print(\"System IS NOT input state linearizable\")"
   ]
  },
  {
   "cell_type": "code",
   "execution_count": 7,
   "metadata": {},
   "outputs": [
    {
     "data": {
      "image/png": "[encoded data removed]",
      "text/latex": [
       "$$\\left[\\begin{matrix}0 & 0 & 0 & - \\frac{l_{p}}{p_{\\varphi,1}}\\\\0 & 0 & - \\frac{l_{h} \\cos{\\left (\\varphi \\right )}}{p_{\\varepsilon,1}} & 0\\\\0 & 0 & - \\frac{l_{h} \\sin{\\left (\\varphi \\right )} \\cos{\\left (\\varepsilon \\right )}}{p_{\\lambda,1}} & 0\\\\0 & \\frac{l_{p}}{p_{\\varphi,1}} & 0 & \\frac{\\mu_\\varphi l_{p}}{p_{\\varphi,1}^{2}}\\\\\\frac{l_{h} \\cos{\\left (\\varphi \\right )}}{p_{\\varepsilon,1}} & 0 & \\frac{\\mu_\\varepsilon l_{h} \\cos{\\left (\\varphi \\right )}}{p_{\\varepsilon,1}^{2}} - \\frac{l_{h} \\dot{\\varphi} \\sin{\\left (\\varphi \\right )}}{p_{\\varepsilon,1}} & 0\\\\\\frac{l_{h} \\sin{\\left (\\varphi \\right )} \\cos{\\left (\\varepsilon \\right )}}{p_{\\lambda,1}} & 0 & \\frac{\\mu_\\lambda l_{h} \\sin{\\left (\\varphi \\right )} \\cos{\\left (\\varepsilon \\right )}}{p_{\\lambda,1}^{2}} - \\frac{l_{h} \\dot{\\varepsilon} \\sin{\\left (\\varepsilon \\right )} \\sin{\\left (\\varphi \\right )}}{p_{\\lambda,1}} + \\frac{l_{h} \\dot{\\varphi} \\cos{\\left (\\varepsilon \\right )} \\cos{\\left (\\varphi \\right )}}{p_{\\lambda,1}} & 0\\end{matrix}\\right]$$"
      ],
      "text/plain": [
       "⎡                                                                             \n",
       "⎢              0                       0                                      \n",
       "⎢                                                                             \n",
       "⎢                                                                             \n",
       "⎢                                                                             \n",
       "⎢              0                       0                                      \n",
       "⎢                                                                             \n",
       "⎢                                                                             \n",
       "⎢                                                                             \n",
       "⎢              0                       0                                      \n",
       "⎢                                                                             \n",
       "⎢                                                                             \n",
       "⎢                                      lₚ                                     \n",
       "⎢              0                 ─────────────                                \n",
       "⎢                                p_{\\varphi,1}                                \n",
       "⎢                                                                             \n",
       "⎢                                                                             \n",
       "⎢        lₕ⋅cos(varphi)                                                       \n",
       "⎢      ─────────────────               0                                      \n",
       "⎢      p_{\\varepsilon,1}                                                      \n",
       "⎢                                                                             \n",
       "⎢                                                                             \n",
       "⎢lₕ⋅sin(varphi)⋅cos(varepsilon)                 \\mu_\\lambda⋅lₕ⋅sin(varphi)⋅cos\n",
       "⎢──────────────────────────────        0        ──────────────────────────────\n",
       "⎢        p_{\\lambda,1}                                                     2  \n",
       "⎣                                                             p_{\\lambda,1}   \n",
       "\n",
       "                                                                              \n",
       "                                 0                                            \n",
       "                                                                              \n",
       "                                                                              \n",
       "                          -lₕ⋅cos(varphi)                                     \n",
       "                         ─────────────────                                    \n",
       "                         p_{\\varepsilon,1}                                    \n",
       "                                                                              \n",
       "                  -lₕ⋅sin(varphi)⋅cos(varepsilon)                             \n",
       "                  ────────────────────────────────                            \n",
       "                           p_{\\lambda,1}                                      \n",
       "                                                                              \n",
       "                                                                              \n",
       "                                 0                                            \n",
       "                                                                              \n",
       "                                                                              \n",
       "                                                                              \n",
       "      \\mu_\\varepsilon⋅lₕ⋅cos(varphi)   lₕ⋅varphi̇⋅sin(varphi)                 \n",
       "      ────────────────────────────── - ──────────────────────                 \n",
       "                             2           p_{\\varepsilon,1}                    \n",
       "            p_{\\varepsilon,1}                                                 \n",
       "                                                                              \n",
       "(varepsilon)   lₕ⋅varepsiloṅ⋅sin(varepsilon)⋅sin(varphi)   lₕ⋅varphi̇⋅cos(var\n",
       "──────────── - ────────────────────────────────────────── + ──────────────────\n",
       "                             p_{\\lambda,1}                              p_{\\la\n",
       "                                                                              \n",
       "\n",
       "                           -lₚ      ⎤\n",
       "                      ───────────── ⎥\n",
       "                      p_{\\varphi,1} ⎥\n",
       "                                    ⎥\n",
       "                                    ⎥\n",
       "                            0       ⎥\n",
       "                                    ⎥\n",
       "                                    ⎥\n",
       "                                    ⎥\n",
       "                            0       ⎥\n",
       "                                    ⎥\n",
       "                                    ⎥\n",
       "                      \\mu_\\varphi⋅lₚ⎥\n",
       "                      ──────────────⎥\n",
       "                                   2⎥\n",
       "                      p_{\\varphi,1} ⎥\n",
       "                                    ⎥\n",
       "                                    ⎥\n",
       "                            0       ⎥\n",
       "                                    ⎥\n",
       "                                    ⎥\n",
       "                                    ⎥\n",
       "epsilon)⋅cos(varphi)                ⎥\n",
       "────────────────────        0       ⎥\n",
       "mbda,1}                             ⎥\n",
       "                                    ⎦"
      ]
     },
     "execution_count": 7,
     "metadata": {},
     "output_type": "execute_result"
    }
   ],
   "source": [
    "Gis[1]"
   ]
  },
  {
   "cell_type": "code",
   "execution_count": 8,
   "metadata": {},
   "outputs": [
    {
     "data": {
      "text/plain": [
       "(False, (0, 2))"
      ]
     },
     "execution_count": 8,
     "metadata": {},
     "output_type": "execute_result"
    }
   ],
   "source": [
    "sb.involutivity_test(Gis[1], x)"
   ]
  },
  {
   "cell_type": "code",
   "execution_count": 10,
   "metadata": {},
   "outputs": [
    {
     "data": {
      "image/png": "[encoded data removed]",
      "text/latex": [
       "$$\\verb|col_bracket| := \\left[\\begin{matrix}0\\\\0\\\\0\\\\0\\\\0\\\\- \\frac{2 l_{h}^{2} \\sin{\\left (\\varepsilon \\right )} \\sin{\\left (\\varphi \\right )} \\cos{\\left (\\varphi \\right )}}{p_{\\lambda,1} p_{\\varepsilon,1}}\\end{matrix}\\right]$$"
      ],
      "text/plain": [
       "col_bracket := ⎡                       0                       ⎤\n",
       "⎢                                               ⎥\n",
       "⎢                       0                       ⎥\n",
       "⎢                                               ⎥\n",
       "⎢                       0                       ⎥\n",
       "⎢                                               ⎥\n",
       "⎢                       0                       ⎥\n",
       "⎢                                               ⎥\n",
       "⎢                       0                       ⎥\n",
       "⎢                                               ⎥\n",
       "⎢     2                                         ⎥\n",
       "⎢-2⋅lₕ ⋅sin(varepsilon)⋅sin(varphi)⋅cos(varphi) ⎥\n",
       "⎢───────────────────────────────────────────────⎥\n",
       "⎣        p_{\\lambda,1}⋅p_{\\varepsilon,1}        ⎦"
      ]
     },
     "metadata": {},
     "output_type": "display_data"
    },
    {
     "name": "stdout",
     "output_type": "stream",
     "text": [
      "---\n"
     ]
    },
    {
     "data": {
      "image/png": "[encoded data removed]",
      "text/latex": [
       "$$\\verb|rank_G1| := 4$$"
      ],
      "text/plain": [
       "rank_G1 := 4"
      ]
     },
     "metadata": {},
     "output_type": "display_data"
    },
    {
     "name": "stdout",
     "output_type": "stream",
     "text": [
      "---\n"
     ]
    },
    {
     "data": {
      "image/png": "[encoded data removed]",
      "text/latex": [
       "$$\\verb|rank_G1_and_bracket| := 5$$"
      ],
      "text/plain": [
       "rank_G1_and_bracket := 5"
      ]
     },
     "metadata": {},
     "output_type": "display_data"
    },
    {
     "name": "stdout",
     "output_type": "stream",
     "text": [
      "---\n"
     ]
    }
   ],
   "source": [
    "col1 = sb.col_select(Gis[1], 0)\n",
    "col2 = sb.col_select(Gis[1], 2)\n",
    "col_bracket = sb.lie_bracket(col1, col2, x) ##:\n",
    "\n",
    "rank_G1 = sb.generic_rank(Gis[1]) ##:\n",
    "G1_and_bracket = sb.concat_cols(Gis[1], col_bracket)\n",
    "rank_G1_and_bracket = sb.generic_rank(G1_and_bracket) ##:"
   ]
  },
  {
   "cell_type": "code",
   "execution_count": 8,
   "metadata": {},
   "outputs": [],
   "source": [
    "h1 = eps\n",
    "h2 = lamb\n",
    "h = sp.Matrix([h1, h2])"
   ]
  },
  {
   "cell_type": "code",
   "execution_count": 9,
   "metadata": {},
   "outputs": [],
   "source": [
    "def vec_rel_degree(f, g, h, x):\n",
    "    m = h.rows # == g.cols\n",
    "    \n",
    "    r = [1 for _ in range(m)]\n",
    "    \n",
    "    for i in range(m):\n",
    "        input_occurred = False\n",
    "        \n",
    "        while not input_occurred:\n",
    "            for j in range(g.cols):\n",
    "                gj = sb.col_select(g, j)\n",
    "                \n",
    "                lie_deriv = sb.lie_deriv(sb.lie_deriv(h[i], f, x, order=r[i]-1), gj, x)\n",
    "                \n",
    "                if lie_deriv != 0:\n",
    "                    input_occurred = True\n",
    "            \n",
    "            if not input_occurred:\n",
    "                if r[i] < 10:\n",
    "                    r[i] += 1\n",
    "                else:\n",
    "                    input_occurred = True\n",
    "                    print(f\"Warning: relative degree for output {i+1} either undefined or higher than 10. Aborting computation.\")\n",
    "    \n",
    "    return r\n",
    "\n",
    "def decoupling_matrix(f, g, h, r, x):\n",
    "    return sp.Matrix([[sb.lie_deriv(sb.lie_deriv(h[i], f, x, order=r[i]-1), sb.col_select(g, j), x) for j in range(g.cols)] for i in range(h.rows)])"
   ]
  },
  {
   "cell_type": "code",
   "execution_count": 10,
   "metadata": {},
   "outputs": [
    {
     "data": {
      "image/png": "[encoded data removed]",
      "text/latex": [
       "$$\\verb|gx| := \\left[\\begin{matrix}0 & 0\\\\0 & 0\\\\0 & 0\\\\0 & \\frac{l_{p}}{m_{h} \\left(d_{h}^{2} + l_{p}^{2}\\right)}\\\\\\frac{l_{h} \\cos{\\left (\\varphi \\right )}}{m_{c} \\left(d_{c}^{2} + l_{c}^{2}\\right) + m_{h} \\left(- d_{h}^{2} + l_{p}^{2}\\right) \\sin^{2}{\\left (\\varphi \\right )} + m_{h} \\left(d_{h}^{2} + l_{h}^{2}\\right)} & 0\\\\\\frac{l_{h} \\sin{\\left (\\varphi \\right )} \\cos{\\left (\\varepsilon \\right )}}{- d_{c}^{2} m_{c} \\cos^{2}{\\left (\\varepsilon \\right )} - d_{c} l_{c} m_{c} \\sin{\\left (2 \\varepsilon \\right )} - d_{h}^{2} m_{h} \\cos^{2}{\\left (\\varepsilon \\right )} \\cos^{2}{\\left (\\varphi \\right )} + d_{h}^{2} m_{h} - \\frac{d_{h} l_{h} m_{h} \\left(\\sin{\\left (2 \\varepsilon - \\varphi \\right )} + \\sin{\\left (2 \\varepsilon + \\varphi \\right )}\\right)}{2} + l_{c}^{2} m_{c} \\cos^{2}{\\left (\\varepsilon \\right )} + l_{h}^{2} m_{h} \\cos^{2}{\\left (\\varepsilon \\right )} + l_{p}^{2} m_{h} \\cos^{2}{\\left (\\varepsilon \\right )} \\cos^{2}{\\left (\\varphi \\right )} - l_{p}^{2} m_{h} \\cos^{2}{\\left (\\varepsilon \\right )} + l_{p}^{2} m_{h}} & 0\\end{matrix}\\right]$$"
      ],
      "text/plain": [
       "gx := ⎡                                                                             \n",
       "⎢                                                                             \n",
       "⎢                                                                             \n",
       "⎢                                                                             \n",
       "⎢                                                                             \n",
       "⎢                                                                             \n",
       "⎢                                                                             \n",
       "⎢                                                                             \n",
       "⎢                                                                             \n",
       "⎢                                                                             \n",
       "⎢                                                                             \n",
       "⎢                                                                             \n",
       "⎢                                                                             \n",
       "⎢                                                                             \n",
       "⎢                                                                             \n",
       "⎢                                                                             \n",
       "⎢                                                                             \n",
       "⎢─────────────────────────────────────────────────────────────────────────────\n",
       "⎢     2        2                                                 2       2    \n",
       "⎢- d_c ⋅m_c⋅cos (varepsilon) - d_c⋅l_c⋅m_c⋅sin(2⋅varepsilon) - dₕ ⋅mₕ⋅cos (var\n",
       "⎣                                                                             \n",
       "\n",
       "                                                                          0   \n",
       "                                                                              \n",
       "                                                                          0   \n",
       "                                                                              \n",
       "                                                                          0   \n",
       "                                                                              \n",
       "                                                                              \n",
       "                                                                          0   \n",
       "                                                                              \n",
       "                                                                              \n",
       "                                                                              \n",
       "                                                                    lₕ⋅cos(var\n",
       "                                          ────────────────────────────────────\n",
       "                                              ⎛   2      2⎞      ⎛    2     2⎞\n",
       "                                          m_c⋅⎝d_c  + l_c ⎠ + mₕ⋅⎝- dₕ  + lₚ ⎠\n",
       "                                                                              \n",
       "                                                            lₕ⋅sin(varphi)⋅cos\n",
       "──────────────────────────────────────────────────────────────────────────────\n",
       "            2             2      dₕ⋅lₕ⋅mₕ⋅(sin(2⋅varepsilon - varphi) + sin(2⋅\n",
       "epsilon)⋅cos (varphi) + dₕ ⋅mₕ - ─────────────────────────────────────────────\n",
       "                                                                 2            \n",
       "\n",
       "                                                                              \n",
       "                                                                              \n",
       "                                                                              \n",
       "                                                                              \n",
       "                                                                              \n",
       "                                                                              \n",
       "                                                                              \n",
       "                                                                              \n",
       "                                                                              \n",
       "                                                                              \n",
       "                                                                              \n",
       "phi)                                                                          \n",
       "──────────────────────────────                                                \n",
       "    2              ⎛  2     2⎞                                                \n",
       "⋅sin (varphi) + mₕ⋅⎝dₕ  + lₕ ⎠                                                \n",
       "                                                                              \n",
       "(varepsilon)                                                                  \n",
       "──────────────────────────────────────────────────────────────────────────────\n",
       "varepsilon + varphi))      2        2                 2       2               \n",
       "───────────────────── + l_c ⋅m_c⋅cos (varepsilon) + lₕ ⋅mₕ⋅cos (varepsilon) + \n",
       "                                                                              \n",
       "\n",
       "                                                                              \n",
       "                                                                              \n",
       "                                                                              \n",
       "                                                                              \n",
       "                                                                              \n",
       "                                                                              \n",
       "                                                                              \n",
       "                                                                         ─────\n",
       "                                                                            ⎛ \n",
       "                                                                         mₕ⋅⎝d\n",
       "                                                                              \n",
       "                                                                              \n",
       "                                                                              \n",
       "                                                                              \n",
       "                                                                              \n",
       "                                                                              \n",
       "                                                                              \n",
       "───────────────────────────────────────────────────────────────────────       \n",
       "  2       2                2             2       2                 2          \n",
       "lₚ ⋅mₕ⋅cos (varepsilon)⋅cos (varphi) - lₚ ⋅mₕ⋅cos (varepsilon) + lₚ ⋅mₕ       \n",
       "                                                                              \n",
       "\n",
       " 0       ⎤\n",
       "         ⎥\n",
       " 0       ⎥\n",
       "         ⎥\n",
       " 0       ⎥\n",
       "         ⎥\n",
       " lₚ      ⎥\n",
       "─────────⎥\n",
       " 2     2⎞⎥\n",
       "ₕ  + lₚ ⎠⎥\n",
       "         ⎥\n",
       "         ⎥\n",
       " 0       ⎥\n",
       "         ⎥\n",
       "         ⎥\n",
       "         ⎥\n",
       "         ⎥\n",
       " 0       ⎥\n",
       "         ⎥\n",
       "         ⎥\n",
       "         ⎦"
      ]
     },
     "metadata": {},
     "output_type": "display_data"
    },
    {
     "name": "stdout",
     "output_type": "stream",
     "text": [
      "---\n"
     ]
    },
    {
     "data": {
      "image/png": "[encoded data removed]",
      "text/latex": [
       "$$\\verb|r| := \\left [ 2, \\quad 2\\right ]$$"
      ],
      "text/plain": [
       "r := [2, 2]"
      ]
     },
     "metadata": {},
     "output_type": "display_data"
    },
    {
     "name": "stdout",
     "output_type": "stream",
     "text": [
      "---\n"
     ]
    }
   ],
   "source": [
    "gx = sb.concat_cols(g1, g2) ##:\n",
    "r = vec_rel_degree(f, gx, h, x) ##:"
   ]
  },
  {
   "cell_type": "code",
   "execution_count": 91,
   "metadata": {},
   "outputs": [
    {
     "data": {
      "image/png": "[encoded data removed]",
      "text/latex": [
       "$$\\verb|decoupling_matrix(f, gx, h, r, x) | := \\left[\\begin{matrix}\\frac{l_{h} \\cos{\\left (\\varphi \\right )}}{p_{\\varepsilon,1}} & 0\\\\\\frac{l_{h} \\sin{\\left (\\varphi \\right )} \\cos{\\left (\\varepsilon \\right )}}{p_{\\lambda,1}} & 0\\end{matrix}\\right]$$"
      ],
      "text/plain": [
       "decoupling_matrix(f, gx, h, r, x)  := ⎡        lₕ⋅cos(varphi)           ⎤\n",
       "⎢      ─────────────────         0⎥\n",
       "⎢      p_{\\varepsilon,1}          ⎥\n",
       "⎢                                 ⎥\n",
       "⎢lₕ⋅sin(varphi)⋅cos(varepsilon)   ⎥\n",
       "⎢──────────────────────────────  0⎥\n",
       "⎣        p_{\\lambda,1}            ⎦"
      ]
     },
     "metadata": {},
     "output_type": "display_data"
    },
    {
     "name": "stdout",
     "output_type": "stream",
     "text": [
      "___\n"
     ]
    }
   ],
   "source": [
    "decoupling_matrix(f, gx, h, r, x) ##:"
   ]
  },
  {
   "cell_type": "markdown",
   "metadata": {},
   "source": [
    "Dynamic Extension"
   ]
  },
  {
   "cell_type": "code",
   "execution_count": 11,
   "metadata": {},
   "outputs": [
    {
     "data": {
      "image/png": "[encoded data removed]",
      "text/latex": [
       "$$\\verb|x_ext1| := \\left[\\begin{matrix}\\varphi\\\\\\varepsilon\\\\\\lambda\\\\\\dot{\\varphi}\\\\\\dot{\\varepsilon}\\\\\\dot{\\lambda}\\\\u_{1}\\end{matrix}\\right]$$"
      ],
      "text/plain": [
       "x_ext1 := ⎡  varphi   ⎤\n",
       "⎢           ⎥\n",
       "⎢varepsilon ⎥\n",
       "⎢           ⎥\n",
       "⎢     λ     ⎥\n",
       "⎢           ⎥\n",
       "⎢  varphi̇  ⎥\n",
       "⎢           ⎥\n",
       "⎢varepsiloṅ⎥\n",
       "⎢           ⎥\n",
       "⎢    λ̇     ⎥\n",
       "⎢           ⎥\n",
       "⎣    u₁     ⎦"
      ]
     },
     "metadata": {},
     "output_type": "display_data"
    },
    {
     "name": "stdout",
     "output_type": "stream",
     "text": [
      "---\n"
     ]
    },
    {
     "data": {
      "image/png": "[encoded data removed]",
      "text/latex": [
       "$$\\verb|f_ext1| := \\left[\\begin{matrix}\\dot{\\varphi}\\\\\\dot{\\varepsilon}\\\\\\dot{\\lambda}\\\\- \\frac{\\mu_\\varphi \\dot{\\varphi} - d_{h} g m_{h} \\sin{\\left (\\varphi \\right )} \\cos{\\left (\\varepsilon \\right )}}{m_{h} \\left(d_{h}^{2} + l_{p}^{2}\\right)}\\\\\\frac{l_{h} u_{1} \\cos{\\left (\\varphi \\right )}}{m_{c} \\left(d_{c}^{2} + l_{c}^{2}\\right) + m_{h} \\left(- d_{h}^{2} + l_{p}^{2}\\right) \\sin^{2}{\\left (\\varphi \\right )} + m_{h} \\left(d_{h}^{2} + l_{h}^{2}\\right)} - \\frac{\\mu_\\varepsilon \\dot{\\varepsilon} + g \\left(d_{c} m_{c} - d_{h} m_{h} \\cos{\\left (\\varphi \\right )}\\right) \\sin{\\left (\\varepsilon \\right )} + g \\left(- l_{c} m_{c} + l_{h} m_{h}\\right) \\cos{\\left (\\varepsilon \\right )}}{m_{c} \\left(d_{c}^{2} + l_{c}^{2}\\right) + m_{h} \\left(- d_{h}^{2} + l_{p}^{2}\\right) \\sin^{2}{\\left (\\varphi \\right )} + m_{h} \\left(d_{h}^{2} + l_{h}^{2}\\right)}\\\\- \\frac{\\mu_\\lambda \\dot{\\lambda}}{- d_{c}^{2} m_{c} \\cos^{2}{\\left (\\varepsilon \\right )} - d_{c} l_{c} m_{c} \\sin{\\left (2 \\varepsilon \\right )} - d_{h}^{2} m_{h} \\cos^{2}{\\left (\\varepsilon \\right )} \\cos^{2}{\\left (\\varphi \\right )} + d_{h}^{2} m_{h} - \\frac{d_{h} l_{h} m_{h} \\left(\\sin{\\left (2 \\varepsilon - \\varphi \\right )} + \\sin{\\left (2 \\varepsilon + \\varphi \\right )}\\right)}{2} + l_{c}^{2} m_{c} \\cos^{2}{\\left (\\varepsilon \\right )} + l_{h}^{2} m_{h} \\cos^{2}{\\left (\\varepsilon \\right )} + l_{p}^{2} m_{h} \\cos^{2}{\\left (\\varepsilon \\right )} \\cos^{2}{\\left (\\varphi \\right )} - l_{p}^{2} m_{h} \\cos^{2}{\\left (\\varepsilon \\right )} + l_{p}^{2} m_{h}} + \\frac{l_{h} u_{1} \\sin{\\left (\\varphi \\right )} \\cos{\\left (\\varepsilon \\right )}}{- d_{c}^{2} m_{c} \\cos^{2}{\\left (\\varepsilon \\right )} - d_{c} l_{c} m_{c} \\sin{\\left (2 \\varepsilon \\right )} - d_{h}^{2} m_{h} \\cos^{2}{\\left (\\varepsilon \\right )} \\cos^{2}{\\left (\\varphi \\right )} + d_{h}^{2} m_{h} - \\frac{d_{h} l_{h} m_{h} \\left(\\sin{\\left (2 \\varepsilon - \\varphi \\right )} + \\sin{\\left (2 \\varepsilon + \\varphi \\right )}\\right)}{2} + l_{c}^{2} m_{c} \\cos^{2}{\\left (\\varepsilon \\right )} + l_{h}^{2} m_{h} \\cos^{2}{\\left (\\varepsilon \\right )} + l_{p}^{2} m_{h} \\cos^{2}{\\left (\\varepsilon \\right )} \\cos^{2}{\\left (\\varphi \\right )} - l_{p}^{2} m_{h} \\cos^{2}{\\left (\\varepsilon \\right )} + l_{p}^{2} m_{h}}\\\\0\\end{matrix}\\right]$$"
      ],
      "text/plain": [
       "f_ext1 := ⎡                                                                             \n",
       "⎢                                                                             \n",
       "⎢                                                                             \n",
       "⎢                                                                             \n",
       "⎢                                                                             \n",
       "⎢                                                                             \n",
       "⎢                                                                             \n",
       "⎢                                                                             \n",
       "⎢                                                                             \n",
       "⎢                                                                             \n",
       "⎢                                                                             \n",
       "⎢                                                                             \n",
       "⎢                                                                             \n",
       "⎢                                                                             \n",
       "⎢                                                                             \n",
       "⎢                                                                             \n",
       "⎢                                                                             \n",
       "⎢- ───────────────────────────────────────────────────────────────────────────\n",
       "⎢       2        2                                                 2       2  \n",
       "⎢  - d_c ⋅m_c⋅cos (varepsilon) - d_c⋅l_c⋅m_c⋅sin(2⋅varepsilon) - dₕ ⋅mₕ⋅cos (v\n",
       "⎢                                                                             \n",
       "⎢                                                                             \n",
       "⎣                                                                             \n",
       "\n",
       "                                                                              \n",
       "                                                                              \n",
       "                                                                              \n",
       "                                                                              \n",
       "                                                                              \n",
       "                                                                              \n",
       "                                                                              \n",
       "                                                                              \n",
       "                                                                              \n",
       "                                                                              \n",
       "                                                                              \n",
       "                                                                              \n",
       "                                                                              \n",
       "                                                                              \n",
       "                                                                              \n",
       "                                                                              \n",
       "                                                                      \\mu_\\lam\n",
       "──────────────────────────────────────────────────────────────────────────────\n",
       "              2             2      dₕ⋅lₕ⋅mₕ⋅(sin(2⋅varepsilon - varphi) + sin(\n",
       "arepsilon)⋅cos (varphi) + dₕ ⋅mₕ - ───────────────────────────────────────────\n",
       "                                                                   2          \n",
       "                                                                              \n",
       "                                                                              \n",
       "\n",
       "                                                                              \n",
       "                                                                              \n",
       "                                                                              \n",
       "                                                                              \n",
       "                                                                              \n",
       "                                                                              \n",
       "                                                                              \n",
       "                                                                              \n",
       "                                                                              \n",
       "                                                                              \n",
       "                                                                              \n",
       "                                                                              \n",
       "                                                           ───────────────────\n",
       "                                                               ⎛   2      2⎞  \n",
       "                                                           m_c⋅⎝d_c  + l_c ⎠ +\n",
       "                                                                              \n",
       "bda⋅λ̇                                                                        \n",
       "──────────────────────────────────────────────────────────────────────────────\n",
       "2⋅varepsilon + varphi))      2        2                 2       2             \n",
       "─────────────────────── + l_c ⋅m_c⋅cos (varepsilon) + lₕ ⋅mₕ⋅cos (varepsilon) \n",
       "                                                                              \n",
       "                                                                              \n",
       "                                                                              \n",
       "\n",
       "                                                                      varphi̇ \n",
       "                                                                              \n",
       "                                                                    varepsilon\n",
       "                                                                              \n",
       "                                                                        λ̇    \n",
       "                                                                              \n",
       "                                           -(\\mu_\\varphi⋅varphi̇ - dₕ⋅g⋅mₕ⋅sin\n",
       "                                           ───────────────────────────────────\n",
       "                                                                      ⎛  2    \n",
       "                                                                   mₕ⋅⎝dₕ  + l\n",
       "                                                                              \n",
       "     lₕ⋅u₁⋅cos(varphi)                            \\mu_\\varepsilon⋅varepsiloṅ \n",
       "─────────────────────────────────────────────── - ────────────────────────────\n",
       "    ⎛    2     2⎞    2              ⎛  2     2⎞                               \n",
       " mₕ⋅⎝- dₕ  + lₚ ⎠⋅sin (varphi) + mₕ⋅⎝dₕ  + lₕ ⎠                            m_c\n",
       "                                                                              \n",
       "                                                                              \n",
       "───────────────────────────────────────────────────────────────────────── + ──\n",
       "    2       2                2             2       2                 2        \n",
       "+ lₚ ⋅mₕ⋅cos (varepsilon)⋅cos (varphi) - lₚ ⋅mₕ⋅cos (varepsilon) + lₚ ⋅mₕ   - \n",
       "                                                                              \n",
       "                                                                              \n",
       "                                                                         0    \n",
       "\n",
       "                                                                              \n",
       "                                                                              \n",
       "̇                                                                             \n",
       "                                                                              \n",
       "                                                                              \n",
       "                                                                              \n",
       "(varphi)⋅cos(varepsilon))                                                     \n",
       "──────────────────────────                                                    \n",
       " 2⎞                                                                           \n",
       "ₚ ⎠                                                                           \n",
       "                                                                              \n",
       "+ g⋅(d_c⋅m_c - dₕ⋅mₕ⋅cos(varphi))⋅sin(varepsilon) + g⋅(-l_c⋅m_c + lₕ⋅mₕ)⋅cos(v\n",
       "──────────────────────────────────────────────────────────────────────────────\n",
       " ⎛   2      2⎞      ⎛    2     2⎞    2              ⎛  2     2⎞               \n",
       "⋅⎝d_c  + l_c ⎠ + mₕ⋅⎝- dₕ  + lₚ ⎠⋅sin (varphi) + mₕ⋅⎝dₕ  + lₕ ⎠               \n",
       "                                                                              \n",
       "                                                                              \n",
       "──────────────────────────────────────────────────────────────────────────────\n",
       "   2        2                                                 2       2       \n",
       "d_c ⋅m_c⋅cos (varepsilon) - d_c⋅l_c⋅m_c⋅sin(2⋅varepsilon) - dₕ ⋅mₕ⋅cos (vareps\n",
       "                                                                              \n",
       "                                                                              \n",
       "                                                                              \n",
       "\n",
       "                                                                              \n",
       "                                                                              \n",
       "                                                                              \n",
       "                                                                              \n",
       "                                                                              \n",
       "                                                                              \n",
       "                                                                              \n",
       "                                                                              \n",
       "                                                                              \n",
       "                                                                              \n",
       "                                                                              \n",
       "arepsilon)                                                                    \n",
       "──────────                                                                    \n",
       "                                                                              \n",
       "                                                                              \n",
       "                                                                              \n",
       "                                                       lₕ⋅u₁⋅sin(varphi)⋅cos(v\n",
       "──────────────────────────────────────────────────────────────────────────────\n",
       "         2             2      dₕ⋅lₕ⋅mₕ⋅(sin(2⋅varepsilon - varphi) + sin(2⋅var\n",
       "ilon)⋅cos (varphi) + dₕ ⋅mₕ - ────────────────────────────────────────────────\n",
       "                                                              2               \n",
       "                                                                              \n",
       "                                                                              \n",
       "\n",
       "                                                                              \n",
       "                                                                              \n",
       "                                                                              \n",
       "                                                                              \n",
       "                                                                              \n",
       "                                                                              \n",
       "                                                                              \n",
       "                                                                              \n",
       "                                                                              \n",
       "                                                                              \n",
       "                                                                              \n",
       "                                                                              \n",
       "                                                                              \n",
       "                                                                              \n",
       "                                                                              \n",
       "                                                                              \n",
       "arepsilon)                                                                    \n",
       "──────────────────────────────────────────────────────────────────────────────\n",
       "epsilon + varphi))      2        2                 2       2                 2\n",
       "────────────────── + l_c ⋅m_c⋅cos (varepsilon) + lₕ ⋅mₕ⋅cos (varepsilon) + lₚ \n",
       "                                                                              \n",
       "                                                                              \n",
       "                                                                              \n",
       "\n",
       "                                                                    ⎤\n",
       "                                                                    ⎥\n",
       "                                                                    ⎥\n",
       "                                                                    ⎥\n",
       "                                                                    ⎥\n",
       "                                                                    ⎥\n",
       "                                                                    ⎥\n",
       "                                                                    ⎥\n",
       "                                                                    ⎥\n",
       "                                                                    ⎥\n",
       "                                                                    ⎥\n",
       "                                                                    ⎥\n",
       "                                                                    ⎥\n",
       "                                                                    ⎥\n",
       "                                                                    ⎥\n",
       "                                                                    ⎥\n",
       "                                                                    ⎥\n",
       "────────────────────────────────────────────────────────────────────⎥\n",
       "       2                2             2       2                 2   ⎥\n",
       "⋅mₕ⋅cos (varepsilon)⋅cos (varphi) - lₚ ⋅mₕ⋅cos (varepsilon) + lₚ ⋅mₕ⎥\n",
       "                                                                    ⎥\n",
       "                                                                    ⎥\n",
       "                                                                    ⎦"
      ]
     },
     "metadata": {},
     "output_type": "display_data"
    },
    {
     "name": "stdout",
     "output_type": "stream",
     "text": [
      "---\n"
     ]
    },
    {
     "data": {
      "image/png": "[encoded data removed]",
      "text/latex": [
       "$$\\verb|g1_ext1| := \\left[\\begin{matrix}0\\\\0\\\\0\\\\0\\\\0\\\\0\\\\1\\end{matrix}\\right]$$"
      ],
      "text/plain": [
       "g1_ext1 := ⎡0⎤\n",
       "⎢ ⎥\n",
       "⎢0⎥\n",
       "⎢ ⎥\n",
       "⎢0⎥\n",
       "⎢ ⎥\n",
       "⎢0⎥\n",
       "⎢ ⎥\n",
       "⎢0⎥\n",
       "⎢ ⎥\n",
       "⎢0⎥\n",
       "⎢ ⎥\n",
       "⎣1⎦"
      ]
     },
     "metadata": {},
     "output_type": "display_data"
    },
    {
     "name": "stdout",
     "output_type": "stream",
     "text": [
      "---\n"
     ]
    },
    {
     "data": {
      "image/png": "[encoded data removed]",
      "text/latex": [
       "$$\\verb|g2_ext1| := \\left[\\begin{matrix}0\\\\0\\\\0\\\\\\frac{l_{p}}{m_{h} \\left(d_{h}^{2} + l_{p}^{2}\\right)}\\\\0\\\\0\\\\0\\end{matrix}\\right]$$"
      ],
      "text/plain": [
       "g2_ext1 := ⎡      0       ⎤\n",
       "⎢              ⎥\n",
       "⎢      0       ⎥\n",
       "⎢              ⎥\n",
       "⎢      0       ⎥\n",
       "⎢              ⎥\n",
       "⎢      lₚ      ⎥\n",
       "⎢──────────────⎥\n",
       "⎢   ⎛  2     2⎞⎥\n",
       "⎢mₕ⋅⎝dₕ  + lₚ ⎠⎥\n",
       "⎢              ⎥\n",
       "⎢      0       ⎥\n",
       "⎢              ⎥\n",
       "⎢      0       ⎥\n",
       "⎢              ⎥\n",
       "⎣      0       ⎦"
      ]
     },
     "metadata": {},
     "output_type": "display_data"
    },
    {
     "name": "stdout",
     "output_type": "stream",
     "text": [
      "---\n"
     ]
    }
   ],
   "source": [
    "u1 = sp.Symbol('u_1')  # new state\n",
    "x_ext1 = sb.concat_rows(x, u1) ##:\n",
    "f_ext1 = sb.concat_rows(f + g1*u1, sp.S(0)) ##:\n",
    "g1_ext1 = sp.Matrix([0, 0, 0, 0, 0, 0, 1]) ##:\n",
    "g2_ext1 = sb.concat_rows(g2, sp.S(0)) ##:"
   ]
  },
  {
   "cell_type": "code",
   "execution_count": 12,
   "metadata": {},
   "outputs": [
    {
     "data": {
      "image/png": "[encoded data removed]",
      "text/latex": [
       "$$\\verb|r_ext1| := \\left [ 3, \\quad 3\\right ]$$"
      ],
      "text/plain": [
       "r_ext1 := [3, 3]"
      ]
     },
     "metadata": {},
     "output_type": "display_data"
    },
    {
     "name": "stdout",
     "output_type": "stream",
     "text": [
      "---\n"
     ]
    },
    {
     "data": {
      "image/png": "[encoded data removed]",
      "text/latex": [
       "$$\\verb|decoupling_matrix_ext1| := \\left[\\begin{matrix}\\frac{l_{h} \\cos{\\left (\\varphi \\right )}}{m_{c} \\left(d_{c}^{2} + l_{c}^{2}\\right) + m_{h} \\left(- d_{h}^{2} + l_{p}^{2}\\right) \\sin^{2}{\\left (\\varphi \\right )} + m_{h} \\left(d_{h}^{2} + l_{h}^{2}\\right)} & 0\\\\\\frac{l_{h} \\sin{\\left (\\varphi \\right )} \\cos{\\left (\\varepsilon \\right )}}{- d_{c}^{2} m_{c} \\cos^{2}{\\left (\\varepsilon \\right )} - d_{c} l_{c} m_{c} \\sin{\\left (2 \\varepsilon \\right )} - d_{h}^{2} m_{h} \\cos^{2}{\\left (\\varepsilon \\right )} \\cos^{2}{\\left (\\varphi \\right )} + d_{h}^{2} m_{h} - \\frac{d_{h} l_{h} m_{h} \\left(\\sin{\\left (2 \\varepsilon - \\varphi \\right )} + \\sin{\\left (2 \\varepsilon + \\varphi \\right )}\\right)}{2} + l_{c}^{2} m_{c} \\cos^{2}{\\left (\\varepsilon \\right )} + l_{h}^{2} m_{h} \\cos^{2}{\\left (\\varepsilon \\right )} + l_{p}^{2} m_{h} \\cos^{2}{\\left (\\varepsilon \\right )} \\cos^{2}{\\left (\\varphi \\right )} - l_{p}^{2} m_{h} \\cos^{2}{\\left (\\varepsilon \\right )} + l_{p}^{2} m_{h}} & 0\\end{matrix}\\right]$$"
      ],
      "text/plain": [
       "decoupling_matrix_ext1 := ⎡                                                                             \n",
       "⎢                                                                             \n",
       "⎢                                                                             \n",
       "⎢                                                                             \n",
       "⎢                                                                             \n",
       "⎢                                                                             \n",
       "⎢─────────────────────────────────────────────────────────────────────────────\n",
       "⎢     2        2                                                 2       2    \n",
       "⎢- d_c ⋅m_c⋅cos (varepsilon) - d_c⋅l_c⋅m_c⋅sin(2⋅varepsilon) - dₕ ⋅mₕ⋅cos (var\n",
       "⎣                                                                             \n",
       "\n",
       "                                                                    lₕ⋅cos(var\n",
       "                                          ────────────────────────────────────\n",
       "                                              ⎛   2      2⎞      ⎛    2     2⎞\n",
       "                                          m_c⋅⎝d_c  + l_c ⎠ + mₕ⋅⎝- dₕ  + lₚ ⎠\n",
       "                                                                              \n",
       "                                                            lₕ⋅sin(varphi)⋅cos\n",
       "──────────────────────────────────────────────────────────────────────────────\n",
       "            2             2      dₕ⋅lₕ⋅mₕ⋅(sin(2⋅varepsilon - varphi) + sin(2⋅\n",
       "epsilon)⋅cos (varphi) + dₕ ⋅mₕ - ─────────────────────────────────────────────\n",
       "                                                                 2            \n",
       "\n",
       "phi)                                                                          \n",
       "──────────────────────────────                                                \n",
       "    2              ⎛  2     2⎞                                                \n",
       "⋅sin (varphi) + mₕ⋅⎝dₕ  + lₕ ⎠                                                \n",
       "                                                                              \n",
       "(varepsilon)                                                                  \n",
       "──────────────────────────────────────────────────────────────────────────────\n",
       "varepsilon + varphi))      2        2                 2       2               \n",
       "───────────────────── + l_c ⋅m_c⋅cos (varepsilon) + lₕ ⋅mₕ⋅cos (varepsilon) + \n",
       "                                                                              \n",
       "\n",
       "                                                                          ⎤\n",
       "                                                                         0⎥\n",
       "                                                                          ⎥\n",
       "                                                                          ⎥\n",
       "                                                                          ⎥\n",
       "                                                                          ⎥\n",
       "───────────────────────────────────────────────────────────────────────  0⎥\n",
       "  2       2                2             2       2                 2      ⎥\n",
       "lₚ ⋅mₕ⋅cos (varepsilon)⋅cos (varphi) - lₚ ⋅mₕ⋅cos (varepsilon) + lₚ ⋅mₕ   ⎥\n",
       "                                                                          ⎦"
      ]
     },
     "metadata": {},
     "output_type": "display_data"
    },
    {
     "name": "stdout",
     "output_type": "stream",
     "text": [
      "---\n"
     ]
    }
   ],
   "source": [
    "gx_ext1 = sb.concat_cols(g1_ext1, g2_ext1)\n",
    "r_ext1 = vec_rel_degree(f_ext1, gx_ext1, h, x_ext1) ##:\n",
    "decoupling_matrix_ext1 = decoupling_matrix(f_ext1, gx_ext1, h, r_ext1, x_ext1) ##:"
   ]
  },
  {
   "cell_type": "code",
   "execution_count": 13,
   "metadata": {},
   "outputs": [
    {
     "data": {
      "image/png": "[encoded data removed]",
      "text/latex": [
       "$$\\verb|x_ext2| := \\left[\\begin{matrix}\\varphi\\\\\\varepsilon\\\\\\lambda\\\\\\dot{\\varphi}\\\\\\dot{\\varepsilon}\\\\\\dot{\\lambda}\\\\u_{1}\\\\v_{1}\\end{matrix}\\right]$$"
      ],
      "text/plain": [
       "x_ext2 := ⎡  varphi   ⎤\n",
       "⎢           ⎥\n",
       "⎢varepsilon ⎥\n",
       "⎢           ⎥\n",
       "⎢     λ     ⎥\n",
       "⎢           ⎥\n",
       "⎢  varphi̇  ⎥\n",
       "⎢           ⎥\n",
       "⎢varepsiloṅ⎥\n",
       "⎢           ⎥\n",
       "⎢    λ̇     ⎥\n",
       "⎢           ⎥\n",
       "⎢    u₁     ⎥\n",
       "⎢           ⎥\n",
       "⎣    v₁     ⎦"
      ]
     },
     "metadata": {},
     "output_type": "display_data"
    },
    {
     "name": "stdout",
     "output_type": "stream",
     "text": [
      "---\n"
     ]
    },
    {
     "data": {
      "image/png": "[encoded data removed]",
      "text/latex": [
       "$$\\verb|f_ext2| := \\left[\\begin{matrix}\\dot{\\varphi}\\\\\\dot{\\varepsilon}\\\\\\dot{\\lambda}\\\\- \\frac{\\mu_\\varphi \\dot{\\varphi} - d_{h} g m_{h} \\sin{\\left (\\varphi \\right )} \\cos{\\left (\\varepsilon \\right )}}{m_{h} \\left(d_{h}^{2} + l_{p}^{2}\\right)}\\\\\\frac{l_{h} u_{1} \\cos{\\left (\\varphi \\right )}}{m_{c} \\left(d_{c}^{2} + l_{c}^{2}\\right) + m_{h} \\left(- d_{h}^{2} + l_{p}^{2}\\right) \\sin^{2}{\\left (\\varphi \\right )} + m_{h} \\left(d_{h}^{2} + l_{h}^{2}\\right)} - \\frac{\\mu_\\varepsilon \\dot{\\varepsilon} + g \\left(d_{c} m_{c} - d_{h} m_{h} \\cos{\\left (\\varphi \\right )}\\right) \\sin{\\left (\\varepsilon \\right )} + g \\left(- l_{c} m_{c} + l_{h} m_{h}\\right) \\cos{\\left (\\varepsilon \\right )}}{m_{c} \\left(d_{c}^{2} + l_{c}^{2}\\right) + m_{h} \\left(- d_{h}^{2} + l_{p}^{2}\\right) \\sin^{2}{\\left (\\varphi \\right )} + m_{h} \\left(d_{h}^{2} + l_{h}^{2}\\right)}\\\\- \\frac{\\mu_\\lambda \\dot{\\lambda}}{- d_{c}^{2} m_{c} \\cos^{2}{\\left (\\varepsilon \\right )} - d_{c} l_{c} m_{c} \\sin{\\left (2 \\varepsilon \\right )} - d_{h}^{2} m_{h} \\cos^{2}{\\left (\\varepsilon \\right )} \\cos^{2}{\\left (\\varphi \\right )} + d_{h}^{2} m_{h} - \\frac{d_{h} l_{h} m_{h} \\left(\\sin{\\left (2 \\varepsilon - \\varphi \\right )} + \\sin{\\left (2 \\varepsilon + \\varphi \\right )}\\right)}{2} + l_{c}^{2} m_{c} \\cos^{2}{\\left (\\varepsilon \\right )} + l_{h}^{2} m_{h} \\cos^{2}{\\left (\\varepsilon \\right )} + l_{p}^{2} m_{h} \\cos^{2}{\\left (\\varepsilon \\right )} \\cos^{2}{\\left (\\varphi \\right )} - l_{p}^{2} m_{h} \\cos^{2}{\\left (\\varepsilon \\right )} + l_{p}^{2} m_{h}} + \\frac{l_{h} u_{1} \\sin{\\left (\\varphi \\right )} \\cos{\\left (\\varepsilon \\right )}}{- d_{c}^{2} m_{c} \\cos^{2}{\\left (\\varepsilon \\right )} - d_{c} l_{c} m_{c} \\sin{\\left (2 \\varepsilon \\right )} - d_{h}^{2} m_{h} \\cos^{2}{\\left (\\varepsilon \\right )} \\cos^{2}{\\left (\\varphi \\right )} + d_{h}^{2} m_{h} - \\frac{d_{h} l_{h} m_{h} \\left(\\sin{\\left (2 \\varepsilon - \\varphi \\right )} + \\sin{\\left (2 \\varepsilon + \\varphi \\right )}\\right)}{2} + l_{c}^{2} m_{c} \\cos^{2}{\\left (\\varepsilon \\right )} + l_{h}^{2} m_{h} \\cos^{2}{\\left (\\varepsilon \\right )} + l_{p}^{2} m_{h} \\cos^{2}{\\left (\\varepsilon \\right )} \\cos^{2}{\\left (\\varphi \\right )} - l_{p}^{2} m_{h} \\cos^{2}{\\left (\\varepsilon \\right )} + l_{p}^{2} m_{h}}\\\\v_{1}\\\\0\\end{matrix}\\right]$$"
      ],
      "text/plain": [
       "f_ext2 := ⎡                                                                             \n",
       "⎢                                                                             \n",
       "⎢                                                                             \n",
       "⎢                                                                             \n",
       "⎢                                                                             \n",
       "⎢                                                                             \n",
       "⎢                                                                             \n",
       "⎢                                                                             \n",
       "⎢                                                                             \n",
       "⎢                                                                             \n",
       "⎢                                                                             \n",
       "⎢                                                                             \n",
       "⎢                                                                             \n",
       "⎢                                                                             \n",
       "⎢                                                                             \n",
       "⎢                                                                             \n",
       "⎢                                                                             \n",
       "⎢- ───────────────────────────────────────────────────────────────────────────\n",
       "⎢       2        2                                                 2       2  \n",
       "⎢  - d_c ⋅m_c⋅cos (varepsilon) - d_c⋅l_c⋅m_c⋅sin(2⋅varepsilon) - dₕ ⋅mₕ⋅cos (v\n",
       "⎢                                                                             \n",
       "⎢                                                                             \n",
       "⎢                                                                             \n",
       "⎢                                                                             \n",
       "⎣                                                                             \n",
       "\n",
       "                                                                              \n",
       "                                                                              \n",
       "                                                                              \n",
       "                                                                              \n",
       "                                                                              \n",
       "                                                                              \n",
       "                                                                              \n",
       "                                                                              \n",
       "                                                                              \n",
       "                                                                              \n",
       "                                                                              \n",
       "                                                                              \n",
       "                                                                              \n",
       "                                                                              \n",
       "                                                                              \n",
       "                                                                              \n",
       "                                                                      \\mu_\\lam\n",
       "──────────────────────────────────────────────────────────────────────────────\n",
       "              2             2      dₕ⋅lₕ⋅mₕ⋅(sin(2⋅varepsilon - varphi) + sin(\n",
       "arepsilon)⋅cos (varphi) + dₕ ⋅mₕ - ───────────────────────────────────────────\n",
       "                                                                   2          \n",
       "                                                                              \n",
       "                                                                              \n",
       "                                                                              \n",
       "                                                                              \n",
       "\n",
       "                                                                              \n",
       "                                                                              \n",
       "                                                                              \n",
       "                                                                              \n",
       "                                                                              \n",
       "                                                                              \n",
       "                                                                              \n",
       "                                                                              \n",
       "                                                                              \n",
       "                                                                              \n",
       "                                                                              \n",
       "                                                                              \n",
       "                                                           ───────────────────\n",
       "                                                               ⎛   2      2⎞  \n",
       "                                                           m_c⋅⎝d_c  + l_c ⎠ +\n",
       "                                                                              \n",
       "bda⋅λ̇                                                                        \n",
       "──────────────────────────────────────────────────────────────────────────────\n",
       "2⋅varepsilon + varphi))      2        2                 2       2             \n",
       "─────────────────────── + l_c ⋅m_c⋅cos (varepsilon) + lₕ ⋅mₕ⋅cos (varepsilon) \n",
       "                                                                              \n",
       "                                                                              \n",
       "                                                                              \n",
       "                                                                              \n",
       "                                                                              \n",
       "\n",
       "                                                                      varphi̇ \n",
       "                                                                              \n",
       "                                                                    varepsilon\n",
       "                                                                              \n",
       "                                                                        λ̇    \n",
       "                                                                              \n",
       "                                           -(\\mu_\\varphi⋅varphi̇ - dₕ⋅g⋅mₕ⋅sin\n",
       "                                           ───────────────────────────────────\n",
       "                                                                      ⎛  2    \n",
       "                                                                   mₕ⋅⎝dₕ  + l\n",
       "                                                                              \n",
       "     lₕ⋅u₁⋅cos(varphi)                            \\mu_\\varepsilon⋅varepsiloṅ \n",
       "─────────────────────────────────────────────── - ────────────────────────────\n",
       "    ⎛    2     2⎞    2              ⎛  2     2⎞                               \n",
       " mₕ⋅⎝- dₕ  + lₚ ⎠⋅sin (varphi) + mₕ⋅⎝dₕ  + lₕ ⎠                            m_c\n",
       "                                                                              \n",
       "                                                                              \n",
       "───────────────────────────────────────────────────────────────────────── + ──\n",
       "    2       2                2             2       2                 2        \n",
       "+ lₚ ⋅mₕ⋅cos (varepsilon)⋅cos (varphi) - lₚ ⋅mₕ⋅cos (varepsilon) + lₚ ⋅mₕ   - \n",
       "                                                                              \n",
       "                                                                              \n",
       "                                                                        v₁    \n",
       "                                                                              \n",
       "                                                                         0    \n",
       "\n",
       "                                                                              \n",
       "                                                                              \n",
       "̇                                                                             \n",
       "                                                                              \n",
       "                                                                              \n",
       "                                                                              \n",
       "(varphi)⋅cos(varepsilon))                                                     \n",
       "──────────────────────────                                                    \n",
       " 2⎞                                                                           \n",
       "ₚ ⎠                                                                           \n",
       "                                                                              \n",
       "+ g⋅(d_c⋅m_c - dₕ⋅mₕ⋅cos(varphi))⋅sin(varepsilon) + g⋅(-l_c⋅m_c + lₕ⋅mₕ)⋅cos(v\n",
       "──────────────────────────────────────────────────────────────────────────────\n",
       " ⎛   2      2⎞      ⎛    2     2⎞    2              ⎛  2     2⎞               \n",
       "⋅⎝d_c  + l_c ⎠ + mₕ⋅⎝- dₕ  + lₚ ⎠⋅sin (varphi) + mₕ⋅⎝dₕ  + lₕ ⎠               \n",
       "                                                                              \n",
       "                                                                              \n",
       "──────────────────────────────────────────────────────────────────────────────\n",
       "   2        2                                                 2       2       \n",
       "d_c ⋅m_c⋅cos (varepsilon) - d_c⋅l_c⋅m_c⋅sin(2⋅varepsilon) - dₕ ⋅mₕ⋅cos (vareps\n",
       "                                                                              \n",
       "                                                                              \n",
       "                                                                              \n",
       "                                                                              \n",
       "                                                                              \n",
       "\n",
       "                                                                              \n",
       "                                                                              \n",
       "                                                                              \n",
       "                                                                              \n",
       "                                                                              \n",
       "                                                                              \n",
       "                                                                              \n",
       "                                                                              \n",
       "                                                                              \n",
       "                                                                              \n",
       "                                                                              \n",
       "arepsilon)                                                                    \n",
       "──────────                                                                    \n",
       "                                                                              \n",
       "                                                                              \n",
       "                                                                              \n",
       "                                                       lₕ⋅u₁⋅sin(varphi)⋅cos(v\n",
       "──────────────────────────────────────────────────────────────────────────────\n",
       "         2             2      dₕ⋅lₕ⋅mₕ⋅(sin(2⋅varepsilon - varphi) + sin(2⋅var\n",
       "ilon)⋅cos (varphi) + dₕ ⋅mₕ - ────────────────────────────────────────────────\n",
       "                                                              2               \n",
       "                                                                              \n",
       "                                                                              \n",
       "                                                                              \n",
       "                                                                              \n",
       "\n",
       "                                                                              \n",
       "                                                                              \n",
       "                                                                              \n",
       "                                                                              \n",
       "                                                                              \n",
       "                                                                              \n",
       "                                                                              \n",
       "                                                                              \n",
       "                                                                              \n",
       "                                                                              \n",
       "                                                                              \n",
       "                                                                              \n",
       "                                                                              \n",
       "                                                                              \n",
       "                                                                              \n",
       "                                                                              \n",
       "arepsilon)                                                                    \n",
       "──────────────────────────────────────────────────────────────────────────────\n",
       "epsilon + varphi))      2        2                 2       2                 2\n",
       "────────────────── + l_c ⋅m_c⋅cos (varepsilon) + lₕ ⋅mₕ⋅cos (varepsilon) + lₚ \n",
       "                                                                              \n",
       "                                                                              \n",
       "                                                                              \n",
       "                                                                              \n",
       "                                                                              \n",
       "\n",
       "                                                                    ⎤\n",
       "                                                                    ⎥\n",
       "                                                                    ⎥\n",
       "                                                                    ⎥\n",
       "                                                                    ⎥\n",
       "                                                                    ⎥\n",
       "                                                                    ⎥\n",
       "                                                                    ⎥\n",
       "                                                                    ⎥\n",
       "                                                                    ⎥\n",
       "                                                                    ⎥\n",
       "                                                                    ⎥\n",
       "                                                                    ⎥\n",
       "                                                                    ⎥\n",
       "                                                                    ⎥\n",
       "                                                                    ⎥\n",
       "                                                                    ⎥\n",
       "────────────────────────────────────────────────────────────────────⎥\n",
       "       2                2             2       2                 2   ⎥\n",
       "⋅mₕ⋅cos (varepsilon)⋅cos (varphi) - lₚ ⋅mₕ⋅cos (varepsilon) + lₚ ⋅mₕ⎥\n",
       "                                                                    ⎥\n",
       "                                                                    ⎥\n",
       "                                                                    ⎥\n",
       "                                                                    ⎥\n",
       "                                                                    ⎦"
      ]
     },
     "metadata": {},
     "output_type": "display_data"
    },
    {
     "name": "stdout",
     "output_type": "stream",
     "text": [
      "---\n"
     ]
    },
    {
     "data": {
      "image/png": "[encoded data removed]",
      "text/latex": [
       "$$\\verb|g1_ext2| := \\left[\\begin{matrix}0\\\\0\\\\0\\\\0\\\\0\\\\0\\\\0\\\\1\\end{matrix}\\right]$$"
      ],
      "text/plain": [
       "g1_ext2 := ⎡0⎤\n",
       "⎢ ⎥\n",
       "⎢0⎥\n",
       "⎢ ⎥\n",
       "⎢0⎥\n",
       "⎢ ⎥\n",
       "⎢0⎥\n",
       "⎢ ⎥\n",
       "⎢0⎥\n",
       "⎢ ⎥\n",
       "⎢0⎥\n",
       "⎢ ⎥\n",
       "⎢0⎥\n",
       "⎢ ⎥\n",
       "⎣1⎦"
      ]
     },
     "metadata": {},
     "output_type": "display_data"
    },
    {
     "name": "stdout",
     "output_type": "stream",
     "text": [
      "---\n"
     ]
    },
    {
     "data": {
      "image/png": "[encoded data removed]",
      "text/latex": [
       "$$\\verb|g2_ext2| := \\left[\\begin{matrix}0\\\\0\\\\0\\\\\\frac{l_{p}}{m_{h} \\left(d_{h}^{2} + l_{p}^{2}\\right)}\\\\0\\\\0\\\\0\\\\0\\end{matrix}\\right]$$"
      ],
      "text/plain": [
       "g2_ext2 := ⎡      0       ⎤\n",
       "⎢              ⎥\n",
       "⎢      0       ⎥\n",
       "⎢              ⎥\n",
       "⎢      0       ⎥\n",
       "⎢              ⎥\n",
       "⎢      lₚ      ⎥\n",
       "⎢──────────────⎥\n",
       "⎢   ⎛  2     2⎞⎥\n",
       "⎢mₕ⋅⎝dₕ  + lₚ ⎠⎥\n",
       "⎢              ⎥\n",
       "⎢      0       ⎥\n",
       "⎢              ⎥\n",
       "⎢      0       ⎥\n",
       "⎢              ⎥\n",
       "⎢      0       ⎥\n",
       "⎢              ⎥\n",
       "⎣      0       ⎦"
      ]
     },
     "metadata": {},
     "output_type": "display_data"
    },
    {
     "name": "stdout",
     "output_type": "stream",
     "text": [
      "---\n"
     ]
    }
   ],
   "source": [
    "v1 = sp.Symbol('v_1')  # new state\n",
    "x_ext2 = sb.concat_rows(x_ext1, v1) ##:\n",
    "f_ext2 = sb.concat_rows(f_ext1 + g1_ext1*v1, sp.S(0)) ##:\n",
    "g1_ext2 = sp.Matrix([0, 0, 0, 0, 0, 0, 0, 1]) ##:\n",
    "g2_ext2 = sb.concat_rows(g2_ext1, sp.S(0)) ##:"
   ]
  },
  {
   "cell_type": "code",
   "execution_count": 14,
   "metadata": {},
   "outputs": [
    {
     "data": {
      "image/png": "[encoded data removed]",
      "text/latex": [
       "$$\\verb|r_ext2| := \\left [ 4, \\quad 4\\right ]$$"
      ],
      "text/plain": [
       "r_ext2 := [4, 4]"
      ]
     },
     "metadata": {},
     "output_type": "display_data"
    },
    {
     "name": "stdout",
     "output_type": "stream",
     "text": [
      "---\n"
     ]
    },
    {
     "data": {
      "image/png": "[encoded data removed]",
      "text/latex": [
       "$$\\verb|decoupling_matrix_ext2| := \\left[\\begin{matrix}\\frac{l_{h} \\cos{\\left (\\varphi \\right )}}{m_{c} \\left(d_{c}^{2} + l_{c}^{2}\\right) + m_{h} \\left(- d_{h}^{2} + l_{p}^{2}\\right) \\sin^{2}{\\left (\\varphi \\right )} + m_{h} \\left(d_{h}^{2} + l_{h}^{2}\\right)} & \\frac{l_{p} \\left(- \\frac{d_{h} g m_{h} \\sin{\\left (\\varepsilon \\right )} \\sin{\\left (\\varphi \\right )}}{m_{c} \\left(d_{c}^{2} + l_{c}^{2}\\right) + m_{h} \\left(- d_{h}^{2} + l_{p}^{2}\\right) \\sin^{2}{\\left (\\varphi \\right )} + m_{h} \\left(d_{h}^{2} + l_{h}^{2}\\right)} - \\frac{2 l_{h} m_{h} u_{1} \\left(- d_{h}^{2} + l_{p}^{2}\\right) \\sin{\\left (\\varphi \\right )} \\cos^{2}{\\left (\\varphi \\right )}}{\\left(m_{c} \\left(d_{c}^{2} + l_{c}^{2}\\right) + m_{h} \\left(- d_{h}^{2} + l_{p}^{2}\\right) \\sin^{2}{\\left (\\varphi \\right )} + m_{h} \\left(d_{h}^{2} + l_{h}^{2}\\right)\\right)^{2}} - \\frac{l_{h} u_{1} \\sin{\\left (\\varphi \\right )}}{m_{c} \\left(d_{c}^{2} + l_{c}^{2}\\right) + m_{h} \\left(- d_{h}^{2} + l_{p}^{2}\\right) \\sin^{2}{\\left (\\varphi \\right )} + m_{h} \\left(d_{h}^{2} + l_{h}^{2}\\right)} + \\frac{2 m_{h} \\left(- d_{h}^{2} + l_{p}^{2}\\right) \\left(\\mu_\\varepsilon \\dot{\\varepsilon} + g \\left(d_{c} m_{c} - d_{h} m_{h} \\cos{\\left (\\varphi \\right )}\\right) \\sin{\\left (\\varepsilon \\right )} + g \\left(- l_{c} m_{c} + l_{h} m_{h}\\right) \\cos{\\left (\\varepsilon \\right )}\\right) \\sin{\\left (\\varphi \\right )} \\cos{\\left (\\varphi \\right )}}{\\left(m_{c} \\left(d_{c}^{2} + l_{c}^{2}\\right) + m_{h} \\left(- d_{h}^{2} + l_{p}^{2}\\right) \\sin^{2}{\\left (\\varphi \\right )} + m_{h} \\left(d_{h}^{2} + l_{h}^{2}\\right)\\right)^{2}}\\right)}{m_{h} \\left(d_{h}^{2} + l_{p}^{2}\\right)}\\\\\\frac{l_{h} \\sin{\\left (\\varphi \\right )} \\cos{\\left (\\varepsilon \\right )}}{- d_{c}^{2} m_{c} \\cos^{2}{\\left (\\varepsilon \\right )} - d_{c} l_{c} m_{c} \\sin{\\left (2 \\varepsilon \\right )} - d_{h}^{2} m_{h} \\cos^{2}{\\left (\\varepsilon \\right )} \\cos^{2}{\\left (\\varphi \\right )} + d_{h}^{2} m_{h} - \\frac{d_{h} l_{h} m_{h} \\left(\\sin{\\left (2 \\varepsilon - \\varphi \\right )} + \\sin{\\left (2 \\varepsilon + \\varphi \\right )}\\right)}{2} + l_{c}^{2} m_{c} \\cos^{2}{\\left (\\varepsilon \\right )} + l_{h}^{2} m_{h} \\cos^{2}{\\left (\\varepsilon \\right )} + l_{p}^{2} m_{h} \\cos^{2}{\\left (\\varepsilon \\right )} \\cos^{2}{\\left (\\varphi \\right )} - l_{p}^{2} m_{h} \\cos^{2}{\\left (\\varepsilon \\right )} + l_{p}^{2} m_{h}} & \\frac{l_{p} \\left(- \\frac{\\mu_\\lambda \\dot{\\lambda} \\left(- 2 d_{h}^{2} m_{h} \\sin{\\left (\\varphi \\right )} \\cos^{2}{\\left (\\varepsilon \\right )} \\cos{\\left (\\varphi \\right )} + \\frac{d_{h} l_{h} m_{h} \\left(- \\cos{\\left (2 \\varepsilon - \\varphi \\right )} + \\cos{\\left (2 \\varepsilon + \\varphi \\right )}\\right)}{2} + 2 l_{p}^{2} m_{h} \\sin{\\left (\\varphi \\right )} \\cos^{2}{\\left (\\varepsilon \\right )} \\cos{\\left (\\varphi \\right )}\\right)}{\\left(- d_{c}^{2} m_{c} \\cos^{2}{\\left (\\varepsilon \\right )} - d_{c} l_{c} m_{c} \\sin{\\left (2 \\varepsilon \\right )} - d_{h}^{2} m_{h} \\cos^{2}{\\left (\\varepsilon \\right )} \\cos^{2}{\\left (\\varphi \\right )} + d_{h}^{2} m_{h} - \\frac{d_{h} l_{h} m_{h} \\left(\\sin{\\left (2 \\varepsilon - \\varphi \\right )} + \\sin{\\left (2 \\varepsilon + \\varphi \\right )}\\right)}{2} + l_{c}^{2} m_{c} \\cos^{2}{\\left (\\varepsilon \\right )} + l_{h}^{2} m_{h} \\cos^{2}{\\left (\\varepsilon \\right )} + l_{p}^{2} m_{h} \\cos^{2}{\\left (\\varepsilon \\right )} \\cos^{2}{\\left (\\varphi \\right )} - l_{p}^{2} m_{h} \\cos^{2}{\\left (\\varepsilon \\right )} + l_{p}^{2} m_{h}\\right)^{2}} + \\frac{l_{h} u_{1} \\left(- 2 d_{h}^{2} m_{h} \\sin{\\left (\\varphi \\right )} \\cos^{2}{\\left (\\varepsilon \\right )} \\cos{\\left (\\varphi \\right )} + \\frac{d_{h} l_{h} m_{h} \\left(- \\cos{\\left (2 \\varepsilon - \\varphi \\right )} + \\cos{\\left (2 \\varepsilon + \\varphi \\right )}\\right)}{2} + 2 l_{p}^{2} m_{h} \\sin{\\left (\\varphi \\right )} \\cos^{2}{\\left (\\varepsilon \\right )} \\cos{\\left (\\varphi \\right )}\\right) \\sin{\\left (\\varphi \\right )} \\cos{\\left (\\varepsilon \\right )}}{\\left(- d_{c}^{2} m_{c} \\cos^{2}{\\left (\\varepsilon \\right )} - d_{c} l_{c} m_{c} \\sin{\\left (2 \\varepsilon \\right )} - d_{h}^{2} m_{h} \\cos^{2}{\\left (\\varepsilon \\right )} \\cos^{2}{\\left (\\varphi \\right )} + d_{h}^{2} m_{h} - \\frac{d_{h} l_{h} m_{h} \\left(\\sin{\\left (2 \\varepsilon - \\varphi \\right )} + \\sin{\\left (2 \\varepsilon + \\varphi \\right )}\\right)}{2} + l_{c}^{2} m_{c} \\cos^{2}{\\left (\\varepsilon \\right )} + l_{h}^{2} m_{h} \\cos^{2}{\\left (\\varepsilon \\right )} + l_{p}^{2} m_{h} \\cos^{2}{\\left (\\varepsilon \\right )} \\cos^{2}{\\left (\\varphi \\right )} - l_{p}^{2} m_{h} \\cos^{2}{\\left (\\varepsilon \\right )} + l_{p}^{2} m_{h}\\right)^{2}} + \\frac{l_{h} u_{1} \\cos{\\left (\\varepsilon \\right )} \\cos{\\left (\\varphi \\right )}}{- d_{c}^{2} m_{c} \\cos^{2}{\\left (\\varepsilon \\right )} - d_{c} l_{c} m_{c} \\sin{\\left (2 \\varepsilon \\right )} - d_{h}^{2} m_{h} \\cos^{2}{\\left (\\varepsilon \\right )} \\cos^{2}{\\left (\\varphi \\right )} + d_{h}^{2} m_{h} - \\frac{d_{h} l_{h} m_{h} \\left(\\sin{\\left (2 \\varepsilon - \\varphi \\right )} + \\sin{\\left (2 \\varepsilon + \\varphi \\right )}\\right)}{2} + l_{c}^{2} m_{c} \\cos^{2}{\\left (\\varepsilon \\right )} + l_{h}^{2} m_{h} \\cos^{2}{\\left (\\varepsilon \\right )} + l_{p}^{2} m_{h} \\cos^{2}{\\left (\\varepsilon \\right )} \\cos^{2}{\\left (\\varphi \\right )} - l_{p}^{2} m_{h} \\cos^{2}{\\left (\\varepsilon \\right )} + l_{p}^{2} m_{h}}\\right)}{m_{h} \\left(d_{h}^{2} + l_{p}^{2}\\right)}\\end{matrix}\\right]$$"
      ],
      "text/plain": [
       "decoupling_matrix_ext2 := ⎡                                                                             \n",
       "⎢                                                                             \n",
       "⎢                                                                             \n",
       "⎢                                                                             \n",
       "⎢                                                                             \n",
       "⎢                                                                             \n",
       "⎢                                                                             \n",
       "⎢                                                                             \n",
       "⎢                                                                             \n",
       "⎢                                                                             \n",
       "⎢                                                                             \n",
       "⎢                                                                             \n",
       "⎢                                                                             \n",
       "⎢                                                                             \n",
       "⎢                                                                             \n",
       "⎢                                                                             \n",
       "⎢                                                                             \n",
       "⎢                                                                             \n",
       "⎢─────────────────────────────────────────────────────────────────────────────\n",
       "⎢     2        2                                                 2       2    \n",
       "⎢- d_c ⋅m_c⋅cos (varepsilon) - d_c⋅l_c⋅m_c⋅sin(2⋅varepsilon) - dₕ ⋅mₕ⋅cos (var\n",
       "⎣                                                                             \n",
       "\n",
       "                                                                              \n",
       "                                                                              \n",
       "                                                                              \n",
       "                                                                              \n",
       "                                                                              \n",
       "                                                                    lₕ⋅cos(var\n",
       "                                          ────────────────────────────────────\n",
       "                                              ⎛   2      2⎞      ⎛    2     2⎞\n",
       "                                          m_c⋅⎝d_c  + l_c ⎠ + mₕ⋅⎝- dₕ  + lₚ ⎠\n",
       "                                                                              \n",
       "                                                                              \n",
       "                                                                              \n",
       "                                                                              \n",
       "                                                                              \n",
       "                                                                              \n",
       "                                                                              \n",
       "                                                                              \n",
       "                                                            lₕ⋅sin(varphi)⋅cos\n",
       "──────────────────────────────────────────────────────────────────────────────\n",
       "            2             2      dₕ⋅lₕ⋅mₕ⋅(sin(2⋅varepsilon - varphi) + sin(2⋅\n",
       "epsilon)⋅cos (varphi) + dₕ ⋅mₕ - ─────────────────────────────────────────────\n",
       "                                                                 2            \n",
       "\n",
       "                                                                              \n",
       "                                                                              \n",
       "                                                                              \n",
       "                                                                              \n",
       "                                                                              \n",
       "phi)                                                                          \n",
       "──────────────────────────────                                                \n",
       "    2              ⎛  2     2⎞                                                \n",
       "⋅sin (varphi) + mₕ⋅⎝dₕ  + lₕ ⎠                                                \n",
       "                                                                              \n",
       "                                                                              \n",
       "                                                                              \n",
       "                                                                              \n",
       "                                                                              \n",
       "                                                                              \n",
       "                                                                              \n",
       "                                                                              \n",
       "(varepsilon)                                                                  \n",
       "──────────────────────────────────────────────────────────────────────────────\n",
       "varepsilon + varphi))      2        2                 2       2               \n",
       "───────────────────── + l_c ⋅m_c⋅cos (varepsilon) + lₕ ⋅mₕ⋅cos (varepsilon) + \n",
       "                                                                              \n",
       "\n",
       "                                                                              \n",
       "                                                                              \n",
       "                                                                              \n",
       "                                                                              \n",
       "                                                                              \n",
       "                                                                              \n",
       "                                                                              \n",
       "                                                                              \n",
       "                                                                              \n",
       "                                                                              \n",
       "                                                                            ⎛ \n",
       "                                                                            ⎜ \n",
       "                                                                            ⎜ \n",
       "                                                                         lₚ⋅⎜-\n",
       "                                                                            ⎜ \n",
       "                                                                            ⎜ \n",
       "                                                                            ⎜ \n",
       "                                                                            ⎝ \n",
       "───────────────────────────────────────────────────────────────────────  ─────\n",
       "  2       2                2             2       2                 2          \n",
       "lₚ ⋅mₕ⋅cos (varepsilon)⋅cos (varphi) - lₚ ⋅mₕ⋅cos (varepsilon) + lₚ ⋅mₕ       \n",
       "                                                                              \n",
       "\n",
       "                                                                              \n",
       "                                                                              \n",
       "                                                                              \n",
       "                                                                              \n",
       "                                                                              \n",
       "                                                                              \n",
       "                                                                              \n",
       "                                                                              \n",
       "                                                                              \n",
       "                                                                              \n",
       "                                                                           ⎛  \n",
       "                                                            \\mu_\\lambda⋅λ̇⋅⎜- \n",
       "                                                                           ⎝  \n",
       " ─────────────────────────────────────────────────────────────────────────────\n",
       "                                                                              \n",
       " ⎛     2        2                                                 2       2   \n",
       " ⎜- d_c ⋅m_c⋅cos (varepsilon) - d_c⋅l_c⋅m_c⋅sin(2⋅varepsilon) - dₕ ⋅mₕ⋅cos (va\n",
       " ⎝                                                                            \n",
       "──────────────────────────────────────────────────────────────────────────────\n",
       "                                                                              \n",
       "                                                                              \n",
       "                                                                              \n",
       "\n",
       "                                                                              \n",
       "                                                                              \n",
       "                                                                              \n",
       "                                                                              \n",
       "                                                                              \n",
       "                                                                              \n",
       "                                                                              \n",
       "                                                                              \n",
       "                                                                              \n",
       "                                                                              \n",
       "    2                   2                           dₕ⋅lₕ⋅mₕ⋅(-cos(2⋅varepsilo\n",
       "2⋅dₕ ⋅mₕ⋅sin(varphi)⋅cos (varepsilon)⋅cos(varphi) + ──────────────────────────\n",
       "                                                                              \n",
       "──────────────────────────────────────────────────────────────────────────────\n",
       "                                                                              \n",
       "             2             2      dₕ⋅lₕ⋅mₕ⋅(sin(2⋅varepsilon - varphi) + sin(2\n",
       "repsilon)⋅cos (varphi) + dₕ ⋅mₕ - ────────────────────────────────────────────\n",
       "                                                                  2           \n",
       "──────────────────────────────────────────────────────────────────────────────\n",
       "                                                                              \n",
       "                                                                              \n",
       "                                                                              \n",
       "\n",
       "                                                                              \n",
       "                                                                              \n",
       "                                                                              \n",
       "                                                                              \n",
       "                                                                              \n",
       "                                                                              \n",
       "                                                                              \n",
       "                                                                              \n",
       "                                                                              \n",
       "                                                                              \n",
       "n - varphi) + cos(2⋅varepsilon + varphi))       2                   2         \n",
       "───────────────────────────────────────── + 2⋅lₚ ⋅mₕ⋅sin(varphi)⋅cos (varepsil\n",
       "       2                                                                      \n",
       "──────────────────────────────────────────────────────────────────────────────\n",
       "                                                                              \n",
       "⋅varepsilon + varphi))      2        2                 2       2              \n",
       "────────────────────── + l_c ⋅m_c⋅cos (varepsilon) + lₕ ⋅mₕ⋅cos (varepsilon) +\n",
       "                                                                              \n",
       "──────────────────────────────────────────────────────────────────────────────\n",
       "                                                                              \n",
       "                                                                              \n",
       "                                                                              \n",
       "\n",
       "                                        ⎛                                     \n",
       "                                        ⎜                 dₕ⋅g⋅mₕ⋅sin(varepsil\n",
       "                                     lₚ⋅⎜- ───────────────────────────────────\n",
       "                                        ⎜      ⎛   2      2⎞      ⎛    2     2\n",
       "                                        ⎜  m_c⋅⎝d_c  + l_c ⎠ + mₕ⋅⎝- dₕ  + lₚ \n",
       "                                        ⎝                                     \n",
       "                                     ─────────────────────────────────────────\n",
       "                                                                              \n",
       "                                                                              \n",
       "                                                                              \n",
       "               ⎞                                                              \n",
       "on)⋅cos(varphi)⎟                                                              \n",
       "               ⎠                                                              \n",
       "────────────────────────────────────────────────────────────────────────── + ─\n",
       "                                                                         2    \n",
       "   2       2                2             2       2                 2   ⎞    ⎛\n",
       " lₚ ⋅mₕ⋅cos (varepsilon)⋅cos (varphi) - lₚ ⋅mₕ⋅cos (varepsilon) + lₚ ⋅mₕ⎟    ⎜\n",
       "                                                                        ⎠    ⎝\n",
       "──────────────────────────────────────────────────────────────────────────────\n",
       "                                                                              \n",
       "                                                                              \n",
       "                                                                              \n",
       "\n",
       "                                                       ⎛    2     2⎞          \n",
       "on)⋅sin(varphi)                             2⋅lₕ⋅mₕ⋅u₁⋅⎝- dₕ  + lₚ ⎠⋅sin(varph\n",
       "─────────────────────────────── - ────────────────────────────────────────────\n",
       "⎞    2              ⎛  2     2⎞                                               \n",
       "⎠⋅sin (varphi) + mₕ⋅⎝dₕ  + lₕ ⎠   ⎛    ⎛   2      2⎞      ⎛    2     2⎞    2  \n",
       "                                  ⎝m_c⋅⎝d_c  + l_c ⎠ + mₕ⋅⎝- dₕ  + lₚ ⎠⋅sin (v\n",
       "──────────────────────────────────────────────────────────────────────────────\n",
       "                                                                              \n",
       "                                                                              \n",
       "                                                                              \n",
       "                                                      ⎛      2                \n",
       "                                                lₕ⋅u₁⋅⎜- 2⋅dₕ ⋅mₕ⋅sin(varphi)⋅\n",
       "                                                      ⎝                       \n",
       "──────────────────────────────────────────────────────────────────────────────\n",
       "                                                                              \n",
       "     2        2                                                 2       2     \n",
       "- d_c ⋅m_c⋅cos (varepsilon) - d_c⋅l_c⋅m_c⋅sin(2⋅varepsilon) - dₕ ⋅mₕ⋅cos (vare\n",
       "                                                                              \n",
       "──────────────────────────────────────────────────────────────────────────────\n",
       "                                                                              \n",
       "                                                                              \n",
       "                                                                              \n",
       "\n",
       "      2                                                                       \n",
       "i)⋅cos (varphi)                                     lₕ⋅u₁⋅sin(varphi)         \n",
       "───────────────────────── - ──────────────────────────────────────────────────\n",
       "                        2       ⎛   2      2⎞      ⎛    2     2⎞    2         \n",
       "            ⎛  2     2⎞⎞    m_c⋅⎝d_c  + l_c ⎠ + mₕ⋅⎝- dₕ  + lₚ ⎠⋅sin (varphi) \n",
       "arphi) + mₕ⋅⎝dₕ  + lₕ ⎠⎠                                                      \n",
       "──────────────────────────────────────────────────────────────────────────────\n",
       "                                                                  ⎛  2     2⎞ \n",
       "                                                               mₕ⋅⎝dₕ  + lₚ ⎠ \n",
       "                                                                              \n",
       "   2                           dₕ⋅lₕ⋅mₕ⋅(-cos(2⋅varepsilon - varphi) + cos(2⋅v\n",
       "cos (varepsilon)⋅cos(varphi) + ───────────────────────────────────────────────\n",
       "                                                                2             \n",
       "──────────────────────────────────────────────────────────────────────────────\n",
       "                                                                              \n",
       "           2             2      dₕ⋅lₕ⋅mₕ⋅(sin(2⋅varepsilon - varphi) + sin(2⋅v\n",
       "psilon)⋅cos (varphi) + dₕ ⋅mₕ - ──────────────────────────────────────────────\n",
       "                                                                2             \n",
       "──────────────────────────────────────────────────────────────────────────────\n",
       "                                                                   ⎛  2     2⎞\n",
       "                                                                mₕ⋅⎝dₕ  + lₚ ⎠\n",
       "                                                                              \n",
       "\n",
       "                        ⎛    2     2⎞                                         \n",
       "                   2⋅mₕ⋅⎝- dₕ  + lₚ ⎠⋅(\\mu_\\varepsilon⋅varepsiloṅ + g⋅(d_c⋅m_\n",
       "──────────────── + ───────────────────────────────────────────────────────────\n",
       "     ⎛  2     2⎞                                                              \n",
       "+ mₕ⋅⎝dₕ  + lₕ ⎠                                                 ⎛    ⎛   2   \n",
       "                                                                 ⎝m_c⋅⎝d_c  + \n",
       "──────────────────────────────────────────────────────────────────────────────\n",
       "                                                                              \n",
       "                                                                              \n",
       "                                                                              \n",
       "arepsilon + varphi))       2                   2                        ⎞     \n",
       "──────────────────── + 2⋅lₚ ⋅mₕ⋅sin(varphi)⋅cos (varepsilon)⋅cos(varphi)⎟⋅sin(\n",
       "                                                                        ⎠     \n",
       "──────────────────────────────────────────────────────────────────────────────\n",
       "                                                                              \n",
       "arepsilon + varphi))      2        2                 2       2                \n",
       "──────────────────── + l_c ⋅m_c⋅cos (varepsilon) + lₕ ⋅mₕ⋅cos (varepsilon) + l\n",
       "                                                                              \n",
       "──────────────────────────────────────────────────────────────────────────────\n",
       "                                                                              \n",
       "                                                                              \n",
       "                                                                              \n",
       "\n",
       "                                                                              \n",
       "c - dₕ⋅mₕ⋅cos(varphi))⋅sin(varepsilon) + g⋅(-l_c⋅m_c + lₕ⋅mₕ)⋅cos(varepsilon))\n",
       "──────────────────────────────────────────────────────────────────────────────\n",
       "                                                       2                      \n",
       "   2⎞      ⎛    2     2⎞    2              ⎛  2     2⎞⎞                       \n",
       "l_c ⎠ + mₕ⋅⎝- dₕ  + lₚ ⎠⋅sin (varphi) + mₕ⋅⎝dₕ  + lₕ ⎠⎠                       \n",
       "──────────────────────────────────────────────────────────────────────────────\n",
       "                                                                              \n",
       "                                                                              \n",
       "                                                                              \n",
       "                                                                              \n",
       "varphi)⋅cos(varepsilon)                                                       \n",
       "                                                                              \n",
       "──────────────────────────────────────────────────────────────────────── + ───\n",
       "                                                                       2      \n",
       " 2       2                2             2       2                 2   ⎞    - d\n",
       "ₚ ⋅mₕ⋅cos (varepsilon)⋅cos (varphi) - lₚ ⋅mₕ⋅cos (varepsilon) + lₚ ⋅mₕ⎟       \n",
       "                                                                      ⎠       \n",
       "──────────────────────────────────────────────────────────────────────────────\n",
       "                                                                              \n",
       "                                                                              \n",
       "                                                                              \n",
       "\n",
       "                        ⎞                                                     \n",
       "⋅sin(varphi)⋅cos(varphi)⎟                                                     \n",
       "────────────────────────⎟                                                     \n",
       "                        ⎟                                                     \n",
       "                        ⎟                                                     \n",
       "                        ⎠                                                     \n",
       "─────────────────────────                                                     \n",
       "                                                                              \n",
       "                                                                              \n",
       "                                                                              \n",
       "                                                                              \n",
       "                                                                              \n",
       "                                                                              \n",
       "──────────────────────────────────────────────────────────────────────────────\n",
       "  2        2                                                 2       2        \n",
       "_c ⋅m_c⋅cos (varepsilon) - d_c⋅l_c⋅m_c⋅sin(2⋅varepsilon) - dₕ ⋅mₕ⋅cos (varepsi\n",
       "                                                                              \n",
       "                                                                              \n",
       "──────────────────────────────────────────────────────────────────────────────\n",
       "                                                                              \n",
       "                                                                              \n",
       "                                                                              \n",
       "\n",
       "                                                                              \n",
       "                                                                              \n",
       "                                                                              \n",
       "                                                                              \n",
       "                                                                              \n",
       "                                                                              \n",
       "                                                                              \n",
       "                                                                              \n",
       "                                                                              \n",
       "                                                                              \n",
       "                                                                              \n",
       "                                                                              \n",
       "                                                      lₕ⋅u₁⋅cos(varepsilon)⋅co\n",
       "──────────────────────────────────────────────────────────────────────────────\n",
       "        2             2      dₕ⋅lₕ⋅mₕ⋅(sin(2⋅varepsilon - varphi) + sin(2⋅vare\n",
       "lon)⋅cos (varphi) + dₕ ⋅mₕ - ─────────────────────────────────────────────────\n",
       "                                                             2                \n",
       "                                                                              \n",
       "──────────────────────────────────────────────────────────────────────────────\n",
       "                                                                              \n",
       "                                                                              \n",
       "                                                                              \n",
       "\n",
       "                                                                              \n",
       "                                                                              \n",
       "                                                                              \n",
       "                                                                              \n",
       "                                                                              \n",
       "                                                                              \n",
       "                                                                              \n",
       "                                                                              \n",
       "                                                                              \n",
       "                                                                              \n",
       "                                                                              \n",
       "                                                                              \n",
       "s(varphi)                                                                     \n",
       "──────────────────────────────────────────────────────────────────────────────\n",
       "psilon + varphi))      2        2                 2       2                 2 \n",
       "───────────────── + l_c ⋅m_c⋅cos (varepsilon) + lₕ ⋅mₕ⋅cos (varepsilon) + lₚ ⋅\n",
       "                                                                              \n",
       "                                                                              \n",
       "──────────────────────────────────────────────────────────────────────────────\n",
       "                                                                              \n",
       "                                                                              \n",
       "                                                                              \n",
       "\n",
       "                                                                    ⎤\n",
       "                                                                    ⎥\n",
       "                                                                    ⎥\n",
       "                                                                    ⎥\n",
       "                                                                    ⎥\n",
       "                                                                    ⎥\n",
       "                                                                    ⎥\n",
       "                                                                    ⎥\n",
       "                                                                    ⎥\n",
       "                                                                    ⎥\n",
       "                                                                   ⎞⎥\n",
       "                                                                   ⎟⎥\n",
       "                                                                   ⎟⎥\n",
       "───────────────────────────────────────────────────────────────────⎟⎥\n",
       "      2                2             2       2                 2   ⎟⎥\n",
       "mₕ⋅cos (varepsilon)⋅cos (varphi) - lₚ ⋅mₕ⋅cos (varepsilon) + lₚ ⋅mₕ⎟⎥\n",
       "                                                                   ⎟⎥\n",
       "                                                                   ⎠⎥\n",
       "────────────────────────────────────────────────────────────────────⎥\n",
       "                                                                    ⎥\n",
       "                                                                    ⎥\n",
       "                                                                    ⎦"
      ]
     },
     "metadata": {},
     "output_type": "display_data"
    },
    {
     "name": "stdout",
     "output_type": "stream",
     "text": [
      "---\n"
     ]
    }
   ],
   "source": [
    "gx_ext2 = sb.concat_cols(g1_ext2, g2_ext2)\n",
    "r_ext2 = vec_rel_degree(f_ext2, gx_ext2, h, x_ext2) ##:\n",
    "decoupling_matrix_ext2 = decoupling_matrix(f_ext2, gx_ext2, h, r_ext2, x_ext2) ##:"
   ]
  },
  {
   "cell_type": "markdown",
   "metadata": {},
   "source": [
    "### AD verification"
   ]
  },
  {
   "cell_type": "code",
   "execution_count": 18,
   "metadata": {},
   "outputs": [
    {
     "data": {
      "image/png": "[encoded data removed]",
      "text/latex": [
       "$$\\verb|f_eval| := \\left[\\begin{matrix}4.0\\\\5.0\\\\6.0\\\\-3.80397240524614\\\\1.75787221105718\\\\-15.0431859463884\\\\8.0\\\\0\\end{matrix}\\right]$$"
      ],
      "text/plain": [
       "f_eval := ⎡       4.0       ⎤\n",
       "⎢                 ⎥\n",
       "⎢       5.0       ⎥\n",
       "⎢                 ⎥\n",
       "⎢       6.0       ⎥\n",
       "⎢                 ⎥\n",
       "⎢-3.80397240524614⎥\n",
       "⎢                 ⎥\n",
       "⎢1.75787221105718 ⎥\n",
       "⎢                 ⎥\n",
       "⎢-15.0431859463884⎥\n",
       "⎢                 ⎥\n",
       "⎢       8.0       ⎥\n",
       "⎢                 ⎥\n",
       "⎣        0        ⎦"
      ]
     },
     "metadata": {},
     "output_type": "display_data"
    },
    {
     "name": "stdout",
     "output_type": "stream",
     "text": [
      "---\n"
     ]
    },
    {
     "data": {
      "image/png": "[encoded data removed]",
      "text/latex": [
       "$$\\verb|f_jac_eval| := \\left[\\begin{matrix}0 & 0 & 0 & 1.0 & 0 & 0 & 0 & 0\\\\0 & 0 & 0 & 0 & 1.0 & 0 & 0 & 0\\\\0 & 0 & 0 & 0 & 0 & 1.0 & 0 & 0\\\\-0.187921414400086 & -0.639496190167479 & 0 & -0.877825535707842 & 0 & 0 & 0 & 0\\\\-4.66020296716442 & 1.41767106837734 & 0 & 0 & -0.0872714336642755 & 0 & 0.418443458096712 & 0\\\\-5.50664475867252 & 30.2789063518357 & 0 & 0 & 0 & -1.21386013183221 & -1.1085750221993 & 0\\\\0 & 0 & 0 & 0 & 0 & 0 & 0 & 1.0\\\\0 & 0 & 0 & 0 & 0 & 0 & 0 & 0\\end{matrix}\\right]$$"
      ],
      "text/plain": [
       "f_jac_eval := ⎡        0                   0           0         1.0                   0    \n",
       "⎢                                                                             \n",
       "⎢        0                   0           0          0                   1.0   \n",
       "⎢                                                                             \n",
       "⎢        0                   0           0          0                    0    \n",
       "⎢                                                                             \n",
       "⎢-0.187921414400086  -0.639496190167479  0  -0.877825535707842           0    \n",
       "⎢                                                                             \n",
       "⎢-4.66020296716442    1.41767106837734   0          0           -0.08727143366\n",
       "⎢                                                                             \n",
       "⎢-5.50664475867252    30.2789063518357   0          0                    0    \n",
       "⎢                                                                             \n",
       "⎢        0                   0           0          0                    0    \n",
       "⎢                                                                             \n",
       "⎣        0                   0           0          0                    0    \n",
       "\n",
       "               0                  0           0 ⎤\n",
       "                                                ⎥\n",
       "               0                  0           0 ⎥\n",
       "                                                ⎥\n",
       "              1.0                 0           0 ⎥\n",
       "                                                ⎥\n",
       "               0                  0           0 ⎥\n",
       "                                                ⎥\n",
       "42755          0          0.418443458096712   0 ⎥\n",
       "                                                ⎥\n",
       "       -1.21386013183221  -1.1085750221993    0 ⎥\n",
       "                                                ⎥\n",
       "               0                  0          1.0⎥\n",
       "                                                ⎥\n",
       "               0                  0           0 ⎦"
      ]
     },
     "metadata": {},
     "output_type": "display_data"
    },
    {
     "name": "stdout",
     "output_type": "stream",
     "text": [
      "---\n"
     ]
    }
   ],
   "source": [
    "param_symbols = [g, lh, lp, lc, dh, dc, mc, mh, mup, mue, mul]\n",
    "param_values = [9.81, 0.67, 0.178, 0.4069, 0.0027, 0.0639, 1.7638, 1.2006, 0.0334, 0.0755, 0.2569]\n",
    "param_subs = list(zip(param_symbols, param_values))\n",
    "\n",
    "x_subs = list(zip(x_ext2, [i+1 for i in range(10)]))\n",
    "f_eval = sp.N(f_ext2.subs(param_subs).subs(x_subs)) ##:\n",
    "f_jac_eval = sp.N(f_ext2.jacobian(x_ext2).subs(param_subs).subs(x_subs)) ##:"
   ]
  },
  {
   "cell_type": "code",
   "execution_count": 25,
   "metadata": {},
   "outputs": [
    {
     "data": {
      "image/png": "[encoded data removed]",
      "text/latex": [
       "$$\\verb|gamma_eval| := \\left[\\begin{matrix}-45.3250805604024\\\\-3247.1576768625\\end{matrix}\\right]$$"
      ],
      "text/plain": [
       "gamma_eval := ⎡-45.3250805604024⎤\n",
       "⎢                 ⎥\n",
       "⎣-3247.1576768625 ⎦"
      ]
     },
     "metadata": {},
     "output_type": "display_data"
    },
    {
     "name": "stdout",
     "output_type": "stream",
     "text": [
      "---\n"
     ]
    },
    {
     "data": {
      "image/png": "[encoded data removed]",
      "text/latex": [
       "$$\\verb|decoupling_eval| := \\left[\\begin{matrix}0.418443458096712 & -21.8015101669519\\\\-1.1085750221993 & -25.7613611548425\\end{matrix}\\right]$$"
      ],
      "text/plain": [
       "decoupling_eval := ⎡0.418443458096712  -21.8015101669519⎤\n",
       "⎢                                    ⎥\n",
       "⎣-1.1085750221993   -25.7613611548425⎦"
      ]
     },
     "metadata": {},
     "output_type": "display_data"
    },
    {
     "name": "stdout",
     "output_type": "stream",
     "text": [
      "---\n"
     ]
    }
   ],
   "source": [
    "gamma_eval = sp.N(sp.Matrix([sb.lie_deriv(h1, f_ext2.subs(param_subs), x_ext2, order=4), sb.lie_deriv(h2, f_ext2.subs(param_subs), x_ext2, order=4)]).subs(x_subs)) ##:\n",
    "decoupling_eval = sp.N(decoupling_matrix(f_ext2.subs(param_subs), gx_ext2.subs(param_subs), h, [4, 4], x_ext2).subs(x_subs)) ##:"
   ]
  },
  {
   "cell_type": "code",
   "execution_count": 28,
   "metadata": {},
   "outputs": [
    {
     "data": {
      "image/png": "[encoded data removed]",
      "text/latex": [
       "$$\\left ( \\left [ \\left ( x_{0}, \\quad \\cos{\\left (\\varphi \\right )}\\right ), \\quad \\left ( x_{1}, \\quad \\sin{\\left (\\varphi \\right )}\\right ), \\quad \\left ( x_{2}, \\quad x_{1}^{2}\\right ), \\quad \\left ( x_{3}, \\quad 0.038031058026 x_{2} + 0.83818820869\\right ), \\quad \\left ( x_{4}, \\quad \\frac{1}{x_{3}^{2}}\\right ), \\quad \\left ( x_{5}, \\quad x_{0} x_{4}\\right ), \\quad \\left ( x_{6}, \\quad \\frac{1}{x_{3}}\\right ), \\quad \\left ( x_{7}, \\quad x_{1} x_{6}\\right ), \\quad \\left ( x_{8}, \\quad 0.67 x_{7}\\right ), \\quad \\left ( x_{9}, \\quad x_{0}^{2}\\right ), \\quad \\left ( x_{10}, \\quad 0.05096161775484 x_{4}\\right ), \\quad \\left ( x_{11}, \\quad x_{1} x_{10} x_{9}\\right ), \\quad \\left ( x_{12}, \\quad \\cos{\\left (\\varepsilon \\right )}\\right ), \\quad \\left ( x_{13}, \\quad x_{1} x_{12}\\right ), \\quad \\left ( x_{14}, \\quad - 0.877825535707842 \\dot{\\varphi} + 0.83578169269853 x_{13}\\right ), \\quad \\left ( x_{15}, \\quad \\sin{\\left (\\varepsilon \\right )}\\right ), \\quad \\left ( x_{16}, \\quad 0.0318002922 x_{7}\\right ), \\quad \\left ( x_{17}, \\quad 0.8506425618 x_{12}\\right ), \\quad \\left ( x_{18}, \\quad 0.0755 \\dot{\\varepsilon} + 9.81 x_{15} \\left(- 0.00324162 x_{0} + 0.11270682\\right) + x_{17}\\right ), \\quad \\left ( x_{19}, \\quad 0.076062116052 x_{1}\\right ), \\quad \\left ( x_{20}, \\quad x_{19} x_{5}\\right ), \\quad \\left ( x_{21}, \\quad - u_{1} x_{11} - u_{1} x_{8} - x_{15} x_{16} + x_{18} x_{20}\\right ), \\quad \\left ( x_{22}, \\quad 0.67 x_{0}\\right ), \\quad \\left ( x_{23}, \\quad u_{1} x_{22}\\right ), \\quad \\left ( x_{24}, \\quad x_{23} x_{6}\\right ), \\quad \\left ( x_{25}, \\quad - x_{18} x_{6} + x_{24}\\right ), \\quad \\left ( x_{26}, \\quad 0.005742689761926 x_{1} x_{5}\\right ), \\quad \\left ( x_{27}, \\quad 0.0318002922 x_{0}\\right ), \\quad \\left ( x_{28}, \\quad - x_{27} + 1.1056539042\\right ), \\quad \\left ( x_{29}, \\quad x_{12} x_{28} - 0.8506425618 x_{15}\\right ), \\quad \\left ( x_{30}, \\quad x_{12} x_{16}\\right ), \\quad \\left ( x_{31}, \\quad x_{20} x_{29}\\right ), \\quad \\left ( x_{32}, \\quad u_{1} x_{0}^{3}\\right ), \\quad \\left ( x_{33}, \\quad x_{2} x_{5}\\right ), \\quad \\left ( x_{34}, \\quad \\frac{x_{2}}{x_{3}^{3}}\\right ), \\quad \\left ( x_{35}, \\quad 0.076062116052 x_{2}\\right ), \\quad \\left ( x_{36}, \\quad x_{18} x_{4}\\right ), \\quad \\left ( x_{37}, \\quad 0.076062116052 x_{9}\\right ), \\quad \\left ( x_{38}, \\quad x_{12}^{2}\\right ), \\quad \\left ( x_{39}, \\quad 2 \\varepsilon\\right ), \\quad \\left ( x_{40}, \\quad \\sin{\\left (x_{39} \\right )}\\right ), \\quad \\left ( x_{41}, \\quad x_{38} x_{9}\\right ), \\quad \\left ( x_{42}, \\quad \\varphi + x_{39}\\right ), \\quad \\left ( x_{43}, \\quad \\sin{\\left (x_{42} \\right )}\\right ), \\quad \\left ( x_{44}, \\quad - \\varphi + x_{39}\\right ), \\quad \\left ( x_{45}, \\quad \\sin{\\left (x_{44} \\right )}\\right ), \\quad \\left ( x_{46}, \\quad - 0.0010859427 x_{43} - 0.0010859427 x_{45}\\right ), \\quad \\left ( x_{47}, \\quad 0.78573571432 x_{38} - 0.045860405058 x_{40} + 0.038031058026 x_{41} + x_{46} + 0.038048562774\\right ), \\quad \\left ( x_{48}, \\quad \\frac{1}{x_{47}}\\right ), \\quad \\left ( x_{49}, \\quad x_{12} x_{48}\\right ), \\quad \\left ( x_{50}, \\quad \\cos{\\left (x_{42} \\right )}\\right ), \\quad \\left ( x_{51}, \\quad x_{0} x_{38}\\right ), \\quad \\left ( x_{52}, \\quad \\cos{\\left (x_{44} \\right )}\\right ), \\quad \\left ( x_{53}, \\quad x_{19} x_{51} + 0.0010859427 x_{50} - 0.0010859427 x_{52}\\right ), \\quad \\left ( x_{54}, \\quad \\frac{1}{x_{47}^{2}}\\right ), \\quad \\left ( x_{55}, \\quad 0.2569 x_{54}\\right ), \\quad \\left ( x_{56}, \\quad \\dot{\\lambda} x_{55}\\right ), \\quad \\left ( x_{57}, \\quad x_{13} x_{54}\\right ), \\quad \\left ( x_{58}, \\quad 0.67 x_{57}\\right ), \\quad \\left ( x_{59}, \\quad x_{53} x_{58}\\right ), \\quad \\left ( x_{60}, \\quad u_{1} x_{59} + x_{23} x_{49} - x_{53} x_{56}\\right ), \\quad \\left ( x_{61}, \\quad 0.67 x_{48}\\right ), \\quad \\left ( x_{62}, \\quad x_{1} x_{15}\\right ), \\quad \\left ( x_{63}, \\quad x_{61} x_{62}\\right ), \\quad \\left ( x_{64}, \\quad x_{12} x_{15}\\right ), \\quad \\left ( x_{65}, \\quad \\cos{\\left (x_{39} \\right )}\\right ), \\quad \\left ( x_{66}, \\quad 0.0021718854 x_{50}\\right ), \\quad \\left ( x_{67}, \\quad 0.0021718854 x_{52}\\right ), \\quad \\left ( x_{68}, \\quad x_{37} x_{64} + 1.57147142864 x_{64} + 0.091720810116 x_{65} + x_{66} + x_{67}\\right ), \\quad \\left ( x_{69}, \\quad x_{58} x_{68}\\right ), \\quad \\left ( x_{70}, \\quad - u_{1} x_{63} + u_{1} x_{69} - x_{56} x_{68}\\right ), \\quad \\left ( x_{71}, \\quad 0.2569 x_{48}\\right ), \\quad \\left ( x_{72}, \\quad u_{1} x_{13}\\right ), \\quad \\left ( x_{73}, \\quad x_{61} x_{72}\\right ), \\quad \\left ( x_{74}, \\quad - \\dot{\\lambda} x_{71} + x_{73}\\right ), \\quad \\left ( x_{75}, \\quad x_{22} x_{49}\\right ), \\quad \\left ( x_{76}, \\quad x_{55} x_{74}\\right ), \\quad \\left ( x_{77}, \\quad - x_{73}\\right ), \\quad \\left ( x_{78}, \\quad x_{53} x_{54}\\right ), \\quad \\left ( x_{79}, \\quad 0.076062116052 x_{41}\\right ), \\quad \\left ( x_{80}, \\quad - x_{35} x_{38} + x_{46} + x_{79}\\right ), \\quad \\left ( x_{81}, \\quad u_{1} x_{58}\\right ), \\quad \\left ( x_{82}, \\quad 0.2569 \\dot{\\lambda}\\right ), \\quad \\left ( x_{83}, \\quad x_{53} x_{82}\\right ), \\quad \\left ( x_{84}, \\quad \\frac{1}{x_{47}^{3}}\\right ), \\quad \\left ( x_{85}, \\quad x_{84} \\left(0.152124232104 x_{1} x_{51} + x_{66} - x_{67}\\right)\\right ), \\quad \\left ( x_{86}, \\quad 0.67 x_{72}\\right ), \\quad \\left ( x_{87}, \\quad x_{53} x_{86}\\right ), \\quad \\left ( x_{88}, \\quad x_{68} x_{85}\\right ), \\quad \\left ( x_{89}, \\quad - 0.152124232104 x_{0} x_{13} x_{15} - 0.0021718854 x_{43} + 0.0021718854 x_{45}\\right ), \\quad \\left ( x_{90}, \\quad x_{54} x_{68}\\right ), \\quad \\left ( x_{91}, \\quad u_{1} x_{62}\\right ), \\quad \\left ( x_{92}, \\quad x_{12} x_{23} x_{90} - x_{15} x_{23} x_{48} - x_{56} x_{89} - 0.67 x_{78} x_{91} + x_{81} x_{89}\\right ), \\quad \\left ( x_{93}, \\quad x_{15}^{2}\\right ), \\quad \\left ( x_{94}, \\quad - x_{37} x_{93} + 1.57147142864 x_{38} - 0.183441620232 x_{40} - 0.0043437708 x_{43} - 0.0043437708 x_{45} + x_{79} - 1.57147142864 x_{93}\\right ), \\quad \\left ( x_{95}, \\quad x_{84} \\left(0.0043437708 x_{50} + 0.0043437708 x_{52} + 0.152124232104 x_{64} x_{9} + 3.14294285728 x_{64} + 0.183441620232 x_{65}\\right)\\right ), \\quad \\left ( x_{96}, \\quad x_{68} x_{95}\\right )\\right ], \\quad \\left [ \\left[\\begin{matrix}v_{1} \\left(\\dot{\\varphi} \\left(- x_{11} - x_{8}\\right) - 0.050585 x_{5}\\right) + \\dot{\\varepsilon} \\left(- \\dot{\\varepsilon} x_{6} \\left(- x_{15} x_{28} - x_{17}\\right) + \\dot{\\varphi} \\left(- x_{30} + x_{31}\\right) + 0.0755 x_{29} x_{4}\\right) + \\dot{\\varphi} \\left(- v_{1} x_{11} - v_{1} x_{8} - \\dot{\\varepsilon} x_{30} + \\dot{\\varepsilon} x_{31} + \\dot{\\varphi} \\left(0.15288485326452 u_{1} x_{33} - x_{10} x_{32} - x_{15} x_{27} x_{6} + 0.00483759503160782 x_{15} x_{33} - 0.0115708909966158 x_{18} x_{34} x_{9} - x_{24} + 0.00775249696773261 x_{32} x_{34} - x_{35} x_{36} + x_{36} x_{37}\\right) - 0.0755 x_{21} x_{6} + x_{25} x_{26}\\right) + x_{14} x_{21} + x_{25} \\left(\\dot{\\varphi} x_{26} - x_{29} x_{6} + 0.00570025 x_{4}\\right)\\\\v_{1} \\left(\\dot{\\varepsilon} \\left(- x_{63} + x_{69}\\right) + \\dot{\\varphi} \\left(x_{59} + x_{75}\\right) - 0.172123 x_{57}\\right) + \\dot{\\varepsilon} \\left(- v_{1} x_{63} + v_{1} x_{69} + \\dot{\\varepsilon} \\left(- x_{56} x_{94} + x_{77} + x_{81} x_{94} - x_{82} x_{96} + x_{86} x_{96} - 1.34 x_{90} x_{91}\\right) + \\dot{\\varphi} \\left(- x_{83} x_{95} + x_{87} x_{95} + x_{92}\\right) - x_{68} x_{76} - x_{70} x_{71}\\right) + \\dot{\\varphi} \\left(v_{1} x_{59} + v_{1} x_{75} + \\dot{\\varepsilon} \\left(- x_{82} x_{88} + x_{86} x_{88} + x_{92}\\right) + \\dot{\\varphi} \\left(1.34 u_{1} x_{0} x_{12} x_{78} - x_{56} x_{80} + x_{77} + x_{80} x_{81} - x_{83} x_{85} + x_{85} x_{87}\\right) - x_{53} x_{76} - x_{60} x_{71}\\right) + x_{14} x_{60} + x_{25} x_{70} + x_{74} \\left(- \\dot{\\varepsilon} x_{55} x_{68} - \\dot{\\varphi} x_{53} x_{55} + 0.06599761 x_{54}\\right)\\end{matrix}\\right]\\right ]\\right )$$"
      ],
      "text/plain": [
       "⎛⎡                                      ⎛      2⎞                             \n",
       "⎜⎢(x₀, cos(varphi)), (x₁, sin(varphi)), ⎝x₂, x₁ ⎠, (x₃, 0.038031058026⋅x₂ + 0.\n",
       "⎜⎢                                                                            \n",
       "⎝⎣                                                                            \n",
       "\n",
       "              ⎛     1 ⎞               ⎛    1 ⎞                              ⎛ \n",
       "83818820869), ⎜x₄, ───⎟, (x₅, x₀⋅x₄), ⎜x₆, ──⎟, (x₇, x₁⋅x₆), (x₈, 0.67⋅x₇), ⎝x\n",
       "              ⎜      2⎟               ⎝    x₃⎠                                \n",
       "              ⎝    x₃ ⎠                                                       \n",
       "\n",
       "     2⎞                                                                       \n",
       "₉, x₀ ⎠, (x₁₀, 0.05096161775484⋅x₄), (x₁₁, x₁⋅x₁₀⋅x₉), (x₁₂, cos(varepsilon)),\n",
       "                                                                              \n",
       "                                                                              \n",
       "\n",
       "                                                                              \n",
       " (x₁₃, x₁⋅x₁₂), (x₁₄, -0.877825535707842⋅varphi̇ + 0.83578169269853⋅x₁₃), (x₁₅\n",
       "                                                                              \n",
       "                                                                              \n",
       "\n",
       "                                                                              \n",
       ", sin(varepsilon)), (x₁₆, 0.0318002922⋅x₇), (x₁₇, 0.8506425618⋅x₁₂), (x₁₈, 0.0\n",
       "                                                                              \n",
       "                                                                              \n",
       "\n",
       "                                                                              \n",
       "755⋅varepsiloṅ + 9.81⋅x₁₅⋅(-0.00324162⋅x₀ + 0.11270682) + x₁₇), (x₁₉, 0.07606\n",
       "                                                                              \n",
       "                                                                              \n",
       "\n",
       "                                                                              \n",
       "2116052⋅x₁), (x₂₀, x₁₉⋅x₅), (x₂₁, -u₁⋅x₁₁ - u₁⋅x₈ - x₁₅⋅x₁₆ + x₁₈⋅x₂₀), (x₂₂, \n",
       "                                                                              \n",
       "                                                                              \n",
       "\n",
       "                                                                              \n",
       "0.67⋅x₀), (x₂₃, u₁⋅x₂₂), (x₂₄, x₂₃⋅x₆), (x₂₅, -x₁₈⋅x₆ + x₂₄), (x₂₆, 0.00574268\n",
       "                                                                              \n",
       "                                                                              \n",
       "\n",
       "                                                                              \n",
       "9761926⋅x₁⋅x₅), (x₂₇, 0.0318002922⋅x₀), (x₂₈, -x₂₇ + 1.1056539042), (x₂₉, x₁₂⋅\n",
       "                                                                              \n",
       "                                                                              \n",
       "\n",
       "                                                         ⎛          3⎞        \n",
       "x₂₈ - 0.8506425618⋅x₁₅), (x₃₀, x₁₂⋅x₁₆), (x₃₁, x₂₀⋅x₂₉), ⎝x₃₂, u₁⋅x₀ ⎠, (x₃₃, \n",
       "                                                                              \n",
       "                                                                              \n",
       "\n",
       "        ⎛      x₂⎞                                                            \n",
       "x₂⋅x₅), ⎜x₃₄, ───⎟, (x₃₅, 0.076062116052⋅x₂), (x₃₆, x₁₈⋅x₄), (x₃₇, 0.076062116\n",
       "        ⎜       3⎟                                                            \n",
       "        ⎝     x₃ ⎠                                                            \n",
       "\n",
       "         ⎛        2⎞                                                          \n",
       "052⋅x₉), ⎝x₃₈, x₁₂ ⎠, (x₃₉, 2⋅varepsilon), (x₄₀, sin(x₃₉)), (x₄₁, x₃₈⋅x₉), (x₄\n",
       "                                                                              \n",
       "                                                                              \n",
       "\n",
       "                                                                              \n",
       "₂, varphi + x₃₉), (x₄₃, sin(x₄₂)), (x₄₄, -varphi + x₃₉), (x₄₅, sin(x₄₄)), (x₄₆\n",
       "                                                                              \n",
       "                                                                              \n",
       "\n",
       "                                                                              \n",
       ", -0.0010859427⋅x₄₃ - 0.0010859427⋅x₄₅), (x₄₇, 0.78573571432⋅x₃₈ - 0.045860405\n",
       "                                                                              \n",
       "                                                                              \n",
       "\n",
       "                                                      ⎛      1 ⎞              \n",
       "058⋅x₄₀ + 0.038031058026⋅x₄₁ + x₄₆ + 0.038048562774), ⎜x₄₈, ───⎟, (x₄₉, x₁₂⋅x₄\n",
       "                                                      ⎝     x₄₇⎠              \n",
       "                                                                              \n",
       "\n",
       "                                                                              \n",
       "₈), (x₅₀, cos(x₄₂)), (x₅₁, x₀⋅x₃₈), (x₅₂, cos(x₄₄)), (x₅₃, x₁₉⋅x₅₁ + 0.0010859\n",
       "                                                                              \n",
       "                                                                              \n",
       "\n",
       "                             ⎛      1  ⎞                                      \n",
       "427⋅x₅₀ - 0.0010859427⋅x₅₂), ⎜x₅₄, ────⎟, (x₅₅, 0.2569⋅x₅₄), (x₅₆, λ̇⋅x₅₅), (x\n",
       "                             ⎜        2⎟                                      \n",
       "                             ⎝     x₄₇ ⎠                                      \n",
       "\n",
       "                                                                              \n",
       "₅₇, x₁₃⋅x₅₄), (x₅₈, 0.67⋅x₅₇), (x₅₉, x₅₃⋅x₅₈), (x₆₀, u₁⋅x₅₉ + x₂₃⋅x₄₉ - x₅₃⋅x₅\n",
       "                                                                              \n",
       "                                                                              \n",
       "\n",
       "                                                                              \n",
       "₆), (x₆₁, 0.67⋅x₄₈), (x₆₂, x₁⋅x₁₅), (x₆₃, x₆₁⋅x₆₂), (x₆₄, x₁₂⋅x₁₅), (x₆₅, cos(\n",
       "                                                                              \n",
       "                                                                              \n",
       "\n",
       "                                                                              \n",
       "x₃₉)), (x₆₆, 0.0021718854⋅x₅₀), (x₆₇, 0.0021718854⋅x₅₂), (x₆₈, x₃₇⋅x₆₄ + 1.571\n",
       "                                                                              \n",
       "                                                                              \n",
       "\n",
       "                                                                              \n",
       "47142864⋅x₆₄ + 0.091720810116⋅x₆₅ + x₆₆ + x₆₇), (x₆₉, x₅₈⋅x₆₈), (x₇₀, -u₁⋅x₆₃ \n",
       "                                                                              \n",
       "                                                                              \n",
       "\n",
       "                                                                              \n",
       "+ u₁⋅x₆₉ - x₅₆⋅x₆₈), (x₇₁, 0.2569⋅x₄₈), (x₇₂, u₁⋅x₁₃), (x₇₃, x₆₁⋅x₇₂), (x₇₄, -\n",
       "                                                                              \n",
       "                                                                              \n",
       "\n",
       "                                                                              \n",
       "λ̇⋅x₇₁ + x₇₃), (x₇₅, x₂₂⋅x₄₉), (x₇₆, x₅₅⋅x₇₄), (x₇₇, -x₇₃), (x₇₈, x₅₃⋅x₅₄), (x\n",
       "                                                                              \n",
       "                                                                              \n",
       "\n",
       "                                                                              \n",
       "₇₉, 0.076062116052⋅x₄₁), (x₈₀, -x₃₅⋅x₃₈ + x₄₆ + x₇₉), (x₈₁, u₁⋅x₅₈), (x₈₂, 0.2\n",
       "                                                                              \n",
       "                                                                              \n",
       "\n",
       "                         ⎛      1  ⎞                                          \n",
       "569⋅λ̇), (x₈₃, x₅₃⋅x₈₂), ⎜x₈₄, ────⎟, (x₈₅, x₈₄⋅(0.152124232104⋅x₁⋅x₅₁ + x₆₆ -\n",
       "                         ⎜        3⎟                                          \n",
       "                         ⎝     x₄₇ ⎠                                          \n",
       "\n",
       "                                                                              \n",
       " x₆₇)), (x₈₆, 0.67⋅x₇₂), (x₈₇, x₅₃⋅x₈₆), (x₈₈, x₆₈⋅x₈₅), (x₈₉, -0.152124232104\n",
       "                                                                              \n",
       "                                                                              \n",
       "\n",
       "                                                                              \n",
       "⋅x₀⋅x₁₃⋅x₁₅ - 0.0021718854⋅x₄₃ + 0.0021718854⋅x₄₅), (x₉₀, x₅₄⋅x₆₈), (x₉₁, u₁⋅x\n",
       "                                                                              \n",
       "                                                                              \n",
       "\n",
       "                                                                          ⎛   \n",
       "₆₂), (x₉₂, x₁₂⋅x₂₃⋅x₉₀ - x₁₅⋅x₂₃⋅x₄₈ - x₅₆⋅x₈₉ - 0.67⋅x₇₈⋅x₉₁ + x₈₁⋅x₈₉), ⎝x₉₃\n",
       "                                                                              \n",
       "                                                                              \n",
       "\n",
       "     2⎞                                                                       \n",
       ", x₁₅ ⎠, (x₉₄, -x₃₇⋅x₉₃ + 1.57147142864⋅x₃₈ - 0.183441620232⋅x₄₀ - 0.004343770\n",
       "                                                                              \n",
       "                                                                              \n",
       "\n",
       "                                                                              \n",
       "8⋅x₄₃ - 0.0043437708⋅x₄₅ + x₇₉ - 1.57147142864⋅x₉₃), (x₉₅, x₈₄⋅(0.0043437708⋅x\n",
       "                                                                              \n",
       "                                                                              \n",
       "\n",
       "                                                                              \n",
       "₅₀ + 0.0043437708⋅x₅₂ + 0.152124232104⋅x₆₄⋅x₉ + 3.14294285728⋅x₆₄ + 0.18344162\n",
       "                                                                              \n",
       "                                                                              \n",
       "\n",
       "                          ⎤  ⎡⎡                 v₁⋅(varphi̇⋅(-x₁₁ - x₈) - 0.05\n",
       "0232⋅x₆₅)), (x₉₆, x₆₈⋅x₉₅)⎥, ⎢⎢                                               \n",
       "                          ⎥  ⎣⎣v₁⋅(varepsiloṅ⋅(-x₆₃ + x₆₉) + varphi̇⋅(x₅₉ + x\n",
       "                          ⎦                                                   \n",
       "\n",
       "0585⋅x₅) + varepsiloṅ⋅(-varepsiloṅ⋅x₆⋅(-x₁₅⋅x₂₈ - x₁₇) + varphi̇⋅(-x₃₀ + x₃₁\n",
       "                                                                              \n",
       "₇₅) - 0.172123⋅x₅₇) + varepsiloṅ⋅(-v₁⋅x₆₃ + v₁⋅x₆₉ + varepsiloṅ⋅(-x₅₆⋅x₉₄ + \n",
       "                                                                              \n",
       "\n",
       ") + 0.0755⋅x₂₉⋅x₄) + varphi̇⋅(-v₁⋅x₁₁ - v₁⋅x₈ - varepsiloṅ⋅x₃₀ + varepsiloṅ⋅\n",
       "                                                                              \n",
       "x₇₇ + x₈₁⋅x₉₄ - x₈₂⋅x₉₆ + x₈₆⋅x₉₆ - 1.34⋅x₉₀⋅x₉₁) + varphi̇⋅(-x₈₃⋅x₉₅ + x₈₇⋅x₉\n",
       "                                                                              \n",
       "\n",
       "x₃₁ + varphi̇⋅(0.15288485326452⋅u₁⋅x₃₃ - x₁₀⋅x₃₂ - x₁₅⋅x₂₇⋅x₆ + 0.004837595031\n",
       "                                                                              \n",
       "₅ + x₉₂) - x₆₈⋅x₇₆ - x₇₀⋅x₇₁) + varphi̇⋅(v₁⋅x₅₉ + v₁⋅x₇₅ + varepsiloṅ⋅(-x₈₂⋅x\n",
       "                                                                              \n",
       "\n",
       "60782⋅x₁₅⋅x₃₃ - 0.0115708909966158⋅x₁₈⋅x₃₄⋅x₉ - x₂₄ + 0.00775249696773261⋅x₃₂⋅\n",
       "                                                                              \n",
       "₈₈ + x₈₆⋅x₈₈ + x₉₂) + varphi̇⋅(1.34⋅u₁⋅x₀⋅x₁₂⋅x₇₈ - x₅₆⋅x₈₀ + x₇₇ + x₈₀⋅x₈₁ - \n",
       "                                                                              \n",
       "\n",
       "x₃₄ - x₃₅⋅x₃₆ + x₃₆⋅x₃₇) - 0.0755⋅x₂₁⋅x₆ + x₂₅⋅x₂₆) + x₁₄⋅x₂₁ + x₂₅⋅(varphi̇⋅x\n",
       "                                                                              \n",
       "x₈₃⋅x₈₅ + x₈₅⋅x₈₇) - x₅₃⋅x₇₆ - x₆₀⋅x₇₁) + x₁₄⋅x₆₀ + x₂₅⋅x₇₀ + x₇₄⋅(-varepsilon\n",
       "                                                                              \n",
       "\n",
       "₂₆ - x₂₉⋅x₆ + 0.00570025⋅x₄)                 ⎤⎤⎞\n",
       "                                             ⎥⎥⎟\n",
       "̇⋅x₅₅⋅x₆₈ - varphi̇⋅x₅₃⋅x₅₅ + 0.06599761⋅x₅₄)⎦⎦⎟\n",
       "                                               ⎠"
      ]
     },
     "execution_count": 28,
     "metadata": {},
     "output_type": "execute_result"
    }
   ],
   "source": [
    "sp.cse(sp.Matrix([sb.lie_deriv(h1, f_ext2.subs(param_subs), x_ext2, order=4), sb.lie_deriv(h2, f_ext2.subs(param_subs), x_ext2, order=4)]))"
   ]
  },
  {
   "cell_type": "code",
   "execution_count": null,
   "metadata": {},
   "outputs": [],
   "source": []
  }
 ],
 "metadata": {
  "kernelspec": {
   "display_name": "Python 3",
   "language": "python",
   "name": "python3"
  },
  "language_info": {
   "codemirror_mode": {
    "name": "ipython",
    "version": 3
   },
   "file_extension": ".py",
   "mimetype": "text/x-python",
   "name": "python",
   "nbconvert_exporter": "python",
   "pygments_lexer": "ipython3",
   "version": "3.6.5"
  }
 },
 "nbformat": 4,
 "nbformat_minor": 2
}

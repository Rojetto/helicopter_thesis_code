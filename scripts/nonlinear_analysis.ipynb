{
 "cells": [
  {
   "cell_type": "code",
   "execution_count": 95,
   "metadata": {},
   "outputs": [
    {
     "name": "stdout",
     "output_type": "stream",
     "text": [
      "The ipydex.displaytools extension is already loaded. To reload it, use:\n",
      "  %reload_ext ipydex.displaytools\n"
     ]
    }
   ],
   "source": [
    "%load_ext ipydex.displaytools\n",
    "import sympy as sp\n",
    "from sympy import sin, cos\n",
    "import symbtools as sb\n",
    "sp.init_printing()"
   ]
  },
  {
   "cell_type": "code",
   "execution_count": 96,
   "metadata": {},
   "outputs": [],
   "source": [
    "mh, mc, lh, lc, lp, dh, dc = sp.symbols('m_h, m_c, l_h, l_c, l_p, d_h, d_c')\n",
    "mup, mue, mul = sp.symbols('\\\\mu_\\\\varphi, \\\\mu_\\\\varepsilon, \\\\mu_\\\\lambda')\n",
    "phi, eps, lamb = sp.symbols('varphi, varepsilon, lambda')\n",
    "dphi, deps, dlamb = sb.time_deriv(sp.Matrix([phi, eps, lamb]), [phi, eps, lamb])\n",
    "t = sp.symbols('t')\n",
    "g = sp.symbols('g')\n",
    "\n",
    "x = sp.Matrix([phi, eps, lamb, dphi, deps, dlamb])"
   ]
  },
  {
   "cell_type": "code",
   "execution_count": 97,
   "metadata": {},
   "outputs": [],
   "source": [
    "p_phi_1 = mh*(lp**2+dh**2)\n",
    "p_eps_1 = mc*(lc**2+dc**2) + mh*(lh**2+dh**2) + mh*sin(phi)**2*(lp**2-dh**2)\n",
    "p_lamb_1 = -dc**2*mc*cos(eps)**2-dc*lc*mc*sin(2*eps)-dh**2*mh*cos(eps)**2*cos(phi)**2+dh**2*mh - dh*lh*mh/2*(sin(2*eps-phi)+sin(2*eps+phi))+lc**2*mc*cos(eps)**2+lh**2*mh*cos(eps)**2+lp**2*mh*cos(eps)**2*cos(phi)**2-lp**2*mh*cos(eps)**2+lp**2*mh\n",
    "\n",
    "p_phi_2 = - g*dh*mh*cos(eps)\n",
    "p_eps_2 = g*(dc*mc - dh*mh*cos(phi))\n",
    "p_eps_3 = g*(lh*mh - mc*lc)"
   ]
  },
  {
   "cell_type": "code",
   "execution_count": 69,
   "metadata": {},
   "outputs": [],
   "source": [
    "p_phi_1 = sp.Symbol('p_{\\\\varphi,1}')\n",
    "p_phi_2 = sp.Function('p_{\\\\varphi,2}')(eps)\n",
    "p_eps_1 = sp.Function('p_{\\\\varepsilon,1}')(phi)\n",
    "p_eps_2 = sp.Function('p_{\\\\varepsilon,2}')(phi)\n",
    "p_eps_3 = sp.Symbol('p_{\\\\varepsilon,3}')\n",
    "p_lamb_1 = sp.Function('p_{\\\\lambda,1}')(phi, eps)"
   ]
  },
  {
   "cell_type": "code",
   "execution_count": 3,
   "metadata": {},
   "outputs": [],
   "source": [
    "p_phi_1 = sp.Symbol('p_{\\\\varphi,1}')\n",
    "p_phi_2 = sp.Symbol('p_{\\\\varphi,2}')\n",
    "p_eps_1 = sp.Symbol('p_{\\\\varepsilon,1}')\n",
    "p_eps_2 = sp.Symbol('p_{\\\\varepsilon,2}')\n",
    "p_eps_3 = sp.Symbol('p_{\\\\varepsilon,3}')\n",
    "p_lamb_1 = sp.Symbol('p_{\\\\lambda,1}')"
   ]
  },
  {
   "cell_type": "code",
   "execution_count": 70,
   "metadata": {},
   "outputs": [],
   "source": [
    "f = sp.Matrix([dphi, deps, dlamb, \n",
    "              -1/p_phi_1*(mup*dphi+p_phi_2*sin(phi)),\n",
    "              -1/p_eps_1*(mue*deps+p_eps_2*sin(eps)+p_eps_3*cos(eps)),\n",
    "              -mul/p_lamb_1*dlamb])\n",
    "\n",
    "g1 = sp.Matrix([0, 0, 0, 0, lh*cos(phi)/p_eps_1, lh*sin(phi)*cos(eps)/p_lamb_1])\n",
    "g2 = sp.Matrix([0, 0, 0, lp/p_phi_1, 0, -lp*sin(eps)/p_lamb_1])"
   ]
  },
  {
   "cell_type": "code",
   "execution_count": 98,
   "metadata": {},
   "outputs": [],
   "source": [
    "f = sp.Matrix([dphi, deps, dlamb, \n",
    "              -1/p_phi_1*(mup*dphi+p_phi_2*sin(phi)),\n",
    "              -1/p_eps_1*(mue*deps+p_eps_2*sin(eps)+p_eps_3*cos(eps)),\n",
    "              -mul/p_lamb_1*dlamb])\n",
    "\n",
    "g1 = sp.Matrix([0, 0, 0, 0, lh*cos(phi)/p_eps_1, lh*sin(phi)*cos(eps)/p_lamb_1])\n",
    "g2 = sp.Matrix([0, 0, 0, lp/p_phi_1, 0, 0])"
   ]
  },
  {
   "cell_type": "code",
   "execution_count": 87,
   "metadata": {},
   "outputs": [],
   "source": [
    "f = sp.Matrix([dphi, deps, dlamb,\n",
    "               sp.Function('a')(phi, dphi, eps),\n",
    "               sp.Function('b')(phi, eps, deps),\n",
    "               sp.Function('c')(phi, eps, dlamb)])\n",
    "g1 = sp.Matrix([0, 0, 0, 0,\n",
    "               sp.Function('d')(phi),\n",
    "               sp.Function('e')(phi, eps)])\n",
    "g2 = sp.Matrix([0, 0, 0, sp.Symbol('f'), 0, sp.Function('g')(phi, eps)])"
   ]
  },
  {
   "cell_type": "code",
   "execution_count": 5,
   "metadata": {},
   "outputs": [],
   "source": [
    "def calc_Gi(f, g1, g2, i):\n",
    "    g1_cols = [sb.lie_bracket(f, g1, [phi, eps, lamb, dphi, deps, dlamb], order=k) for k in range(i+1)]\n",
    "    g2_cols = [sb.lie_bracket(f, g2, [phi, eps, lamb, dphi, deps, dlamb], order=k) for k in range(i+1)]\n",
    "    cols = [val for pair in zip(g1_cols, g2_cols) for val in pair]\n",
    "    return sb.concat_cols(*cols)"
   ]
  },
  {
   "cell_type": "code",
   "execution_count": 6,
   "metadata": {},
   "outputs": [
    {
     "data": {
      "image/png": "[encoded data removed]",
      "text/latex": [
       "$$\\verb|G5_rank| := 6$$"
      ],
      "text/plain": [
       "G5_rank := 6"
      ]
     },
     "metadata": {},
     "output_type": "display_data"
    },
    {
     "name": "stdout",
     "output_type": "stream",
     "text": [
      "---\n"
     ]
    },
    {
     "data": {
      "text/plain": [
       "Gi_involutive := [True, False, False, True, True]"
      ]
     },
     "metadata": {},
     "output_type": "display_data"
    },
    {
     "name": "stdout",
     "output_type": "stream",
     "text": [
      "---\n",
      "System IS NOT input state linearizable\n"
     ]
    }
   ],
   "source": [
    "Gis = [calc_Gi(f, g1, g2, i) for i in range(6)]\n",
    "G5_rank = sb.generic_rank(Gis[5]) ##:\n",
    "Gi_involutive = [sb.involutivity_test(Gis[i], x)[0] for i in range(5)] ##:\n",
    "\n",
    "if G5_rank==6 and all(Gi_involutive):\n",
    "    print(\"System IS input state linearizable\")\n",
    "else:\n",
    "    print(\"System IS NOT input state linearizable\")"
   ]
  },
  {
   "cell_type": "code",
   "execution_count": 7,
   "metadata": {},
   "outputs": [
    {
     "data": {
      "image/png": "[encoded data removed]",
      "text/latex": [
       "$$\\left[\\begin{matrix}0 & 0 & 0 & - \\frac{l_{p}}{p_{\\varphi,1}}\\\\0 & 0 & - \\frac{l_{h} \\cos{\\left (\\varphi \\right )}}{p_{\\varepsilon,1}} & 0\\\\0 & 0 & - \\frac{l_{h} \\sin{\\left (\\varphi \\right )} \\cos{\\left (\\varepsilon \\right )}}{p_{\\lambda,1}} & 0\\\\0 & \\frac{l_{p}}{p_{\\varphi,1}} & 0 & \\frac{\\mu_\\varphi l_{p}}{p_{\\varphi,1}^{2}}\\\\\\frac{l_{h} \\cos{\\left (\\varphi \\right )}}{p_{\\varepsilon,1}} & 0 & \\frac{\\mu_\\varepsilon l_{h} \\cos{\\left (\\varphi \\right )}}{p_{\\varepsilon,1}^{2}} - \\frac{l_{h} \\dot{\\varphi} \\sin{\\left (\\varphi \\right )}}{p_{\\varepsilon,1}} & 0\\\\\\frac{l_{h} \\sin{\\left (\\varphi \\right )} \\cos{\\left (\\varepsilon \\right )}}{p_{\\lambda,1}} & 0 & \\frac{\\mu_\\lambda l_{h} \\sin{\\left (\\varphi \\right )} \\cos{\\left (\\varepsilon \\right )}}{p_{\\lambda,1}^{2}} - \\frac{l_{h} \\dot{\\varepsilon} \\sin{\\left (\\varepsilon \\right )} \\sin{\\left (\\varphi \\right )}}{p_{\\lambda,1}} + \\frac{l_{h} \\dot{\\varphi} \\cos{\\left (\\varepsilon \\right )} \\cos{\\left (\\varphi \\right )}}{p_{\\lambda,1}} & 0\\end{matrix}\\right]$$"
      ],
      "text/plain": [
       "⎡                                                                             \n",
       "⎢              0                       0                                      \n",
       "⎢                                                                             \n",
       "⎢                                                                             \n",
       "⎢                                                                             \n",
       "⎢              0                       0                                      \n",
       "⎢                                                                             \n",
       "⎢                                                                             \n",
       "⎢                                                                             \n",
       "⎢              0                       0                                      \n",
       "⎢                                                                             \n",
       "⎢                                                                             \n",
       "⎢                                      lₚ                                     \n",
       "⎢              0                 ─────────────                                \n",
       "⎢                                p_{\\varphi,1}                                \n",
       "⎢                                                                             \n",
       "⎢                                                                             \n",
       "⎢        lₕ⋅cos(varphi)                                                       \n",
       "⎢      ─────────────────               0                                      \n",
       "⎢      p_{\\varepsilon,1}                                                      \n",
       "⎢                                                                             \n",
       "⎢                                                                             \n",
       "⎢lₕ⋅sin(varphi)⋅cos(varepsilon)                 \\mu_\\lambda⋅lₕ⋅sin(varphi)⋅cos\n",
       "⎢──────────────────────────────        0        ──────────────────────────────\n",
       "⎢        p_{\\lambda,1}                                                     2  \n",
       "⎣                                                             p_{\\lambda,1}   \n",
       "\n",
       "                                                                              \n",
       "                                 0                                            \n",
       "                                                                              \n",
       "                                                                              \n",
       "                          -lₕ⋅cos(varphi)                                     \n",
       "                         ─────────────────                                    \n",
       "                         p_{\\varepsilon,1}                                    \n",
       "                                                                              \n",
       "                  -lₕ⋅sin(varphi)⋅cos(varepsilon)                             \n",
       "                  ────────────────────────────────                            \n",
       "                           p_{\\lambda,1}                                      \n",
       "                                                                              \n",
       "                                                                              \n",
       "                                 0                                            \n",
       "                                                                              \n",
       "                                                                              \n",
       "                                                                              \n",
       "      \\mu_\\varepsilon⋅lₕ⋅cos(varphi)   lₕ⋅varphi̇⋅sin(varphi)                 \n",
       "      ────────────────────────────── - ──────────────────────                 \n",
       "                             2           p_{\\varepsilon,1}                    \n",
       "            p_{\\varepsilon,1}                                                 \n",
       "                                                                              \n",
       "(varepsilon)   lₕ⋅varepsiloṅ⋅sin(varepsilon)⋅sin(varphi)   lₕ⋅varphi̇⋅cos(var\n",
       "──────────── - ────────────────────────────────────────── + ──────────────────\n",
       "                             p_{\\lambda,1}                              p_{\\la\n",
       "                                                                              \n",
       "\n",
       "                           -lₚ      ⎤\n",
       "                      ───────────── ⎥\n",
       "                      p_{\\varphi,1} ⎥\n",
       "                                    ⎥\n",
       "                                    ⎥\n",
       "                            0       ⎥\n",
       "                                    ⎥\n",
       "                                    ⎥\n",
       "                                    ⎥\n",
       "                            0       ⎥\n",
       "                                    ⎥\n",
       "                                    ⎥\n",
       "                      \\mu_\\varphi⋅lₚ⎥\n",
       "                      ──────────────⎥\n",
       "                                   2⎥\n",
       "                      p_{\\varphi,1} ⎥\n",
       "                                    ⎥\n",
       "                                    ⎥\n",
       "                            0       ⎥\n",
       "                                    ⎥\n",
       "                                    ⎥\n",
       "                                    ⎥\n",
       "epsilon)⋅cos(varphi)                ⎥\n",
       "────────────────────        0       ⎥\n",
       "mbda,1}                             ⎥\n",
       "                                    ⎦"
      ]
     },
     "execution_count": 7,
     "metadata": {},
     "output_type": "execute_result"
    }
   ],
   "source": [
    "Gis[1]"
   ]
  },
  {
   "cell_type": "code",
   "execution_count": 8,
   "metadata": {},
   "outputs": [
    {
     "data": {
      "text/plain": [
       "(False, (0, 2))"
      ]
     },
     "execution_count": 8,
     "metadata": {},
     "output_type": "execute_result"
    }
   ],
   "source": [
    "sb.involutivity_test(Gis[1], x)"
   ]
  },
  {
   "cell_type": "code",
   "execution_count": 10,
   "metadata": {},
   "outputs": [
    {
     "data": {
      "image/png": "[encoded data removed]",
      "text/latex": [
       "$$\\verb|col_bracket| := \\left[\\begin{matrix}0\\\\0\\\\0\\\\0\\\\0\\\\- \\frac{2 l_{h}^{2} \\sin{\\left (\\varepsilon \\right )} \\sin{\\left (\\varphi \\right )} \\cos{\\left (\\varphi \\right )}}{p_{\\lambda,1} p_{\\varepsilon,1}}\\end{matrix}\\right]$$"
      ],
      "text/plain": [
       "col_bracket := ⎡                       0                       ⎤\n",
       "⎢                                               ⎥\n",
       "⎢                       0                       ⎥\n",
       "⎢                                               ⎥\n",
       "⎢                       0                       ⎥\n",
       "⎢                                               ⎥\n",
       "⎢                       0                       ⎥\n",
       "⎢                                               ⎥\n",
       "⎢                       0                       ⎥\n",
       "⎢                                               ⎥\n",
       "⎢     2                                         ⎥\n",
       "⎢-2⋅lₕ ⋅sin(varepsilon)⋅sin(varphi)⋅cos(varphi) ⎥\n",
       "⎢───────────────────────────────────────────────⎥\n",
       "⎣        p_{\\lambda,1}⋅p_{\\varepsilon,1}        ⎦"
      ]
     },
     "metadata": {},
     "output_type": "display_data"
    },
    {
     "name": "stdout",
     "output_type": "stream",
     "text": [
      "---\n"
     ]
    },
    {
     "data": {
      "image/png": "[encoded data removed]",
      "text/latex": [
       "$$\\verb|rank_G1| := 4$$"
      ],
      "text/plain": [
       "rank_G1 := 4"
      ]
     },
     "metadata": {},
     "output_type": "display_data"
    },
    {
     "name": "stdout",
     "output_type": "stream",
     "text": [
      "---\n"
     ]
    },
    {
     "data": {
      "image/png": "[encoded data removed]",
      "text/latex": [
       "$$\\verb|rank_G1_and_bracket| := 5$$"
      ],
      "text/plain": [
       "rank_G1_and_bracket := 5"
      ]
     },
     "metadata": {},
     "output_type": "display_data"
    },
    {
     "name": "stdout",
     "output_type": "stream",
     "text": [
      "---\n"
     ]
    }
   ],
   "source": [
    "col1 = sb.col_select(Gis[1], 0)\n",
    "col2 = sb.col_select(Gis[1], 2)\n",
    "col_bracket = sb.lie_bracket(col1, col2, x) ##:\n",
    "\n",
    "rank_G1 = sb.generic_rank(Gis[1]) ##:\n",
    "G1_and_bracket = sb.concat_cols(Gis[1], col_bracket)\n",
    "rank_G1_and_bracket = sb.generic_rank(G1_and_bracket) ##:"
   ]
  },
  {
   "cell_type": "code",
   "execution_count": 63,
   "metadata": {},
   "outputs": [],
   "source": [
    "h1 = eps\n",
    "h2 = lamb\n",
    "h = sp.Matrix([h1, h2])"
   ]
  },
  {
   "cell_type": "code",
   "execution_count": 87,
   "metadata": {},
   "outputs": [],
   "source": [
    "def vec_rel_degree(f, g, h, x):\n",
    "    m = h.rows # == g.cols\n",
    "    \n",
    "    r = [1 for _ in range(m)]\n",
    "    \n",
    "    for i in range(m):\n",
    "        input_occurred = False\n",
    "        \n",
    "        while not input_occurred:\n",
    "            for j in range(g.cols):\n",
    "                gj = sb.col_select(g, j)\n",
    "                \n",
    "                lie_deriv = sb.lie_deriv(sb.lie_deriv(h[i], f, x, order=r[i]-1), gj, x)\n",
    "                \n",
    "                if lie_deriv != 0:\n",
    "                    input_occurred = True\n",
    "            \n",
    "            if not input_occurred:\n",
    "                if r[i] < 10:\n",
    "                    r[i] += 1\n",
    "                else:\n",
    "                    input_occurred = True\n",
    "                    print(f\"Warning: relative degree for output {i+1} either undefined or higher than 10. Aborting computation.\")\n",
    "    \n",
    "    return r\n",
    "\n",
    "def decoupling_matrix(f, g, h, r, x):\n",
    "    return sp.Matrix([[sb.lie_deriv(sb.lie_deriv(h[i], f, x, order=r[i]-1), sb.col_select(g, j), x) for j in range(g.cols)] for i in range(h.rows)])"
   ]
  },
  {
   "cell_type": "code",
   "execution_count": 88,
   "metadata": {},
   "outputs": [
    {
     "data": {
      "image/png": "[encoded data removed]",
      "text/latex": [
       "$$\\verb|gx| := \\left[\\begin{matrix}0 & 0\\\\0 & 0\\\\0 & 0\\\\0 & \\frac{l_{p}}{p_{\\varphi,1}}\\\\\\frac{l_{h} \\cos{\\left (\\varphi \\right )}}{p_{\\varepsilon,1}} & 0\\\\\\frac{l_{h} \\sin{\\left (\\varphi \\right )} \\cos{\\left (\\varepsilon \\right )}}{p_{\\lambda,1}} & 0\\end{matrix}\\right]$$"
      ],
      "text/plain": [
       "gx := ⎡              0                       0      ⎤\n",
       "⎢                                             ⎥\n",
       "⎢              0                       0      ⎥\n",
       "⎢                                             ⎥\n",
       "⎢              0                       0      ⎥\n",
       "⎢                                             ⎥\n",
       "⎢                                      lₚ     ⎥\n",
       "⎢              0                 ─────────────⎥\n",
       "⎢                                p_{\\varphi,1}⎥\n",
       "⎢                                             ⎥\n",
       "⎢        lₕ⋅cos(varphi)                       ⎥\n",
       "⎢      ─────────────────               0      ⎥\n",
       "⎢      p_{\\varepsilon,1}                      ⎥\n",
       "⎢                                             ⎥\n",
       "⎢lₕ⋅sin(varphi)⋅cos(varepsilon)               ⎥\n",
       "⎢──────────────────────────────        0      ⎥\n",
       "⎣        p_{\\lambda,1}                        ⎦"
      ]
     },
     "metadata": {},
     "output_type": "display_data"
    },
    {
     "name": "stdout",
     "output_type": "stream",
     "text": [
      "---\n"
     ]
    },
    {
     "data": {
      "image/png": "[encoded data removed]",
      "text/latex": [
       "$$\\verb|r| := \\left [ 2, \\quad 2\\right ]$$"
      ],
      "text/plain": [
       "r := [2, 2]"
      ]
     },
     "metadata": {},
     "output_type": "display_data"
    },
    {
     "name": "stdout",
     "output_type": "stream",
     "text": [
      "---\n"
     ]
    }
   ],
   "source": [
    "gx = sb.concat_cols(g1, g2) ##:\n",
    "r = vec_rel_degree(f, gx, h, x) ##:"
   ]
  },
  {
   "cell_type": "code",
   "execution_count": 91,
   "metadata": {},
   "outputs": [
    {
     "data": {
      "image/png": "[encoded data removed]",
      "text/latex": [
       "$$\\verb|decoupling_matrix(f, gx, h, r, x) | := \\left[\\begin{matrix}\\frac{l_{h} \\cos{\\left (\\varphi \\right )}}{p_{\\varepsilon,1}} & 0\\\\\\frac{l_{h} \\sin{\\left (\\varphi \\right )} \\cos{\\left (\\varepsilon \\right )}}{p_{\\lambda,1}} & 0\\end{matrix}\\right]$$"
      ],
      "text/plain": [
       "decoupling_matrix(f, gx, h, r, x)  := ⎡        lₕ⋅cos(varphi)           ⎤\n",
       "⎢      ─────────────────         0⎥\n",
       "⎢      p_{\\varepsilon,1}          ⎥\n",
       "⎢                                 ⎥\n",
       "⎢lₕ⋅sin(varphi)⋅cos(varepsilon)   ⎥\n",
       "⎢──────────────────────────────  0⎥\n",
       "⎣        p_{\\lambda,1}            ⎦"
      ]
     },
     "metadata": {},
     "output_type": "display_data"
    },
    {
     "name": "stdout",
     "output_type": "stream",
     "text": [
      "___\n"
     ]
    }
   ],
   "source": [
    "decoupling_matrix(f, gx, h, r, x) ##:"
   ]
  },
  {
   "cell_type": "markdown",
   "metadata": {},
   "source": [
    "Dynamic Extension"
   ]
  },
  {
   "cell_type": "code",
   "execution_count": 103,
   "metadata": {},
   "outputs": [
    {
     "data": {
      "image/png": "[encoded data removed]",
      "text/latex": [
       "$$\\verb|x_ext1| := \\left[\\begin{matrix}\\varphi\\\\\\varepsilon\\\\\\lambda\\\\\\dot{\\varphi}\\\\\\dot{\\varepsilon}\\\\\\dot{\\lambda}\\\\u_{1}\\end{matrix}\\right]$$"
      ],
      "text/plain": [
       "x_ext1 := ⎡  varphi   ⎤\n",
       "⎢           ⎥\n",
       "⎢varepsilon ⎥\n",
       "⎢           ⎥\n",
       "⎢     λ     ⎥\n",
       "⎢           ⎥\n",
       "⎢  varphi̇  ⎥\n",
       "⎢           ⎥\n",
       "⎢varepsiloṅ⎥\n",
       "⎢           ⎥\n",
       "⎢    λ̇     ⎥\n",
       "⎢           ⎥\n",
       "⎣    u₁     ⎦"
      ]
     },
     "metadata": {},
     "output_type": "display_data"
    },
    {
     "name": "stdout",
     "output_type": "stream",
     "text": [
      "---\n"
     ]
    },
    {
     "data": {
      "image/png": "[encoded data removed]",
      "text/latex": [
       "$$\\verb|f_ext1| := \\left[\\begin{matrix}\\dot{\\varphi}\\\\\\dot{\\varepsilon}\\\\\\dot{\\lambda}\\\\- \\frac{\\mu_\\varphi \\dot{\\varphi} - d_{h} g m_{h} \\sin{\\left (\\varphi \\right )} \\cos{\\left (\\varepsilon \\right )}}{m_{h} \\left(d_{h}^{2} + l_{p}^{2}\\right)}\\\\\\frac{l_{h} u_{1} \\cos{\\left (\\varphi \\right )}}{m_{c} \\left(d_{c}^{2} + l_{c}^{2}\\right) + m_{h} \\left(- d_{h}^{2} + l_{p}^{2}\\right) \\sin^{2}{\\left (\\varphi \\right )} + m_{h} \\left(d_{h}^{2} + l_{h}^{2}\\right)} - \\frac{\\mu_\\varepsilon \\dot{\\varepsilon} + g \\left(d_{c} m_{c} - d_{h} m_{h} \\cos{\\left (\\varphi \\right )}\\right) \\sin{\\left (\\varepsilon \\right )} + g \\left(- l_{c} m_{c} + l_{h} m_{h}\\right) \\cos{\\left (\\varepsilon \\right )}}{m_{c} \\left(d_{c}^{2} + l_{c}^{2}\\right) + m_{h} \\left(- d_{h}^{2} + l_{p}^{2}\\right) \\sin^{2}{\\left (\\varphi \\right )} + m_{h} \\left(d_{h}^{2} + l_{h}^{2}\\right)}\\\\- \\frac{\\mu_\\lambda \\dot{\\lambda}}{- d_{c}^{2} m_{c} \\cos^{2}{\\left (\\varepsilon \\right )} - d_{c} l_{c} m_{c} \\sin{\\left (2 \\varepsilon \\right )} - d_{h}^{2} m_{h} \\cos^{2}{\\left (\\varepsilon \\right )} \\cos^{2}{\\left (\\varphi \\right )} + d_{h}^{2} m_{h} - \\frac{d_{h} l_{h} m_{h} \\left(\\sin{\\left (2 \\varepsilon - \\varphi \\right )} + \\sin{\\left (2 \\varepsilon + \\varphi \\right )}\\right)}{2} + l_{c}^{2} m_{c} \\cos^{2}{\\left (\\varepsilon \\right )} + l_{h}^{2} m_{h} \\cos^{2}{\\left (\\varepsilon \\right )} + l_{p}^{2} m_{h} \\cos^{2}{\\left (\\varepsilon \\right )} \\cos^{2}{\\left (\\varphi \\right )} - l_{p}^{2} m_{h} \\cos^{2}{\\left (\\varepsilon \\right )} + l_{p}^{2} m_{h}} + \\frac{l_{h} u_{1} \\sin{\\left (\\varphi \\right )} \\cos{\\left (\\varepsilon \\right )}}{- d_{c}^{2} m_{c} \\cos^{2}{\\left (\\varepsilon \\right )} - d_{c} l_{c} m_{c} \\sin{\\left (2 \\varepsilon \\right )} - d_{h}^{2} m_{h} \\cos^{2}{\\left (\\varepsilon \\right )} \\cos^{2}{\\left (\\varphi \\right )} + d_{h}^{2} m_{h} - \\frac{d_{h} l_{h} m_{h} \\left(\\sin{\\left (2 \\varepsilon - \\varphi \\right )} + \\sin{\\left (2 \\varepsilon + \\varphi \\right )}\\right)}{2} + l_{c}^{2} m_{c} \\cos^{2}{\\left (\\varepsilon \\right )} + l_{h}^{2} m_{h} \\cos^{2}{\\left (\\varepsilon \\right )} + l_{p}^{2} m_{h} \\cos^{2}{\\left (\\varepsilon \\right )} \\cos^{2}{\\left (\\varphi \\right )} - l_{p}^{2} m_{h} \\cos^{2}{\\left (\\varepsilon \\right )} + l_{p}^{2} m_{h}}\\\\0\\end{matrix}\\right]$$"
      ],
      "text/plain": [
       "f_ext1 := ⎡                                                                             \n",
       "⎢                                                                             \n",
       "⎢                                                                             \n",
       "⎢                                                                             \n",
       "⎢                                                                             \n",
       "⎢                                                                             \n",
       "⎢                                                                             \n",
       "⎢                                                                             \n",
       "⎢                                                                             \n",
       "⎢                                                                             \n",
       "⎢                                                                             \n",
       "⎢                                                                             \n",
       "⎢                                                                             \n",
       "⎢                                                                             \n",
       "⎢                                                                             \n",
       "⎢                                                                             \n",
       "⎢                                                                             \n",
       "⎢- ───────────────────────────────────────────────────────────────────────────\n",
       "⎢       2        2                                                 2       2  \n",
       "⎢  - d_c ⋅m_c⋅cos (varepsilon) - d_c⋅l_c⋅m_c⋅sin(2⋅varepsilon) - dₕ ⋅mₕ⋅cos (v\n",
       "⎢                                                                             \n",
       "⎢                                                                             \n",
       "⎣                                                                             \n",
       "\n",
       "                                                                              \n",
       "                                                                              \n",
       "                                                                              \n",
       "                                                                              \n",
       "                                                                              \n",
       "                                                                              \n",
       "                                                                              \n",
       "                                                                              \n",
       "                                                                              \n",
       "                                                                              \n",
       "                                                                              \n",
       "                                                                              \n",
       "                                                                              \n",
       "                                                                              \n",
       "                                                                              \n",
       "                                                                              \n",
       "                                                                      \\mu_\\lam\n",
       "──────────────────────────────────────────────────────────────────────────────\n",
       "              2             2      dₕ⋅lₕ⋅mₕ⋅(sin(2⋅varepsilon - varphi) + sin(\n",
       "arepsilon)⋅cos (varphi) + dₕ ⋅mₕ - ───────────────────────────────────────────\n",
       "                                                                   2          \n",
       "                                                                              \n",
       "                                                                              \n",
       "\n",
       "                                                                              \n",
       "                                                                              \n",
       "                                                                              \n",
       "                                                                              \n",
       "                                                                              \n",
       "                                                                              \n",
       "                                                                              \n",
       "                                                                              \n",
       "                                                                              \n",
       "                                                                              \n",
       "                                                                              \n",
       "                                                                              \n",
       "                                                           ───────────────────\n",
       "                                                               ⎛   2      2⎞  \n",
       "                                                           m_c⋅⎝d_c  + l_c ⎠ +\n",
       "                                                                              \n",
       "bda⋅λ̇                                                                        \n",
       "──────────────────────────────────────────────────────────────────────────────\n",
       "2⋅varepsilon + varphi))      2        2                 2       2             \n",
       "─────────────────────── + l_c ⋅m_c⋅cos (varepsilon) + lₕ ⋅mₕ⋅cos (varepsilon) \n",
       "                                                                              \n",
       "                                                                              \n",
       "                                                                              \n",
       "\n",
       "                                                                      varphi̇ \n",
       "                                                                              \n",
       "                                                                    varepsilon\n",
       "                                                                              \n",
       "                                                                        λ̇    \n",
       "                                                                              \n",
       "                                           -(\\mu_\\varphi⋅varphi̇ - dₕ⋅g⋅mₕ⋅sin\n",
       "                                           ───────────────────────────────────\n",
       "                                                                      ⎛  2    \n",
       "                                                                   mₕ⋅⎝dₕ  + l\n",
       "                                                                              \n",
       "     lₕ⋅u₁⋅cos(varphi)                            \\mu_\\varepsilon⋅varepsiloṅ \n",
       "─────────────────────────────────────────────── - ────────────────────────────\n",
       "    ⎛    2     2⎞    2              ⎛  2     2⎞                               \n",
       " mₕ⋅⎝- dₕ  + lₚ ⎠⋅sin (varphi) + mₕ⋅⎝dₕ  + lₕ ⎠                            m_c\n",
       "                                                                              \n",
       "                                                                              \n",
       "───────────────────────────────────────────────────────────────────────── + ──\n",
       "    2       2                2             2       2                 2        \n",
       "+ lₚ ⋅mₕ⋅cos (varepsilon)⋅cos (varphi) - lₚ ⋅mₕ⋅cos (varepsilon) + lₚ ⋅mₕ   - \n",
       "                                                                              \n",
       "                                                                              \n",
       "                                                                         0    \n",
       "\n",
       "                                                                              \n",
       "                                                                              \n",
       "̇                                                                             \n",
       "                                                                              \n",
       "                                                                              \n",
       "                                                                              \n",
       "(varphi)⋅cos(varepsilon))                                                     \n",
       "──────────────────────────                                                    \n",
       " 2⎞                                                                           \n",
       "ₚ ⎠                                                                           \n",
       "                                                                              \n",
       "+ g⋅(d_c⋅m_c - dₕ⋅mₕ⋅cos(varphi))⋅sin(varepsilon) + g⋅(-l_c⋅m_c + lₕ⋅mₕ)⋅cos(v\n",
       "──────────────────────────────────────────────────────────────────────────────\n",
       " ⎛   2      2⎞      ⎛    2     2⎞    2              ⎛  2     2⎞               \n",
       "⋅⎝d_c  + l_c ⎠ + mₕ⋅⎝- dₕ  + lₚ ⎠⋅sin (varphi) + mₕ⋅⎝dₕ  + lₕ ⎠               \n",
       "                                                                              \n",
       "                                                                              \n",
       "──────────────────────────────────────────────────────────────────────────────\n",
       "   2        2                                                 2       2       \n",
       "d_c ⋅m_c⋅cos (varepsilon) - d_c⋅l_c⋅m_c⋅sin(2⋅varepsilon) - dₕ ⋅mₕ⋅cos (vareps\n",
       "                                                                              \n",
       "                                                                              \n",
       "                                                                              \n",
       "\n",
       "                                                                              \n",
       "                                                                              \n",
       "                                                                              \n",
       "                                                                              \n",
       "                                                                              \n",
       "                                                                              \n",
       "                                                                              \n",
       "                                                                              \n",
       "                                                                              \n",
       "                                                                              \n",
       "                                                                              \n",
       "arepsilon)                                                                    \n",
       "──────────                                                                    \n",
       "                                                                              \n",
       "                                                                              \n",
       "                                                                              \n",
       "                                                       lₕ⋅u₁⋅sin(varphi)⋅cos(v\n",
       "──────────────────────────────────────────────────────────────────────────────\n",
       "         2             2      dₕ⋅lₕ⋅mₕ⋅(sin(2⋅varepsilon - varphi) + sin(2⋅var\n",
       "ilon)⋅cos (varphi) + dₕ ⋅mₕ - ────────────────────────────────────────────────\n",
       "                                                              2               \n",
       "                                                                              \n",
       "                                                                              \n",
       "\n",
       "                                                                              \n",
       "                                                                              \n",
       "                                                                              \n",
       "                                                                              \n",
       "                                                                              \n",
       "                                                                              \n",
       "                                                                              \n",
       "                                                                              \n",
       "                                                                              \n",
       "                                                                              \n",
       "                                                                              \n",
       "                                                                              \n",
       "                                                                              \n",
       "                                                                              \n",
       "                                                                              \n",
       "                                                                              \n",
       "arepsilon)                                                                    \n",
       "──────────────────────────────────────────────────────────────────────────────\n",
       "epsilon + varphi))      2        2                 2       2                 2\n",
       "────────────────── + l_c ⋅m_c⋅cos (varepsilon) + lₕ ⋅mₕ⋅cos (varepsilon) + lₚ \n",
       "                                                                              \n",
       "                                                                              \n",
       "                                                                              \n",
       "\n",
       "                                                                    ⎤\n",
       "                                                                    ⎥\n",
       "                                                                    ⎥\n",
       "                                                                    ⎥\n",
       "                                                                    ⎥\n",
       "                                                                    ⎥\n",
       "                                                                    ⎥\n",
       "                                                                    ⎥\n",
       "                                                                    ⎥\n",
       "                                                                    ⎥\n",
       "                                                                    ⎥\n",
       "                                                                    ⎥\n",
       "                                                                    ⎥\n",
       "                                                                    ⎥\n",
       "                                                                    ⎥\n",
       "                                                                    ⎥\n",
       "                                                                    ⎥\n",
       "────────────────────────────────────────────────────────────────────⎥\n",
       "       2                2             2       2                 2   ⎥\n",
       "⋅mₕ⋅cos (varepsilon)⋅cos (varphi) - lₚ ⋅mₕ⋅cos (varepsilon) + lₚ ⋅mₕ⎥\n",
       "                                                                    ⎥\n",
       "                                                                    ⎥\n",
       "                                                                    ⎦"
      ]
     },
     "metadata": {},
     "output_type": "display_data"
    },
    {
     "name": "stdout",
     "output_type": "stream",
     "text": [
      "---\n"
     ]
    },
    {
     "data": {
      "image/png": "[encoded data removed]",
      "text/latex": [
       "$$\\verb|g1_ext1| := \\left[\\begin{matrix}0\\\\0\\\\0\\\\0\\\\0\\\\0\\\\1\\end{matrix}\\right]$$"
      ],
      "text/plain": [
       "g1_ext1 := ⎡0⎤\n",
       "⎢ ⎥\n",
       "⎢0⎥\n",
       "⎢ ⎥\n",
       "⎢0⎥\n",
       "⎢ ⎥\n",
       "⎢0⎥\n",
       "⎢ ⎥\n",
       "⎢0⎥\n",
       "⎢ ⎥\n",
       "⎢0⎥\n",
       "⎢ ⎥\n",
       "⎣1⎦"
      ]
     },
     "metadata": {},
     "output_type": "display_data"
    },
    {
     "name": "stdout",
     "output_type": "stream",
     "text": [
      "---\n"
     ]
    },
    {
     "data": {
      "image/png": "[encoded data removed]",
      "text/latex": [
       "$$\\verb|g2_ext1| := \\left[\\begin{matrix}0\\\\0\\\\0\\\\\\frac{l_{p}}{m_{h} \\left(d_{h}^{2} + l_{p}^{2}\\right)}\\\\0\\\\0\\\\0\\end{matrix}\\right]$$"
      ],
      "text/plain": [
       "g2_ext1 := ⎡      0       ⎤\n",
       "⎢              ⎥\n",
       "⎢      0       ⎥\n",
       "⎢              ⎥\n",
       "⎢      0       ⎥\n",
       "⎢              ⎥\n",
       "⎢      lₚ      ⎥\n",
       "⎢──────────────⎥\n",
       "⎢   ⎛  2     2⎞⎥\n",
       "⎢mₕ⋅⎝dₕ  + lₚ ⎠⎥\n",
       "⎢              ⎥\n",
       "⎢      0       ⎥\n",
       "⎢              ⎥\n",
       "⎢      0       ⎥\n",
       "⎢              ⎥\n",
       "⎣      0       ⎦"
      ]
     },
     "metadata": {},
     "output_type": "display_data"
    },
    {
     "name": "stdout",
     "output_type": "stream",
     "text": [
      "---\n"
     ]
    }
   ],
   "source": [
    "u1 = sp.Symbol('u_1')  # new state\n",
    "x_ext1 = sb.concat_rows(x, u1) ##:\n",
    "f_ext1 = sb.concat_rows(f + g1*u1, sp.S(0)) ##:\n",
    "g1_ext1 = sp.Matrix([0, 0, 0, 0, 0, 0, 1]) ##:\n",
    "g2_ext1 = sb.concat_rows(g2, sp.S(0)) ##:"
   ]
  },
  {
   "cell_type": "code",
   "execution_count": 93,
   "metadata": {},
   "outputs": [
    {
     "data": {
      "image/png": "[encoded data removed]",
      "text/latex": [
       "$$\\verb|r_ext1| := \\left [ 3, \\quad 3\\right ]$$"
      ],
      "text/plain": [
       "r_ext1 := [3, 3]"
      ]
     },
     "metadata": {},
     "output_type": "display_data"
    },
    {
     "name": "stdout",
     "output_type": "stream",
     "text": [
      "---\n"
     ]
    },
    {
     "data": {
      "image/png": "[encoded data removed]",
      "text/latex": [
       "$$\\verb|decoupling_matrix_ext1| := \\left[\\begin{matrix}\\frac{l_{h} \\cos{\\left (\\varphi \\right )}}{p_{\\varepsilon,1}} & 0\\\\\\frac{l_{h} \\sin{\\left (\\varphi \\right )} \\cos{\\left (\\varepsilon \\right )}}{p_{\\lambda,1}} & 0\\end{matrix}\\right]$$"
      ],
      "text/plain": [
       "decoupling_matrix_ext1 := ⎡        lₕ⋅cos(varphi)           ⎤\n",
       "⎢      ─────────────────         0⎥\n",
       "⎢      p_{\\varepsilon,1}          ⎥\n",
       "⎢                                 ⎥\n",
       "⎢lₕ⋅sin(varphi)⋅cos(varepsilon)   ⎥\n",
       "⎢──────────────────────────────  0⎥\n",
       "⎣        p_{\\lambda,1}            ⎦"
      ]
     },
     "metadata": {},
     "output_type": "display_data"
    },
    {
     "name": "stdout",
     "output_type": "stream",
     "text": [
      "---\n"
     ]
    }
   ],
   "source": [
    "gx_ext1 = sb.concat_cols(g1_ext1, g2_ext1)\n",
    "r_ext1 = vec_rel_degree(f_ext1, gx_ext1, h, x_ext1) ##:\n",
    "decoupling_matrix_ext1 = decoupling_matrix(f_ext1, gx_ext1, h, r_ext1, x_ext1) ##:"
   ]
  },
  {
   "cell_type": "code",
   "execution_count": 104,
   "metadata": {},
   "outputs": [
    {
     "data": {
      "image/png": "[encoded data removed]",
      "text/latex": [
       "$$\\verb|x_ext2| := \\left[\\begin{matrix}\\varphi\\\\\\varepsilon\\\\\\lambda\\\\\\dot{\\varphi}\\\\\\dot{\\varepsilon}\\\\\\dot{\\lambda}\\\\u_{1}\\\\v_{1}\\end{matrix}\\right]$$"
      ],
      "text/plain": [
       "x_ext2 := ⎡  varphi   ⎤\n",
       "⎢           ⎥\n",
       "⎢varepsilon ⎥\n",
       "⎢           ⎥\n",
       "⎢     λ     ⎥\n",
       "⎢           ⎥\n",
       "⎢  varphi̇  ⎥\n",
       "⎢           ⎥\n",
       "⎢varepsiloṅ⎥\n",
       "⎢           ⎥\n",
       "⎢    λ̇     ⎥\n",
       "⎢           ⎥\n",
       "⎢    u₁     ⎥\n",
       "⎢           ⎥\n",
       "⎣    v₁     ⎦"
      ]
     },
     "metadata": {},
     "output_type": "display_data"
    },
    {
     "name": "stdout",
     "output_type": "stream",
     "text": [
      "---\n"
     ]
    },
    {
     "data": {
      "image/png": "[encoded data removed]",
      "text/latex": [
       "$$\\verb|f_ext2| := \\left[\\begin{matrix}\\dot{\\varphi}\\\\\\dot{\\varepsilon}\\\\\\dot{\\lambda}\\\\- \\frac{\\mu_\\varphi \\dot{\\varphi} - d_{h} g m_{h} \\sin{\\left (\\varphi \\right )} \\cos{\\left (\\varepsilon \\right )}}{m_{h} \\left(d_{h}^{2} + l_{p}^{2}\\right)}\\\\\\frac{l_{h} u_{1} \\cos{\\left (\\varphi \\right )}}{m_{c} \\left(d_{c}^{2} + l_{c}^{2}\\right) + m_{h} \\left(- d_{h}^{2} + l_{p}^{2}\\right) \\sin^{2}{\\left (\\varphi \\right )} + m_{h} \\left(d_{h}^{2} + l_{h}^{2}\\right)} - \\frac{\\mu_\\varepsilon \\dot{\\varepsilon} + g \\left(d_{c} m_{c} - d_{h} m_{h} \\cos{\\left (\\varphi \\right )}\\right) \\sin{\\left (\\varepsilon \\right )} + g \\left(- l_{c} m_{c} + l_{h} m_{h}\\right) \\cos{\\left (\\varepsilon \\right )}}{m_{c} \\left(d_{c}^{2} + l_{c}^{2}\\right) + m_{h} \\left(- d_{h}^{2} + l_{p}^{2}\\right) \\sin^{2}{\\left (\\varphi \\right )} + m_{h} \\left(d_{h}^{2} + l_{h}^{2}\\right)}\\\\- \\frac{\\mu_\\lambda \\dot{\\lambda}}{- d_{c}^{2} m_{c} \\cos^{2}{\\left (\\varepsilon \\right )} - d_{c} l_{c} m_{c} \\sin{\\left (2 \\varepsilon \\right )} - d_{h}^{2} m_{h} \\cos^{2}{\\left (\\varepsilon \\right )} \\cos^{2}{\\left (\\varphi \\right )} + d_{h}^{2} m_{h} - \\frac{d_{h} l_{h} m_{h} \\left(\\sin{\\left (2 \\varepsilon - \\varphi \\right )} + \\sin{\\left (2 \\varepsilon + \\varphi \\right )}\\right)}{2} + l_{c}^{2} m_{c} \\cos^{2}{\\left (\\varepsilon \\right )} + l_{h}^{2} m_{h} \\cos^{2}{\\left (\\varepsilon \\right )} + l_{p}^{2} m_{h} \\cos^{2}{\\left (\\varepsilon \\right )} \\cos^{2}{\\left (\\varphi \\right )} - l_{p}^{2} m_{h} \\cos^{2}{\\left (\\varepsilon \\right )} + l_{p}^{2} m_{h}} + \\frac{l_{h} u_{1} \\sin{\\left (\\varphi \\right )} \\cos{\\left (\\varepsilon \\right )}}{- d_{c}^{2} m_{c} \\cos^{2}{\\left (\\varepsilon \\right )} - d_{c} l_{c} m_{c} \\sin{\\left (2 \\varepsilon \\right )} - d_{h}^{2} m_{h} \\cos^{2}{\\left (\\varepsilon \\right )} \\cos^{2}{\\left (\\varphi \\right )} + d_{h}^{2} m_{h} - \\frac{d_{h} l_{h} m_{h} \\left(\\sin{\\left (2 \\varepsilon - \\varphi \\right )} + \\sin{\\left (2 \\varepsilon + \\varphi \\right )}\\right)}{2} + l_{c}^{2} m_{c} \\cos^{2}{\\left (\\varepsilon \\right )} + l_{h}^{2} m_{h} \\cos^{2}{\\left (\\varepsilon \\right )} + l_{p}^{2} m_{h} \\cos^{2}{\\left (\\varepsilon \\right )} \\cos^{2}{\\left (\\varphi \\right )} - l_{p}^{2} m_{h} \\cos^{2}{\\left (\\varepsilon \\right )} + l_{p}^{2} m_{h}}\\\\v_{1}\\\\0\\end{matrix}\\right]$$"
      ],
      "text/plain": [
       "f_ext2 := ⎡                                                                             \n",
       "⎢                                                                             \n",
       "⎢                                                                             \n",
       "⎢                                                                             \n",
       "⎢                                                                             \n",
       "⎢                                                                             \n",
       "⎢                                                                             \n",
       "⎢                                                                             \n",
       "⎢                                                                             \n",
       "⎢                                                                             \n",
       "⎢                                                                             \n",
       "⎢                                                                             \n",
       "⎢                                                                             \n",
       "⎢                                                                             \n",
       "⎢                                                                             \n",
       "⎢                                                                             \n",
       "⎢                                                                             \n",
       "⎢- ───────────────────────────────────────────────────────────────────────────\n",
       "⎢       2        2                                                 2       2  \n",
       "⎢  - d_c ⋅m_c⋅cos (varepsilon) - d_c⋅l_c⋅m_c⋅sin(2⋅varepsilon) - dₕ ⋅mₕ⋅cos (v\n",
       "⎢                                                                             \n",
       "⎢                                                                             \n",
       "⎢                                                                             \n",
       "⎢                                                                             \n",
       "⎣                                                                             \n",
       "\n",
       "                                                                              \n",
       "                                                                              \n",
       "                                                                              \n",
       "                                                                              \n",
       "                                                                              \n",
       "                                                                              \n",
       "                                                                              \n",
       "                                                                              \n",
       "                                                                              \n",
       "                                                                              \n",
       "                                                                              \n",
       "                                                                              \n",
       "                                                                              \n",
       "                                                                              \n",
       "                                                                              \n",
       "                                                                              \n",
       "                                                                      \\mu_\\lam\n",
       "──────────────────────────────────────────────────────────────────────────────\n",
       "              2             2      dₕ⋅lₕ⋅mₕ⋅(sin(2⋅varepsilon - varphi) + sin(\n",
       "arepsilon)⋅cos (varphi) + dₕ ⋅mₕ - ───────────────────────────────────────────\n",
       "                                                                   2          \n",
       "                                                                              \n",
       "                                                                              \n",
       "                                                                              \n",
       "                                                                              \n",
       "\n",
       "                                                                              \n",
       "                                                                              \n",
       "                                                                              \n",
       "                                                                              \n",
       "                                                                              \n",
       "                                                                              \n",
       "                                                                              \n",
       "                                                                              \n",
       "                                                                              \n",
       "                                                                              \n",
       "                                                                              \n",
       "                                                                              \n",
       "                                                           ───────────────────\n",
       "                                                               ⎛   2      2⎞  \n",
       "                                                           m_c⋅⎝d_c  + l_c ⎠ +\n",
       "                                                                              \n",
       "bda⋅λ̇                                                                        \n",
       "──────────────────────────────────────────────────────────────────────────────\n",
       "2⋅varepsilon + varphi))      2        2                 2       2             \n",
       "─────────────────────── + l_c ⋅m_c⋅cos (varepsilon) + lₕ ⋅mₕ⋅cos (varepsilon) \n",
       "                                                                              \n",
       "                                                                              \n",
       "                                                                              \n",
       "                                                                              \n",
       "                                                                              \n",
       "\n",
       "                                                                      varphi̇ \n",
       "                                                                              \n",
       "                                                                    varepsilon\n",
       "                                                                              \n",
       "                                                                        λ̇    \n",
       "                                                                              \n",
       "                                           -(\\mu_\\varphi⋅varphi̇ - dₕ⋅g⋅mₕ⋅sin\n",
       "                                           ───────────────────────────────────\n",
       "                                                                      ⎛  2    \n",
       "                                                                   mₕ⋅⎝dₕ  + l\n",
       "                                                                              \n",
       "     lₕ⋅u₁⋅cos(varphi)                            \\mu_\\varepsilon⋅varepsiloṅ \n",
       "─────────────────────────────────────────────── - ────────────────────────────\n",
       "    ⎛    2     2⎞    2              ⎛  2     2⎞                               \n",
       " mₕ⋅⎝- dₕ  + lₚ ⎠⋅sin (varphi) + mₕ⋅⎝dₕ  + lₕ ⎠                            m_c\n",
       "                                                                              \n",
       "                                                                              \n",
       "───────────────────────────────────────────────────────────────────────── + ──\n",
       "    2       2                2             2       2                 2        \n",
       "+ lₚ ⋅mₕ⋅cos (varepsilon)⋅cos (varphi) - lₚ ⋅mₕ⋅cos (varepsilon) + lₚ ⋅mₕ   - \n",
       "                                                                              \n",
       "                                                                              \n",
       "                                                                        v₁    \n",
       "                                                                              \n",
       "                                                                         0    \n",
       "\n",
       "                                                                              \n",
       "                                                                              \n",
       "̇                                                                             \n",
       "                                                                              \n",
       "                                                                              \n",
       "                                                                              \n",
       "(varphi)⋅cos(varepsilon))                                                     \n",
       "──────────────────────────                                                    \n",
       " 2⎞                                                                           \n",
       "ₚ ⎠                                                                           \n",
       "                                                                              \n",
       "+ g⋅(d_c⋅m_c - dₕ⋅mₕ⋅cos(varphi))⋅sin(varepsilon) + g⋅(-l_c⋅m_c + lₕ⋅mₕ)⋅cos(v\n",
       "──────────────────────────────────────────────────────────────────────────────\n",
       " ⎛   2      2⎞      ⎛    2     2⎞    2              ⎛  2     2⎞               \n",
       "⋅⎝d_c  + l_c ⎠ + mₕ⋅⎝- dₕ  + lₚ ⎠⋅sin (varphi) + mₕ⋅⎝dₕ  + lₕ ⎠               \n",
       "                                                                              \n",
       "                                                                              \n",
       "──────────────────────────────────────────────────────────────────────────────\n",
       "   2        2                                                 2       2       \n",
       "d_c ⋅m_c⋅cos (varepsilon) - d_c⋅l_c⋅m_c⋅sin(2⋅varepsilon) - dₕ ⋅mₕ⋅cos (vareps\n",
       "                                                                              \n",
       "                                                                              \n",
       "                                                                              \n",
       "                                                                              \n",
       "                                                                              \n",
       "\n",
       "                                                                              \n",
       "                                                                              \n",
       "                                                                              \n",
       "                                                                              \n",
       "                                                                              \n",
       "                                                                              \n",
       "                                                                              \n",
       "                                                                              \n",
       "                                                                              \n",
       "                                                                              \n",
       "                                                                              \n",
       "arepsilon)                                                                    \n",
       "──────────                                                                    \n",
       "                                                                              \n",
       "                                                                              \n",
       "                                                                              \n",
       "                                                       lₕ⋅u₁⋅sin(varphi)⋅cos(v\n",
       "──────────────────────────────────────────────────────────────────────────────\n",
       "         2             2      dₕ⋅lₕ⋅mₕ⋅(sin(2⋅varepsilon - varphi) + sin(2⋅var\n",
       "ilon)⋅cos (varphi) + dₕ ⋅mₕ - ────────────────────────────────────────────────\n",
       "                                                              2               \n",
       "                                                                              \n",
       "                                                                              \n",
       "                                                                              \n",
       "                                                                              \n",
       "\n",
       "                                                                              \n",
       "                                                                              \n",
       "                                                                              \n",
       "                                                                              \n",
       "                                                                              \n",
       "                                                                              \n",
       "                                                                              \n",
       "                                                                              \n",
       "                                                                              \n",
       "                                                                              \n",
       "                                                                              \n",
       "                                                                              \n",
       "                                                                              \n",
       "                                                                              \n",
       "                                                                              \n",
       "                                                                              \n",
       "arepsilon)                                                                    \n",
       "──────────────────────────────────────────────────────────────────────────────\n",
       "epsilon + varphi))      2        2                 2       2                 2\n",
       "────────────────── + l_c ⋅m_c⋅cos (varepsilon) + lₕ ⋅mₕ⋅cos (varepsilon) + lₚ \n",
       "                                                                              \n",
       "                                                                              \n",
       "                                                                              \n",
       "                                                                              \n",
       "                                                                              \n",
       "\n",
       "                                                                    ⎤\n",
       "                                                                    ⎥\n",
       "                                                                    ⎥\n",
       "                                                                    ⎥\n",
       "                                                                    ⎥\n",
       "                                                                    ⎥\n",
       "                                                                    ⎥\n",
       "                                                                    ⎥\n",
       "                                                                    ⎥\n",
       "                                                                    ⎥\n",
       "                                                                    ⎥\n",
       "                                                                    ⎥\n",
       "                                                                    ⎥\n",
       "                                                                    ⎥\n",
       "                                                                    ⎥\n",
       "                                                                    ⎥\n",
       "                                                                    ⎥\n",
       "────────────────────────────────────────────────────────────────────⎥\n",
       "       2                2             2       2                 2   ⎥\n",
       "⋅mₕ⋅cos (varepsilon)⋅cos (varphi) - lₚ ⋅mₕ⋅cos (varepsilon) + lₚ ⋅mₕ⎥\n",
       "                                                                    ⎥\n",
       "                                                                    ⎥\n",
       "                                                                    ⎥\n",
       "                                                                    ⎥\n",
       "                                                                    ⎦"
      ]
     },
     "metadata": {},
     "output_type": "display_data"
    },
    {
     "name": "stdout",
     "output_type": "stream",
     "text": [
      "---\n"
     ]
    },
    {
     "data": {
      "image/png": "[encoded data removed]",
      "text/latex": [
       "$$\\verb|g1_ext2| := \\left[\\begin{matrix}0\\\\0\\\\0\\\\0\\\\0\\\\0\\\\0\\\\1\\end{matrix}\\right]$$"
      ],
      "text/plain": [
       "g1_ext2 := ⎡0⎤\n",
       "⎢ ⎥\n",
       "⎢0⎥\n",
       "⎢ ⎥\n",
       "⎢0⎥\n",
       "⎢ ⎥\n",
       "⎢0⎥\n",
       "⎢ ⎥\n",
       "⎢0⎥\n",
       "⎢ ⎥\n",
       "⎢0⎥\n",
       "⎢ ⎥\n",
       "⎢0⎥\n",
       "⎢ ⎥\n",
       "⎣1⎦"
      ]
     },
     "metadata": {},
     "output_type": "display_data"
    },
    {
     "name": "stdout",
     "output_type": "stream",
     "text": [
      "---\n"
     ]
    },
    {
     "data": {
      "image/png": "[encoded data removed]",
      "text/latex": [
       "$$\\verb|g2_ext2| := \\left[\\begin{matrix}0\\\\0\\\\0\\\\\\frac{l_{p}}{m_{h} \\left(d_{h}^{2} + l_{p}^{2}\\right)}\\\\0\\\\0\\\\0\\\\0\\end{matrix}\\right]$$"
      ],
      "text/plain": [
       "g2_ext2 := ⎡      0       ⎤\n",
       "⎢              ⎥\n",
       "⎢      0       ⎥\n",
       "⎢              ⎥\n",
       "⎢      0       ⎥\n",
       "⎢              ⎥\n",
       "⎢      lₚ      ⎥\n",
       "⎢──────────────⎥\n",
       "⎢   ⎛  2     2⎞⎥\n",
       "⎢mₕ⋅⎝dₕ  + lₚ ⎠⎥\n",
       "⎢              ⎥\n",
       "⎢      0       ⎥\n",
       "⎢              ⎥\n",
       "⎢      0       ⎥\n",
       "⎢              ⎥\n",
       "⎢      0       ⎥\n",
       "⎢              ⎥\n",
       "⎣      0       ⎦"
      ]
     },
     "metadata": {},
     "output_type": "display_data"
    },
    {
     "name": "stdout",
     "output_type": "stream",
     "text": [
      "---\n"
     ]
    }
   ],
   "source": [
    "v1 = sp.Symbol('v_1')  # new state\n",
    "x_ext2 = sb.concat_rows(x_ext1, v1) ##:\n",
    "f_ext2 = sb.concat_rows(f_ext1 + g1_ext1*v1, sp.S(0)) ##:\n",
    "g1_ext2 = sp.Matrix([0, 0, 0, 0, 0, 0, 0, 1]) ##:\n",
    "g2_ext2 = sb.concat_rows(g2_ext1, sp.S(0)) ##:"
   ]
  },
  {
   "cell_type": "code",
   "execution_count": 94,
   "metadata": {},
   "outputs": [
    {
     "data": {
      "image/png": "[encoded data removed]",
      "text/latex": [
       "$$\\verb|r_ext2| := \\left [ 4, \\quad 4\\right ]$$"
      ],
      "text/plain": [
       "r_ext2 := [4, 4]"
      ]
     },
     "metadata": {},
     "output_type": "display_data"
    },
    {
     "name": "stdout",
     "output_type": "stream",
     "text": [
      "---\n"
     ]
    },
    {
     "data": {
      "image/png": "[encoded data removed]",
      "text/latex": [
       "$$\\verb|decoupling_matrix_ext2| := \\left[\\begin{matrix}\\frac{l_{h} \\cos{\\left (\\varphi \\right )}}{p_{\\varepsilon,1}} & - \\frac{l_{h} l_{p} u_{1} \\sin{\\left (\\varphi \\right )}}{p_{\\varepsilon,1} p_{\\varphi,1}}\\\\\\frac{l_{h} \\sin{\\left (\\varphi \\right )} \\cos{\\left (\\varepsilon \\right )}}{p_{\\lambda,1}} & \\frac{l_{h} l_{p} u_{1} \\cos{\\left (\\varepsilon \\right )} \\cos{\\left (\\varphi \\right )}}{p_{\\lambda,1} p_{\\varphi,1}}\\end{matrix}\\right]$$"
      ],
      "text/plain": [
       "decoupling_matrix_ext2 := ⎡        lₕ⋅cos(varphi)                 -lₕ⋅lₚ⋅u₁⋅sin(varphi)        ⎤\n",
       "⎢      ─────────────────           ───────────────────────────────   ⎥\n",
       "⎢      p_{\\varepsilon,1}           p_{\\varepsilon,1}⋅p_{\\varphi,1}   ⎥\n",
       "⎢                                                                    ⎥\n",
       "⎢lₕ⋅sin(varphi)⋅cos(varepsilon)  lₕ⋅lₚ⋅u₁⋅cos(varepsilon)⋅cos(varphi)⎥\n",
       "⎢──────────────────────────────  ────────────────────────────────────⎥\n",
       "⎣        p_{\\lambda,1}               p_{\\lambda,1}⋅p_{\\varphi,1}     ⎦"
      ]
     },
     "metadata": {},
     "output_type": "display_data"
    },
    {
     "name": "stdout",
     "output_type": "stream",
     "text": [
      "---\n"
     ]
    }
   ],
   "source": [
    "gx_ext2 = sb.concat_cols(g1_ext2, g2_ext2)\n",
    "r_ext2 = vec_rel_degree(f_ext2, gx_ext2, h, x_ext2) ##:\n",
    "decoupling_matrix_ext2 = decoupling_matrix(f_ext2, gx_ext2, h, r_ext2, x_ext2) ##:"
   ]
  },
  {
   "cell_type": "code",
   "execution_count": 108,
   "metadata": {},
   "outputs": [
    {
     "data": {
      "image/png": "[encoded data removed]",
      "text/latex": [
       "$$\\verb|f_eval| := \\left[\\begin{matrix}4.0\\\\5.0\\\\6.0\\\\-3.80397240524614\\\\1.75787221105718\\\\-15.0431859463884\\\\8.0\\\\0\\end{matrix}\\right]$$"
      ],
      "text/plain": [
       "f_eval := ⎡       4.0       ⎤\n",
       "⎢                 ⎥\n",
       "⎢       5.0       ⎥\n",
       "⎢                 ⎥\n",
       "⎢       6.0       ⎥\n",
       "⎢                 ⎥\n",
       "⎢-3.80397240524614⎥\n",
       "⎢                 ⎥\n",
       "⎢1.75787221105718 ⎥\n",
       "⎢                 ⎥\n",
       "⎢-15.0431859463884⎥\n",
       "⎢                 ⎥\n",
       "⎢       8.0       ⎥\n",
       "⎢                 ⎥\n",
       "⎣        0        ⎦"
      ]
     },
     "metadata": {},
     "output_type": "display_data"
    },
    {
     "name": "stdout",
     "output_type": "stream",
     "text": [
      "---\n"
     ]
    },
    {
     "data": {
      "image/png": "[encoded data removed]",
      "text/latex": [
       "$$\\verb|f_jac_eval| := \\left[\\begin{matrix}0 & 0 & 0 & 1.0 & 0 & 0 & 0 & 0\\\\0 & 0 & 0 & 0 & 1.0 & 0 & 0 & 0\\\\0 & 0 & 0 & 0 & 0 & 1.0 & 0 & 0\\\\-0.187921414400086 & -0.639496190167479 & 0 & -0.877825535707842 & 0 & 0 & 0 & 0\\\\-4.66020296716442 & 1.41767106837734 & 0 & 0 & -0.0872714336642755 & 0 & 0.418443458096712 & 0\\\\-5.50664475867252 & 30.2789063518357 & 0 & 0 & 0 & -1.21386013183221 & -1.1085750221993 & 0\\\\0 & 0 & 0 & 0 & 0 & 0 & 0 & 1.0\\\\0 & 0 & 0 & 0 & 0 & 0 & 0 & 0\\end{matrix}\\right]$$"
      ],
      "text/plain": [
       "f_jac_eval := ⎡        0                   0           0         1.0                   0    \n",
       "⎢                                                                             \n",
       "⎢        0                   0           0          0                   1.0   \n",
       "⎢                                                                             \n",
       "⎢        0                   0           0          0                    0    \n",
       "⎢                                                                             \n",
       "⎢-0.187921414400086  -0.639496190167479  0  -0.877825535707842           0    \n",
       "⎢                                                                             \n",
       "⎢-4.66020296716442    1.41767106837734   0          0           -0.08727143366\n",
       "⎢                                                                             \n",
       "⎢-5.50664475867252    30.2789063518357   0          0                    0    \n",
       "⎢                                                                             \n",
       "⎢        0                   0           0          0                    0    \n",
       "⎢                                                                             \n",
       "⎣        0                   0           0          0                    0    \n",
       "\n",
       "               0                  0           0 ⎤\n",
       "                                                ⎥\n",
       "               0                  0           0 ⎥\n",
       "                                                ⎥\n",
       "              1.0                 0           0 ⎥\n",
       "                                                ⎥\n",
       "               0                  0           0 ⎥\n",
       "                                                ⎥\n",
       "42755          0          0.418443458096712   0 ⎥\n",
       "                                                ⎥\n",
       "       -1.21386013183221  -1.1085750221993    0 ⎥\n",
       "                                                ⎥\n",
       "               0                  0          1.0⎥\n",
       "                                                ⎥\n",
       "               0                  0           0 ⎦"
      ]
     },
     "metadata": {},
     "output_type": "display_data"
    },
    {
     "name": "stdout",
     "output_type": "stream",
     "text": [
      "---\n"
     ]
    }
   ],
   "source": [
    "param_symbols = [g, lh, lp, lc, dh, dc, mc, mh, mup, mue, mul]\n",
    "param_values = [9.81, 0.67, 0.178, 0.4069, 0.0027, 0.0639, 1.7638, 1.2006, 0.0334, 0.0755, 0.2569]\n",
    "param_subs = list(zip(param_symbols, param_values))\n",
    "\n",
    "x_subs = list(zip(x_ext2, [i+1 for i in range(10)]))\n",
    "f_eval = sp.N(f_ext2.subs(param_subs).subs(x_subs)) ##:\n",
    "f_jac_eval = sp.N(f_ext2.jacobian(x_ext2).subs(param_subs).subs(x_subs)) ##:"
   ]
  },
  {
   "cell_type": "code",
   "execution_count": 112,
   "metadata": {},
   "outputs": [
    {
     "data": {
      "image/png": "[encoded data removed]",
      "text/latex": [
       "$$\\left[\\begin{matrix}\\dot{\\varphi}\\\\\\dot{\\varepsilon}\\\\\\dot{\\lambda}\\\\- \\frac{\\mu_\\varphi \\dot{\\varphi} - d_{h} g m_{h} \\sin{\\left (\\varphi \\right )} \\cos{\\left (\\varepsilon \\right )}}{m_{h} \\left(d_{h}^{2} + l_{p}^{2}\\right)}\\\\\\frac{l_{h} u_{1} \\cos{\\left (\\varphi \\right )}}{m_{c} \\left(d_{c}^{2} + l_{c}^{2}\\right) + m_{h} \\left(- d_{h}^{2} + l_{p}^{2}\\right) \\sin^{2}{\\left (\\varphi \\right )} + m_{h} \\left(d_{h}^{2} + l_{h}^{2}\\right)} - \\frac{\\mu_\\varepsilon \\dot{\\varepsilon} + g \\left(d_{c} m_{c} - d_{h} m_{h} \\cos{\\left (\\varphi \\right )}\\right) \\sin{\\left (\\varepsilon \\right )} + g \\left(- l_{c} m_{c} + l_{h} m_{h}\\right) \\cos{\\left (\\varepsilon \\right )}}{m_{c} \\left(d_{c}^{2} + l_{c}^{2}\\right) + m_{h} \\left(- d_{h}^{2} + l_{p}^{2}\\right) \\sin^{2}{\\left (\\varphi \\right )} + m_{h} \\left(d_{h}^{2} + l_{h}^{2}\\right)}\\\\- \\frac{\\mu_\\lambda \\dot{\\lambda}}{- d_{c}^{2} m_{c} \\cos^{2}{\\left (\\varepsilon \\right )} - d_{c} l_{c} m_{c} \\sin{\\left (2 \\varepsilon \\right )} - d_{h}^{2} m_{h} \\cos^{2}{\\left (\\varepsilon \\right )} \\cos^{2}{\\left (\\varphi \\right )} + d_{h}^{2} m_{h} - \\frac{d_{h} l_{h} m_{h} \\left(\\sin{\\left (2 \\varepsilon - \\varphi \\right )} + \\sin{\\left (2 \\varepsilon + \\varphi \\right )}\\right)}{2} + l_{c}^{2} m_{c} \\cos^{2}{\\left (\\varepsilon \\right )} + l_{h}^{2} m_{h} \\cos^{2}{\\left (\\varepsilon \\right )} + l_{p}^{2} m_{h} \\cos^{2}{\\left (\\varepsilon \\right )} \\cos^{2}{\\left (\\varphi \\right )} - l_{p}^{2} m_{h} \\cos^{2}{\\left (\\varepsilon \\right )} + l_{p}^{2} m_{h}} + \\frac{l_{h} u_{1} \\sin{\\left (\\varphi \\right )} \\cos{\\left (\\varepsilon \\right )}}{- d_{c}^{2} m_{c} \\cos^{2}{\\left (\\varepsilon \\right )} - d_{c} l_{c} m_{c} \\sin{\\left (2 \\varepsilon \\right )} - d_{h}^{2} m_{h} \\cos^{2}{\\left (\\varepsilon \\right )} \\cos^{2}{\\left (\\varphi \\right )} + d_{h}^{2} m_{h} - \\frac{d_{h} l_{h} m_{h} \\left(\\sin{\\left (2 \\varepsilon - \\varphi \\right )} + \\sin{\\left (2 \\varepsilon + \\varphi \\right )}\\right)}{2} + l_{c}^{2} m_{c} \\cos^{2}{\\left (\\varepsilon \\right )} + l_{h}^{2} m_{h} \\cos^{2}{\\left (\\varepsilon \\right )} + l_{p}^{2} m_{h} \\cos^{2}{\\left (\\varepsilon \\right )} \\cos^{2}{\\left (\\varphi \\right )} - l_{p}^{2} m_{h} \\cos^{2}{\\left (\\varepsilon \\right )} + l_{p}^{2} m_{h}}\\\\v_{1}\\\\0\\end{matrix}\\right]$$"
      ],
      "text/plain": [
       "⎡                                                                             \n",
       "⎢                                                                             \n",
       "⎢                                                                             \n",
       "⎢                                                                             \n",
       "⎢                                                                             \n",
       "⎢                                                                             \n",
       "⎢                                                                             \n",
       "⎢                                                                             \n",
       "⎢                                                                             \n",
       "⎢                                                                             \n",
       "⎢                                                                             \n",
       "⎢                                                                             \n",
       "⎢                                                                             \n",
       "⎢                                                                             \n",
       "⎢                                                                             \n",
       "⎢                                                                             \n",
       "⎢                                                                             \n",
       "⎢- ───────────────────────────────────────────────────────────────────────────\n",
       "⎢       2        2                                                 2       2  \n",
       "⎢  - d_c ⋅m_c⋅cos (varepsilon) - d_c⋅l_c⋅m_c⋅sin(2⋅varepsilon) - dₕ ⋅mₕ⋅cos (v\n",
       "⎢                                                                             \n",
       "⎢                                                                             \n",
       "⎢                                                                             \n",
       "⎢                                                                             \n",
       "⎣                                                                             \n",
       "\n",
       "                                                                              \n",
       "                                                                              \n",
       "                                                                              \n",
       "                                                                              \n",
       "                                                                              \n",
       "                                                                              \n",
       "                                                                              \n",
       "                                                                              \n",
       "                                                                              \n",
       "                                                                              \n",
       "                                                                              \n",
       "                                                                              \n",
       "                                                                              \n",
       "                                                                              \n",
       "                                                                              \n",
       "                                                                              \n",
       "                                                                      \\mu_\\lam\n",
       "──────────────────────────────────────────────────────────────────────────────\n",
       "              2             2      dₕ⋅lₕ⋅mₕ⋅(sin(2⋅varepsilon - varphi) + sin(\n",
       "arepsilon)⋅cos (varphi) + dₕ ⋅mₕ - ───────────────────────────────────────────\n",
       "                                                                   2          \n",
       "                                                                              \n",
       "                                                                              \n",
       "                                                                              \n",
       "                                                                              \n",
       "\n",
       "                                                                              \n",
       "                                                                              \n",
       "                                                                              \n",
       "                                                                              \n",
       "                                                                              \n",
       "                                                                              \n",
       "                                                                              \n",
       "                                                                              \n",
       "                                                                              \n",
       "                                                                              \n",
       "                                                                              \n",
       "                                                                              \n",
       "                                                           ───────────────────\n",
       "                                                               ⎛   2      2⎞  \n",
       "                                                           m_c⋅⎝d_c  + l_c ⎠ +\n",
       "                                                                              \n",
       "bda⋅λ̇                                                                        \n",
       "──────────────────────────────────────────────────────────────────────────────\n",
       "2⋅varepsilon + varphi))      2        2                 2       2             \n",
       "─────────────────────── + l_c ⋅m_c⋅cos (varepsilon) + lₕ ⋅mₕ⋅cos (varepsilon) \n",
       "                                                                              \n",
       "                                                                              \n",
       "                                                                              \n",
       "                                                                              \n",
       "                                                                              \n",
       "\n",
       "                                                                      varphi̇ \n",
       "                                                                              \n",
       "                                                                    varepsilon\n",
       "                                                                              \n",
       "                                                                        λ̇    \n",
       "                                                                              \n",
       "                                           -(\\mu_\\varphi⋅varphi̇ - dₕ⋅g⋅mₕ⋅sin\n",
       "                                           ───────────────────────────────────\n",
       "                                                                      ⎛  2    \n",
       "                                                                   mₕ⋅⎝dₕ  + l\n",
       "                                                                              \n",
       "     lₕ⋅u₁⋅cos(varphi)                            \\mu_\\varepsilon⋅varepsiloṅ \n",
       "─────────────────────────────────────────────── - ────────────────────────────\n",
       "    ⎛    2     2⎞    2              ⎛  2     2⎞                               \n",
       " mₕ⋅⎝- dₕ  + lₚ ⎠⋅sin (varphi) + mₕ⋅⎝dₕ  + lₕ ⎠                            m_c\n",
       "                                                                              \n",
       "                                                                              \n",
       "───────────────────────────────────────────────────────────────────────── + ──\n",
       "    2       2                2             2       2                 2        \n",
       "+ lₚ ⋅mₕ⋅cos (varepsilon)⋅cos (varphi) - lₚ ⋅mₕ⋅cos (varepsilon) + lₚ ⋅mₕ   - \n",
       "                                                                              \n",
       "                                                                              \n",
       "                                                                        v₁    \n",
       "                                                                              \n",
       "                                                                         0    \n",
       "\n",
       "                                                                              \n",
       "                                                                              \n",
       "̇                                                                             \n",
       "                                                                              \n",
       "                                                                              \n",
       "                                                                              \n",
       "(varphi)⋅cos(varepsilon))                                                     \n",
       "──────────────────────────                                                    \n",
       " 2⎞                                                                           \n",
       "ₚ ⎠                                                                           \n",
       "                                                                              \n",
       "+ g⋅(d_c⋅m_c - dₕ⋅mₕ⋅cos(varphi))⋅sin(varepsilon) + g⋅(-l_c⋅m_c + lₕ⋅mₕ)⋅cos(v\n",
       "──────────────────────────────────────────────────────────────────────────────\n",
       " ⎛   2      2⎞      ⎛    2     2⎞    2              ⎛  2     2⎞               \n",
       "⋅⎝d_c  + l_c ⎠ + mₕ⋅⎝- dₕ  + lₚ ⎠⋅sin (varphi) + mₕ⋅⎝dₕ  + lₕ ⎠               \n",
       "                                                                              \n",
       "                                                                              \n",
       "──────────────────────────────────────────────────────────────────────────────\n",
       "   2        2                                                 2       2       \n",
       "d_c ⋅m_c⋅cos (varepsilon) - d_c⋅l_c⋅m_c⋅sin(2⋅varepsilon) - dₕ ⋅mₕ⋅cos (vareps\n",
       "                                                                              \n",
       "                                                                              \n",
       "                                                                              \n",
       "                                                                              \n",
       "                                                                              \n",
       "\n",
       "                                                                              \n",
       "                                                                              \n",
       "                                                                              \n",
       "                                                                              \n",
       "                                                                              \n",
       "                                                                              \n",
       "                                                                              \n",
       "                                                                              \n",
       "                                                                              \n",
       "                                                                              \n",
       "                                                                              \n",
       "arepsilon)                                                                    \n",
       "──────────                                                                    \n",
       "                                                                              \n",
       "                                                                              \n",
       "                                                                              \n",
       "                                                       lₕ⋅u₁⋅sin(varphi)⋅cos(v\n",
       "──────────────────────────────────────────────────────────────────────────────\n",
       "         2             2      dₕ⋅lₕ⋅mₕ⋅(sin(2⋅varepsilon - varphi) + sin(2⋅var\n",
       "ilon)⋅cos (varphi) + dₕ ⋅mₕ - ────────────────────────────────────────────────\n",
       "                                                              2               \n",
       "                                                                              \n",
       "                                                                              \n",
       "                                                                              \n",
       "                                                                              \n",
       "\n",
       "                                                                              \n",
       "                                                                              \n",
       "                                                                              \n",
       "                                                                              \n",
       "                                                                              \n",
       "                                                                              \n",
       "                                                                              \n",
       "                                                                              \n",
       "                                                                              \n",
       "                                                                              \n",
       "                                                                              \n",
       "                                                                              \n",
       "                                                                              \n",
       "                                                                              \n",
       "                                                                              \n",
       "                                                                              \n",
       "arepsilon)                                                                    \n",
       "──────────────────────────────────────────────────────────────────────────────\n",
       "epsilon + varphi))      2        2                 2       2                 2\n",
       "────────────────── + l_c ⋅m_c⋅cos (varepsilon) + lₕ ⋅mₕ⋅cos (varepsilon) + lₚ \n",
       "                                                                              \n",
       "                                                                              \n",
       "                                                                              \n",
       "                                                                              \n",
       "                                                                              \n",
       "\n",
       "                                                                    ⎤\n",
       "                                                                    ⎥\n",
       "                                                                    ⎥\n",
       "                                                                    ⎥\n",
       "                                                                    ⎥\n",
       "                                                                    ⎥\n",
       "                                                                    ⎥\n",
       "                                                                    ⎥\n",
       "                                                                    ⎥\n",
       "                                                                    ⎥\n",
       "                                                                    ⎥\n",
       "                                                                    ⎥\n",
       "                                                                    ⎥\n",
       "                                                                    ⎥\n",
       "                                                                    ⎥\n",
       "                                                                    ⎥\n",
       "                                                                    ⎥\n",
       "────────────────────────────────────────────────────────────────────⎥\n",
       "       2                2             2       2                 2   ⎥\n",
       "⋅mₕ⋅cos (varepsilon)⋅cos (varphi) - lₚ ⋅mₕ⋅cos (varepsilon) + lₚ ⋅mₕ⎥\n",
       "                                                                    ⎥\n",
       "                                                                    ⎥\n",
       "                                                                    ⎥\n",
       "                                                                    ⎥\n",
       "                                                                    ⎦"
      ]
     },
     "execution_count": 112,
     "metadata": {},
     "output_type": "execute_result"
    }
   ],
   "source": [
    "f_ext2"
   ]
  },
  {
   "cell_type": "code",
   "execution_count": 124,
   "metadata": {},
   "outputs": [
    {
     "data": {
      "image/png": "[encoded data removed]",
      "text/latex": [
       "$$- \\frac{\\mu_\\varepsilon \\dot{\\varepsilon} + g \\left(d_{c} m_{c} - d_{h} m_{h} \\cos{\\left (\\varphi \\right )}\\right) \\sin{\\left (\\varepsilon \\right )} + g \\left(- l_{c} m_{c} + l_{h} m_{h}\\right) \\cos{\\left (\\varepsilon \\right )}}{m_{c} \\left(d_{c}^{2} + l_{c}^{2}\\right) + m_{h} \\left(- d_{h}^{2} + l_{p}^{2}\\right) \\sin^{2}{\\left (\\varphi \\right )} + m_{h} \\left(d_{h}^{2} + l_{h}^{2}\\right)}$$"
      ],
      "text/plain": [
       "-(\\mu_\\varepsilon⋅varepsiloṅ + g⋅(d_c⋅m_c - dₕ⋅mₕ⋅cos(varphi))⋅sin(varepsilon\n",
       "──────────────────────────────────────────────────────────────────────────────\n",
       "                               ⎛   2      2⎞      ⎛    2     2⎞    2          \n",
       "                           m_c⋅⎝d_c  + l_c ⎠ + mₕ⋅⎝- dₕ  + lₚ ⎠⋅sin (varphi) +\n",
       "\n",
       ") + g⋅(-l_c⋅m_c + lₕ⋅mₕ)⋅cos(varepsilon)) \n",
       "──────────────────────────────────────────\n",
       "    ⎛  2     2⎞                           \n",
       " mₕ⋅⎝dₕ  + lₕ ⎠                           "
      ]
     },
     "execution_count": 124,
     "metadata": {},
     "output_type": "execute_result"
    }
   ],
   "source": [
    "-1/p_eps_1*(mue*deps + p_eps_2*sin(eps)+p_eps_3*cos(eps))"
   ]
  },
  {
   "cell_type": "code",
   "execution_count": null,
   "metadata": {},
   "outputs": [],
   "source": []
  }
 ],
 "metadata": {
  "kernelspec": {
   "display_name": "Python 3",
   "language": "python",
   "name": "python3"
  },
  "language_info": {
   "codemirror_mode": {
    "name": "ipython",
    "version": 3
   },
   "file_extension": ".py",
   "mimetype": "text/x-python",
   "name": "python",
   "nbconvert_exporter": "python",
   "pygments_lexer": "ipython3",
   "version": "3.6.5"
  }
 },
 "nbformat": 4,
 "nbformat_minor": 2
}
